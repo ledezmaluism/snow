{
 "cells": [
  {
   "cell_type": "markdown",
   "metadata": {},
   "source": [
    "# SNLO: Time and Frequency Grids\n",
    "\n",
    "\n",
    "First things first. Let's load numpy, snlo, etc.\n",
    "\n",
    "\n"
   ]
  },
  {
   "cell_type": "code",
   "execution_count": 1,
   "metadata": {},
   "outputs": [],
   "source": [
    "import numpy as np\n",
    "from numpy.fft import fftfreq, fftshift\n",
    "\n",
    "from scipy.constants import pi, c, epsilon_0\n",
    "nm = 1e-9\n",
    "um = 1e-6\n",
    "mm = 1e-3\n",
    "ps = 1e-12\n",
    "fs = 1e-15\n",
    "MHz = 1e6\n",
    "GHz = 1e9\n",
    "THz = 1e12\n",
    "pJ = 1e-12\n",
    "fJ = 1e-15\n",
    "mW = 1e-3"
   ]
  },
  {
   "cell_type": "markdown",
   "metadata": {},
   "source": [
    "We need to create a discrete arena for the pulses to do their thing. Technically we need to do this just for either time or frequency since they are both interrelated by the Fourier transform. Usually what you know is the bandwidth over which you want to simulate so let's start with that.\n"
   ]
  },
  {
   "cell_type": "code",
   "execution_count": 2,
   "metadata": {},
   "outputs": [],
   "source": [
    "#Let's set the bandwdith\n",
    "λ_1 = 800*nm\n",
    "λ_2 = 4.5*um\n",
    "f_max = c/λ_1\n",
    "f_min = c/λ_2\n",
    "BW = f_max - f_min"
   ]
  },
  {
   "cell_type": "markdown",
   "metadata": {},
   "source": [
    "The next step is to decide how many samples we need, we'll call this $N$. The number of samples is the same in the frequency and time domain. The sizes of these domains ($\\mathrm{BW}$ and $T$) are related to their resolution $\\Delta$f and $\\Delta$t) and to the number of samples $N$ by the FFT as follows:\n",
    "\n",
    "$${\\Delta t} {\\Delta f } = \\frac{1}{N}, \\\\\n",
    "T \\times \\mathrm{BW} = N.$$\n",
    "\n",
    "It is also true that $\\mathrm{BW} = N \\Delta f$ and $T = N \\Delta t$, which is consistent with the two relations above.\n",
    "\n",
    "So, once we pick N then we inmmediately are picking a size $T$ for the time-domain window. $\\Delta t$ and $\\Delta f$ are also determined. The only thing that is not determined is the origin of the time-domain window, so that's the last thing we have to select.\n",
    "\n",
    "So, below we select $N$, then calculate $T$ and $\\Delta t$, then define the starting time of the time-window, and finally use all this information to calculate the vectors for time, frequency and angular frequency."
   ]
  },
  {
   "cell_type": "code",
   "execution_count": 3,
   "metadata": {},
   "outputs": [],
   "source": [
    "N = 2**10 #I usually pick this one to be a power of 2 but that's not strictly necessary\n",
    "\n",
    "T = N/BW #Time window size\n",
    "Δt = 1/BW #Time resolution\n",
    "\n",
    "t_start = -T/2 #Start of time window\n",
    "\n",
    "#These are the time and frequency vectors \n",
    "t = t_start + np.arange(0, T, step=Δt)\n",
    "f = fftfreq(N, Δt)\n",
    "Ω = 2*pi*f"
   ]
  },
  {
   "cell_type": "markdown",
   "metadata": {},
   "source": [
    "Note that the frequency vector is at baseband. This is ok for computation, but if we want to plot stuff vs frequency or wavelength we need to fix that. My suggestion is to create a variable f_ref that contains the mapping from the baseband 0 frequency to the actual physical frequency."
   ]
  },
  {
   "cell_type": "code",
   "execution_count": 4,
   "metadata": {},
   "outputs": [],
   "source": [
    "f_ref = (f_max + f_min)/2  #This variable will be supplied to several plotting functions\n",
    "f_abs = f + f_ref #This is the absolute frequency vector\n",
    "λ = c/f_abs #This is the wavelength vector"
   ]
  },
  {
   "cell_type": "markdown",
   "metadata": {},
   "source": [
    "## NOTES:\n",
    "- The frequency vector is at baseband.\n",
    "- The frequency vector is scrambled, with the positive frequencies first and the negative frequencies later. This is a \"feature\" of the FFT. You can un-scramble it by using the function fftshift()."
   ]
  }
 ],
 "metadata": {
  "kernelspec": {
   "display_name": "Python 3",
   "language": "python",
   "name": "python3"
  },
  "language_info": {
   "codemirror_mode": {
    "name": "ipython",
    "version": 3
   },
   "file_extension": ".py",
   "mimetype": "text/x-python",
   "name": "python",
   "nbconvert_exporter": "python",
   "pygments_lexer": "ipython3",
   "version": "3.7.6"
  }
 },
 "nbformat": 4,
 "nbformat_minor": 4
}
