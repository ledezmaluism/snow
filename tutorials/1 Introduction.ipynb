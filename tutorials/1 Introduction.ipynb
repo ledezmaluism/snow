{
 "cells": [
  {
   "cell_type": "markdown",
   "metadata": {},
   "source": [
    "# SNLO Tutorial 1 -  Introduction"
   ]
  },
  {
   "cell_type": "markdown",
   "metadata": {},
   "source": [
    "In this series of documents we are going to learn how to use SNLO. I'll try to update these whenever new features are added or changes are made.\n",
    "\n",
    "The goal of SNLO is to allow you to simulate a pulse propagation in a waveguide or bulk material including linear and nonlinear effects. Right now the following features are available:\n",
    "- $\\chi^{(2)}$\n",
    "\n",
    "New features that are on my radar are:\n",
    "- $\\chi^{(3)}$\n",
    "- Raman scattering\n",
    "- Gaussian modes (for bulk simulations)\n",
    "- Full EM simulations of the modes in the waguide\n",
    "- Multimode propagation\n",
    "- Backwards mode propagation\n",
    "\n",
    "SNLO's engine is based on the \"Nonlinear Envelope Equation\" first fully described in:\n",
    "\n",
    "[1]M. Conforti, F. Baronio, and C. De Angelis, “Nonlinear envelope equation for broadband optical pulses in quadratic media,” Phys. Rev. A, vol. 81, no. 5, p. 053841, May 2010, doi: 10.1103/PhysRevA.81.053841.\n",
    "\n",
    "But its origin can be traced back at least to:\n",
    "\n",
    "[2]T. Brabec and F. Krausz, “Nonlinear Optical Pulse Propagation in the Single-Cycle Regime,” Phys. Rev. Lett., vol. 78, no. 17, pp. 3282–3285, Apr. 1997, doi: 10.1103/PhysRevLett.78.3282.\n",
    "\n",
    "In any case, SNLO uses a frequency domain formulation that is different from these papers."
   ]
  },
  {
   "cell_type": "markdown",
   "metadata": {},
   "source": [
    "## Workflow"
   ]
  },
  {
   "cell_type": "markdown",
   "metadata": {},
   "source": [
    "Usually this is what you'll need to do to run a simulation:\n",
    "\n",
    " - Define a frequency and time grid\n",
    " - Create an input pulse (aka \"the pump\")\n",
    " - Define a waveguide or bulk material\n",
    " - Run the simulation and plot the results\n",
    " \n",
    " \n",
    "Each step is illustrated in detail in a different notebook of this tutorial."
   ]
  },
  {
   "cell_type": "markdown",
   "metadata": {},
   "source": [
    "## Installation"
   ]
  },
  {
   "cell_type": "markdown",
   "metadata": {},
   "source": [
    "I haven't had time to do anything fancy here. So unless I get help from a Python expert here's what you need to do:\n",
    "- Download the latest code from Github\n",
    "- Create a folder somewhere to store your own sims\n",
    "- Put a file snlo.py in that folder (copy this file from the \"tutorials\" folder in SNLO)\n",
    "- Modify this file to point at the SNLO folder\n",
    "\n",
    "I can help you with this over a Zoom call."
   ]
  }
 ],
 "metadata": {
  "kernelspec": {
   "display_name": "Python 3",
   "language": "python",
   "name": "python3"
  },
  "language_info": {
   "codemirror_mode": {
    "name": "ipython",
    "version": 3
   },
   "file_extension": ".py",
   "mimetype": "text/x-python",
   "name": "python",
   "nbconvert_exporter": "python",
   "pygments_lexer": "ipython3",
   "version": "3.7.6"
  }
 },
 "nbformat": 4,
 "nbformat_minor": 4
}
