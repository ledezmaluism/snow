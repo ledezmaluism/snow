{
 "cells": [
  {
   "cell_type": "markdown",
   "metadata": {},
   "source": [
    "# Example: Second Harmonic Generation\n",
    "\n",
    "Author: Luis Ledezma (ledezma@caltech.edu)"
   ]
  },
  {
   "cell_type": "markdown",
   "metadata": {},
   "source": [
    "## The code\n",
    "\n",
    "We begin by importing the modules needed, including my own. I also do some formatting. You can safely ignore all this."
   ]
  },
  {
   "cell_type": "code",
   "execution_count": 1,
   "metadata": {},
   "outputs": [],
   "source": [
    "import numpy as np\n",
    "from numpy.fft import fft, ifft, fftshift, fftfreq\n",
    "import matplotlib.pyplot as plt\n",
    "from matplotlib import cm\n",
    "import colorcet as cc\n",
    "from scipy import signal\n",
    "\n",
    "#This are my libraries\n",
    "import snlo.nlo as nlo\n",
    "import snlo.pulses as pulses\n",
    "import snlo.materials as materials\n",
    "import snlo.waveguides as waveguides\n",
    "\n",
    "#Larger font for plots\n",
    "plt.rcParams.update({'font.size': 18})"
   ]
  },
  {
   "cell_type": "markdown",
   "metadata": {},
   "source": [
    "## Units\n",
    "We'll work in SI base units for the most part. Here we load some constants and also create some variables for scaling units conveniently."
   ]
  },
  {
   "cell_type": "code",
   "execution_count": 2,
   "metadata": {},
   "outputs": [],
   "source": [
    "from scipy.constants import pi, c, epsilon_0\n",
    "nm = 1e-9\n",
    "um = 1e-6\n",
    "mm = 1e-3\n",
    "ps = 1e-12\n",
    "fs = 1e-15\n",
    "GHz = 1e9\n",
    "THz = 1e12\n",
    "pJ = 1e-12\n",
    "fJ = 1e-15\n",
    "mW = 1e-3"
   ]
  },
  {
   "cell_type": "markdown",
   "metadata": {},
   "source": [
    "## Time and Frequency domain windows\n",
    "\n",
    "### General Comments\n",
    "We need to determine the FFT size $N$, as well the size of the time window $T$ and the total frequency bandwidth $F_\\mathrm{BW}$. Both domain will have $N$ points, and these three parameters are related by the uncertainty relations:\n",
    "\n",
    "$${\\Delta t} {\\Delta f } = \\frac{1}{N}, \\\\\n",
    "T F_{\\mathrm{BW}} = N.$$"
   ]
  },
  {
   "cell_type": "code",
   "execution_count": 3,
   "metadata": {},
   "outputs": [],
   "source": [
    "wl_ff = 2050*nm #Fundamental wavelength\n",
    "f0_ff = c/wl_ff\n",
    "\n",
    "#Let's set the bandwdith to LN transparency window or so\n",
    "f_max = c/(500*nm)\n",
    "f_min = c/(4*um)\n",
    "BW = f_max - f_min \n",
    "\n",
    "#Now we can create the time and frequency arrays\n",
    "NFFT = 2**12\n",
    "Tmax = NFFT/BW\n",
    "dt = 1/BW\n",
    "t_start = -2*ps\n",
    "t_stop = t_start + NFFT*dt\n",
    "t = np.arange(t_start, t_stop, step=dt)\n",
    "f = fftfreq(NFFT, dt)\n",
    "Omega = 2*pi*f\n",
    "df = f[1]-f[0]"
   ]
  },
  {
   "cell_type": "markdown",
   "metadata": {},
   "source": [
    "We also need to choose a reference frequency $f_{ref}$. Our simulation is a bandpass simulation centered around this reference frequency. So, the natural frequency variable for our simulation is $$\\Omega = \\omega - \\omega_{ref}.$$\n",
    "I'll try to be consistent and use lower case variable names for absolute frequencies representing $\\omega$'s, and variable names starting with an uppper case to represent $\\Omega$. For, instance, the variable ```Omega``` that we just created represents $\\Omega$, while in the next cell we'll define ```omega_ref``` and ```omega_abs``` which represents $\\omega_{ref}$ and $\\omega$."
   ]
  },
  {
   "cell_type": "code",
   "execution_count": 4,
   "metadata": {},
   "outputs": [
    {
     "name": "stdout",
     "output_type": "stream",
     "text": [
      "Fundamental wavelength = 2050.0 nm\n",
      "Fundamental frequency = 146.2 THz\n",
      "Simulation bandwidth = 524.6 THz\n",
      "Time window size = 7.807 ps\n",
      "Sampling Rate = 1.906 fs\n",
      "Frequency Resolution = 128.085 GHz\n",
      "Reference wavelength = 888.9 nm\n",
      "Reference frequency = 337.3 THz\n",
      "Minimum absolute frequency = 74.9 THz\n",
      "Maximum absolute frequency = 599.5 THz\n",
      "Minimum absolute wavelength = 500.1 nm\n",
      "Maximum absolute wavelength = 4.0 um\n",
      "Array index for fundamental = 2605\n",
      "Array index for reference = 0\n"
     ]
    }
   ],
   "source": [
    "#Reference frequency\n",
    "f_ref = (f_min + f_max)/2\n",
    "wl_ref = c/f_ref\n",
    "omega_ref = 2*pi*f_ref\n",
    "\n",
    "#Absolute frequencies and wavelengths\n",
    "f_abs = f + f_ref\n",
    "wl_abs = c/f_abs\n",
    "omega_abs = 2*pi*f_abs\n",
    "f_min = np.amin(f_abs)\n",
    "f_max = np.amax(f_abs)\n",
    "wl_max = c/f_min\n",
    "wl_min = c/f_max\n",
    "\n",
    "#get the frequency indexes\n",
    "f0_ff_index = np.abs(f + f_ref - f0_ff).argmin()\n",
    "f_ref_index = np.abs(f).argmin()\n",
    "\n",
    "print('Fundamental wavelength = %0.1f nm' %(wl_ff/nm))\n",
    "print('Fundamental frequency = %0.1f THz' %(f0_ff/THz))\n",
    "print('Simulation bandwidth = %0.1f THz' %(BW/THz))\n",
    "print('Time window size = %0.3f ps' %(Tmax/ps))\n",
    "print('Sampling Rate = %0.3f fs' %(dt/fs))\n",
    "print('Frequency Resolution = %0.3f GHz' %(df/GHz))\n",
    "print('Reference wavelength = %0.1f nm' %(wl_ref/nm))\n",
    "print('Reference frequency = %0.1f THz' %(f_ref/THz))\n",
    "print('Minimum absolute frequency = %0.1f THz' %(f_min/THz))\n",
    "print('Maximum absolute frequency = %0.1f THz' %(f_max/THz))\n",
    "print('Minimum absolute wavelength = %0.1f nm' %(c/f_max/nm))\n",
    "print('Maximum absolute wavelength = %0.1f um' %(c/f_min/um))\n",
    "print('Array index for fundamental = %i' %(f0_ff_index))\n",
    "print('Array index for reference = %i' %(f_ref_index))"
   ]
  },
  {
   "cell_type": "code",
   "execution_count": 5,
   "metadata": {},
   "outputs": [
    {
     "data": {
      "text/plain": [
       "3.2849818638392856"
      ]
     },
     "execution_count": 5,
     "metadata": {},
     "output_type": "execute_result"
    }
   ],
   "source": [
    "(3*f_max - f_min)/BW"
   ]
  },
  {
   "cell_type": "markdown",
   "metadata": {},
   "source": [
    "## Material properties\n",
    "\n",
    "I'm going to load the refractive index of lithium tantalate from my personal library named <font color=magenta> materials</font>. In that library I implement mostly Sellmeier's equations obtained from https://refractiveindex.info/ for a few common materials."
   ]
  },
  {
   "cell_type": "code",
   "execution_count": 6,
   "metadata": {},
   "outputs": [],
   "source": [
    "width = 1.85*um\n",
    "hLN = 700*nm\n",
    "hetch = 340*nm\n",
    "wg = waveguides.waveguide(w_top=width, h_ridge=hLN, h_slab=hLN-hetch)\n",
    "\n",
    "neff = np.zeros(wl_abs.shape)\n",
    "for kw in range(wl_abs.size):\n",
    "    neff[kw] = wg.neff(wl_abs[kw])\n",
    "    \n",
    "def n_func(wl):\n",
    "    return neff"
   ]
  },
  {
   "cell_type": "code",
   "execution_count": 7,
   "metadata": {},
   "outputs": [
    {
     "name": "stdout",
     "output_type": "stream",
     "text": [
      "Refractive index at fundamental = 1.865\n"
     ]
    },
    {
     "data": {
      "image/png": "[encoded data removed]",
      "text/plain": [
       "<Figure size 720x360 with 1 Axes>"
      ]
     },
     "metadata": {
      "needs_background": "light"
     },
     "output_type": "display_data"
    }
   ],
   "source": [
    "n = n_func(wl_abs)\n",
    "nw = n[f0_ff_index]\n",
    "\n",
    "plt.rcParams['figure.figsize'] = [10, 5]\n",
    "fig = plt.figure()\n",
    "ax1 = fig.add_subplot(111)\n",
    "\n",
    "ax1.plot(fftshift(wl_abs/um), fftshift(n))\n",
    "ax1.scatter(wl_abs[f0_ff_index]/um, nw, c='r')\n",
    "ax1.set_xlim([wl_min/um, wl_max/um])\n",
    "ax1.set_xlabel('Wavelength (um)')\n",
    "ax1.set_ylabel('Refractive index')\n",
    "ax1.grid(True)\n",
    "\n",
    "print('Refractive index at fundamental = %0.3f' %(nw))"
   ]
  },
  {
   "cell_type": "markdown",
   "metadata": {},
   "source": [
    "Now we'll get the propagation constant as usual:\n",
    "$$ \\beta = \\frac{\\omega n}{c} ,$$\n",
    "\n",
    "as well as the group velocity and GVD:\n",
    "$$ \n",
    "v_g = \\frac{1}{\\beta_1} = \\left( \\frac{\\partial \\beta}{\\partial \\omega} \\right)^{-1} \\\\\n",
    "\\mathrm{GVD} = \\beta_2 = \\frac{\\partial^2 \\beta}{\\partial \\omega^2} .\n",
    "$$\n",
    "\n",
    "We also need to get the higher order dispersion operator; this can be obtained from the propagation constant as follows:\n",
    "$$D = \\beta(\\Omega) - \\beta \\big|_{\\Omega=0} - \\frac{\\Omega}{v_{ref}}.$$\n",
    "\n",
    "For this example we'll use $v_{ref} = v_g(2 \\omega_0)$.\n",
    "\n",
    "At this point we can also compute the GVM ($\\Delta \\beta^\\prime $) between the fundamental signal and the moving reference frame:\n",
    "$$ \\Delta \\beta^\\prime = \\frac{1}{v_{ref}} - \\frac{1}{v_g(\\omega_0)}, $$\n",
    "and then we can compute how much a pulse at $\\omega_0$ will travel in a crystal of length $L$,\n",
    "$$ \\tau =  L \\Delta \\beta^\\prime. $$"
   ]
  },
  {
   "cell_type": "code",
   "execution_count": 8,
   "metadata": {},
   "outputs": [
    {
     "data": {
      "image/png": "[encoded data removed]",
      "text/plain": [
       "<Figure size 720x1296 with 4 Axes>"
      ]
     },
     "metadata": {
      "needs_background": "light"
     },
     "output_type": "display_data"
    }
   ],
   "source": [
    "beta = omega_abs*n/c\n",
    "beta_1 = fftshift(np.gradient(fftshift(beta), 2*pi*df))\n",
    "beta_2 = fftshift(np.gradient(fftshift(beta_1), 2*pi*df))\n",
    "vg = 1/beta_1\n",
    "\n",
    "beta_ref = beta[0]\n",
    "# f_v_ref = c/(700*nm)\n",
    "f_v_ref = f0_ff\n",
    "f_v_ref_index = np.abs(f + f_ref - f_v_ref).argmin()\n",
    "# v_ref = vg[0]\n",
    "# v_ref = 0.11*mm/ps\n",
    "v_ref = vg[f_v_ref_index]\n",
    "D = beta - beta_ref - Omega/v_ref\n",
    "GVM = 1/v_ref - 1/vg\n",
    "\n",
    "plt.rcParams['figure.figsize'] = [10, 18]\n",
    "fig = plt.figure()\n",
    "ax1 = fig.add_subplot(411)\n",
    "ax2 = fig.add_subplot(412)\n",
    "ax3 = fig.add_subplot(413)\n",
    "ax4 = fig.add_subplot(414)\n",
    "\n",
    "ax1.plot(fftshift(f_abs)/THz, fftshift(vg)/(mm/ps));\n",
    "ax1.set_ylabel('Group Velocity (ps/mm)'); ax1.set_xlabel('Frequency (THz)');\n",
    "\n",
    "ax2.plot(fftshift(f_abs)/THz, fftshift(GVM)/(ps/mm));\n",
    "ax2.set_ylabel('GVM (ps/mm)'); ax2.set_xlabel('Frequency (THz)');\n",
    "\n",
    "ax3.plot(fftshift(f_abs)/THz, fftshift(beta_2)/(fs**2/mm));\n",
    "ax3.set_ylabel('GVD (fs$^2$/mm)'); ax3.set_xlabel('Frequency (THz)');\n",
    "\n",
    "ax4.plot(fftshift(f_abs)/THz, fftshift(D));\n",
    "ax4.set_xlabel('Frequency (THz)'); ax4.set_ylabel('High order dispersion (m$^{-1}$)');\n",
    "\n",
    "ax1.grid(True); ax2.grid(True); ax3.grid(True); ax4.grid(True);"
   ]
  },
  {
   "cell_type": "markdown",
   "metadata": {},
   "source": [
    "## Quasi Phase Matching"
   ]
  },
  {
   "cell_type": "code",
   "execution_count": 9,
   "metadata": {},
   "outputs": [
    {
     "name": "stdout",
     "output_type": "stream",
     "text": [
      "Poling period for second harmonic generation starting at 2.050 um = 5.224 um\n",
      "Poling period for second harmonic generation starting at 1.550 um = 5.042 um\n"
     ]
    }
   ],
   "source": [
    "wl_pp = 2.05*um\n",
    "f1 = c/(wl_pp)\n",
    "f2 = 2*f1\n",
    "f1_index = np.abs(f + f_ref - f1).argmin()\n",
    "f2_index = np.abs(f + f_ref - f2).argmin()\n",
    "\n",
    "n1 = n[f1_index]\n",
    "n2 = n[f2_index]\n",
    "\n",
    "print(\"Poling period for second harmonic generation starting at %0.3f um = %0.3f um\" %(wl_pp/um, c/f2/(n2-n1)/um))\n",
    "\n",
    "wl_pp = 1.55*um\n",
    "f1 = c/(wl_pp)\n",
    "f2 = 2*f1\n",
    "f1_index = np.abs(f + f_ref - f1).argmin()\n",
    "f2_index = np.abs(f + f_ref - f2).argmin()\n",
    "\n",
    "n1 = n[f1_index]\n",
    "n2 = n[f2_index]\n",
    "\n",
    "print(\"Poling period for second harmonic generation starting at %0.3f um = %0.3f um\" %(wl_pp/um, c/f2/(n2-n1)/um))"
   ]
  },
  {
   "cell_type": "code",
   "execution_count": 10,
   "metadata": {},
   "outputs": [],
   "source": [
    "pp = 5.224*um\n",
    "# pp = 100*mm\n",
    "\n",
    "N = 1\n",
    "# Xw = 2.6e-12\n",
    "Xw = 5.9e-13\n",
    "def chi2(z):\n",
    "    poling = np.sign(np.cos(z*2*pi/pp))\n",
    "    return poling*Xw*omega_abs/(4*N)"
   ]
  },
  {
   "cell_type": "markdown",
   "metadata": {},
   "source": [
    "## Nonlinear  Component\n",
    "Now we create a nonlinear component based on this refractive index and propagation constant. This nonlinear component implements a method for propagation using the NEE."
   ]
  },
  {
   "cell_type": "code",
   "execution_count": 11,
   "metadata": {},
   "outputs": [
    {
     "ename": "AttributeError",
     "evalue": "module 'snlo.nlo' has no attribute 'nonlinear_element'",
     "output_type": "error",
     "traceback": [
      "\u001b[1;31m---------------------------------------------------------------------------\u001b[0m",
      "\u001b[1;31mAttributeError\u001b[0m                            Traceback (most recent call last)",
      "\u001b[1;32m<ipython-input-11-ae7957385286>\u001b[0m in \u001b[0;36m<module>\u001b[1;34m\u001b[0m\n\u001b[0;32m      2\u001b[0m \u001b[0mAlpha\u001b[0m \u001b[1;33m=\u001b[0m \u001b[1;36m0.1\u001b[0m     \u001b[1;31m# attentuation coefficient (dB/cm)\u001b[0m\u001b[1;33m\u001b[0m\u001b[1;33m\u001b[0m\u001b[0m\n\u001b[0;32m      3\u001b[0m \u001b[0malpha\u001b[0m \u001b[1;33m=\u001b[0m \u001b[0mnp\u001b[0m\u001b[1;33m.\u001b[0m\u001b[0mlog\u001b[0m\u001b[1;33m(\u001b[0m\u001b[1;33m(\u001b[0m\u001b[1;36m10\u001b[0m\u001b[1;33m**\u001b[0m\u001b[1;33m(\u001b[0m\u001b[0mAlpha\u001b[0m \u001b[1;33m*\u001b[0m \u001b[1;36m0.1\u001b[0m\u001b[1;33m)\u001b[0m\u001b[1;33m)\u001b[0m\u001b[1;33m)\u001b[0m \u001b[1;33m*\u001b[0m \u001b[1;36m100\u001b[0m  \u001b[1;31m# convert from dB/cm to 1/m\u001b[0m\u001b[1;33m\u001b[0m\u001b[1;33m\u001b[0m\u001b[0m\n\u001b[1;32m----> 4\u001b[1;33m \u001b[0mcrystal\u001b[0m \u001b[1;33m=\u001b[0m \u001b[0mnlo\u001b[0m\u001b[1;33m.\u001b[0m\u001b[0mnonlinear_element\u001b[0m\u001b[1;33m(\u001b[0m\u001b[0mL\u001b[0m\u001b[1;33m,\u001b[0m \u001b[0mn_func\u001b[0m\u001b[1;33m=\u001b[0m\u001b[0mn_func\u001b[0m\u001b[1;33m,\u001b[0m \u001b[0mchi2\u001b[0m\u001b[1;33m=\u001b[0m\u001b[0mchi2\u001b[0m\u001b[1;33m,\u001b[0m \u001b[0malpha\u001b[0m\u001b[1;33m=\u001b[0m\u001b[0malpha\u001b[0m\u001b[1;33m)\u001b[0m\u001b[1;33m\u001b[0m\u001b[1;33m\u001b[0m\u001b[0m\n\u001b[0m\u001b[0;32m      5\u001b[0m \u001b[1;33m\u001b[0m\u001b[0m\n\u001b[0;32m      6\u001b[0m \u001b[1;31m#Let's also check again the GVM now that we have the crystal length\u001b[0m\u001b[1;33m\u001b[0m\u001b[1;33m\u001b[0m\u001b[1;33m\u001b[0m\u001b[0m\n",
      "\u001b[1;31mAttributeError\u001b[0m: module 'snlo.nlo' has no attribute 'nonlinear_element'"
     ]
    }
   ],
   "source": [
    "L = 6*mm\n",
    "Alpha = 0.1     # attentuation coefficient (dB/cm)\n",
    "alpha = np.log((10**(Alpha * 0.1))) * 100  # convert from dB/cm to 1/m\n",
    "crystal = nlo.nonlinear_element(L, n_func=n_func, chi2=chi2, alpha=alpha)\n",
    "\n",
    "#Let's also check again the GVM now that we have the crystal length\n",
    "plt.rcParams['figure.figsize'] = [10, 5]\n",
    "fig = plt.figure()\n",
    "ax1 = fig.add_subplot(111)\n",
    "ax1.plot(fftshift(f_abs)/THz, fftshift(GVM*L)/(ps));\n",
    "ax1.set_ylabel('GVM$\\cdot$L (ps)'); ax2.set_xlabel('Frequency (THz)');"
   ]
  },
  {
   "cell_type": "markdown",
   "metadata": {},
   "source": [
    "## Input pulse creation\n",
    "\n",
    "We can find the peak value of the pulse from the intensity\n",
    "$$\n",
    "E_p = \\sqrt{\\frac{2 I}{n_\\omega c \\epsilon_0}}.\n",
    "$$\n",
    "\n",
    "The reference frequency $\\omega_{ref}$ is mapped to zero in $\\Omega$. So, to generate a pulse at frequency $\\omega_0$ we need to modulate it:\n",
    "$$\n",
    "p(t) e^{j (\\omega_0 - \\omega_{ref}) t} = p(t) e^{j \\Omega_0 t}.\n",
    "$$\n",
    "\n",
    "Let's now generate the pulse, add a bit of noise to it, and plot it to verify it is at the right frequency and looks like we expect it to look.\n",
    "\n",
    "Here I introduce a class named ```pulse```, the goal is to pack everything relevant to the pulse into a single object, just like we did with ```nonlinear_element```. I also have a bunch of convenience methods associated with ```pulse``` for things like plotting, calculating FWHM, energy, etc."
   ]
  },
  {
   "cell_type": "code",
   "execution_count": null,
   "metadata": {},
   "outputs": [],
   "source": [
    "#Frequency offset from reference:\n",
    "Omega_0 = 2*pi*(f0_ff - f_ref)\n",
    "\n",
    "#Pulse width:\n",
    "# tau = 50*fs\n",
    "tau = 1*ps\n",
    "\n",
    "#Peak value:\n",
    "Energy = 1000*fJ\n",
    "Ppeak = np.sqrt((0.94*Energy/tau))\n",
    "\n",
    "#Noise floor\n",
    "N_dB = 100\n",
    "noise = Ppeak * 10**(-N_dB/20) * np.random.normal(size=NFFT)\n",
    "\n",
    "#Pulse creation\n",
    "x = Ppeak*np.exp(-2*np.log(2)*(t/tau)**2)*np.exp(1j*Omega_0*t)\n",
    "x = x + noise\n",
    "pulse = pulses.pulse(t, x, wl_ref)\n",
    "print('Pulse Energy = %0.1f fJ' %(pulse.energy_td()/fJ))\n",
    "print('Peak Power = %0.1f mW' %(np.amax( abs(pulse.a)**2 )/mW ))\n",
    "\n",
    "plt.rcParams['figure.figsize'] = [18, 10]\n",
    "fig = plt.figure()\n",
    "ax1 = fig.add_subplot(221)\n",
    "ax2 = fig.add_subplot(222)\n",
    "ax3 = fig.add_subplot(223)\n",
    "ax4 = fig.add_subplot(224)\n",
    "\n",
    "ax1 = pulse.plot_mag(ax=ax1, t_unit='ps'); ax1.set_ylabel('Pulse Amplitude (V/m)')\n",
    "ax2 = pulse.plot_ESD_dB(ax=ax2, label='ESD (dB/Hz$^2$)', f_unit = 'THz')\n",
    "ax3 = pulse.plot_ESD_dB_absfreq(ax=ax3, label='ESD (dB/Hz$^2$)', f_unit = 'THz')\n",
    "ax4 = pulse.plot_ESD_dB_vs_wavelength(ax=ax4, label='ESD (dB/Hz$^2$)', wl_unit='um');"
   ]
  },
  {
   "cell_type": "markdown",
   "metadata": {},
   "source": [
    "## Single pass\n",
    "\n",
    "Finally, we can run the simulation. The method ```propagate_NEE``` takes a pulse object, a step size, and a reference velocity for the moving frame and outputs a pulse and it's evolution along the crystal."
   ]
  },
  {
   "cell_type": "code",
   "execution_count": null,
   "metadata": {
    "scrolled": true
   },
   "outputs": [],
   "source": [
    "h = pp/20 #Step size\n",
    "[out_pulse, pulse_evol_full] = crystal.propagate_NEE_fd(pulse, h, v_ref=v_ref, Nup=4, method='waveguide')"
   ]
  },
  {
   "cell_type": "code",
   "execution_count": null,
   "metadata": {},
   "outputs": [],
   "source": [
    "print('Input pulse energy = %0.3f fJ' %(pulse.energy_td()/fJ))\n",
    "print('Output pulse energy = %0.3f fJ' %(pulses.energy_td(t, out_pulse)/fJ))"
   ]
  },
  {
   "cell_type": "code",
   "execution_count": null,
   "metadata": {},
   "outputs": [],
   "source": [
    "plt.rcParams['figure.figsize'] = [10, 5]\n",
    "ax1 = pulses.plot_mag(t, out_pulse)\n",
    "ax1 = pulse.plot_mag(ax=ax1)\n",
    "# ax1.set_xlim(-2,0.5)\n",
    "# ax1.set_ylim(0,2e8)\n",
    "ax1.set_ylabel('Pulse Amplitude (V/m)')\n",
    "ax1.set_xlabel('Time (ps)');"
   ]
  },
  {
   "cell_type": "code",
   "execution_count": null,
   "metadata": {},
   "outputs": [],
   "source": [
    "plt.rcParams['figure.figsize'] = [15, 5]\n",
    "fig = plt.figure()\n",
    "ax1 = fig.add_subplot(111)\n",
    "pulse.plot_ESD_dB_vs_wavelength(ax=ax1)\n",
    "pulses.plot_ESD_dB_vs_wavelength(t, out_pulse, f_ref, ax=ax1)\n",
    "ax1.set_xlim([0.4, 2.4])\n",
    "ax1.set_ylim([-80,0])\n",
    "ax1.set_ylim([-200,0])\n",
    "ax1.set_ylabel('')"
   ]
  },
  {
   "cell_type": "markdown",
   "metadata": {},
   "source": [
    "We can also look at the evolution of the pulse along the crystal. Here it also clear that the input pulse travels while it creates a faint second harmonic that is stationary in the simulation frame. "
   ]
  },
  {
   "cell_type": "markdown",
   "metadata": {},
   "source": [
    "## Pulse evolution along the crystal"
   ]
  },
  {
   "cell_type": "code",
   "execution_count": null,
   "metadata": {},
   "outputs": [],
   "source": [
    "#Downsample evolution for plotting\n",
    "Ndown = 5\n",
    "pulse_evol = pulse_evol_full[::,::Ndown]\n",
    "Nsteps = pulse_evol.shape[1]-1"
   ]
  },
  {
   "cell_type": "code",
   "execution_count": null,
   "metadata": {},
   "outputs": [],
   "source": [
    "# plt.rcParams['figure.figsize'] = [15, 5]\n",
    "# Nsteps = pulse_evol.shape[1]-1\n",
    "# X,Y = np.meshgrid(t/ps, np.arange(Nsteps+1)*h*1e3)\n",
    "# fig = plt.figure()\n",
    "# ax = fig.add_subplot(111)\n",
    "# im = ax.pcolormesh(X, Y, (np.transpose(np.abs(pulse_evol))), cmap = cc.cm[\"rainbow\"])\n",
    "# ax.set_xlabel('Time (ps)')\n",
    "# ax.set_ylabel('Propagation distance (mm)')\n",
    "# # ax.set_ylim([0,5])\n",
    "# # ax.set_xlim([-2,0.5])\n",
    "# plt.colorbar(im, ax=ax);"
   ]
  },
  {
   "cell_type": "code",
   "execution_count": null,
   "metadata": {
    "scrolled": true
   },
   "outputs": [],
   "source": [
    "# A_evol = np.zeros((t.size, Nsteps+1))\n",
    "\n",
    "# for k in range(Nsteps+1):\n",
    "#     x = pulse_evol[:,k]\n",
    "#     _ , Aesd = nlo.get_esd(t, x)\n",
    "#     A_evol[:,k] = 10*np.log10(Aesd)\n",
    "\n",
    "# A_evol = A_evol - np.amax(A_evol)\n",
    "# A_evol = fftshift(A_evol, axes=0)\n",
    "\n",
    "# plt.rcParams['figure.figsize'] = [15, 5]\n",
    "\n",
    "# X,Y = np.meshgrid(fftshift(f+f_ref)*1e-12, np.arange(Nsteps+1)*h*Ndown/mm)\n",
    "# plt.figure()\n",
    "# plt.pcolormesh(X, Y, (np.transpose(A_evol)), cmap = cc.cm[\"fire\"], vmin=-80, vmax=0)\n",
    "# cb = plt.colorbar()\n",
    "# cb.set_label('Relative PSD (dB)')\n",
    "# plt.xlabel('Frequency (THz)')\n",
    "# plt.ylabel('Propagation distance (mm)');"
   ]
  },
  {
   "cell_type": "markdown",
   "metadata": {},
   "source": [
    "### Let's check the energy progression along the crystal"
   ]
  },
  {
   "cell_type": "code",
   "execution_count": null,
   "metadata": {},
   "outputs": [],
   "source": [
    "filter_bw = 50e12\n",
    "\n",
    "f1 = (f0_ff - filter_bw/2 - f_min)/(f_max-f_min)\n",
    "f2 = (f0_ff + filter_bw/2 - f_min)/(f_max-f_min)\n",
    "sos = signal.butter(15, [f1, f2], 'bandpass', output='sos')\n",
    "_, h_ff = signal.sosfreqz(sos, worN=NFFT)\n",
    "\n",
    "f1 = (2*f0_ff - filter_bw/2 - f_min)/(f_max-f_min)\n",
    "f2 = (2*f0_ff + filter_bw/2 - f_min)/(f_max-f_min)\n",
    "sos = signal.butter(15, [f1, f2], 'bandpass', output='sos')\n",
    "_, h_sh = signal.sosfreqz(sos, worN=NFFT)\n",
    "\n",
    "out_sh = ifft(fft(out_pulse)*fftshift(h_sh))\n",
    "out_ff = ifft(fft(out_pulse)*fftshift(h_ff))\n",
    "\n",
    "plt.rcParams['figure.figsize'] = [10, 5]\n",
    "ax1 = pulses.plot_ESD_dB_absfreq(t, out_pulse, f_ref)\n",
    "ax1.plot(fftshift(f+f_ref)*1e-12, 20*np.log10(abs(h_sh + 1e-20)));\n",
    "ax1.plot(fftshift(f+f_ref)*1e-12, 20*np.log10(abs(h_ff + 1e-20)))\n",
    "ax1.set_ylim([-100,10])\n",
    "# ax1.set_xlim([150, 500])\n",
    "\n",
    "plt.rcParams['figure.figsize'] = [10, 5]\n",
    "ax1 = pulse.plot_mag()\n",
    "ax1 = pulses.plot_mag(t, out_sh, ax=ax1)\n",
    "ax1 = pulses.plot_mag(t, out_ff, ax=ax1)\n",
    "ax1.set_ylabel('Pulse Amplitude (V/m)')\n",
    "ax1.set_xlim([-1, 1])"
   ]
  },
  {
   "cell_type": "code",
   "execution_count": null,
   "metadata": {},
   "outputs": [],
   "source": [
    "pulses.FWHM(t, np.abs(out_ff), prominence=np.abs(out_ff)/50)/ps"
   ]
  },
  {
   "cell_type": "code",
   "execution_count": null,
   "metadata": {},
   "outputs": [],
   "source": [
    "pulses.FWHM(t, np.abs(out_sh), prominence=np.abs(out_sh)/50)/ps"
   ]
  },
  {
   "cell_type": "code",
   "execution_count": null,
   "metadata": {},
   "outputs": [],
   "source": [
    "h_ff_tiled = np.tile(h_ff, (pulse_evol.shape[1],1)).transpose()\n",
    "out_ff = ifft(fft(pulse_evol, axis=0)*fftshift(h_ff_tiled, axes=0), axis=0)\n",
    "pwr_ff = abs(out_ff)**2\n",
    "energy_ff = np.sum(pwr_ff, axis=0)*dt\n",
    "\n",
    "h_sh_tiled = np.tile(h_sh, (pulse_evol.shape[1],1)).transpose()\n",
    "out_sh = ifft(fft(pulse_evol, axis=0)*fftshift(h_sh_tiled, axes=0), axis=0)\n",
    "pwr_sh = abs(out_sh)**2\n",
    "energy_sh = np.sum(pwr_sh, axis=0)*dt"
   ]
  },
  {
   "cell_type": "markdown",
   "metadata": {},
   "source": [
    "Instantaneous Efficiency\n",
    "\n",
    "Equation (5.77) Weiner"
   ]
  },
  {
   "cell_type": "code",
   "execution_count": null,
   "metadata": {},
   "outputs": [],
   "source": [
    "z = np.linspace(0, L, Nsteps+1)"
   ]
  },
  {
   "cell_type": "code",
   "execution_count": null,
   "metadata": {},
   "outputs": [],
   "source": [
    "#Constant z\n",
    "kz = 500\n",
    "print('z = %0.1f mm' %(z[kz]/mm))\n",
    "plt.plot(t/ps, pwr_ff[:,kz]**2)\n",
    "plt.plot(t/ps, pwr_sh[:,kz])\n",
    "\n",
    "plt.figure()\n",
    "efficiency = pwr_sh[:, kz]/( pwr_ff[:, kz]**2 * (z[kz]/(10*mm))**2 ) * 100\n",
    "plt.plot(t/ps, efficiency)\n",
    "plt.xlim([-1, 1])\n",
    "plt.ylim([0, 1e4])"
   ]
  },
  {
   "cell_type": "code",
   "execution_count": null,
   "metadata": {},
   "outputs": [],
   "source": [
    "#Constant z\n",
    "kt =  1100\n",
    "print('t = %0.1f ps' %(t[kt]/ps))\n",
    "plt.plot(z/mm, pwr_ff[kt,:]**2)\n",
    "plt.plot(z/mm, pwr_sh[kt,:])\n",
    "\n",
    "plt.figure()\n",
    "efficiency = pwr_sh[kt,1:]/( pwr_ff[kt,1:]**2 * (z[1:]/(10*mm) )**2 ) * 100\n",
    "plt.plot(z[1:]/mm, efficiency)\n",
    "plt.ylim([0, 1e4])"
   ]
  },
  {
   "cell_type": "markdown",
   "metadata": {},
   "source": [
    "Using Fluences"
   ]
  },
  {
   "cell_type": "code",
   "execution_count": null,
   "metadata": {},
   "outputs": [],
   "source": [
    "kz = 1\n",
    "fluence_2w = np.sum(pwr_sh, axis=0)*dt \n",
    "integral_w = np.sum(pwr_ff**2, axis=0)*dt \n",
    "\n",
    "gamma2 = fluence_2w[1:] / (integral_w[1:] * (z[1:]/1e-2)**2) * 100\n",
    "\n",
    "plt.rcParams['figure.figsize'] = [10, 5]\n",
    "plt.plot(z[1:]/mm, gamma2)"
   ]
  },
  {
   "cell_type": "markdown",
   "metadata": {},
   "source": [
    "# <center> END OF DOCUMENT </center>"
   ]
  },
  {
   "cell_type": "code",
   "execution_count": null,
   "metadata": {},
   "outputs": [],
   "source": [
    "# #Formatting stuff\n",
    "# from IPython.core.display import HTML\n",
    "# def css_styling():\n",
    "#     styles = open(\"custom.css\", \"r\").read()\n",
    "#     return HTML(styles)\n",
    "# css_styling()"
   ]
  },
  {
   "cell_type": "markdown",
   "metadata": {},
   "source": [
    "### Software Versions"
   ]
  },
  {
   "cell_type": "code",
   "execution_count": null,
   "metadata": {},
   "outputs": [],
   "source": [
    "# %load_ext version_information\n",
    "# %version_information scipy, numpy, matplotlib"
   ]
  }
 ],
 "metadata": {
  "kernelspec": {
   "display_name": "Python 3",
   "language": "python",
   "name": "python3"
  },
  "language_info": {
   "codemirror_mode": {
    "name": "ipython",
    "version": 3
   },
   "file_extension": ".py",
   "mimetype": "text/x-python",
   "name": "python",
   "nbconvert_exporter": "python",
   "pygments_lexer": "ipython3",
   "version": "3.7.6"
  }
 },
 "nbformat": 4,
 "nbformat_minor": 4
}
