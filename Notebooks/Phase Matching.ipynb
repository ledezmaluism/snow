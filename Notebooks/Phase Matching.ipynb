{
 "cells": [
  {
   "cell_type": "code",
   "execution_count": 1,
   "metadata": {},
   "outputs": [],
   "source": [
    "import numpy as np\n",
    "import matplotlib.pyplot as plt\n",
    "import time\n",
    "\n",
    "from scipy.constants import c,pi,mu_0,epsilon_0"
   ]
  },
  {
   "cell_type": "code",
   "execution_count": 2,
   "metadata": {},
   "outputs": [],
   "source": [
    "#z = np.arange(0,4,0.01)\n",
    "\n",
    "#d = 5\n",
    "#d33 = 10\n",
    "\n",
    "#P_pm = d**2 * z**2\n",
    "#P_0 = d**2 * z**2 * np.sin(pi/2*z)**2 / (pi/2*z)**2\n",
    "#P_0 = d * z * np.sin(pi/2*z) / (pi/2*z)\n",
    "\n",
    "#deff = d*2/pi\n",
    "#P_qpm1 = deff**2 * z**2\n",
    "\n",
    "#deff = d*1/pi\n",
    "#P_qpm2 = deff**2 * z**2\n",
    "\n",
    "#deff = d33*2/pi\n",
    "#P_qpm3 = deff**2 * z**2\n",
    "\n",
    "#plt.plot(z, np.abs(P_0))\n",
    "#plt.plot(z, P_pm)\n",
    "#plt.plot(z, P_qpm1)\n",
    "#plt.plot(z, P_qpm2)\n",
    "#plt.plot(z, P_qpm3)"
   ]
  },
  {
   "cell_type": "code",
   "execution_count": 19,
   "metadata": {},
   "outputs": [
    {
     "data": {
      "text/plain": [
       "[<matplotlib.lines.Line2D at 0x244a17ea4a8>]"
      ]
     },
     "execution_count": 19,
     "metadata": {},
     "output_type": "execute_result"
    },
    {
     "data": {
      "image/png": "[encoded data removed]",
      "text/plain": [
       "<Figure size 432x288 with 1 Axes>"
      ]
     },
     "metadata": {},
     "output_type": "display_data"
    }
   ],
   "source": [
    "#Poling example\n",
    "L = 20\n",
    "dz = 0.01\n",
    "z = np.arange(0,L,dz)\n",
    "dk = pi #phase mismatch\n",
    "\n",
    "pp = pi/dk #poling period\n",
    "pp = pp\n",
    "\n",
    "X2 = 1-2*(np.round(z/pp)%2)\n",
    "\n",
    "#Integrand\n",
    "f = X2*np.exp(1j*dk*z) \n",
    "\n",
    "#Integral\n",
    "I = np.cumsum(f*dz)\n",
    "\n",
    "plt.plot(z,np.abs(I)**2)\n",
    "plt.plot(z,X2)\n",
    "#plt.plot(z,np.abs(I))"
   ]
  },
  {
   "cell_type": "code",
   "execution_count": null,
   "metadata": {},
   "outputs": [],
   "source": []
  }
 ],
 "metadata": {
  "kernelspec": {
   "display_name": "Python 3",
   "language": "python",
   "name": "python3"
  },
  "language_info": {
   "codemirror_mode": {
    "name": "ipython",
    "version": 3
   },
   "file_extension": ".py",
   "mimetype": "text/x-python",
   "name": "python",
   "nbconvert_exporter": "python",
   "pygments_lexer": "ipython3",
   "version": "3.7.3"
  }
 },
 "nbformat": 4,
 "nbformat_minor": 2
}
