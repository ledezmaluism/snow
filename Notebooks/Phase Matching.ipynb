{
 "cells": [
  {
   "cell_type": "code",
   "execution_count": 1,
   "metadata": {},
   "outputs": [],
   "source": [
    "import numpy as np\n",
    "import matplotlib.pyplot as plt\n",
    "import time\n",
    "\n",
    "from scipy.constants import c,pi,mu_0,epsilon_0"
   ]
  },
  {
   "cell_type": "code",
   "execution_count": 2,
   "metadata": {},
   "outputs": [],
   "source": [
    "#Length\n",
    "L = 6\n",
    "dz = 0.01\n",
    "z = np.arange(0,L,dz)\n",
    "\n",
    "#phase mismatch\n",
    "dk = pi #phase mismatch\n",
    "\n",
    "#Nonlinearity\n",
    "X2 = 1"
   ]
  },
  {
   "cell_type": "code",
   "execution_count": null,
   "metadata": {},
   "outputs": [],
   "source": [
    "#Perfect phase matching\n",
    "Ipm = np.cumsum(np.ones(z.size)*dz)\n",
    "plt.plot(z,np.abs(Ipm)**2);"
   ]
  },
  {
   "cell_type": "code",
   "execution_count": null,
   "metadata": {},
   "outputs": [],
   "source": [
    "#No phase matching\n",
    "#Integrand\n",
    "fbad = X2*np.exp(1j*dk*z) \n",
    "\n",
    "#Integral\n",
    "Ibad = np.cumsum(fbad*dz)\n",
    "\n",
    "plt.plot(z,np.abs(Ibad)**2);"
   ]
  },
  {
   "cell_type": "code",
   "execution_count": null,
   "metadata": {},
   "outputs": [],
   "source": [
    "#QPM example\n",
    "pp = pi/dk #poling period\n",
    "pp = pp\n",
    "\n",
    "X2qpm = X2*(1-2*(np.round((z+1)/pp)%2))\n",
    "\n",
    "#Integrand\n",
    "fqpm = X2qpm*np.exp(1j*dk*z) \n",
    "\n",
    "#Integral\n",
    "Iqpm = np.cumsum(fqpm*dz)\n",
    "\n",
    "\n",
    "#Plots\n",
    "ymax = 100\n",
    "plt.plot(z,np.abs(Iqpm)**2)\n",
    "\n",
    "plt.plot(z,1*X2qpm)\n",
    "plt.bar(np.arange(pp,L/pp+1,2),ymax,1, color='lightgray')\n",
    "\n",
    "plt.xlabel('Distance (a.u.)')\n",
    "plt.ylabel('Intensity (a.u.)')\n",
    "plt.axis([0,L,0,ymax]);"
   ]
  },
  {
   "cell_type": "code",
   "execution_count": 30,
   "metadata": {},
   "outputs": [
    {
     "data": {
      "text/plain": [
       "[<matplotlib.lines.Line2D at 0x24037303128>]"
      ]
     },
     "execution_count": 30,
     "metadata": {},
     "output_type": "execute_result"
    },
    {
     "data": {
      "image/png": "[encoded data removed]",
      "text/plain": [
       "<Figure size 432x288 with 1 Axes>"
      ]
     },
     "metadata": {
      "needs_background": "light"
     },
     "output_type": "display_data"
    }
   ],
   "source": [
    "#QPM example #2\n",
    "#Same as before, but we use the maximum X2 available...\n",
    "pp = pi/dk #poling period\n",
    "\n",
    "X2_33 = 5*X2\n",
    "X2qpm2 = X2_33*np.sign(np.cos(2*pi*(z-pp/2)/(2*pp)))\n",
    "\n",
    "\n",
    "#Integrand\n",
    "fqpm2 = X2qpm2*np.exp(1j*dk*z) \n",
    "\n",
    "#Integral\n",
    "Iqpm2 = np.cumsum(fqpm2*dz)\n",
    "\n",
    "\n",
    "#Plots\n",
    "ymax = 1\n",
    "plt.plot(z,np.abs(Iqpm2)**2)\n",
    "\n",
    "plt.plot(z,X2qpm2)\n",
    "# plt.bar(x=np.arange(pp,L/pp+1,2), height=ymax, width=pp, color='lightgray')\n",
    "\n",
    "# plt.xlabel('Distance (a.u.)')\n",
    "# plt.ylabel('Intensity (a.u.)')\n",
    "# plt.axis([0,L,0,ymax]);"
   ]
  },
  {
   "cell_type": "markdown",
   "metadata": {},
   "source": [
    "## Summary"
   ]
  },
  {
   "cell_type": "code",
   "execution_count": null,
   "metadata": {},
   "outputs": [],
   "source": [
    "#Plots\n",
    "ymax = 10\n",
    "plt.plot(z,np.abs(Ipm)**2)\n",
    "plt.plot(z,np.abs(Ibad)**2)\n",
    "\n",
    "plt.xlabel('Distance (a.u.)')\n",
    "plt.ylabel('Intensity (a.u.)')\n",
    "plt.axis([0,L,0,ymax]);"
   ]
  },
  {
   "cell_type": "code",
   "execution_count": null,
   "metadata": {},
   "outputs": [],
   "source": [
    "#Plots\n",
    "ymax = 50\n",
    "plt.plot(z,np.abs(Ipm)**2)\n",
    "plt.plot(z,np.abs(Ibad)**2)\n",
    "\n",
    "plt.xlabel('Distance (a.u.)')\n",
    "plt.ylabel('Intensity (a.u.)')\n",
    "plt.axis([0,L,0,ymax]);"
   ]
  },
  {
   "cell_type": "code",
   "execution_count": null,
   "metadata": {},
   "outputs": [],
   "source": [
    "ymax = 50\n",
    "plt.plot(z,np.abs(Ipm)**2)\n",
    "plt.plot(z,np.abs(Ibad)**2)\n",
    "plt.plot(z,np.abs(Iqpm)**2)\n",
    "\n",
    "plt.bar(np.arange(pp,L/pp+1,2),ymax,1, color='lightgray')\n",
    "plt.xlabel('Distance (a.u.)')\n",
    "plt.ylabel('Intensity (a.u.)')\n",
    "plt.axis([0,L,0,ymax]);\n",
    "\n",
    "#Arrows\n",
    "al = 8\n",
    "plt.arrow(pp,40,0,-al, head_width=0.2, head_length=2, fc='k', ec='k')\n",
    "plt.arrow(3*pp,40,0,-al, head_width=0.2, head_length=2, fc='k', ec='k')\n",
    "plt.arrow(5*pp,40,0,-al, head_width=0.2, head_length=2, fc='k', ec='k')\n",
    "\n",
    "plt.arrow(2*pp,30,0,al, head_width=0.2, head_length=2, fc='k', ec='k')\n",
    "plt.arrow(4*pp,30,0,al, head_width=0.2, head_length=2, fc='k', ec='k')\n",
    "plt.arrow(6*pp,30,0,al, head_width=0.2, head_length=2, fc='k', ec='k')"
   ]
  },
  {
   "cell_type": "code",
   "execution_count": null,
   "metadata": {},
   "outputs": [],
   "source": [
    "plt.plot(z,np.abs(Ipm)**2)\n",
    "plt.plot(z,np.abs(Ibad)**2)\n",
    "plt.plot(z,np.abs(Iqpm)**2)\n",
    "plt.plot(z,np.abs(Iqpm2)**2)\n",
    "\n",
    "plt.bar(np.arange(pp,L/pp+1,2),ymax,1, color='lightgray')\n",
    "plt.xlabel('Distance (a.u.)')\n",
    "plt.ylabel('Intensity (a.u.)')\n",
    "plt.axis([0,L,0,ymax]);\n",
    "\n",
    "#Arrows\n",
    "al = 8\n",
    "plt.arrow(pp,40,0,-al, head_width=0.2, head_length=2, fc='k', ec='k')\n",
    "plt.arrow(3*pp,40,0,-al, head_width=0.2, head_length=2, fc='k', ec='k')\n",
    "plt.arrow(5*pp,40,0,-al, head_width=0.2, head_length=2, fc='k', ec='k')\n",
    "\n",
    "plt.arrow(2*pp,30,0,al, head_width=0.2, head_length=2, fc='k', ec='k')\n",
    "plt.arrow(4*pp,30,0,al, head_width=0.2, head_length=2, fc='k', ec='k')\n",
    "plt.arrow(6*pp,30,0,al, head_width=0.2, head_length=2, fc='k', ec='k')"
   ]
  },
  {
   "cell_type": "code",
   "execution_count": null,
   "metadata": {},
   "outputs": [],
   "source": []
  }
 ],
 "metadata": {
  "kernelspec": {
   "display_name": "Python 3",
   "language": "python",
   "name": "python3"
  },
  "language_info": {
   "codemirror_mode": {
    "name": "ipython",
    "version": 3
   },
   "file_extension": ".py",
   "mimetype": "text/x-python",
   "name": "python",
   "nbconvert_exporter": "python",
   "pygments_lexer": "ipython3",
   "version": "3.7.3"
  }
 },
 "nbformat": 4,
 "nbformat_minor": 2
}
