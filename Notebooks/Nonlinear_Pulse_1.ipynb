{
 "cells": [
  {
   "cell_type": "markdown",
   "metadata": {},
   "source": [
    "## Nonlinear pulse propagation\n",
    "\n",
    "From Hamerly's paper."
   ]
  },
  {
   "cell_type": "code",
   "execution_count": 1,
   "metadata": {},
   "outputs": [],
   "source": [
    "import numpy as np\n",
    "import matplotlib.pyplot as plt\n",
    "import time\n",
    "\n",
    "#The following hack is for importing a module from the \"Modules\" folder\n",
    "import os\n",
    "cwd = os.getcwd()\n",
    "os.chdir('..')\n",
    "from Modules.analysis import FTX, IFTX\n",
    "os.chdir(cwd)"
   ]
  },
  {
   "cell_type": "markdown",
   "metadata": {},
   "source": [
    "## Units\n",
    "We'll work in the following units:\n",
    "\n",
    "time = ps <br>\n",
    "frequency = THz (1/time) <br>\n",
    "distance = mm"
   ]
  },
  {
   "cell_type": "code",
   "execution_count": 2,
   "metadata": {},
   "outputs": [],
   "source": [
    "from scipy.constants import pi, c\n",
    "c = c*1e-9; #mm/ps, [Freq]=THz"
   ]
  },
  {
   "cell_type": "code",
   "execution_count": 3,
   "metadata": {},
   "outputs": [],
   "source": [
    "#Input parameters\n",
    "la = 1.5 #um\n",
    "lb = la/2 #um\n",
    "L = 40 #mm\n",
    "alpha = 0.00691 #1/mm\n",
    "u = 0.329 #ps/mm\n",
    "Tp = 13.2 #ps\n",
    "b2a = 1.12e-4 #ps^2/mm\n",
    "b3a = 3.09e-5 #ps^3/mm\n",
    "b2b = 4.06e-4\n",
    "b3b = 2.51e-5\n",
    "epsilon = 5.16e-5 #ps^0.5/mm\n",
    "G0 = 3.33\n",
    "b0 = 3.84e2 #ps^0.5 !?\n",
    "a0 = 10\n",
    "\n",
    "p = 1.1 #normalized power\n",
    "l = 0 #detuning\n"
   ]
  },
  {
   "cell_type": "markdown",
   "metadata": {},
   "source": [
    "### Pump\n",
    "\n",
    "Gaussian pulse:\n",
    "$$A(t) = exp(-t^2/t_p^2)$$\n",
    "\n",
    "$$t_p = \\frac{t_d}{\\sqrt{4 \\log{2}}}$$"
   ]
  },
  {
   "cell_type": "code",
   "execution_count": 7,
   "metadata": {},
   "outputs": [
    {
     "name": "stdout",
     "output_type": "stream",
     "text": [
      "Sampling Rate = 0.2580645161290249 ps\n"
     ]
    },
    {
     "data": {
      "image/png": "[encoded data removed]",
      "text/plain": [
       "<Figure size 432x288 with 1 Axes>"
      ]
     },
     "metadata": {
      "needs_background": "light"
     },
     "output_type": "display_data"
    }
   ],
   "source": [
    "#tp = td/np.sqrt(4*np.log(2)) #tp for Gaussian pulse\n",
    "\n",
    "N = 1024 #Fourier size\n",
    "t = np.linspace(-10*Tp, 10*Tp, N)\n",
    "ts = t[1]-t[0] #Sampling period\n",
    "print('Sampling Rate =',ts, 'ps')\n",
    "Omega = np.fft.fftfreq(t.size, ts)\n",
    "\n",
    "b = p*b0*np.exp(-t**2/Tp**2)\n",
    "a = a0*np.exp(-t**2/Tp**2)\n",
    "\n",
    "plt.plot(t,b,t,a)\n",
    "plt.grid()"
   ]
  },
  {
   "cell_type": "markdown",
   "metadata": {},
   "source": [
    "### Propagation"
   ]
  },
  {
   "cell_type": "code",
   "execution_count": 5,
   "metadata": {},
   "outputs": [],
   "source": [
    "h = 0.1 #Distance step Size\n",
    "\n",
    "#Linear operator (Waveguide)\n",
    "Da = np.exp((-alpha/2 + 1j*b2a*Omega**2/2 - 1j*b3a*Omega**3/6)*h)\n",
    "Db = np.exp((-alpha/2 - 1j*u*Omega + 1j*b2b*Omega**2/2 - 1j*b3b*Omega**3/6)*h)\n",
    "\n",
    "Da = np.fft.fftshift(Da)\n",
    "Db = np.fft.fftshift(Db)"
   ]
  },
  {
   "cell_type": "code",
   "execution_count": 9,
   "metadata": {
    "scrolled": true
   },
   "outputs": [
    {
     "data": {
      "image/png": "[encoded data removed]",
      "text/plain": [
       "<Figure size 432x288 with 1 Axes>"
      ]
     },
     "metadata": {
      "needs_background": "light"
     },
     "output_type": "display_data"
    }
   ],
   "source": [
    "zi = 0\n",
    "\n",
    "b = p*b0*np.exp(-t**2/Tp**2)\n",
    "a = a0*np.exp(-t**2/Tp**2)\n",
    "\n",
    "while zi<L:\n",
    "    #Linear half step\n",
    "    A = np.fft.fft(a)\n",
    "    A = A*Da\n",
    "    a = np.fft.ifft(A)\n",
    "    \n",
    "    B = np.fft.fft(b)\n",
    "    B = B*Db\n",
    "    b = np.fft.ifft(B)\n",
    "    \n",
    "    #Nonlinear step\n",
    "    #az = az + k*np.conj(az)\n",
    "    \n",
    "    #Second Linear half step\n",
    "    \n",
    "    #Next z\n",
    "    zi = zi+h\n",
    "    \n",
    "plt.plot(t, abs(a), t, abs(b));"
   ]
  },
  {
   "cell_type": "code",
   "execution_count": null,
   "metadata": {},
   "outputs": [],
   "source": []
  }
 ],
 "metadata": {
  "kernelspec": {
   "display_name": "Python 3",
   "language": "python",
   "name": "python3"
  },
  "language_info": {
   "codemirror_mode": {
    "name": "ipython",
    "version": 3
   },
   "file_extension": ".py",
   "mimetype": "text/x-python",
   "name": "python",
   "nbconvert_exporter": "python",
   "pygments_lexer": "ipython3",
   "version": "3.7.4"
  }
 },
 "nbformat": 4,
 "nbformat_minor": 2
}
