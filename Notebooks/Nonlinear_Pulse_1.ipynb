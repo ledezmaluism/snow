{
 "cells": [
  {
   "cell_type": "markdown",
   "metadata": {},
   "source": [
    "## Nonlinear pulse propagation\n",
    "\n",
    "From Hamerly's paper."
   ]
  },
  {
   "cell_type": "code",
   "execution_count": 1,
   "metadata": {},
   "outputs": [],
   "source": [
    "%matplotlib inline\n",
    "%load_ext autoreload\n",
    "%autoreload 2\n",
    "%matplotlib notebook\n",
    "\n",
    "import numpy as np\n",
    "import matplotlib.pyplot as plt\n",
    "import time\n",
    "import scipy\n",
    "\n",
    "#The following hack is for importing a module from the \"Modules\" folder\n",
    "import os\n",
    "cwd = os.getcwd()\n",
    "os.chdir('..')\n",
    "from Modules.analysis import FTX, IFTX\n",
    "os.chdir(cwd)"
   ]
  },
  {
   "cell_type": "markdown",
   "metadata": {},
   "source": [
    "## Units\n",
    "We'll work in the following units:\n",
    "\n",
    "time = ps <br>\n",
    "frequency = THz (1/time) <br>\n",
    "distance = mm"
   ]
  },
  {
   "cell_type": "code",
   "execution_count": 2,
   "metadata": {},
   "outputs": [],
   "source": [
    "from scipy.constants import pi, c\n",
    "c = c*1e-9; #mm/ps, [Freq]=THz"
   ]
  },
  {
   "cell_type": "code",
   "execution_count": 3,
   "metadata": {},
   "outputs": [],
   "source": [
    "#Input parameters\n",
    "la = 1.5 #um\n",
    "lb = la/2 #um\n",
    "L = 2 #mm\n",
    "alpha = 0.00691 #1/mm\n",
    "u = 0.329 #ps/mm\n",
    "Tp = 13.2 #ps\n",
    "b2a = 1.12e-4 #ps^2/mm\n",
    "b3a = 3.09e-5 #ps^3/mm\n",
    "b2b = 4.06e-4\n",
    "b3b = 2.51e-5\n",
    "epsilon = 5.16e-5 #ps^0.5/mm\n",
    "G0 = 3.33\n",
    "b0 = 3.84e2 #ps^0.5 !?\n",
    "\n",
    "p = 1.1 #normalized power\n",
    "l = 0 #detuning\n",
    "\n",
    "phi0 = pi*l"
   ]
  },
  {
   "cell_type": "markdown",
   "metadata": {},
   "source": [
    "### Pump\n",
    "\n",
    "Gaussian pulse:\n",
    "$$A(t) = exp(-t^2/t_p^2)$$\n",
    "\n",
    "$$t_p = \\frac{t_d}{\\sqrt{4 \\log{2}}}$$"
   ]
  },
  {
   "cell_type": "code",
   "execution_count": 4,
   "metadata": {},
   "outputs": [
    {
     "name": "stdout",
     "output_type": "stream",
     "text": [
      "Sampling Rate = 0.12903225806451246 ps\n"
     ]
    },
    {
     "data": {
      "image/png": "[encoded data removed]",
      "text/plain": [
       "<Figure size 432x288 with 1 Axes>"
      ]
     },
     "metadata": {
      "needs_background": "light"
     },
     "output_type": "display_data"
    }
   ],
   "source": [
    "#tp = td/np.sqrt(4*np.log(2)) #tp for Gaussian pulse\n",
    "\n",
    "N = 1024 #Fourier size\n",
    "xtra = 5\n",
    "t = np.linspace(-xtra*Tp, xtra*Tp, N)\n",
    "ts = t[1]-t[0] #Sampling period\n",
    "print('Sampling Rate =',ts, 'ps')\n",
    "Omega = 2*pi*np.fft.fftfreq(t.size, ts)\n",
    "\n",
    "# b = p*b0*np.exp(-t**2/Tp**2)\n",
    "Tp1 = -Tp\n",
    "Tp2 =  0\n",
    "b_shape = -1/(1+np.exp(3*(t-Tp1)))+1/(1+np.exp(3*(t-Tp2)))\n",
    "a_shape = np.exp(-t**2/(Tp)**2)\n",
    "\n",
    "plt.plot(t,a_shape,t,b_shape)\n",
    "plt.grid()\n",
    "\n",
    "# b = p*b0*b\n",
    "# plt.figure()\n",
    "# plt.plot(t,a)"
   ]
  },
  {
   "cell_type": "markdown",
   "metadata": {},
   "source": [
    "## Linear Operators"
   ]
  },
  {
   "cell_type": "code",
   "execution_count": 5,
   "metadata": {},
   "outputs": [],
   "source": [
    "h = 0.1 #Distance step Size\n",
    "\n",
    "#Linear operator (Waveguide)\n",
    "Da = np.exp((-alpha/2 + 1j*b2a*Omega**2/2 - 1j*b3a*Omega**3/6)*h/2)\n",
    "Db = np.exp((-alpha/2 - 1j*u*Omega + 1j*b2b*Omega**2/2 - 1j*b3b*Omega**3/6)*h/2)"
   ]
  },
  {
   "cell_type": "markdown",
   "metadata": {},
   "source": [
    "## Single Pass"
   ]
  },
  {
   "cell_type": "code",
   "execution_count": 6,
   "metadata": {},
   "outputs": [],
   "source": [
    "def single_pass(a,b,Da,Db,L,h):\n",
    "    zi = 0\n",
    "    while zi<L:\n",
    "        #Linear half step (front)\n",
    "        A = np.fft.fft(a)\n",
    "        A = A*Da\n",
    "        a = np.fft.ifft(A)\n",
    "        B = np.fft.fft(b)\n",
    "        B = B*Db\n",
    "        b = np.fft.ifft(B)\n",
    "        \n",
    "        #Nonlinear step\n",
    "        #Runge-Kutta for a\n",
    "        k1 = h/2*epsilon*b*np.conj(a)\n",
    "        k2 = h/2*epsilon*b*np.conj(a+k1/2)\n",
    "        k3 = h/2*epsilon*b*np.conj(a+k2/2)\n",
    "        k4 = h/2*epsilon*b*np.conj(a+k3)\n",
    "        a = a + (1/6)*(k1+2*k2+2*k3+k4)\n",
    "\n",
    "        #Integral for b\n",
    "        b = b - 0.5*h*epsilon*a*a\n",
    "        \n",
    "        #Runge-Kutta for a\n",
    "        k1 = h/2*epsilon*b*np.conj(a)\n",
    "        k2 = h/2*epsilon*b*np.conj(a+k1/2)\n",
    "        k3 = h/2*epsilon*b*np.conj(a+k2/2)\n",
    "        k4 = h/2*epsilon*b*np.conj(a+k3)\n",
    "        a = a + (1/6)*(k1+2*k2+2*k3+k4)\n",
    "        \n",
    "        #Linear half step (back)\n",
    "        A = np.fft.fft(a)\n",
    "        A = A*Da\n",
    "        a = np.fft.ifft(A)\n",
    "        B = np.fft.fft(b)\n",
    "        B = B*Db\n",
    "        b = np.fft.ifft(B)\n",
    "        \n",
    "        #Next z\n",
    "        zi = zi+h\n",
    "    return a,b"
   ]
  },
  {
   "cell_type": "markdown",
   "metadata": {},
   "source": [
    "## OPO"
   ]
  },
  {
   "cell_type": "code",
   "execution_count": 71,
   "metadata": {},
   "outputs": [],
   "source": [
    "def opo(L=40, alpha = 0.00691,  u = 0.329, Tp = 13.2, b2a = 1.12e-4, \n",
    "        b3a = 3.09e-5, b2b = 4.06e-4, b3b = 2.51e-5, epsilon = 5.16e-5,\n",
    "       G0 = 2.5, b0 = 3.84e2, p = 1.1, phi0=0):\n",
    "\n",
    "    h = 0.5 #Distance step Size\n",
    "\n",
    "    #Linear operator (Waveguide)\n",
    "    Da = np.exp((-alpha/2 + 1j*b2a*Omega**2/2 - 1j*b3a*Omega**3/6)*h/2)\n",
    "    Db = np.exp((-alpha/2 - 1j*u*Omega + 1j*b2b*Omega**2/2 - 1j*b3b*Omega**3/6)*h/2)\n",
    "    \n",
    "    #Feedback response\n",
    "    fb = np.sqrt(1/G0)*np.exp(1j*phi0)\n",
    "    \n",
    "    N = 1000 #Max number of loops\n",
    "    a = a_shape\n",
    "    a_prev = a\n",
    "    Vdiff = np.zeros((N,1))\n",
    "    \n",
    "    for kn in range(N):\n",
    "        b = b0*p*b_shape\n",
    "        a,b = single_pass(a,b,Da,Db,L,h)\n",
    "\n",
    "        #Power calc\n",
    "        Pa = scipy.integrate.simps(np.abs(a)**2,t)\n",
    "\n",
    "        #Check if steady state at output of section\n",
    "        Pdiff = scipy.integrate.simps((np.abs(a_prev - a)**2),t)\n",
    "        diff = Pdiff/Pa*100\n",
    "        Vdiff[kn] = diff\n",
    "        a_prev = a\n",
    "        if diff<1e-3:\n",
    "            break\n",
    "            \n",
    "        #Apply feedback\n",
    "        a = a*fb\n",
    "        \n",
    "    return a, Pa"
   ]
  },
  {
   "cell_type": "code",
   "execution_count": 72,
   "metadata": {},
   "outputs": [
    {
     "name": "stdout",
     "output_type": "stream",
     "text": [
      "Phi0 = -0.4 done; 6.25% complete\n",
      "Phi0 = -0.35 done; 12.5% complete\n",
      "Phi0 = -0.3 done; 18.75% complete\n",
      "Phi0 = -0.25 done; 25.0% complete\n",
      "Phi0 = -0.2 done; 31.25% complete\n",
      "Phi0 = -0.15 done; 37.5% complete\n",
      "Phi0 = -0.1 done; 43.75% complete\n",
      "Phi0 = -0.05 done; 50.0% complete\n",
      "Phi0 = -0.0 done; 56.25% complete\n",
      "Phi0 = 0.05 done; 62.5% complete\n",
      "Phi0 = 0.1 done; 68.75% complete\n",
      "Phi0 = 0.15 done; 75.0% complete\n",
      "Phi0 = 0.2 done; 81.25% complete\n",
      "Phi0 = 0.25 done; 87.5% complete\n",
      "Phi0 = 0.3 done; 93.75% complete\n",
      "Phi0 = 0.35 done; 100.0% complete\n"
     ]
    }
   ],
   "source": [
    "#Sweep detuning\n",
    "phi0 = np.arange(-0.4,0.4,0.05)\n",
    "\n",
    "a_output = np.zeros((phi0.size,N), dtype=complex)\n",
    "\n",
    "# \n",
    "for k in range(phi0.size):\n",
    "    a_output[k,:], Pa = opo(phi0=phi0[k], p=1.3)\n",
    "    \n",
    "    pc = str(((k+1)/phi0.size)*100) + '% complete'\n",
    "    print('Phi0 = ' + str(round(phi0[k],5)) + ' done; ' + pc)"
   ]
  },
  {
   "cell_type": "code",
   "execution_count": 73,
   "metadata": {
    "scrolled": true
   },
   "outputs": [
    {
     "data": {
      "text/plain": [
       "<matplotlib.image.AxesImage at 0x29859c1fc88>"
      ]
     },
     "execution_count": 73,
     "metadata": {},
     "output_type": "execute_result"
    },
    {
     "data": {
      "image/png": "[encoded data removed]",
      "text/plain": [
       "<Figure size 432x288 with 1 Axes>"
      ]
     },
     "metadata": {
      "needs_background": "light"
     },
     "output_type": "display_data"
    }
   ],
   "source": [
    "plt.figure()\n",
    "Spectrum = np.zeros(a_output.shape)\n",
    "\n",
    "for k in range(phi0.size):\n",
    "    A = np.fft.fft(a_output[k,:])\n",
    "    Spectrum[k,:] = np.abs(A)**2\n",
    "\n",
    "plt.imshow(np.fft.fftshift(Spectrum), extent=(-0.4,0.4,-0.4,0.4))"
   ]
  },
  {
   "cell_type": "code",
   "execution_count": 63,
   "metadata": {},
   "outputs": [
    {
     "data": {
      "text/plain": [
       "array([-24.34734307, -24.29978966, -24.25223626, ...,  24.20468285,\n",
       "        24.25223626,  24.29978966])"
      ]
     },
     "execution_count": 63,
     "metadata": {},
     "output_type": "execute_result"
    }
   ],
   "source": [
    "np.fft.fftshift(Omega)"
   ]
  },
  {
   "cell_type": "code",
   "execution_count": 9,
   "metadata": {},
   "outputs": [],
   "source": [
    "# #Input parameters\n",
    "# la = 1.5 #um\n",
    "# lb = la/2 #um\n",
    "# L = 40 #mm\n",
    "# alpha = 0.00691 #1/mm\n",
    "# u = 0.329 #ps/mm\n",
    "# Tp = 13.2 #ps\n",
    "# b2a = 1.12e-4 #ps^2/mm\n",
    "# b3a = 3.09e-5 #ps^3/mm\n",
    "# b2b = 4.06e-4\n",
    "# b3b = 2.51e-5\n",
    "# epsilon = 5.16e-5 #ps^0.5/mm\n",
    "# G0 = 2.5\n",
    "# b0 = 3.84e2 #ps^0.5 !?\n",
    "\n",
    "# p = 1.1 #normalized power\n",
    "# #l = 0 #detuning\n",
    "# #phi0 = pi*l\n",
    "# phi0 = -0.2\n",
    "\n",
    "# fb = np.sqrt(1/G0)*np.exp(1j*phi0)\n",
    "# ###################################################\n",
    "# N = 1000 #loops\n",
    "# a = a_shape\n",
    "# plot = True\n",
    "\n",
    "# fig = plt.figure()\n",
    "# ax = fig.add_subplot(111)\n",
    "# plt.ion()\n",
    "# fig.canvas.draw()\n",
    "\n",
    "# a_prev = a\n",
    "# Vdiff = np.zeros((N,1))\n",
    "# for kn in range(N):\n",
    "#     b = b0*p*b_shape\n",
    "#     a,b = single_pass(a,b,Da,Db,L,h)\n",
    "\n",
    "#     #Power calc\n",
    "#     Pa = scipy.integrate.simps(np.abs(a)**2,t)\n",
    "    \n",
    "#     #Check if steady state at output of section\n",
    "#     Pdiff = scipy.integrate.simps((np.abs(a_prev - a)**2),t)\n",
    "#     diff = Pdiff/Pa*100\n",
    "#     Vdiff[kn] = diff\n",
    "#     a_prev = a\n",
    "#     if diff<1e-3:\n",
    "#         break\n",
    "    \n",
    "#     if plot==True:\n",
    "#         ax.clear()\n",
    "#         ax.plot(t, abs(a), t, abs(b));\n",
    "#         ax.axes.set_ylim(0,2000)\n",
    "#         ax.text(40,1400,'N=' + str(kn))\n",
    "#         ax.text(40,1200,'Pa=' + str(round(Pa*1e-8,3)))\n",
    "#         ax.text(40,1000,'diff=' + str(round(diff,3)))\n",
    "#         fig.canvas.draw()\n",
    "#         time.sleep(0.001)\n",
    "\n",
    "        \n",
    "#     #Feedback loop\n",
    "#     a = a*fb\n",
    "    \n",
    "    "
   ]
  },
  {
   "cell_type": "code",
   "execution_count": 40,
   "metadata": {},
   "outputs": [
    {
     "data": {
      "text/plain": [
       "[<matplotlib.lines.Line2D at 0x2985816b248>]"
      ]
     },
     "execution_count": 40,
     "metadata": {},
     "output_type": "execute_result"
    },
    {
     "data": {
      "image/png": "[encoded data removed]",
      "text/plain": [
       "<Figure size 432x288 with 1 Axes>"
      ]
     },
     "metadata": {
      "needs_background": "light"
     },
     "output_type": "display_data"
    }
   ],
   "source": [
    "A = np.fft.fft(a)\n",
    "plt.figure()\n",
    "plt.plot(Omega, np.abs(A))"
   ]
  }
 ],
 "metadata": {
  "kernelspec": {
   "display_name": "Python 3",
   "language": "python",
   "name": "python3"
  },
  "language_info": {
   "codemirror_mode": {
    "name": "ipython",
    "version": 3
   },
   "file_extension": ".py",
   "mimetype": "text/x-python",
   "name": "python",
   "nbconvert_exporter": "python",
   "pygments_lexer": "ipython3",
   "version": "3.7.4"
  }
 },
 "nbformat": 4,
 "nbformat_minor": 2
}
