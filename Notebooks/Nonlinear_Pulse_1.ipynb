{
 "cells": [
  {
   "cell_type": "markdown",
   "metadata": {},
   "source": [
    "## Nonlinear pulse propagation\n",
    "\n",
    "From Hamerly's paper."
   ]
  },
  {
   "cell_type": "code",
   "execution_count": 2,
   "metadata": {},
   "outputs": [],
   "source": [
    "%matplotlib inline\n",
    "%load_ext autoreload\n",
    "%autoreload 2\n",
    "%matplotlib notebook\n",
    "\n",
    "import numpy as np\n",
    "import matplotlib.pyplot as plt\n",
    "import time\n",
    "import scipy\n",
    "\n",
    "#The following hack is for importing a module from the \"Modules\" folder\n",
    "import os\n",
    "cwd = os.getcwd()\n",
    "os.chdir('..')\n",
    "from Modules.analysis import FTX, IFTX\n",
    "os.chdir(cwd)"
   ]
  },
  {
   "cell_type": "markdown",
   "metadata": {},
   "source": [
    "## Units\n",
    "We'll work in the following units:\n",
    "\n",
    "time = ps <br>\n",
    "frequency = THz (1/time) <br>\n",
    "distance = mm"
   ]
  },
  {
   "cell_type": "code",
   "execution_count": 3,
   "metadata": {},
   "outputs": [],
   "source": [
    "from scipy.constants import pi, c\n",
    "c = c*1e-9; #mm/ps, [Freq]=THz"
   ]
  },
  {
   "cell_type": "markdown",
   "metadata": {},
   "source": [
    "## Single Pass"
   ]
  },
  {
   "cell_type": "code",
   "execution_count": 4,
   "metadata": {},
   "outputs": [],
   "source": [
    "def single_pass(a,b,Da,Db,epsilon,L,h,plot=False):\n",
    "    zi = 0\n",
    "    \n",
    "    if plot==True:\n",
    "        fig = plt.figure()\n",
    "        ax = fig.add_subplot(111)\n",
    "        plt.ion()\n",
    "        fig.canvas.draw()\n",
    "        \n",
    "    while zi<L:\n",
    "        #Linear half step (front)\n",
    "        A = np.fft.fft(a)\n",
    "        A = A*Da\n",
    "        a = np.fft.ifft(A)\n",
    "        B = np.fft.fft(b)\n",
    "        B = B*Db\n",
    "        b = np.fft.ifft(B)\n",
    "        \n",
    "        #Nonlinear step\n",
    "        #Runge-Kutta for a\n",
    "        k1 = h/2*epsilon*b*np.conj(a)\n",
    "        k2 = h/2*epsilon*b*np.conj(a+k1/2)\n",
    "        k3 = h/2*epsilon*b*np.conj(a+k2/2)\n",
    "        k4 = h/2*epsilon*b*np.conj(a+k3)\n",
    "        a = a + (1/6)*(k1+2*k2+2*k3+k4)\n",
    "\n",
    "        #Integral for b\n",
    "        b = b - 0.5*h*epsilon*a*a\n",
    "        \n",
    "        #Runge-Kutta for a\n",
    "        k1 = h/2*epsilon*b*np.conj(a)\n",
    "        k2 = h/2*epsilon*b*np.conj(a+k1/2)\n",
    "        k3 = h/2*epsilon*b*np.conj(a+k2/2)\n",
    "        k4 = h/2*epsilon*b*np.conj(a+k3)\n",
    "        a = a + (1/6)*(k1+2*k2+2*k3+k4)\n",
    "        \n",
    "        #Linear half step (back)\n",
    "        A = np.fft.fft(a)\n",
    "        A = A*Da\n",
    "        a = np.fft.ifft(A)\n",
    "        B = np.fft.fft(b)\n",
    "        B = B*Db\n",
    "        b = np.fft.ifft(B)\n",
    "        \n",
    "        #Next z\n",
    "        zi = zi+h\n",
    "\n",
    "        if plot==True and zi%2<0.1:\n",
    "            ax.clear()\n",
    "            ax.plot(t, abs(a), t, abs(b));\n",
    "            ax.axes.set_ylim(0,2000)\n",
    "            fig.canvas.draw()\n",
    "            time.sleep(0.001)\n",
    "\n",
    "    return a,b"
   ]
  },
  {
   "cell_type": "markdown",
   "metadata": {},
   "source": [
    "## OPO"
   ]
  },
  {
   "cell_type": "code",
   "execution_count": 5,
   "metadata": {},
   "outputs": [],
   "source": [
    "def opo(L=40, alpha = 0.00691,  u = 0.329, Tp = 13.2, b2a = 1.12e-4, \n",
    "        b3a = 3.09e-5, b2b = 4.06e-4, b3b = 2.51e-5, epsilon = 5.16e-5,\n",
    "       G0 = 2.5, b0 = 3.84e2, p = 1.1, phi0=0, h=0.1, plot=False):\n",
    "    \n",
    "    #Initialize signal\n",
    "    a = np.random.normal(0,1e-3,1024)\n",
    "    a_prev = a\n",
    "\n",
    "    #Linear operators\n",
    "    Da = np.exp((-alpha/2 + 1j*b2a*Omega**2/2 - 1j*b3a*Omega**3/6)*h/2)\n",
    "    Db = np.exp((-alpha/2 - 1j*u*Omega + 1j*b2b*Omega**2/2 - 1j*b3b*Omega**3/6)*h/2)\n",
    "    \n",
    "    #Feedback response\n",
    "    fb = np.sqrt(1/G0)*np.exp(1j*phi0)\n",
    "    \n",
    "    N = 5000 #Max number of loops\n",
    "\n",
    "    #Initialize convergence testing vector\n",
    "    Vdiff = np.zeros((N,1))\n",
    "    \n",
    "    if plot==True:\n",
    "        fig = plt.figure()\n",
    "        ax = fig.add_subplot(111)\n",
    "        plt.ion()\n",
    "        fig.canvas.draw()\n",
    "    \n",
    "    for kn in range(N):\n",
    "        b = b0*p*b_shape\n",
    "        a,b = single_pass(a,b,Da,Db,epsilon,L,h)\n",
    "\n",
    "        #Power calc\n",
    "        Pa = scipy.integrate.simps(np.abs(a)**2,t)\n",
    "\n",
    "        #Check if steady state at output of section\n",
    "        Pdiff = scipy.integrate.simps((np.abs(a_prev - a)**2),t)\n",
    "        diff = Pdiff/Pa*100\n",
    "        Vdiff[kn] = diff\n",
    "        a_prev = a\n",
    "        if diff<1e-3:\n",
    "            break\n",
    "            \n",
    "        #Apply feedback\n",
    "        a = a*fb\n",
    "        \n",
    "        if plot==True:\n",
    "            ax.clear()\n",
    "            ax.plot(t, abs(a), t, abs(b));\n",
    "            ax.axes.set_ylim(0,2000)\n",
    "            ax.text(40,1400,'N=' + str(kn))\n",
    "            ax.text(40,1200,'Pa=' + str(round(Pa*1e-8,3)))\n",
    "            ax.text(40,1000,'diff=' + str(round(diff,3)))\n",
    "            fig.canvas.draw()\n",
    "            time.sleep(0.001)\n",
    "        \n",
    "    return a, Pa"
   ]
  },
  {
   "cell_type": "markdown",
   "metadata": {},
   "source": [
    "# Tests"
   ]
  },
  {
   "cell_type": "markdown",
   "metadata": {},
   "source": [
    "## Input parameters"
   ]
  },
  {
   "cell_type": "code",
   "execution_count": 6,
   "metadata": {},
   "outputs": [],
   "source": [
    "#Input parameters\n",
    "la = 1.5 #um\n",
    "lb = la/2 #um\n",
    "L = 40 #mm\n",
    "alpha = 0.00691 #1/mm\n",
    "u = 0.329 #ps/mm\n",
    "Tp = 13.2 #ps\n",
    "b2a = 1.12e-4 #ps^2/mm\n",
    "b3a = 3.09e-5 #ps^3/mm\n",
    "b2b = 4.06e-4\n",
    "b3b = 2.51e-5\n",
    "epsilon = 5.16e-5 #ps^0.5/mm\n",
    "G0 = 3.33\n",
    "b0 = 3.84e2 #ps^0.5 !?\n",
    "\n",
    "p = 1.1 #normalized power\n",
    "l = 0 #detuning\n",
    "\n",
    "phi0 = pi*l"
   ]
  },
  {
   "cell_type": "markdown",
   "metadata": {},
   "source": [
    "## Time and Frequency domain windows"
   ]
  },
  {
   "cell_type": "code",
   "execution_count": 7,
   "metadata": {},
   "outputs": [
    {
     "name": "stdout",
     "output_type": "stream",
     "text": [
      "Sampling Rate = 0.10322580645161139 ps\n",
      "Freq max = 30.374737076120997 THz\n"
     ]
    }
   ],
   "source": [
    "#Simulation window setup\n",
    "N = 1024 #Fourier size\n",
    "\n",
    "#Let's base the window size on the pump duration\n",
    "xtra = 4\n",
    "t = np.linspace(-xtra*Tp, xtra*Tp, N)\n",
    "ts = t[1]-t[0] #Sampling period\n",
    "print('Sampling Rate =',ts, 'ps')\n",
    "\n",
    "#Frequency domain\n",
    "Omega = 2*pi*np.fft.fftfreq(t.size, ts) #Angular frequencies\n",
    "print('Freq max =', np.amax(Omega), 'THz')"
   ]
  },
  {
   "cell_type": "markdown",
   "metadata": {},
   "source": [
    "## Pump pulse shape"
   ]
  },
  {
   "cell_type": "code",
   "execution_count": 8,
   "metadata": {},
   "outputs": [
    {
     "data": {
      "image/png": "[encoded data removed]",
      "text/plain": [
       "<Figure size 432x288 with 1 Axes>"
      ]
     },
     "metadata": {
      "needs_background": "light"
     },
     "output_type": "display_data"
    }
   ],
   "source": [
    "t0 = -Tp\n",
    "tau = Tp/1.76\n",
    "b_shape = 1/np.cosh((t-t0)/tau)**2\n",
    "\n",
    "fig = plt.figure()\n",
    "ax = fig.add_subplot(111)\n",
    "fig.canvas.draw()\n",
    "ax.clear()\n",
    "ax.plot(t,b_shape)\n",
    "ax.grid()\n",
    "fig.canvas.draw()"
   ]
  },
  {
   "cell_type": "markdown",
   "metadata": {},
   "source": [
    "## Single Pass Test"
   ]
  },
  {
   "cell_type": "markdown",
   "metadata": {},
   "source": [
    "h = 0.1 #Distance step Size\n",
    "\n",
    "#Linear operators\n",
    "Da = np.exp((-alpha/2 + 1j*b2a*Omega**2/2 - 1j*b3a*Omega**3/6)*h/2)\n",
    "Db = np.exp((-alpha/2 - 1j*u*Omega + 1j*b2b*Omega**2/2 - 1j*b3b*Omega**3/6)*h/2)\n",
    "\n",
    "a = 500*b_shape\n",
    "# a = np.random.normal(0,1e-3,1024)\n",
    "b = b0*p*b_shape\n",
    "a,b = single_pass(a,b,Da,Db,epsilon,L,h,plot=True)"
   ]
  },
  {
   "cell_type": "markdown",
   "metadata": {},
   "source": [
    "## OPO Test"
   ]
  },
  {
   "cell_type": "markdown",
   "metadata": {
    "scrolled": true
   },
   "source": [
    "a, Pa = opo(phi0=0, p=1.5, h=0.2, plot=True)"
   ]
  },
  {
   "cell_type": "markdown",
   "metadata": {},
   "source": [
    "A = np.fft.fft(a)\n",
    "\n",
    "fig = plt.figure()\n",
    "ax = fig.add_subplot(111)\n",
    "fig.canvas.draw()\n",
    "ax.clear()\n",
    "ax.plot(Omega, np.abs(A))\n",
    "ax.grid()\n",
    "fig.canvas.draw()"
   ]
  },
  {
   "cell_type": "markdown",
   "metadata": {},
   "source": [
    "b = b0*p*b_shape\n",
    "a_new,b_new = single_pass(a,b,Da,Db,epsilon,L,h=0.1,plot=True)"
   ]
  },
  {
   "cell_type": "markdown",
   "metadata": {},
   "source": [
    "## Sweep Detuning"
   ]
  },
  {
   "cell_type": "code",
   "execution_count": 13,
   "metadata": {},
   "outputs": [
    {
     "name": "stdout",
     "output_type": "stream",
     "text": [
      "Phi0 = -0.4 done; 1.25% complete\n",
      "Phi0 = -0.39 done; 2.5% complete\n",
      "Phi0 = -0.38 done; 3.75% complete\n",
      "Phi0 = -0.37 done; 5.0% complete\n",
      "Phi0 = -0.36 done; 6.25% complete\n",
      "Phi0 = -0.35 done; 7.5% complete\n",
      "Phi0 = -0.34 done; 8.75% complete\n",
      "Phi0 = -0.33 done; 10.0% complete\n",
      "Phi0 = -0.32 done; 11.25% complete\n",
      "Phi0 = -0.31 done; 12.5% complete\n",
      "Phi0 = -0.3 done; 13.750000000000002% complete\n",
      "Phi0 = -0.29 done; 15.0% complete\n",
      "Phi0 = -0.28 done; 16.25% complete\n",
      "Phi0 = -0.27 done; 17.5% complete\n",
      "Phi0 = -0.26 done; 18.75% complete\n",
      "Phi0 = -0.25 done; 20.0% complete\n",
      "Phi0 = -0.24 done; 21.25% complete\n",
      "Phi0 = -0.23 done; 22.5% complete\n",
      "Phi0 = -0.22 done; 23.75% complete\n",
      "Phi0 = -0.21 done; 25.0% complete\n",
      "Phi0 = -0.2 done; 26.25% complete\n",
      "Phi0 = -0.19 done; 27.500000000000004% complete\n",
      "Phi0 = -0.18 done; 28.749999999999996% complete\n",
      "Phi0 = -0.17 done; 30.0% complete\n",
      "Phi0 = -0.16 done; 31.25% complete\n",
      "Phi0 = -0.15 done; 32.5% complete\n",
      "Phi0 = -0.14 done; 33.75% complete\n",
      "Phi0 = -0.13 done; 35.0% complete\n",
      "Phi0 = -0.12 done; 36.25% complete\n",
      "Phi0 = -0.11 done; 37.5% complete\n",
      "Phi0 = -0.1 done; 38.75% complete\n",
      "Phi0 = -0.09 done; 40.0% complete\n",
      "Phi0 = -0.08 done; 41.25% complete\n",
      "Phi0 = -0.07 done; 42.5% complete\n",
      "Phi0 = -0.06 done; 43.75% complete\n",
      "Phi0 = -0.05 done; 45.0% complete\n",
      "Phi0 = -0.04 done; 46.25% complete\n",
      "Phi0 = -0.03 done; 47.5% complete\n",
      "Phi0 = -0.02 done; 48.75% complete\n",
      "Phi0 = -0.01 done; 50.0% complete\n",
      "Phi0 = 0.0 done; 51.24999999999999% complete\n",
      "Phi0 = 0.01 done; 52.5% complete\n",
      "Phi0 = 0.02 done; 53.75% complete\n",
      "Phi0 = 0.03 done; 55.00000000000001% complete\n",
      "Phi0 = 0.04 done; 56.25% complete\n",
      "Phi0 = 0.05 done; 57.49999999999999% complete\n",
      "Phi0 = 0.06 done; 58.75% complete\n",
      "Phi0 = 0.07 done; 60.0% complete\n",
      "Phi0 = 0.08 done; 61.25000000000001% complete\n",
      "Phi0 = 0.09 done; 62.5% complete\n",
      "Phi0 = 0.1 done; 63.74999999999999% complete\n",
      "Phi0 = 0.11 done; 65.0% complete\n",
      "Phi0 = 0.12 done; 66.25% complete\n",
      "Phi0 = 0.13 done; 67.5% complete\n",
      "Phi0 = 0.14 done; 68.75% complete\n",
      "Phi0 = 0.15 done; 70.0% complete\n",
      "Phi0 = 0.16 done; 71.25% complete\n",
      "Phi0 = 0.17 done; 72.5% complete\n",
      "Phi0 = 0.18 done; 73.75% complete\n",
      "Phi0 = 0.19 done; 75.0% complete\n",
      "Phi0 = 0.2 done; 76.25% complete\n",
      "Phi0 = 0.21 done; 77.5% complete\n",
      "Phi0 = 0.22 done; 78.75% complete\n",
      "Phi0 = 0.23 done; 80.0% complete\n",
      "Phi0 = 0.24 done; 81.25% complete\n",
      "Phi0 = 0.25 done; 82.5% complete\n",
      "Phi0 = 0.26 done; 83.75% complete\n",
      "Phi0 = 0.27 done; 85.0% complete\n",
      "Phi0 = 0.28 done; 86.25% complete\n",
      "Phi0 = 0.29 done; 87.5% complete\n",
      "Phi0 = 0.3 done; 88.75% complete\n",
      "Phi0 = 0.31 done; 90.0% complete\n",
      "Phi0 = 0.32 done; 91.25% complete\n",
      "Phi0 = 0.33 done; 92.5% complete\n",
      "Phi0 = 0.34 done; 93.75% complete\n",
      "Phi0 = 0.35 done; 95.0% complete\n",
      "Phi0 = 0.36 done; 96.25% complete\n",
      "Phi0 = 0.37 done; 97.5% complete\n",
      "Phi0 = 0.38 done; 98.75% complete\n",
      "Phi0 = 0.39 done; 100.0% complete\n"
     ]
    }
   ],
   "source": [
    "#Sweep detuning\n",
    "phi0 = np.arange(-0.4,0.4,0.01)\n",
    "\n",
    "a_sweep = np.zeros((phi0.size,N), dtype=complex)\n",
    "\n",
    "# # \n",
    "for k in range(phi0.size):\n",
    "    a_sweep[k,:], Pa = opo(phi0=phi0[k], p=1.3, h=0.2, plot=False)\n",
    "    \n",
    "    pc = str(((k+1)/phi0.size)*100) + '% complete'\n",
    "    print('Phi0 = ' + str(round(phi0[k],5)) + ' done; ' + pc)\n",
    "    "
   ]
  },
  {
   "cell_type": "code",
   "execution_count": 14,
   "metadata": {},
   "outputs": [
    {
     "data": {
      "text/plain": [
       "<matplotlib.image.AxesImage at 0x1e523a27208>"
      ]
     },
     "execution_count": 14,
     "metadata": {},
     "output_type": "execute_result"
    },
    {
     "data": {
      "image/png": "[encoded data removed]",
      "text/plain": [
       "<Figure size 432x288 with 1 Axes>"
      ]
     },
     "metadata": {
      "needs_background": "light"
     },
     "output_type": "display_data"
    }
   ],
   "source": [
    "plt.figure()\n",
    "Spectrum = np.zeros(a_sweep.shape)\n",
    "\n",
    "for k in range(phi0.size):\n",
    "    A = np.fft.fft(a_sweep[k,:])\n",
    "    Spectrum[k,:] = np.abs(A)**2\n",
    "\n",
    "plt.imshow(np.fft.fftshift(Spectrum), extent=(-0.4,0.4,-0.4,0.4))"
   ]
  }
 ],
 "metadata": {
  "kernelspec": {
   "display_name": "Python 3",
   "language": "python",
   "name": "python3"
  },
  "language_info": {
   "codemirror_mode": {
    "name": "ipython",
    "version": 3
   },
   "file_extension": ".py",
   "mimetype": "text/x-python",
   "name": "python",
   "nbconvert_exporter": "python",
   "pygments_lexer": "ipython3",
   "version": "3.7.4"
  }
 },
 "nbformat": 4,
 "nbformat_minor": 2
}
