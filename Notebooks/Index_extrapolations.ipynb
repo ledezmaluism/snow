{
 "cells": [
  {
   "cell_type": "markdown",
   "metadata": {},
   "source": [
    "## Create a limited extrapolation for refractive index"
   ]
  },
  {
   "cell_type": "code",
   "execution_count": 1,
   "metadata": {},
   "outputs": [],
   "source": [
    "import numpy as np\n",
    "import matplotlib.pyplot as plt\n",
    "import scipy.optimize\n",
    "import materials"
   ]
  },
  {
   "cell_type": "code",
   "execution_count": 2,
   "metadata": {},
   "outputs": [],
   "source": [
    "from scipy.constants import pi, c, epsilon_0\n",
    "nm = 1e-9\n",
    "um = 1e-6\n",
    "mm = 1e-3\n",
    "ps = 1e-12\n",
    "fs = 1e-15\n",
    "GHz = 1e9\n",
    "THz = 1e12"
   ]
  },
  {
   "cell_type": "code",
   "execution_count": 46,
   "metadata": {},
   "outputs": [],
   "source": [
    "wl_start = 10*nm\n",
    "wl_stop = 10*um\n",
    "wl_step = 10*nm\n",
    "wl = np.arange(wl_start, wl_stop, wl_step)"
   ]
  },
  {
   "cell_type": "code",
   "execution_count": 76,
   "metadata": {},
   "outputs": [
    {
     "data": {
      "text/plain": [
       "(1.0, 4.0)"
      ]
     },
     "execution_count": 76,
     "metadata": {},
     "output_type": "execute_result"
    },
    {
     "data": {
      "image/png": "[encoded data removed]",
      "text/plain": [
       "<Figure size 432x288 with 1 Axes>"
      ]
     },
     "metadata": {
      "needs_background": "light"
     },
     "output_type": "display_data"
    }
   ],
   "source": [
    "wtrans1 = 350*nm\n",
    "wtrans2 = 5*um\n",
    "n_low = 1\n",
    "n_high = 3\n",
    "n_trans1 = materials.refractive_index('LT_MgO_e', wtrans1/um)\n",
    "n_trans2 = materials.refractive_index('LT_MgO_e', wtrans2/um)\n",
    "slope_trans1 = (materials.refractive_index('LT_MgO_e', wtrans1/um) - materials.refractive_index('LT_MgO_e', (wtrans1-1*nm)/um))/(1*nm)\n",
    "slope_trans2 = (materials.refractive_index('LT_MgO_e', wtrans2/um) - materials.refractive_index('LT_MgO_e', (wtrans2-1*nm)/um))/(1*nm)\n",
    "def n_func(wl):\n",
    "    if wtrans1 <= wl <= wtrans2:\n",
    "        n = materials.refractive_index('LT_MgO_e', wl/um)\n",
    "    elif wl<=wtrans1:\n",
    "        a = n_trans1\n",
    "        c = abs(slope_trans1) / (n_high - a)\n",
    "        b = n_high*c\n",
    "        x = wtrans1 - wl\n",
    "        n = (a + b*x)/(1 + c*x)\n",
    "    else:\n",
    "        a = n_trans2\n",
    "        c = slope_trans2 / (n_low - a)\n",
    "        b = n_low*c\n",
    "        x = wl - wtrans2\n",
    "        n = (a + b*x)/(1 + c*x)\n",
    "    return n\n",
    "\n",
    "nLN = np.zeros_like(wl)\n",
    "for k in range(wl.size):\n",
    "    nLN[k] = n_func(wl[k])\n",
    "    \n",
    "plt.plot(wl/um, nLN)\n",
    "plt.ylim([1,4])"
   ]
  }
 ],
 "metadata": {
  "kernelspec": {
   "display_name": "Python 3",
   "language": "python",
   "name": "python3"
  },
  "language_info": {
   "codemirror_mode": {
    "name": "ipython",
    "version": 3
   },
   "file_extension": ".py",
   "mimetype": "text/x-python",
   "name": "python",
   "nbconvert_exporter": "python",
   "pygments_lexer": "ipython3",
   "version": "3.7.6"
  }
 },
 "nbformat": 4,
 "nbformat_minor": 4
}
