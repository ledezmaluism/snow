{
 "cells": [
  {
   "cell_type": "code",
   "execution_count": null,
   "metadata": {},
   "outputs": [],
   "source": [
    "# %matplotlib inline\n",
    "# from matplotlib import animation, rc\n",
    "# # from IPython.display import HTML\n",
    "\n",
    "# # First set up the figure, the axis, and the plot element we want to animate\n",
    "# fig, ax = plt.subplots()\n",
    "\n",
    "# ax.set_xlim(( -3, 3))\n",
    "# ax.set_ylim((0, 2e8))\n",
    "# ax.set_ylabel('Pulse Amplitude $\\sqrt{W}$')\n",
    "# ax.set_xlabel('Time (ps)')\n",
    "\n",
    "# line, = ax.plot([], [], lw=2)\n",
    "\n",
    "# # initialization function: plot the background of each frame\n",
    "# def init():\n",
    "#     line.set_data([], [])\n",
    "#     return (line,)\n",
    "\n",
    "# # animation function. This is called sequentially\n",
    "# def animate(i):\n",
    "#     line.set_data(t*1e12, np.abs(a_evol[:,i]))\n",
    "#     return (line,)\n",
    "\n",
    "# # call the animator. blit=True means only re-draw the parts that have changed.\n",
    "# anim = animation.FuncAnimation(fig, animate, init_func=init,\n",
    "#                                frames=Nsteps, interval=20, blit=True)\n",
    "\n",
    "# rc('animation', html='html5')\n",
    "# anim"
   ]
  }
 ],
 "metadata": {
  "kernelspec": {
   "display_name": "Python 3",
   "language": "python",
   "name": "python3"
  },
  "language_info": {
   "codemirror_mode": {
    "name": "ipython",
    "version": 3
   },
   "file_extension": ".py",
   "mimetype": "text/x-python",
   "name": "python",
   "nbconvert_exporter": "python",
   "pygments_lexer": "ipython3",
   "version": "3.7.6"
  }
 },
 "nbformat": 4,
 "nbformat_minor": 4
}
