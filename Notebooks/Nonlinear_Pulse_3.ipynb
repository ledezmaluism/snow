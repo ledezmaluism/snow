{
 "cells": [
  {
   "cell_type": "markdown",
   "metadata": {},
   "source": [
    "## Nonlinear pulse propagation\n",
    "\n",
    "From Marc's paper."
   ]
  },
  {
   "cell_type": "code",
   "execution_count": 1,
   "metadata": {},
   "outputs": [],
   "source": [
    "# %matplotlib inline\n",
    "# %load_ext autoreload\n",
    "# %autoreload 2\n",
    "# %matplotlib notebook\n",
    "\n",
    "import numpy as np\n",
    "from numpy.fft import *\n",
    "import matplotlib.pyplot as plt\n",
    "import time\n",
    "import scipy\n",
    "from matplotlib import cm\n",
    "\n",
    "#The following hack is for importing a module from the \"Modules\" folder\n",
    "# import os\n",
    "# cwd = os.getcwd()\n",
    "# os.chdir('..')\n",
    "# from Modules.analysis import FTX, IFTX\n",
    "# os.chdir(cwd)"
   ]
  },
  {
   "cell_type": "code",
   "execution_count": 2,
   "metadata": {},
   "outputs": [],
   "source": [
    "#Change size of plots\n",
    "plt.rcParams['figure.figsize'] = [14, 5]"
   ]
  },
  {
   "cell_type": "markdown",
   "metadata": {},
   "source": [
    "## Units\n",
    "We'll work in the following units:\n",
    "\n",
    "time = fs <br>\n",
    "frequency = PHz (1/time) <br>\n",
    "distance = mm"
   ]
  },
  {
   "cell_type": "code",
   "execution_count": 3,
   "metadata": {},
   "outputs": [],
   "source": [
    "from scipy.constants import pi, c\n",
    "c = c*1e-12; #mm/fs, [Freq]=PHz"
   ]
  },
  {
   "cell_type": "markdown",
   "metadata": {},
   "source": [
    "## Single Pass"
   ]
  },
  {
   "cell_type": "code",
   "execution_count": 4,
   "metadata": {},
   "outputs": [],
   "source": [
    "def nonlinear_operator(a,b,kappa):\n",
    "    f = ifft(kappa*fft(b*np.conj(a)))\n",
    "    g = -ifft(kappa*fft(a*a))\n",
    "    return np.array([f,g])"
   ]
  },
  {
   "cell_type": "code",
   "execution_count": 5,
   "metadata": {},
   "outputs": [],
   "source": [
    "def single_pass(a,b,Da,Db,kappa,L,h):\n",
    "    \n",
    "    for x in range(int(L/h)): # inner loop for evolution inside crystal\n",
    "        a = ifft(fft(a)*Da); # signal converted to time domain\n",
    "        b = ifft(fft(b)*Db); # pump converted to time domain\n",
    "        \n",
    "        [k1, l1] = h*nonlinear_operator(a,b, kappa);\n",
    "        [k2, l2] = h*nonlinear_operator(a+k1/2,b+l1/2, kappa);\n",
    "        [k3, l3] = h*nonlinear_operator(a+k2/2,b+l2/2, kappa);\n",
    "        [k4, l4] = h*nonlinear_operator(a+k3,b+l3, kappa);\n",
    "        \n",
    "        a = a+(k1+2*k2+2*k3+k4)/6;\n",
    "        b = b+(l1+2*l2+2*l3+l4)/6; # nonlinear split step\n",
    "        \n",
    "    return a,b"
   ]
  },
  {
   "cell_type": "markdown",
   "metadata": {},
   "source": [
    "## OPO"
   ]
  },
  {
   "cell_type": "code",
   "execution_count": 6,
   "metadata": {},
   "outputs": [],
   "source": [
    "def opo(b_input, N, L, h, Da, Db, fb, kappa):\n",
    "    '''\n",
    "    Inputs:\n",
    "    b: pump pulse\n",
    "    N: number of rountrips\n",
    "    L: length of the crystal\n",
    "    h: spatial step on the crystal\n",
    "    Da: Dispersion operator of crystal at signal\n",
    "    Db: Dispersion operator of crystal at pump\n",
    "    fb: Feedback operator\n",
    "    kappa: nonlinear coupling\n",
    "    \n",
    "    Outputs:\n",
    "    a: signal pulse after N roundtrips\n",
    "    b: pump pulse after last roundtrip\n",
    "    '''\n",
    "    \n",
    "    #Initialize signal as random\n",
    "    NFFT = b.size\n",
    "    #noise = 1e-10*np.random.normal(size=NFFT)\n",
    "    noise = 1e-10*np.ones(NFFT)\n",
    "    a = noise\n",
    "    \n",
    "    evol = np.zeros([N, NFFT])\n",
    "    for kn in range(N):\n",
    "        a,b_output = single_pass(a,b_input,Da,Db,kappa,L,h)\n",
    "            \n",
    "        #Apply feedback\n",
    "        a = ifft(fb*fft(a))\n",
    "        \n",
    "        evol[kn,:] = (np.abs(a)/np.max(np.abs(a)))**2; #Round-trip evolution\n",
    "        \n",
    "        if (kn+1)%50==0:\n",
    "            print('Completed roundtrip ' + str(kn+1))\n",
    "    \n",
    "    return a, b_output, evol"
   ]
  },
  {
   "cell_type": "markdown",
   "metadata": {},
   "source": [
    "## Time and Frequency domain windows"
   ]
  },
  {
   "cell_type": "code",
   "execution_count": 7,
   "metadata": {},
   "outputs": [
    {
     "name": "stdout",
     "output_type": "stream",
     "text": [
      "Sampling Rate = 0.48828125 fs\n",
      "Freq max = 1023.5000000000001 THz\n",
      "Freq resolution = 0.5 THz\n"
     ]
    }
   ],
   "source": [
    "#Simulation window setup\n",
    "NFFT = 2**12 #Fourier size\n",
    "\n",
    "Tmax = 1000 #(fs) window will go from -Tmax to Tmax)\n",
    "t = np.linspace(-Tmax, Tmax, NFFT, endpoint=False)\n",
    "ts = t[1]-t[0] #Sampling period\n",
    "print('Sampling Rate =', ts, 'fs')\n",
    "# window = np.hamming(N)\n",
    "\n",
    "#Frequency domain\n",
    "Omega = 2*pi*fftfreq(t.size, ts) #Angular frequencies\n",
    "print('Freq max =', np.amax(Omega)*1e3/(2*pi), 'THz')\n",
    "print('Freq resolution =', Omega[1]*1e3/(2*pi), 'THz')"
   ]
  },
  {
   "cell_type": "markdown",
   "metadata": {},
   "source": [
    "## Input parameters"
   ]
  },
  {
   "cell_type": "code",
   "execution_count": 8,
   "metadata": {
    "scrolled": false
   },
   "outputs": [],
   "source": [
    "#Input parameters\n",
    "\n",
    "#OPO parameters\n",
    "wla = 2.090e-3 #signal wavelength (mm)\n",
    "wlb = wla/2 #pump wavelength (mm)\n",
    "wa = 2*pi*c/wla #\n",
    "Co_loss = 1-0.65  #Output coupler loss\n",
    "dT = 4 #Detuning in fs\n",
    "l = c*dT/wlb #Detuning parameter l\n",
    "pump_pwr = 0.5 #Average pump power (W)\n",
    "Tp = 70 #Input pulse width (fs)\n",
    "Ws = 14e-3 #Beam waist of signal (mm)\n",
    "Nrt = 200 #Round trips\n",
    "\n",
    "#Cavity dispersion parameters\n",
    "phi2 = 25*2\n",
    "phi3 = 76\n",
    "phi4 = -13020\n",
    "# phi5 = 983328\n",
    "phi5 = 0\n",
    "\n",
    "#Crystal parameters\n",
    "L = 1 #mm\n",
    "h = L/50 #Distance step Size\n",
    "\n",
    "alpha_a = 0.00691 #loss for signal in crystal (1/mm)\n",
    "alpha_b = 0.00691 #loss for pump in crystal (1/mm)\n",
    "\n",
    "u = 112.778 #Group velocity mismatch (fs/mm)\n",
    "b2a = -53.64 #second order GVD signal (fs^2/mm)\n",
    "b3a = 756.14 #third order GVD signal (fs^3/mm)\n",
    "b4a = -2924.19 #fourth order GVD signal (fs^4/mm)\n",
    "b2b = 240.92 #second order GVD pump (fs^2/mm)\n",
    "b3b = 211.285 #second order GVD pump (fs^3/mm)\n",
    "b4b = -18.3758 #second order GVD pump (fs^4/mm)\n",
    "deff = 2/pi*16e-9 #effective nonlinear coefficient (mm/V)\n",
    "na = 2.2333# refractive index at signal\n",
    "nb = 2.1935# refractive index at pump\n",
    "\n",
    "kappa = np.sqrt(2*377)*deff*(Omega+wa)/(Ws*na*c*np.sqrt(pi*nb)) #Nonlinear coupling\n",
    "kappa = np.clip(kappa, a_min=0, a_max=None)\n",
    "# kappa = 0.01*np.ones_like(Omega)\n",
    "\n",
    "#Linear operators\n",
    "Da = alpha_a/2 - 1j*b2a*Omega**2/2 - 1j*b3a*Omega**3/6 - 1j*b4a*Omega**4/24\n",
    "Db = alpha_b/2 - 1j*u*Omega - 1j*b2b*Omega**2/2 - 1j*b3b*Omega**3/6 - 1j*b4b*Omega**4/24\n",
    "Da = np.exp(-h*Da)\n",
    "Db = np.exp(-h*Db)\n",
    "\n",
    "#Feedback loop\n",
    "deltaphi = (phi2/2)*Omega**2 + (phi3/6)*Omega**3 + (phi4/24)*Omega**4 #+ (phi5/120)*Omega**5\n",
    "phi = pi*l + dT*Omega + deltaphi\n",
    "fb = np.sqrt(Co_loss)*np.exp(1j*phi)"
   ]
  },
  {
   "cell_type": "code",
   "execution_count": 9,
   "metadata": {},
   "outputs": [
    {
     "data": {
      "text/plain": [
       "0.9012686924922744"
      ]
     },
     "execution_count": 9,
     "metadata": {},
     "output_type": "execute_result"
    }
   ],
   "source": [
    "Omega[0]+wa"
   ]
  },
  {
   "cell_type": "code",
   "execution_count": 10,
   "metadata": {},
   "outputs": [
    {
     "data": {
      "text/plain": [
       "(0.5865275841672734+0.809843937163255j)"
      ]
     },
     "execution_count": 10,
     "metadata": {},
     "output_type": "execute_result"
    }
   ],
   "source": [
    "Db[1000]"
   ]
  },
  {
   "cell_type": "markdown",
   "metadata": {},
   "source": [
    "## Pump pulse shape"
   ]
  },
  {
   "cell_type": "code",
   "execution_count": 11,
   "metadata": {},
   "outputs": [],
   "source": [
    "tau = Tp/1.76\n",
    "b = np.sqrt(0.88*4e6/Tp*pump_pwr)/np.cosh(t/tau)\n",
    "B = fft(b,NFFT)"
   ]
  },
  {
   "cell_type": "markdown",
   "metadata": {},
   "source": [
    "## Debugging"
   ]
  },
  {
   "cell_type": "code",
   "execution_count": 12,
   "metadata": {},
   "outputs": [],
   "source": [
    "# noise = 1e-10*np.ones(NFFT)\n",
    "# a = noise\n",
    "# tau = Tp/1.76\n",
    "# b = np.sqrt(0.88*4e6/Tp*pump_pwr)/np.cosh(t/tau)\n",
    "\n",
    "# a,b = single_pass(a,b,Da,Db,kappa,L,h)"
   ]
  },
  {
   "cell_type": "markdown",
   "metadata": {},
   "source": [
    "## OPO Test"
   ]
  },
  {
   "cell_type": "code",
   "execution_count": 13,
   "metadata": {},
   "outputs": [
    {
     "ename": "NameError",
     "evalue": "name 'b' is not defined",
     "output_type": "error",
     "traceback": [
      "\u001b[1;31m---------------------------------------------------------------------------\u001b[0m",
      "\u001b[1;31mNameError\u001b[0m                                 Traceback (most recent call last)",
      "\u001b[1;32m<ipython-input-13-4d2f1f51b685>\u001b[0m in \u001b[0;36m<module>\u001b[1;34m\u001b[0m\n\u001b[0;32m      1\u001b[0m \u001b[0mtic\u001b[0m \u001b[1;33m=\u001b[0m \u001b[0mtime\u001b[0m\u001b[1;33m.\u001b[0m\u001b[0mtime\u001b[0m\u001b[1;33m(\u001b[0m\u001b[1;33m)\u001b[0m\u001b[1;33m;\u001b[0m\u001b[1;33m\u001b[0m\u001b[1;33m\u001b[0m\u001b[0m\n\u001b[1;32m----> 2\u001b[1;33m \u001b[0ma_out\u001b[0m\u001b[1;33m,\u001b[0m \u001b[0mb_out\u001b[0m\u001b[1;33m,\u001b[0m \u001b[0mevol\u001b[0m \u001b[1;33m=\u001b[0m \u001b[0mopo\u001b[0m\u001b[1;33m(\u001b[0m\u001b[0mb\u001b[0m\u001b[1;33m,\u001b[0m \u001b[0mNrt\u001b[0m\u001b[1;33m,\u001b[0m \u001b[0mL\u001b[0m\u001b[1;33m,\u001b[0m \u001b[0mh\u001b[0m\u001b[1;33m,\u001b[0m \u001b[0mDa\u001b[0m\u001b[1;33m,\u001b[0m \u001b[0mDb\u001b[0m\u001b[1;33m,\u001b[0m \u001b[0mfb\u001b[0m\u001b[1;33m,\u001b[0m \u001b[0mkappa\u001b[0m\u001b[1;33m)\u001b[0m\u001b[1;33m;\u001b[0m\u001b[1;33m\u001b[0m\u001b[1;33m\u001b[0m\u001b[0m\n\u001b[0m\u001b[0;32m      3\u001b[0m \u001b[0melapsed\u001b[0m \u001b[1;33m=\u001b[0m \u001b[0mtime\u001b[0m\u001b[1;33m.\u001b[0m\u001b[0mtime\u001b[0m\u001b[1;33m(\u001b[0m\u001b[1;33m)\u001b[0m \u001b[1;33m-\u001b[0m \u001b[0mtic\u001b[0m\u001b[1;33m;\u001b[0m\u001b[1;33m\u001b[0m\u001b[1;33m\u001b[0m\u001b[0m\n\u001b[0;32m      4\u001b[0m \u001b[0mprint\u001b[0m\u001b[1;33m(\u001b[0m\u001b[1;34m'Time elapsed = '\u001b[0m \u001b[1;33m+\u001b[0m \u001b[0mstr\u001b[0m\u001b[1;33m(\u001b[0m\u001b[0mround\u001b[0m\u001b[1;33m(\u001b[0m\u001b[0melapsed\u001b[0m\u001b[1;33m,\u001b[0m\u001b[1;36m5\u001b[0m\u001b[1;33m)\u001b[0m\u001b[1;33m)\u001b[0m \u001b[1;33m+\u001b[0m \u001b[1;34m' seconds'\u001b[0m\u001b[1;33m)\u001b[0m\u001b[1;33m\u001b[0m\u001b[1;33m\u001b[0m\u001b[0m\n",
      "\u001b[1;31mNameError\u001b[0m: name 'b' is not defined"
     ]
    }
   ],
   "source": [
    "tic = time.time();\n",
    "a_out, b_out, evol = opo(b, Nrt, L, h, Da, Db, fb, kappa);\n",
    "elapsed = time.time() - tic;\n",
    "print('Time elapsed = ' + str(round(elapsed,5)) + ' seconds')"
   ]
  },
  {
   "cell_type": "code",
   "execution_count": null,
   "metadata": {
    "scrolled": false
   },
   "outputs": [],
   "source": [
    "B = fftshift(fft(b_out))\n",
    "fig = plt.figure()\n",
    "ax1 = fig.add_subplot(121)\n",
    "ax2 = fig.add_subplot(122)\n",
    "ax1.plot(t,np.abs(b_out)**2);\n",
    "ax2.plot(fftshift(Omega), 20*np.log10(abs(B)/np.amax(abs(B))))\n",
    "ax2.set_xlim(-1,1);\n",
    "ax1.set_title('b vs time');\n",
    "ax2.set_title('B vs freq');\n",
    "\n",
    "A = fftshift(fft(a_out))\n",
    "fig = plt.figure()\n",
    "ax1 = fig.add_subplot(121)\n",
    "ax2 = fig.add_subplot(122)\n",
    "ax1.plot(t,np.abs(a_out)**2);\n",
    "ax2.plot(fftshift(Omega), 20*np.log10(abs(A)/np.amax(abs(A))))\n",
    "#ax2.set_xlim(-1,1);\n",
    "ax1.set_title('a vs time');\n",
    "ax2.set_title('A vs freq');\n",
    "\n",
    "f = c/wla + fftshift(Omega)/2/pi\n",
    "wl = c/f\n",
    "fig = plt.figure()\n",
    "ax1 = fig.add_subplot(121)\n",
    "ax2 = fig.add_subplot(122)\n",
    "ax1.plot(wl*1e3, 20*np.log10(abs(B)/np.amax(abs(B))))\n",
    "ax1.set_xlim([1,2])\n",
    "ax1.set_ylim([-30,0])\n",
    "\n",
    "ax2.plot(wl*1e3, 20*np.log10(abs(A)/np.amax(abs(A))))\n",
    "ax2.set_xlim([1.5,3])\n",
    "ax2.set_ylim([-30,0])"
   ]
  },
  {
   "cell_type": "code",
   "execution_count": null,
   "metadata": {},
   "outputs": [],
   "source": [
    "np.amin(Omega) + wa"
   ]
  },
  {
   "cell_type": "code",
   "execution_count": null,
   "metadata": {},
   "outputs": [],
   "source": [
    "#plt.imshow(np.transpose(evol))\n",
    "X,Y = np.meshgrid(np.arange(1,Nrt+1), t)\n",
    "# Y.shape\n",
    "plt.contourf(X, Y, np.transpose(evol), 100)\n",
    "plt.ylim([-200,200])\n",
    "plt.xlim([0,100])"
   ]
  },
  {
   "cell_type": "code",
   "execution_count": null,
   "metadata": {},
   "outputs": [],
   "source": [
    "plt.contourf(X, Y, np.transpose(evol), 100)\n",
    "plt.ylim([-200,200])"
   ]
  },
  {
   "cell_type": "markdown",
   "metadata": {},
   "source": [
    "## Sweep Detuning"
   ]
  }
 ],
 "metadata": {
  "kernelspec": {
   "display_name": "Python 3",
   "language": "python",
   "name": "python3"
  },
  "language_info": {
   "codemirror_mode": {
    "name": "ipython",
    "version": 3
   },
   "file_extension": ".py",
   "mimetype": "text/x-python",
   "name": "python",
   "nbconvert_exporter": "python",
   "pygments_lexer": "ipython3",
   "version": "3.7.4"
  }
 },
 "nbformat": 4,
 "nbformat_minor": 2
}
