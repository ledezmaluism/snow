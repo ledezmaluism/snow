{
 "cells": [
  {
   "cell_type": "markdown",
   "metadata": {},
   "source": [
    "## Sellmeier's equation:\n",
    "\n",
    "It is usual to model the dispersion of transparent optical materials with Sellmeier's equation:\n",
    "\n",
    "$$\n",
    "n^2(\\lambda) = 1 + \\sum_{k=1}^{m}{\\frac{A_k \\lambda^2}{\\lambda^2 - B_k}},\n",
    "$$\n",
    "\n",
    "where we are modeling $m$ independent resonances. Writing this equation in terms of $\\omega$ we get:\n",
    "\n",
    "$$\n",
    "n^2(\\omega) = 1 + \\sum_{k=1}^{m}{\\frac{\\omega_k^2}{\\omega_k^2 - \\omega^2} \\chi_k^{(1)}},\n",
    "$$\n",
    "\n",
    "with:\n",
    "\n",
    "$$\n",
    "\\chi_k^{(1)} = A_k \\\\\n",
    "\\omega_k = \\frac{2\\pi c}{\\sqrt {B_k}}.\n",
    "$$\n",
    "\n",
    "Each one of these equations is a solution of Lorentz Equation:\n",
    "\n",
    "$$\n",
    "\\frac{d^2P(t)}{dt^2} + \\omega_k^2 P(t) = \\epsilon_0 \\omega_k^2 \\, \\chi_k^{(1)} E(t).\n",
    "$$\n",
    "\n",
    "In this notebook we display the refractive index of the main materials we are interested in using published models based on the Sellmeier equation."
   ]
  },
  {
   "cell_type": "code",
   "execution_count": 1,
   "metadata": {},
   "outputs": [],
   "source": [
    "import numpy as np\n",
    "import matplotlib.pyplot as plt\n",
    "import time\n",
    "\n",
    "from scipy.constants import c,pi,mu_0,epsilon_0\n",
    "\n",
    "import os\n",
    "cwd = os.getcwd()\n",
    "os.chdir('..')\n",
    "from Modules.materials import *\n",
    "os.chdir(cwd)"
   ]
  },
  {
   "cell_type": "code",
   "execution_count": 5,
   "metadata": {},
   "outputs": [
    {
     "data": {
      "text/plain": [
       "<module 'numpy' from 'C:\\\\Users\\\\ledezma\\\\AppData\\\\Local\\\\Continuum\\\\anaconda3\\\\lib\\\\site-packages\\\\numpy\\\\__init__.py'>"
      ]
     },
     "execution_count": 5,
     "metadata": {},
     "output_type": "execute_result"
    }
   ],
   "source": [
    "np"
   ]
  },
  {
   "cell_type": "code",
   "execution_count": 2,
   "metadata": {},
   "outputs": [],
   "source": [
    "# '''\n",
    "# This blocks defines the main function and materials used throughout.\n",
    "# '''\n",
    "\n",
    "# def sellmeier(A, B, wl):\n",
    "#     '''\n",
    "#     Parameters\n",
    "#     ----------\n",
    "#     A : ARRAY\n",
    "#         Ak coefficients\n",
    "#     B : ARRAY\n",
    "#         Bk coefficients\n",
    "#     wl : SCALAR\n",
    "#         Wavelegnth.\n",
    "\n",
    "#     Returns\n",
    "#     -------\n",
    "#     Refractive index from Sellmeiers expansion\n",
    "\n",
    "#     '''\n",
    "#     n2 = 1\n",
    "\n",
    "#     for k in range(A.size):\n",
    "#         n2 += A[k]*wl**2/(wl**2 - B[k])\n",
    "\n",
    "#     return np.sqrt(n2)\n",
    "\n",
    "# def refractive_index(material, wl):\n",
    "#     '''\n",
    "#     Parameters\n",
    "#     ----------\n",
    "#     material : STRING\n",
    "#         'SiO2', 'Sapphire', 'LN_MgO_o', 'LN_MgO_e', 'LN_o', 'LN_e'\n",
    "#     wl : SCALAR\n",
    "#         Wavelength\n",
    "\n",
    "#     Returns\n",
    "#     -------\n",
    "#     Refractive index at given wavelength\n",
    "\n",
    "#     '''\n",
    "#     A = 0\n",
    "#     B = 0\n",
    "#     if material=='SiO2':\n",
    "#         A = np.array([0.6961663, 0.4079426, 0.8974794])\n",
    "#         B = np.array([0.0684043, 0.1162414, 9.896161])\n",
    "#         B = B**2\n",
    "#     elif material=='Sapphire':\n",
    "#         A = np.array([1.5039759, 0.55069141, 6.5927379])\n",
    "#         B = np.array([0.0740288, 0.1216529, 20.072248])\n",
    "#         B = B**2\n",
    "#     elif material=='LN_MgO_e':\n",
    "#         A = np.array([2.2454, 1.3005, 6.8972])\n",
    "#         B = np.array([0.01242, 0.05313, 331.33])\n",
    "#     elif material=='LN_MgO_o':\n",
    "#         A = np.array([2.4272, 1.4617, 9.6536])\n",
    "#         B = np.array([0.01478, 0.05612, 371.216])\n",
    "#     elif material=='LN_o':\n",
    "#         A = np.array([2.6734, 1.2290, 12.614])\n",
    "#         B = np.array([0.01764, 0.05914, 474.6])\n",
    "#     elif material=='LN_e':\n",
    "#         A = np.array([2.9804, 0.5981, 8.9543])\n",
    "#         B = np.array([0.02047, 0.0666, 416.08])\n",
    "#     else:\n",
    "#         print('wrong material')\n",
    "\n",
    "#     return sellmeier(A, B, wl)"
   ]
  },
  {
   "cell_type": "code",
   "execution_count": 6,
   "metadata": {},
   "outputs": [
    {
     "data": {
      "text/plain": [
       "<module 'numpy' from 'C:\\\\Users\\\\ledezma\\\\AppData\\\\Local\\\\Continuum\\\\anaconda3\\\\lib\\\\site-packages\\\\numpy\\\\__init__.py'>"
      ]
     },
     "execution_count": 6,
     "metadata": {},
     "output_type": "execute_result"
    }
   ],
   "source": [
    "np"
   ]
  },
  {
   "cell_type": "markdown",
   "metadata": {},
   "source": [
    "## Wavelength Range"
   ]
  },
  {
   "cell_type": "code",
   "execution_count": 3,
   "metadata": {},
   "outputs": [],
   "source": [
    "#Wavelength range\n",
    "wl_start = 0.5\n",
    "wl_stop = 5.0\n",
    "wl_step = 0.1\n",
    "wl = np.arange(wl_start, wl_stop+wl_step, wl_step)"
   ]
  },
  {
   "cell_type": "markdown",
   "metadata": {},
   "source": [
    "## Congruently grown LN with 5-mol% MgO"
   ]
  },
  {
   "cell_type": "code",
   "execution_count": 4,
   "metadata": {},
   "outputs": [
    {
     "ename": "NameError",
     "evalue": "name 'np' is not defined",
     "output_type": "error",
     "traceback": [
      "\u001b[1;31m---------------------------------------------------------------------------\u001b[0m",
      "\u001b[1;31mNameError\u001b[0m                                 Traceback (most recent call last)",
      "\u001b[1;32m<ipython-input-4-cbb9d826ca34>\u001b[0m in \u001b[0;36m<module>\u001b[1;34m\u001b[0m\n\u001b[1;32m----> 1\u001b[1;33m \u001b[0mno_LN_doped\u001b[0m \u001b[1;33m=\u001b[0m \u001b[0mrefractive_index\u001b[0m\u001b[1;33m(\u001b[0m\u001b[1;34m'LN_MgO_o'\u001b[0m\u001b[1;33m,\u001b[0m \u001b[0mwl\u001b[0m\u001b[1;33m)\u001b[0m\u001b[1;33m\u001b[0m\u001b[1;33m\u001b[0m\u001b[0m\n\u001b[0m\u001b[0;32m      2\u001b[0m \u001b[0mne_LN_doped\u001b[0m \u001b[1;33m=\u001b[0m \u001b[0mrefractive_index\u001b[0m\u001b[1;33m(\u001b[0m\u001b[1;34m'LN_MgO_e'\u001b[0m\u001b[1;33m,\u001b[0m \u001b[0mwl\u001b[0m\u001b[1;33m)\u001b[0m\u001b[1;33m\u001b[0m\u001b[1;33m\u001b[0m\u001b[0m\n\u001b[0;32m      3\u001b[0m \u001b[1;33m\u001b[0m\u001b[0m\n\u001b[0;32m      4\u001b[0m \u001b[0mplt\u001b[0m\u001b[1;33m.\u001b[0m\u001b[0mplot\u001b[0m\u001b[1;33m(\u001b[0m\u001b[0mwl\u001b[0m\u001b[1;33m,\u001b[0m \u001b[0mno_LN_doped\u001b[0m\u001b[1;33m,\u001b[0m \u001b[1;34m'r'\u001b[0m\u001b[1;33m)\u001b[0m\u001b[1;33m\u001b[0m\u001b[1;33m\u001b[0m\u001b[0m\n\u001b[0;32m      5\u001b[0m \u001b[0mplt\u001b[0m\u001b[1;33m.\u001b[0m\u001b[0mplot\u001b[0m\u001b[1;33m(\u001b[0m\u001b[0mwl\u001b[0m\u001b[1;33m,\u001b[0m \u001b[0mne_LN_doped\u001b[0m\u001b[1;33m,\u001b[0m \u001b[1;34m'b'\u001b[0m\u001b[1;33m)\u001b[0m\u001b[1;33m\u001b[0m\u001b[1;33m\u001b[0m\u001b[0m\n",
      "\u001b[1;32m~\\Documents\\GitHub\\Photonics_python_Luis\\Modules\\materials.py\u001b[0m in \u001b[0;36mrefractive_index\u001b[1;34m(material, wl)\u001b[0m\n\u001b[0;32m     54\u001b[0m         \u001b[0mB\u001b[0m \u001b[1;33m=\u001b[0m \u001b[0mnp\u001b[0m\u001b[1;33m.\u001b[0m\u001b[0marray\u001b[0m\u001b[1;33m(\u001b[0m\u001b[1;33m[\u001b[0m\u001b[1;36m0.01242\u001b[0m\u001b[1;33m,\u001b[0m \u001b[1;36m0.05313\u001b[0m\u001b[1;33m,\u001b[0m \u001b[1;36m331.33\u001b[0m\u001b[1;33m]\u001b[0m\u001b[1;33m)\u001b[0m\u001b[1;33m\u001b[0m\u001b[1;33m\u001b[0m\u001b[0m\n\u001b[0;32m     55\u001b[0m     \u001b[1;32melif\u001b[0m \u001b[0mmaterial\u001b[0m\u001b[1;33m==\u001b[0m\u001b[1;34m'LN_MgO_o'\u001b[0m\u001b[1;33m:\u001b[0m\u001b[1;33m\u001b[0m\u001b[1;33m\u001b[0m\u001b[0m\n\u001b[1;32m---> 56\u001b[1;33m         \u001b[0mA\u001b[0m \u001b[1;33m=\u001b[0m \u001b[0mnp\u001b[0m\u001b[1;33m.\u001b[0m\u001b[0marray\u001b[0m\u001b[1;33m(\u001b[0m\u001b[1;33m[\u001b[0m\u001b[1;36m2.4272\u001b[0m\u001b[1;33m,\u001b[0m \u001b[1;36m1.4617\u001b[0m\u001b[1;33m,\u001b[0m \u001b[1;36m9.6536\u001b[0m\u001b[1;33m]\u001b[0m\u001b[1;33m)\u001b[0m\u001b[1;33m\u001b[0m\u001b[1;33m\u001b[0m\u001b[0m\n\u001b[0m\u001b[0;32m     57\u001b[0m         \u001b[0mB\u001b[0m \u001b[1;33m=\u001b[0m \u001b[0mnp\u001b[0m\u001b[1;33m.\u001b[0m\u001b[0marray\u001b[0m\u001b[1;33m(\u001b[0m\u001b[1;33m[\u001b[0m\u001b[1;36m0.01478\u001b[0m\u001b[1;33m,\u001b[0m \u001b[1;36m0.05612\u001b[0m\u001b[1;33m,\u001b[0m \u001b[1;36m371.216\u001b[0m\u001b[1;33m]\u001b[0m\u001b[1;33m)\u001b[0m\u001b[1;33m\u001b[0m\u001b[1;33m\u001b[0m\u001b[0m\n\u001b[0;32m     58\u001b[0m     \u001b[1;32melif\u001b[0m \u001b[0mmaterial\u001b[0m\u001b[1;33m==\u001b[0m\u001b[1;34m'LN_o'\u001b[0m\u001b[1;33m:\u001b[0m\u001b[1;33m\u001b[0m\u001b[1;33m\u001b[0m\u001b[0m\n",
      "\u001b[1;31mNameError\u001b[0m: name 'np' is not defined"
     ]
    }
   ],
   "source": [
    "no_LN_doped = refractive_index('LN_MgO_o', wl)\n",
    "ne_LN_doped = refractive_index('LN_MgO_e', wl)\n",
    "\n",
    "plt.plot(wl, no_LN_doped, 'r')\n",
    "plt.plot(wl, ne_LN_doped, 'b')\n",
    "plt.legend(['no','ne'])\n",
    "plt.axis([0, wl_stop, 2, 2.4])\n",
    "plt.xlabel('$\\mathrm{\\lambda (\\mu m)}$')\n",
    "plt.ylabel('$\\mathrm{n}$')\n",
    "plt.grid()\n",
    "plt.title('Congruently grown $\\mathrm{LiNbO_3}$ doped with 5-mol% MgO')"
   ]
  },
  {
   "cell_type": "markdown",
   "metadata": {},
   "source": []
  },
  {
   "cell_type": "markdown",
   "metadata": {},
   "source": [
    "## Congruently grown LN (undoped)"
   ]
  },
  {
   "cell_type": "code",
   "execution_count": null,
   "metadata": {},
   "outputs": [],
   "source": [
    "no_LN_undoped = refractive_index('LN_o', wl)\n",
    "ne_LN_undoped = refractive_index('LN_e', wl)\n",
    "\n",
    "plt.plot(wl, no_LN_undoped, 'r')\n",
    "plt.plot(wl, ne_LN_undoped, 'b')\n",
    "plt.legend(['no','ne'])\n",
    "plt.axis([0, wl_stop, 2, 2.4])\n",
    "plt.xlabel('$\\mathrm{\\lambda (\\mu m)}$')\n",
    "plt.ylabel('$\\mathrm{n}$')\n",
    "plt.grid()\n",
    "plt.title('Congruently grown $\\mathrm{LiNbO_3}$ (undoped)')"
   ]
  },
  {
   "cell_type": "markdown",
   "metadata": {},
   "source": [
    "## Sapphire ($\\mathrm{Al}_2\\mathrm{O}_3$)\n",
    "\n",
    "Note: Sapphire is slightly annisotropic. I'll add the extraordinary index soon."
   ]
  },
  {
   "cell_type": "code",
   "execution_count": null,
   "metadata": {},
   "outputs": [],
   "source": [
    "no_Sa = refractive_index('Sapphire', wl)\n",
    "\n",
    "plt.plot(wl, no_Sa, 'g')\n",
    "#plt.plot(wl, ne_Sa, 'b')\n",
    "plt.legend(['no'])\n",
    "plt.axis([0, 5, 1.5, 1.9])\n",
    "plt.xlabel('$\\mathrm{\\lambda (\\mu m)}$')\n",
    "plt.ylabel('$\\mathrm{n}$')\n",
    "plt.grid()\n",
    "plt.title('Sapphire ($\\mathrm{Al_2O_3}$)')"
   ]
  },
  {
   "cell_type": "markdown",
   "metadata": {},
   "source": [
    "## All materials"
   ]
  },
  {
   "cell_type": "code",
   "execution_count": null,
   "metadata": {},
   "outputs": [],
   "source": [
    "plt.plot(wl, no_LN_doped, 'r')\n",
    "plt.plot(wl, ne_LN_doped, 'b')\n",
    "plt.plot(wl, no_LN_undoped, 'r')\n",
    "plt.plot(wl, ne_LN_undoped, 'b')\n",
    "plt.plot(wl, no_Sa, 'g')\n",
    "\n",
    "plt.axis([0, wl_stop, 1.6, 2.4])\n",
    "plt.xlabel('$\\mathrm{\\lambda (\\mu m)}$')\n",
    "plt.ylabel('$\\mathrm{n}$')\n",
    "plt.grid()\n",
    "plt.title('Congruently grown $\\mathrm{LiNbO_3}$ doped with 5-mol% MgO')"
   ]
  },
  {
   "cell_type": "markdown",
   "metadata": {},
   "source": [
    "## References:\n",
    "[1]D. E. Zelmon, D. L. Small, and D. Jundt, “Infrared corrected Sellmeier coefficients for congruently grown lithium niobate and 5 mol% magnesium oxide –doped lithium niobate,” J. Opt. Soc. Am. B, vol. 14, no. 12, p. 3319, Dec. 1997.\n",
    "\n",
    "[2]I. H. Malitson, “Refraction and Dispersion of Synthetic Sapphire,” J. Opt. Soc. Am., JOSA, vol. 52, no. 12, pp. 1377–1379, Dec. 1962.\n"
   ]
  }
 ],
 "metadata": {
  "kernelspec": {
   "display_name": "Python 3",
   "language": "python",
   "name": "python3"
  },
  "language_info": {
   "codemirror_mode": {
    "name": "ipython",
    "version": 3
   },
   "file_extension": ".py",
   "mimetype": "text/x-python",
   "name": "python",
   "nbconvert_exporter": "python",
   "pygments_lexer": "ipython3",
   "version": "3.7.3"
  }
 },
 "nbformat": 4,
 "nbformat_minor": 2
}
