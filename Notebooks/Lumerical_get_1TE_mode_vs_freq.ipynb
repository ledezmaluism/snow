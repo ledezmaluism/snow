{
 "cells": [
  {
   "cell_type": "markdown",
   "metadata": {},
   "source": [
    "Get fields from Lumerical and save in file for later\n",
    "\n",
    "NOTE: On this file I look for the first TE mode. That's a bad idea because of mode crossing!"
   ]
  },
  {
   "cell_type": "code",
   "execution_count": 1,
   "metadata": {},
   "outputs": [],
   "source": [
    "import lumerical as lum\n",
    "import numpy as  np\n",
    "import matplotlib.pyplot as plt\n",
    "import matplotlib.cm as cm\n",
    "import imp\n",
    "import time\n",
    "import matplotlib.patches as patches\n",
    "\n",
    "from scipy.constants import pi, c\n",
    "\n",
    "lumapi = imp.load_source(\"lumapi\", \"C:/Program Files/Lumerical/2020a/api/python/lumapi.py\")\n",
    "MODE = lumapi.MODE(\"Template_Luis.lms\")"
   ]
  },
  {
   "cell_type": "markdown",
   "metadata": {},
   "source": [
    "Units"
   ]
  },
  {
   "cell_type": "code",
   "execution_count": 2,
   "metadata": {},
   "outputs": [],
   "source": [
    "um = 1e-6\n",
    "nm = 1e-9\n",
    "THz = 1e12"
   ]
  },
  {
   "cell_type": "markdown",
   "metadata": {},
   "source": [
    "Materials"
   ]
  },
  {
   "cell_type": "code",
   "execution_count": 3,
   "metadata": {},
   "outputs": [],
   "source": [
    "material_substrate = \"SiO2_analytic\"\n",
    "material_thinfilm = \"LN_analytic_MgO_doped_xne\""
   ]
  },
  {
   "cell_type": "markdown",
   "metadata": {},
   "source": [
    "Main waveguide parameters"
   ]
  },
  {
   "cell_type": "code",
   "execution_count": 12,
   "metadata": {},
   "outputs": [
    {
     "name": "stdout",
     "output_type": "stream",
     "text": [
      "slab = 0.200 um\n",
      "width at the base = 1.577 um\n"
     ]
    },
    {
     "data": {
      "image/png": "[encoded data removed]",
      "text/plain": [
       "<Figure size 432x288 with 1 Axes>"
      ]
     },
     "metadata": {
      "needs_background": "light"
     },
     "output_type": "display_data"
    }
   ],
   "source": [
    "h_LN = 700*nm\n",
    "h_etch = 500*nm\n",
    "width_top = 1.0*um\n",
    "h_slab = h_LN - h_etch\n",
    "\n",
    "w_slab = 20*um\n",
    "h_margin = 5*um\n",
    "h_substrate = 5*um\n",
    "meshsize = 50*nm\n",
    "finemesh = 10*nm\n",
    "\n",
    "theta = 60\n",
    "wg_length = 10*um #Useless in MODE\n",
    "width_top_base = width_top + 2*h_etch/np.tan(theta*pi/180)\n",
    "w_sidewall = h_etch/np.tan(theta*pi/180)\n",
    "\n",
    "print('slab = %.3f um' %(h_slab/um))\n",
    "print('width at the base = %.3f um' %(width_top_base/um))\n",
    "\n",
    "#Draw it\n",
    "fig,ax = plt.subplots()\n",
    "substrate = patches.Rectangle((-w_slab/2/um,-h_substrate/um), w_slab/um, h_substrate/um,\n",
    "                             linewidth=1, edgecolor='r', facecolor='r', alpha=0.5)\n",
    "v_ridge = np.array([[-width_top/2-w_sidewall,h_slab], [-width_top/2,h_LN],\n",
    "                   [width_top/2,h_LN], [width_top/2+w_sidewall,h_slab],\n",
    "                   [w_slab/2,h_slab], [w_slab/2,0], \n",
    "                   [-w_slab/2,0], [-w_slab/2, h_slab] ] )/um\n",
    "ridge = patches.Polygon(v_ridge, linewidth=1, \n",
    "                       edgecolor='k', facecolor='blue', alpha=0.7)\n",
    "\n",
    "ax.add_patch(substrate)\n",
    "ax.add_patch(ridge)\n",
    "\n",
    "plt.axis('equal')\n",
    "plt.tight_layout()\n",
    "plt.show()"
   ]
  },
  {
   "cell_type": "markdown",
   "metadata": {},
   "source": [
    "Wavelength range"
   ]
  },
  {
   "cell_type": "code",
   "execution_count": 13,
   "metadata": {},
   "outputs": [
    {
     "name": "stdout",
     "output_type": "stream",
     "text": [
      "Wavelength list = [ 550.  575.  600.  625.  650.  675.  700.  725.  750.  775.  800.  825.\n",
      "  850.  875.  900.  925.  950.  975. 1000.]  THz\n",
      "Wavelength list = [0.5450772  0.52137819 0.4996541  0.47966793 0.46121917 0.44413697\n",
      " 0.42827494 0.41350684 0.39972328 0.38682898 0.37474057 0.3633848\n",
      " 0.35269701 0.34261995 0.33310273 0.32409995 0.31557101 0.30747944\n",
      " 0.29979246]  um\n"
     ]
    }
   ],
   "source": [
    "# f_start = 75*THz\n",
    "f_start = 550*THz\n",
    "f_stop = 1000*THz\n",
    "f_step = 25*THz\n",
    "\n",
    "freqs = np.arange(f_start, f_stop+1*THz, f_step)\n",
    "# freqs = np.linspace(c/wl_stop, c/wl_start, num=Nwl)\n",
    "wl = c/freqs\n",
    "\n",
    "print('Wavelength list =', freqs/THz, ' THz')\n",
    "print('Wavelength list =', wl/um, ' um')"
   ]
  },
  {
   "cell_type": "markdown",
   "metadata": {},
   "source": [
    "Draw waveguide and setup solver"
   ]
  },
  {
   "cell_type": "code",
   "execution_count": 14,
   "metadata": {},
   "outputs": [],
   "source": [
    "lum.draw_wg(MODE, material_thinfilm, material_substrate,\n",
    "              h_LN, h_substrate, h_etch, width_top, w_slab, theta, wg_length)\n",
    "lum.add_fine_mesh(MODE, finemesh, h_LN, width_top_base, x_factor=1.2, y_factor=1.5)\n",
    "lum.add_2D_mode_solver(MODE, meshsize, h_LN, h_substrate, \n",
    "                         w_slab, wg_length, h_margin)"
   ]
  },
  {
   "cell_type": "code",
   "execution_count": null,
   "metadata": {},
   "outputs": [],
   "source": [
    "tic = time.time()\n",
    "for kw in range(wl.size):\n",
    "    MODE.switchtolayout()\n",
    "    n, te = lum.solve_mode(MODE, wl[kw], nmodes=20)\n",
    "        \n",
    "    for km in range(n.size): #Look for first TE mode\n",
    "        if te[km]>0.8:\n",
    "\n",
    "            M = lum.mode()\n",
    "            M.get_from_lumerical(MODE, km+1)\n",
    "            Norm = M.N()\n",
    "            neff = n[km]\n",
    "            TE = te[km]\n",
    "\n",
    "            data_filename = 'Data\\LNoI_%inm_%inm_width_%inm_wl_%.1fnm_mode_%i' %(int(h_LN/nm), int(h_etch/nm), \n",
    "                                                                            int(width_top/nm), wl[kw]/nm, km)\n",
    "            data_filename = data_filename.replace('.','p')\n",
    "            np.savez(data_filename, M=M, neff=neff, tepf=TE, Norm=Norm,#Main results\n",
    "                     h_LN=h_LN, h_etch=h_etch, width_top=width_top, wavelength=wl[kw], #Setup stuff\n",
    "                     theta=theta, h_substrate=h_substrate, w_slab=w_slab, h_margin=h_margin, \n",
    "                     mesh_size=meshsize, finemesh=finemesh, \n",
    "                     material_substrate=material_substrate, material_thinfilm=material_thinfilm)\n",
    "            \n",
    "            break\n",
    "    print('Wavelength %0.1f um completed' %(wl[kw]/um))\n",
    "    \n",
    "MODE.close()\n",
    "toc = time.time()\n",
    "print('Total time = %.1f  s' %(toc-tic))"
   ]
  },
  {
   "cell_type": "code",
   "execution_count": 15,
   "metadata": {},
   "outputs": [],
   "source": [
    "MODE.close()"
   ]
  },
  {
   "cell_type": "code",
   "execution_count": null,
   "metadata": {},
   "outputs": [],
   "source": [
    "# N = 10\n",
    "# neff = np.zeros([wl.size, N])\n",
    "# TE = np.zeros([wl.size, N])\n",
    "# Norm = np.zeros([wl.size, N])\n",
    "\n",
    "# tic = time.time()\n",
    "# for kw in range(wl.size):\n",
    "#     MODE.switchtolayout()\n",
    "#     n, te = lum.solve_mode(MODE, wl[kw], nmodes=20)\n",
    "    \n",
    "#     if n.size>=N:\n",
    "#         neff[kw, :] = n[0:N]\n",
    "#         TE[kw, :] = te[0:N]\n",
    "#     else:\n",
    "#         neff[kw, :] = np.concatenate([n, [0]*(N-n.size)])\n",
    "#         TE[kw, :] = np.concatenate([te, [0]*(N-n.size)])\n",
    "        \n",
    "#     for km in range(min(n.size, N)):\n",
    "#         M = lum.mode()\n",
    "#         M.get_from_lumerical(MODE, km+1)\n",
    "#         Norm[kw, km] = M.N()\n",
    "        \n",
    "#         data_filename = 'Data\\LNoI_%inm_%inm_width_%inm_wl_%.1fum_mode_%i' %(int(h_LN/nm), int(h_etch/nm), \n",
    "#                                                                         int(width_top/nm), wl[kw]/nm, km)\n",
    "#         data_filename = data_filename.replace('.','p')\n",
    "#         np.savez(data_filename, M=M, neff=neff, tepf=TE, #Main results\n",
    "#                  h_LN=h_LN, h_etch=h_etch, width_top=width_top, wavelength=wl[kw], #Setup stuff\n",
    "#                  theta=theta, h_substrate=h_substrate, w_slab=w_slab, h_margin=h_margin, \n",
    "#                  mesh_size=meshsize, finemesh=finemesh, \n",
    "#                  material_substrate=material_substrate, material_thinfilm=material_thinfilm)\n",
    "        \n",
    "#     print('Wavelength %0.1f um completed' %(wl[kw]/um))"
   ]
  }
 ],
 "metadata": {
  "kernelspec": {
   "display_name": "Python 3",
   "language": "python",
   "name": "python3"
  },
  "language_info": {
   "codemirror_mode": {
    "name": "ipython",
    "version": 3
   },
   "file_extension": ".py",
   "mimetype": "text/x-python",
   "name": "python",
   "nbconvert_exporter": "python",
   "pygments_lexer": "ipython3",
   "version": "3.7.6"
  }
 },
 "nbformat": 4,
 "nbformat_minor": 4
}
