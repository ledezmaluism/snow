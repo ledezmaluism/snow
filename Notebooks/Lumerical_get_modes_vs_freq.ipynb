{
 "cells": [
  {
   "cell_type": "markdown",
   "metadata": {},
   "source": [
    "Get fields from Lumerical and save in file for later"
   ]
  },
  {
   "cell_type": "code",
   "execution_count": 1,
   "metadata": {},
   "outputs": [],
   "source": [
    "import lumerical as lum\n",
    "import numpy as  np\n",
    "import matplotlib.pyplot as plt\n",
    "import matplotlib.cm as cm\n",
    "import imp\n",
    "\n",
    "from scipy.constants import pi\n",
    "\n",
    "lumapi = imp.load_source(\"lumapi\", \"C:/Program Files/Lumerical/2020a/api/python/lumapi.py\")\n",
    "mode = lumapi.MODE(\"Template_Luis.lms\")"
   ]
  },
  {
   "cell_type": "code",
   "execution_count": 2,
   "metadata": {},
   "outputs": [],
   "source": [
    "um = 1e-6\n",
    "nm = 1e-9"
   ]
  },
  {
   "cell_type": "markdown",
   "metadata": {},
   "source": [
    "Main waveguide parameters"
   ]
  },
  {
   "cell_type": "code",
   "execution_count": 3,
   "metadata": {},
   "outputs": [
    {
     "name": "stdout",
     "output_type": "stream",
     "text": [
      "slab = 0.000 um\n",
      "width at the base = 0.000 um\n"
     ]
    }
   ],
   "source": [
    "h_LN = 700*nm\n",
    "h_etch = 350*nm\n",
    "w_ridge = 1.5*um\n",
    "h_slab = h_LN - h_etch\n",
    "\n",
    "theta = 60\n",
    "wg_length = 10*um #Useless in MODE\n",
    "w_ridge_base = w_ridge + 2*h_etch/np.tan(theta*pi/180)\n",
    "\n",
    "print('slab = %.3f um' %(h_slab))\n",
    "print('width at the base = %.3f um' %(w_ridge_base))"
   ]
  },
  {
   "cell_type": "markdown",
   "metadata": {},
   "source": [
    "Wavelength range"
   ]
  },
  {
   "cell_type": "code",
   "execution_count": 4,
   "metadata": {},
   "outputs": [
    {
     "name": "stdout",
     "output_type": "stream",
     "text": [
      "Wavelength list = [0.5 1.  1.5 2.  2.5 3. ]  um\n"
     ]
    }
   ],
   "source": [
    "wl_start = 500*nm\n",
    "wl_stop = 3*um\n",
    "Nwl = 6\n",
    "wl = np.linspace(wl_start, wl_stop, num=Nwl)\n",
    "print('Wavelength list =', wl/um, ' um')"
   ]
  },
  {
   "cell_type": "markdown",
   "metadata": {},
   "source": [
    "Setup simulation volume and mesh sizes"
   ]
  },
  {
   "cell_type": "code",
   "execution_count": 5,
   "metadata": {},
   "outputs": [],
   "source": [
    "w_slab = 20*um\n",
    "h_margin = 5*um\n",
    "h_substrate = 5*um\n",
    "meshsize = 50*nm\n",
    "finemesh = 10*nm"
   ]
  },
  {
   "cell_type": "markdown",
   "metadata": {},
   "source": [
    "Materials"
   ]
  },
  {
   "cell_type": "code",
   "execution_count": 6,
   "metadata": {},
   "outputs": [],
   "source": [
    "material_substrate = \"SiO2_analytic\"\n",
    "material_thinfilm = \"LN_analytic_MgO_doped_xne\""
   ]
  },
  {
   "cell_type": "markdown",
   "metadata": {},
   "source": [
    "Draw waveguide and setup solver"
   ]
  },
  {
   "cell_type": "code",
   "execution_count": 10,
   "metadata": {},
   "outputs": [],
   "source": [
    "lum.draw_wg(mode, material_thinfilm, material_substrate,\n",
    "              h_LN, h_substrate, h_etch, w_ridge, w_slab, theta, wg_length)\n",
    "lum.add_fine_mesh(mode, finemesh, h_LN, w_ridge_base, x_factor=1.2, y_factor=1.5)\n",
    "lum.add_2D_mode_solver(mode, meshsize, h_LN, h_substrate, \n",
    "                         w_slab, wg_length, h_margin)"
   ]
  },
  {
   "cell_type": "code",
   "execution_count": null,
   "metadata": {},
   "outputs": [],
   "source": [
    "lum."
   ]
  }
 ],
 "metadata": {
  "kernelspec": {
   "display_name": "Python 3",
   "language": "python",
   "name": "python3"
  },
  "language_info": {
   "codemirror_mode": {
    "name": "ipython",
    "version": 3
   },
   "file_extension": ".py",
   "mimetype": "text/x-python",
   "name": "python",
   "nbconvert_exporter": "python",
   "pygments_lexer": "ipython3",
   "version": "3.7.6"
  }
 },
 "nbformat": 4,
 "nbformat_minor": 4
}
