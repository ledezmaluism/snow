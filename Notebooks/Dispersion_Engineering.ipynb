{
 "cells": [
  {
   "cell_type": "markdown",
   "metadata": {},
   "source": [
    "# Dispersion Engineering"
   ]
  },
  {
   "cell_type": "code",
   "execution_count": 1,
   "metadata": {},
   "outputs": [],
   "source": [
    "import numpy as np\n",
    "from numpy.fft import fft, ifft, fftshift, fftfreq\n",
    "import matplotlib.pyplot as plt\n",
    "from matplotlib import cm\n",
    "import colorcet as cc\n",
    "\n",
    "#This are my libraries\n",
    "import nlo\n",
    "import pulses\n",
    "import materials\n",
    "import waveguides\n",
    "\n",
    "#Larger font for plots\n",
    "plt.rcParams.update({'font.size': 18})"
   ]
  },
  {
   "cell_type": "markdown",
   "metadata": {},
   "source": [
    "## Units\n",
    "We'll work in SI base units for the most part. Here we load some constants and also create some variables for scaling units conveniently."
   ]
  },
  {
   "cell_type": "code",
   "execution_count": 2,
   "metadata": {},
   "outputs": [],
   "source": [
    "from scipy.constants import pi, c, epsilon_0\n",
    "nm = 1e-9\n",
    "um = 1e-6\n",
    "mm = 1e-3\n",
    "ps = 1e-12\n",
    "fs = 1e-15\n",
    "GHz = 1e9\n",
    "THz = 1e12\n",
    "pJ = 1e-12\n",
    "mW = 1e-3"
   ]
  },
  {
   "cell_type": "code",
   "execution_count": 3,
   "metadata": {},
   "outputs": [],
   "source": [
    "wl_ff = 1559*nm #Fundamental wavelength\n",
    "# wl_ff = 1.59*um\n",
    "f0_ff = c/wl_ff\n",
    "\n",
    "#Let's set the bandwdith\n",
    "f_max = c/(500*nm)\n",
    "f_min = c/(1.6*um)\n",
    "BW = f_max - f_min \n",
    "\n",
    "#Now we can create the time and frequency arrays\n",
    "NFFT = 2**11\n",
    "Tmax = NFFT/BW\n",
    "dt = 1/BW\n",
    "t_start = -0.5*ps\n",
    "t_stop = t_start + NFFT*dt\n",
    "t = np.arange(t_start, t_stop, step=dt)\n",
    "f = fftfreq(NFFT, dt)\n",
    "Omega = 2*pi*f\n",
    "df = f[1]-f[0]"
   ]
  },
  {
   "cell_type": "markdown",
   "metadata": {},
   "source": [
    "We also need to choose a reference frequency $f_{ref}$. Our simulation is a bandpass simulation centered around this reference frequency. So, the natural frequency variable for our simulation is $$\\Omega = \\omega - \\omega_{ref}.$$\n",
    "I'll try to be consistent and use lower case variable names for absolute frequencies representing $\\omega$'s, and variable names starting with an uppper case to represent $\\Omega$. For, instance, the variable ```Omega``` that we just created represents $\\Omega$, while in the next cell we'll define ```omega_ref``` and ```omega_abs``` which represents $\\omega_{ref}$ and $\\omega$."
   ]
  },
  {
   "cell_type": "code",
   "execution_count": 4,
   "metadata": {},
   "outputs": [],
   "source": [
    "#Reference frequency\n",
    "f_ref = (f_min + f_max)/2\n",
    "wl_ref = c/f_ref\n",
    "omega_ref = 2*pi*f_ref\n",
    "\n",
    "#Absolute frequencies and wavelengths\n",
    "f_abs = f + f_ref\n",
    "wl_abs = c/f_abs\n",
    "omega_abs = 2*pi*f_abs\n",
    "f_min = np.amin(f_abs)\n",
    "f_max = np.amax(f_abs)\n",
    "wl_max = c/f_min\n",
    "wl_min = c/f_max\n",
    "\n",
    "#get the frequency indexes\n",
    "f0_ff_index = np.abs(f + f_ref - f0_ff).argmin()\n",
    "f_ref_index = np.abs(f).argmin()"
   ]
  },
  {
   "cell_type": "markdown",
   "metadata": {},
   "source": [
    "## Waveguide"
   ]
  },
  {
   "cell_type": "code",
   "execution_count": 5,
   "metadata": {},
   "outputs": [
    {
     "name": "stdout",
     "output_type": "stream",
     "text": [
      "Refractive index at fundamental = 1.957\n"
     ]
    },
    {
     "data": {
      "image/png": "[encoded data removed]",
      "text/plain": [
       "<Figure size 720x360 with 1 Axes>"
      ]
     },
     "metadata": {
      "needs_background": "light"
     },
     "output_type": "display_data"
    }
   ],
   "source": [
    "width = 1800*nm\n",
    "hLN = 700*nm\n",
    "hetch = 350*nm\n",
    "\n",
    "wg = waveguides.waveguide(w_top=width, h_ridge=hLN, h_slab=hLN-hetch)\n",
    "wg.add_narray(wl_abs) #This calculates neff at all wavelengths\n",
    "n = wg.neff_array\n",
    "nw = n[f0_ff_index]\n",
    "\n",
    "plt.rcParams['figure.figsize'] = [10, 5]\n",
    "fig = plt.figure()\n",
    "ax1 = fig.add_subplot(111)\n",
    "\n",
    "ax1.plot(fftshift(wl_abs/um), fftshift(n))\n",
    "ax1.scatter(wl_abs[f0_ff_index]/um, nw, c='r')\n",
    "ax1.set_xlim([wl_min/um, wl_max/um])\n",
    "ax1.set_xlabel('Wavelength (um)')\n",
    "ax1.set_ylabel('Refractive index')\n",
    "ax1.grid(True)\n",
    "\n",
    "print('Refractive index at fundamental = %0.3f' %(nw))\n",
    "\n",
    "beta = omega_abs*n/c\n",
    "beta_1 = fftshift(np.gradient(fftshift(beta), 2*pi*df))\n",
    "beta_2 = fftshift(np.gradient(fftshift(beta_1), 2*pi*df))\n",
    "vg = 1/beta_1\n",
    "\n",
    "f_v_ref = f0_ff\n",
    "f_v_ref_index = np.abs(f + f_ref - f_v_ref).argmin()\n",
    "v_ref = vg[f_v_ref_index]\n",
    "GVM = 1/v_ref - 1/vg"
   ]
  },
  {
   "cell_type": "markdown",
   "metadata": {},
   "source": [
    "Now we'll get the propagation constant as usual:\n",
    "$$ \\beta = \\frac{\\omega n}{c} ,$$\n",
    "\n",
    "as well as the group velocity and GVD:\n",
    "$$ \n",
    "v_g = \\frac{1}{\\beta_1} = \\left( \\frac{\\partial \\beta}{\\partial \\omega} \\right)^{-1} \\\\\n",
    "\\mathrm{GVD} = \\beta_2 = \\frac{\\partial^2 \\beta}{\\partial \\omega^2} .\n",
    "$$\n",
    "\n",
    "We also need to get the higher order dispersion operator; this can be obtained from the propagation constant as follows:\n",
    "$$D = \\beta(\\Omega) - \\beta \\big|_{\\Omega=0} - \\frac{\\Omega}{v_{ref}}.$$\n",
    "\n",
    "For this example we'll use $v_{ref} = v_g(2 \\omega_0)$.\n",
    "\n",
    "At this point we can also compute the GVM ($\\Delta \\beta^\\prime $) between the fundamental signal and the moving reference frame:\n",
    "$$ \\Delta \\beta^\\prime = \\frac{1}{v_{ref}} - \\frac{1}{v_g(\\omega_0)}, $$\n",
    "and then we can compute how much a pulse at $\\omega_0$ will travel in a crystal of length $L$,\n",
    "$$ \\tau =  L \\Delta \\beta^\\prime. $$"
   ]
  },
  {
   "cell_type": "code",
   "execution_count": 7,
   "metadata": {},
   "outputs": [],
   "source": [
    "b1 = wg.beta1(wl_abs)"
   ]
  },
  {
   "cell_type": "code",
   "execution_count": 8,
   "metadata": {
    "scrolled": false
   },
   "outputs": [
    {
     "name": "stdout",
     "output_type": "stream",
     "text": [
      "GVM between 1559.0 nm and 779.5 nm = -145.810 fs/mm\n",
      "GVD at 779.5 nm = 301.3 fs^2/mm\n",
      "GVD at 1559.0 nm = -53.5 fs^2/mm\n"
     ]
    },
    {
     "data": {
      "image/png": "[encoded data removed]",
      "text/plain": [
       "<Figure size 1008x1152 with 3 Axes>"
      ]
     },
     "metadata": {
      "needs_background": "light"
     },
     "output_type": "display_data"
    }
   ],
   "source": [
    "plt.rcParams['figure.figsize'] = [14, 16]\n",
    "fig = plt.figure()\n",
    "ax1 = fig.add_subplot(421)\n",
    "ax2 = fig.add_subplot(422)\n",
    "ax3 = fig.add_subplot(423)\n",
    "\n",
    "ax1.plot(fftshift(wl_abs)/um, fftshift(vg)/(mm/ps));\n",
    "ax1.set_ylabel('Group Velocity (ps/mm)'); ax1.set_xlabel('Wavelength (um)');\n",
    "\n",
    "ax1.plot(fftshift(wl_abs)/um, fftshift(1/b1)/(mm/ps));\n",
    "\n",
    "ax2.plot(fftshift(wl_abs)/um, fftshift(GVM)/(ps/mm));\n",
    "ax2.set_ylabel('GVM (ps/mm)'); ax2.set_xlabel('Wavelength (um)');\n",
    "\n",
    "ax3.plot(fftshift(wl_abs)/um, fftshift(beta_2)/(fs**2/mm));\n",
    "ax3.set_ylabel('GVD (fs$^2$/mm)'); ax3.set_xlabel('Wavelength (um)');\n",
    "\n",
    "ax1.grid(True); ax2.grid(True); ax3.grid(True);\n",
    "\n",
    "ax2.set_xlim([0,2.5])\n",
    "ax3.set_xlim([0,2.5])\n",
    "ax3.set_ylim([-100,100])\n",
    "\n",
    "fig.tight_layout()\n",
    "\n",
    "#Print stuff\n",
    "f0_sh_index = np.abs(f + f_ref - 2*f0_ff).argmin()\n",
    "print('GVM between %0.1f nm and %0.1f nm = %0.3f fs/mm' %(c/f_v_ref/nm, c/(2*f0_ff)/nm, GVM[f0_sh_index]/(fs/mm)) )\n",
    "print('GVD at %0.1f nm = %0.1f fs^2/mm' %(c/(2*f0_ff)/nm, beta_2[f0_sh_index]/(fs**2/mm) ) )\n",
    "print('GVD at %0.1f nm = %0.1f fs^2/mm' %(c/f0_ff/nm, beta_2[f0_ff_index]/(fs**2/mm) ) )"
   ]
  },
  {
   "cell_type": "code",
   "execution_count": 20,
   "metadata": {},
   "outputs": [
    {
     "data": {
      "text/plain": [
       "-145.79369262482015"
      ]
     },
     "execution_count": 20,
     "metadata": {},
     "output_type": "execute_result"
    }
   ],
   "source": [
    "(wg.beta1(1.559*um) - wg.beta1(1.559*um/2))/(fs/mm)"
   ]
  },
  {
   "cell_type": "code",
   "execution_count": 19,
   "metadata": {},
   "outputs": [
    {
     "data": {
      "text/plain": [
       "145.8095645534767"
      ]
     },
     "execution_count": 19,
     "metadata": {},
     "output_type": "execute_result"
    }
   ],
   "source": [
    "(beta_1[f0_sh_index] - beta_1[f0_ff_index])/(fs/mm)"
   ]
  },
  {
   "cell_type": "code",
   "execution_count": null,
   "metadata": {},
   "outputs": [],
   "source": []
  },
  {
   "cell_type": "code",
   "execution_count": null,
   "metadata": {},
   "outputs": [],
   "source": []
  },
  {
   "cell_type": "markdown",
   "metadata": {},
   "source": [
    "## Sweeps"
   ]
  },
  {
   "cell_type": "code",
   "execution_count": 7,
   "metadata": {},
   "outputs": [
    {
     "ename": "KeyboardInterrupt",
     "evalue": "",
     "output_type": "error",
     "traceback": [
      "\u001b[1;31m---------------------------------------------------------------------------\u001b[0m",
      "\u001b[1;31mKeyboardInterrupt\u001b[0m                         Traceback (most recent call last)",
      "\u001b[1;32m<ipython-input-7-1a461156a7af>\u001b[0m in \u001b[0;36m<module>\u001b[1;34m\u001b[0m\n\u001b[0;32m     10\u001b[0m \u001b[1;32mfor\u001b[0m \u001b[0mkw\u001b[0m \u001b[1;32min\u001b[0m \u001b[0mrange\u001b[0m\u001b[1;33m(\u001b[0m\u001b[0mwidth\u001b[0m\u001b[1;33m.\u001b[0m\u001b[0msize\u001b[0m\u001b[1;33m)\u001b[0m\u001b[1;33m:\u001b[0m\u001b[1;33m\u001b[0m\u001b[1;33m\u001b[0m\u001b[0m\n\u001b[0;32m     11\u001b[0m     \u001b[0mwg\u001b[0m \u001b[1;33m=\u001b[0m \u001b[0mwaveguides\u001b[0m\u001b[1;33m.\u001b[0m\u001b[0mwaveguide\u001b[0m\u001b[1;33m(\u001b[0m\u001b[0mw_top\u001b[0m\u001b[1;33m=\u001b[0m\u001b[0mwidth\u001b[0m\u001b[1;33m[\u001b[0m\u001b[0mkw\u001b[0m\u001b[1;33m]\u001b[0m\u001b[1;33m,\u001b[0m \u001b[0mh_ridge\u001b[0m\u001b[1;33m=\u001b[0m\u001b[0mhLN\u001b[0m\u001b[1;33m,\u001b[0m \u001b[0mh_slab\u001b[0m\u001b[1;33m=\u001b[0m\u001b[0mhLN\u001b[0m\u001b[1;33m-\u001b[0m\u001b[0metch\u001b[0m\u001b[1;33m[\u001b[0m\u001b[0mke\u001b[0m\u001b[1;33m]\u001b[0m\u001b[1;33m)\u001b[0m\u001b[1;33m\u001b[0m\u001b[1;33m\u001b[0m\u001b[0m\n\u001b[1;32m---> 12\u001b[1;33m     \u001b[0mwg\u001b[0m\u001b[1;33m.\u001b[0m\u001b[0madd_narray\u001b[0m\u001b[1;33m(\u001b[0m\u001b[0mwl_abs\u001b[0m\u001b[1;33m)\u001b[0m \u001b[1;31m#This calculates neff at all wavelengths\u001b[0m\u001b[1;33m\u001b[0m\u001b[1;33m\u001b[0m\u001b[0m\n\u001b[0m\u001b[0;32m     13\u001b[0m     \u001b[0mn\u001b[0m \u001b[1;33m=\u001b[0m \u001b[0mwg\u001b[0m\u001b[1;33m.\u001b[0m\u001b[0mneff_array\u001b[0m\u001b[1;33m\u001b[0m\u001b[1;33m\u001b[0m\u001b[0m\n\u001b[0;32m     14\u001b[0m     \u001b[0mbeta\u001b[0m \u001b[1;33m=\u001b[0m \u001b[0momega_abs\u001b[0m\u001b[1;33m*\u001b[0m\u001b[0mn\u001b[0m\u001b[1;33m/\u001b[0m\u001b[0mc\u001b[0m\u001b[1;33m\u001b[0m\u001b[1;33m\u001b[0m\u001b[0m\n",
      "\u001b[1;32mC:\\Users\\luish\\Documents\\Github\\Photonics_python_Luis\\Modules\\waveguides.py\u001b[0m in \u001b[0;36madd_narray\u001b[1;34m(self, wl_abs)\u001b[0m\n\u001b[0;32m     57\u001b[0m         \u001b[0mneff\u001b[0m \u001b[1;33m=\u001b[0m \u001b[0mnp\u001b[0m\u001b[1;33m.\u001b[0m\u001b[0mzeros\u001b[0m\u001b[1;33m(\u001b[0m\u001b[0mwl_abs\u001b[0m\u001b[1;33m.\u001b[0m\u001b[0mshape\u001b[0m\u001b[1;33m)\u001b[0m\u001b[1;33m\u001b[0m\u001b[1;33m\u001b[0m\u001b[0m\n\u001b[0;32m     58\u001b[0m         \u001b[1;32mfor\u001b[0m \u001b[0mkw\u001b[0m \u001b[1;32min\u001b[0m \u001b[0mrange\u001b[0m\u001b[1;33m(\u001b[0m\u001b[0mwl_abs\u001b[0m\u001b[1;33m.\u001b[0m\u001b[0msize\u001b[0m\u001b[1;33m)\u001b[0m\u001b[1;33m:\u001b[0m\u001b[1;33m\u001b[0m\u001b[1;33m\u001b[0m\u001b[0m\n\u001b[1;32m---> 59\u001b[1;33m             \u001b[0mneff\u001b[0m\u001b[1;33m[\u001b[0m\u001b[0mkw\u001b[0m\u001b[1;33m]\u001b[0m \u001b[1;33m=\u001b[0m \u001b[0mself\u001b[0m\u001b[1;33m.\u001b[0m\u001b[0mneff\u001b[0m\u001b[1;33m(\u001b[0m\u001b[0mwl_abs\u001b[0m\u001b[1;33m[\u001b[0m\u001b[0mkw\u001b[0m\u001b[1;33m]\u001b[0m\u001b[1;33m)\u001b[0m\u001b[1;33m\u001b[0m\u001b[1;33m\u001b[0m\u001b[0m\n\u001b[0m\u001b[0;32m     60\u001b[0m         \u001b[0mself\u001b[0m\u001b[1;33m.\u001b[0m\u001b[0mneff_array\u001b[0m \u001b[1;33m=\u001b[0m \u001b[0mneff\u001b[0m\u001b[1;33m\u001b[0m\u001b[1;33m\u001b[0m\u001b[0m\n\u001b[0;32m     61\u001b[0m         \u001b[0mself\u001b[0m\u001b[1;33m.\u001b[0m\u001b[0mbeta\u001b[0m \u001b[1;33m=\u001b[0m \u001b[1;36m2\u001b[0m \u001b[1;33m*\u001b[0m \u001b[0mpi\u001b[0m \u001b[1;33m*\u001b[0m \u001b[0mself\u001b[0m\u001b[1;33m.\u001b[0m\u001b[0mneff_array\u001b[0m \u001b[1;33m/\u001b[0m \u001b[0mwl_abs\u001b[0m\u001b[1;33m\u001b[0m\u001b[1;33m\u001b[0m\u001b[0m\n",
      "\u001b[1;32mC:\\Users\\luish\\Documents\\Github\\Photonics_python_Luis\\Modules\\waveguides.py\u001b[0m in \u001b[0;36mneff\u001b[1;34m(self, wl, mode)\u001b[0m\n\u001b[0;32m     52\u001b[0m         \u001b[0mh\u001b[0m \u001b[1;33m=\u001b[0m \u001b[0mself\u001b[0m\u001b[1;33m.\u001b[0m\u001b[0mh_ridge\u001b[0m\u001b[1;33m\u001b[0m\u001b[1;33m\u001b[0m\u001b[0m\n\u001b[0;32m     53\u001b[0m         \u001b[0mhslab\u001b[0m \u001b[1;33m=\u001b[0m \u001b[0mself\u001b[0m\u001b[1;33m.\u001b[0m\u001b[0mh_slab\u001b[0m\u001b[1;33m\u001b[0m\u001b[1;33m\u001b[0m\u001b[0m\n\u001b[1;32m---> 54\u001b[1;33m         \u001b[1;32mreturn\u001b[0m \u001b[0mneff_ridge\u001b[0m\u001b[1;33m(\u001b[0m\u001b[0mwl\u001b[0m\u001b[1;33m,\u001b[0m \u001b[0mnridge\u001b[0m\u001b[1;33m,\u001b[0m \u001b[0mnbox\u001b[0m\u001b[1;33m,\u001b[0m \u001b[0mnclad\u001b[0m\u001b[1;33m,\u001b[0m \u001b[0mw\u001b[0m\u001b[1;33m,\u001b[0m \u001b[0mh\u001b[0m\u001b[1;33m,\u001b[0m \u001b[0mhslab\u001b[0m\u001b[1;33m,\u001b[0m \u001b[0mmode\u001b[0m\u001b[1;33m)\u001b[0m\u001b[1;33m\u001b[0m\u001b[1;33m\u001b[0m\u001b[0m\n\u001b[0m\u001b[0;32m     55\u001b[0m \u001b[1;33m\u001b[0m\u001b[0m\n\u001b[0;32m     56\u001b[0m     \u001b[1;32mdef\u001b[0m \u001b[0madd_narray\u001b[0m\u001b[1;33m(\u001b[0m\u001b[0mself\u001b[0m\u001b[1;33m,\u001b[0m \u001b[0mwl_abs\u001b[0m\u001b[1;33m)\u001b[0m\u001b[1;33m:\u001b[0m\u001b[1;33m\u001b[0m\u001b[1;33m\u001b[0m\u001b[0m\n",
      "\u001b[1;32mC:\\Users\\luish\\Documents\\Github\\Photonics_python_Luis\\Modules\\waveguides.py\u001b[0m in \u001b[0;36mneff_ridge\u001b[1;34m(wl, nridge, nbox, nclad, w, h, hslab, mode)\u001b[0m\n\u001b[0;32m    277\u001b[0m     '''\n\u001b[0;32m    278\u001b[0m     \u001b[1;32mif\u001b[0m \u001b[0mmode\u001b[0m\u001b[1;33m==\u001b[0m\u001b[1;34m'TE'\u001b[0m\u001b[1;33m:\u001b[0m\u001b[1;33m\u001b[0m\u001b[1;33m\u001b[0m\u001b[0m\n\u001b[1;32m--> 279\u001b[1;33m         \u001b[0mneff_slab_te0\u001b[0m \u001b[1;33m=\u001b[0m \u001b[0mneff_asymmetric_slab\u001b[0m\u001b[1;33m(\u001b[0m\u001b[0mnclad\u001b[0m\u001b[1;33m,\u001b[0m \u001b[0mnridge\u001b[0m\u001b[1;33m,\u001b[0m \u001b[0mnbox\u001b[0m\u001b[1;33m,\u001b[0m \u001b[0mhslab\u001b[0m\u001b[1;33m,\u001b[0m \u001b[0mwl\u001b[0m\u001b[1;33m)\u001b[0m\u001b[1;33m\u001b[0m\u001b[1;33m\u001b[0m\u001b[0m\n\u001b[0m\u001b[0;32m    280\u001b[0m         \u001b[0mneff_ridge_te0\u001b[0m \u001b[1;33m=\u001b[0m \u001b[0mneff_asymmetric_slab\u001b[0m\u001b[1;33m(\u001b[0m\u001b[0mnclad\u001b[0m\u001b[1;33m,\u001b[0m \u001b[0mnridge\u001b[0m\u001b[1;33m,\u001b[0m \u001b[0mnbox\u001b[0m\u001b[1;33m,\u001b[0m \u001b[0mh\u001b[0m\u001b[1;33m,\u001b[0m \u001b[0mwl\u001b[0m\u001b[1;33m)\u001b[0m\u001b[1;33m\u001b[0m\u001b[1;33m\u001b[0m\u001b[0m\n\u001b[0;32m    281\u001b[0m         \u001b[0mneff\u001b[0m \u001b[1;33m=\u001b[0m \u001b[0mneff_symmetric_slab\u001b[0m\u001b[1;33m(\u001b[0m\u001b[0mneff_slab_te0\u001b[0m\u001b[1;33m,\u001b[0m \u001b[0mneff_ridge_te0\u001b[0m\u001b[1;33m,\u001b[0m \u001b[0mw\u001b[0m\u001b[1;33m,\u001b[0m \u001b[0mwl\u001b[0m\u001b[1;33m,\u001b[0m \u001b[1;34m'TM even'\u001b[0m\u001b[1;33m)\u001b[0m\u001b[1;33m\u001b[0m\u001b[1;33m\u001b[0m\u001b[0m\n",
      "\u001b[1;32mC:\\Users\\luish\\Documents\\Github\\Photonics_python_Luis\\Modules\\waveguides.py\u001b[0m in \u001b[0;36mneff_asymmetric_slab\u001b[1;34m(n0, n1, n2, d, wl, mode, order)\u001b[0m\n\u001b[0;32m    242\u001b[0m \u001b[1;33m\u001b[0m\u001b[0m\n\u001b[0;32m    243\u001b[0m     \u001b[1;31m#Solve equations\u001b[0m\u001b[1;33m\u001b[0m\u001b[1;33m\u001b[0m\u001b[1;33m\u001b[0m\u001b[0m\n\u001b[1;32m--> 244\u001b[1;33m     \u001b[0mX\u001b[0m \u001b[1;33m=\u001b[0m \u001b[0mbrentq\u001b[0m\u001b[1;33m(\u001b[0m\u001b[0masymmetric_slab_eqs\u001b[0m\u001b[1;33m,\u001b[0m \u001b[0mxmin\u001b[0m\u001b[1;33m,\u001b[0m \u001b[0mxmax\u001b[0m\u001b[1;33m,\u001b[0m \u001b[1;33m(\u001b[0m\u001b[0mn0\u001b[0m\u001b[1;33m,\u001b[0m \u001b[0mn1\u001b[0m\u001b[1;33m,\u001b[0m \u001b[0mn2\u001b[0m\u001b[1;33m,\u001b[0m \u001b[0md\u001b[0m\u001b[1;33m,\u001b[0m \u001b[0mwl\u001b[0m\u001b[1;33m,\u001b[0m \u001b[0mmode\u001b[0m\u001b[1;33m,\u001b[0m \u001b[0morder\u001b[0m\u001b[1;33m)\u001b[0m\u001b[1;33m)\u001b[0m\u001b[1;33m\u001b[0m\u001b[1;33m\u001b[0m\u001b[0m\n\u001b[0m\u001b[0;32m    245\u001b[0m     \u001b[0mkx\u001b[0m \u001b[1;33m=\u001b[0m \u001b[0mX\u001b[0m\u001b[1;33m/\u001b[0m\u001b[0md\u001b[0m\u001b[1;33m\u001b[0m\u001b[1;33m\u001b[0m\u001b[0m\n\u001b[0;32m    246\u001b[0m     \u001b[0mbeta\u001b[0m \u001b[1;33m=\u001b[0m \u001b[0mbeta_f\u001b[0m\u001b[1;33m(\u001b[0m\u001b[0mkx\u001b[0m\u001b[1;33m,\u001b[0m \u001b[1;36m0\u001b[0m\u001b[1;33m,\u001b[0m \u001b[0mn1\u001b[0m\u001b[1;33m,\u001b[0m \u001b[0mk0\u001b[0m\u001b[1;33m)\u001b[0m\u001b[1;33m\u001b[0m\u001b[1;33m\u001b[0m\u001b[0m\n",
      "\u001b[1;32mC:\\Users\\luish\\AppData\\Local\\Continuum\\anaconda3\\lib\\site-packages\\scipy\\optimize\\zeros.py\u001b[0m in \u001b[0;36mbrentq\u001b[1;34m(f, a, b, args, xtol, rtol, maxiter, full_output, disp)\u001b[0m\n\u001b[0;32m    778\u001b[0m     \u001b[1;32mif\u001b[0m \u001b[0mrtol\u001b[0m \u001b[1;33m<\u001b[0m \u001b[0m_rtol\u001b[0m\u001b[1;33m:\u001b[0m\u001b[1;33m\u001b[0m\u001b[1;33m\u001b[0m\u001b[0m\n\u001b[0;32m    779\u001b[0m         \u001b[1;32mraise\u001b[0m \u001b[0mValueError\u001b[0m\u001b[1;33m(\u001b[0m\u001b[1;34m\"rtol too small (%g < %g)\"\u001b[0m \u001b[1;33m%\u001b[0m \u001b[1;33m(\u001b[0m\u001b[0mrtol\u001b[0m\u001b[1;33m,\u001b[0m \u001b[0m_rtol\u001b[0m\u001b[1;33m)\u001b[0m\u001b[1;33m)\u001b[0m\u001b[1;33m\u001b[0m\u001b[1;33m\u001b[0m\u001b[0m\n\u001b[1;32m--> 780\u001b[1;33m     \u001b[0mr\u001b[0m \u001b[1;33m=\u001b[0m \u001b[0m_zeros\u001b[0m\u001b[1;33m.\u001b[0m\u001b[0m_brentq\u001b[0m\u001b[1;33m(\u001b[0m\u001b[0mf\u001b[0m\u001b[1;33m,\u001b[0m \u001b[0ma\u001b[0m\u001b[1;33m,\u001b[0m \u001b[0mb\u001b[0m\u001b[1;33m,\u001b[0m \u001b[0mxtol\u001b[0m\u001b[1;33m,\u001b[0m \u001b[0mrtol\u001b[0m\u001b[1;33m,\u001b[0m \u001b[0mmaxiter\u001b[0m\u001b[1;33m,\u001b[0m \u001b[0margs\u001b[0m\u001b[1;33m,\u001b[0m \u001b[0mfull_output\u001b[0m\u001b[1;33m,\u001b[0m \u001b[0mdisp\u001b[0m\u001b[1;33m)\u001b[0m\u001b[1;33m\u001b[0m\u001b[1;33m\u001b[0m\u001b[0m\n\u001b[0m\u001b[0;32m    781\u001b[0m     \u001b[1;32mreturn\u001b[0m \u001b[0mresults_c\u001b[0m\u001b[1;33m(\u001b[0m\u001b[0mfull_output\u001b[0m\u001b[1;33m,\u001b[0m \u001b[0mr\u001b[0m\u001b[1;33m)\u001b[0m\u001b[1;33m\u001b[0m\u001b[1;33m\u001b[0m\u001b[0m\n\u001b[0;32m    782\u001b[0m \u001b[1;33m\u001b[0m\u001b[0m\n",
      "\u001b[1;32mC:\\Users\\luish\\Documents\\Github\\Photonics_python_Luis\\Modules\\waveguides.py\u001b[0m in \u001b[0;36masymmetric_slab_eqs\u001b[1;34m(x, n0, n1, n2, d, wl, mode, order)\u001b[0m\n\u001b[0;32m    218\u001b[0m         \u001b[0mY2\u001b[0m \u001b[1;33m=\u001b[0m \u001b[0mY2\u001b[0m\u001b[1;33m*\u001b[0m\u001b[1;33m(\u001b[0m\u001b[0mn1\u001b[0m\u001b[1;33m/\u001b[0m\u001b[0mn2\u001b[0m\u001b[1;33m)\u001b[0m\u001b[1;33m**\u001b[0m\u001b[1;36m2\u001b[0m\u001b[1;33m\u001b[0m\u001b[1;33m\u001b[0m\u001b[0m\n\u001b[0;32m    219\u001b[0m \u001b[1;33m\u001b[0m\u001b[0m\n\u001b[1;32m--> 220\u001b[1;33m     \u001b[0mF\u001b[0m \u001b[1;33m=\u001b[0m \u001b[0mnp\u001b[0m\u001b[1;33m.\u001b[0m\u001b[0marctan\u001b[0m\u001b[1;33m(\u001b[0m\u001b[0mY\u001b[0m\u001b[1;33m/\u001b[0m\u001b[0mX\u001b[0m\u001b[1;33m)\u001b[0m \u001b[1;33m+\u001b[0m \u001b[0mnp\u001b[0m\u001b[1;33m.\u001b[0m\u001b[0marctan\u001b[0m\u001b[1;33m(\u001b[0m\u001b[0mY2\u001b[0m\u001b[1;33m/\u001b[0m\u001b[0mX\u001b[0m\u001b[1;33m)\u001b[0m \u001b[1;33m-\u001b[0m \u001b[0mX\u001b[0m \u001b[1;33m+\u001b[0m \u001b[0morder\u001b[0m\u001b[1;33m*\u001b[0m\u001b[0mpi\u001b[0m\u001b[1;33m\u001b[0m\u001b[1;33m\u001b[0m\u001b[0m\n\u001b[0m\u001b[0;32m    221\u001b[0m \u001b[1;33m\u001b[0m\u001b[0m\n\u001b[0;32m    222\u001b[0m     \u001b[1;32mreturn\u001b[0m \u001b[0mF\u001b[0m\u001b[1;33m\u001b[0m\u001b[1;33m\u001b[0m\u001b[0m\n",
      "\u001b[1;31mKeyboardInterrupt\u001b[0m: "
     ]
    }
   ],
   "source": [
    "hLN = 700*nm\n",
    "width = np.arange(800*nm, 4*um, 200*nm)\n",
    "etch = np.array([350*nm])\n",
    "\n",
    "GVM = np.zeros([width.size, etch.size])\n",
    "GVD2 = np.zeros([width.size, etch.size])\n",
    "GVD1 = np.zeros([width.size, etch.size])\n",
    "\n",
    "ke = 0\n",
    "for kw in range(width.size):\n",
    "    wg = waveguides.waveguide(w_top=width[kw], h_ridge=hLN, h_slab=hLN-etch[ke])\n",
    "    wg.add_narray(wl_abs) #This calculates neff at all wavelengths\n",
    "    n = wg.neff_array\n",
    "    beta = omega_abs*n/c\n",
    "    beta_1 = fftshift(np.gradient(fftshift(beta), 2*pi*df))\n",
    "    beta_2 = fftshift(np.gradient(fftshift(beta_1), 2*pi*df))\n",
    "    vg = 1/beta_1\n",
    "\n",
    "    f_v_ref_index = np.abs(f + f_ref - f_v_ref).argmin()\n",
    "    v_ref = vg[f_v_ref_index]\n",
    "    \n",
    "    gvm = 1/v_ref - 1/vg\n",
    "    \n",
    "    GVM[kw, ke] = gvm[f0_sh_index]\n",
    "    GVD1[kw, ke] = beta_2[f0_ff_index]\n",
    "    GVD2[kw, ke] = beta_2[f0_sh_index]"
   ]
  },
  {
   "cell_type": "code",
   "execution_count": null,
   "metadata": {},
   "outputs": [],
   "source": [
    "plt.rcParams['figure.figsize'] = [12, 16]\n",
    "fig = plt.figure()\n",
    "ax1 = fig.add_subplot(311)\n",
    "ax2 = fig.add_subplot(312)\n",
    "ax3 = fig.add_subplot(313)\n",
    "\n",
    "ax1.plot(width/um, GVM[:,0]/(fs/mm))\n",
    "ax2.plot(width/um, GVD1[:,0]/(fs**2/mm))\n",
    "ax3.plot(width/um, GVD2[:,0]/(fs**2/mm))\n",
    "\n",
    "ax1.grid(True); ax2.grid(True); ax3.grid(True);\n",
    "fig.tight_layout()"
   ]
  },
  {
   "cell_type": "markdown",
   "metadata": {},
   "source": [
    "## Etch"
   ]
  },
  {
   "cell_type": "code",
   "execution_count": null,
   "metadata": {},
   "outputs": [],
   "source": [
    "hLN = 700*nm\n",
    "width = np.array([1850*nm])\n",
    "etch = np.arange(200*nm, 551*nm, 50*nm)\n",
    "\n",
    "GVM = np.zeros([width.size, etch.size])\n",
    "GVD2 = np.zeros([width.size, etch.size])\n",
    "GVD1 = np.zeros([width.size, etch.size])\n",
    "\n",
    "kw = 0\n",
    "for ke in range(etch.size):\n",
    "    print(etch[ke]/nm)\n",
    "    wg = waveguides.waveguide(w_top=width[kw], h_ridge=hLN, h_slab=hLN-etch[ke])\n",
    "    wg.add_narray(wl_abs) #This calculates neff at all wavelengths\n",
    "    n = wg.neff_array\n",
    "    beta = omega_abs*n/c\n",
    "    beta_1 = fftshift(np.gradient(fftshift(beta), 2*pi*df))\n",
    "    beta_2 = fftshift(np.gradient(fftshift(beta_1), 2*pi*df))\n",
    "    vg = 1/beta_1\n",
    "\n",
    "    f_v_ref_index = np.abs(f + f_ref - f_v_ref).argmin()\n",
    "    v_ref = vg[f_v_ref_index]\n",
    "    \n",
    "    gvm = 1/v_ref - 1/vg\n",
    "    \n",
    "    GVM[kw, ke] = gvm[f0_sh_index]\n",
    "    GVD1[kw, ke] = beta_2[f0_ff_index]\n",
    "    GVD2[kw, ke] = beta_2[f0_sh_index]"
   ]
  },
  {
   "cell_type": "code",
   "execution_count": null,
   "metadata": {},
   "outputs": [],
   "source": [
    "plt.rcParams['figure.figsize'] = [12, 16]\n",
    "fig = plt.figure()\n",
    "ax1 = fig.add_subplot(311)\n",
    "ax2 = fig.add_subplot(312)\n",
    "ax3 = fig.add_subplot(313)\n",
    "\n",
    "ax1.plot(etch/um, GVM[0,:]/(fs/mm))\n",
    "ax2.plot(etch/um, GVD1[0,:]/(fs**2/mm))\n",
    "ax3.plot(etch/um, GVD2[0,:]/(fs**2/mm))\n",
    "\n",
    "ax1.grid(True); ax2.grid(True); ax3.grid(True);\n",
    "fig.tight_layout()"
   ]
  },
  {
   "cell_type": "markdown",
   "metadata": {},
   "source": [
    "## Both"
   ]
  },
  {
   "cell_type": "code",
   "execution_count": null,
   "metadata": {},
   "outputs": [],
   "source": [
    "hLN = 700*nm\n",
    "width = np.arange(1000*nm, 3*um+1*nm, 200*nm)\n",
    "etch = np.arange(200*nm, 500*nm+1*nm, 50*nm)\n",
    "\n",
    "GVM = np.zeros([width.size, etch.size])\n",
    "GVD2 = np.zeros([width.size, etch.size])\n",
    "GVD1 = np.zeros([width.size, etch.size])\n",
    "\n",
    "for ke in range(etch.size):\n",
    "    for kw in range(width.size):\n",
    "        wg = waveguides.waveguide(w_top=width[kw], h_ridge=hLN, h_slab=hLN-etch[ke])\n",
    "        wg.add_narray(wl_abs) #This calculates neff at all wavelengths\n",
    "        n = wg.neff_array\n",
    "        beta = omega_abs*n/c\n",
    "        beta_1 = fftshift(np.gradient(fftshift(beta), 2*pi*df))\n",
    "        beta_2 = fftshift(np.gradient(fftshift(beta_1), 2*pi*df))\n",
    "        vg = 1/beta_1\n",
    "\n",
    "        f_v_ref_index = np.abs(f + f_ref - f_v_ref).argmin()\n",
    "        v_ref = vg[f_v_ref_index]\n",
    "\n",
    "        gvm = 1/v_ref - 1/vg\n",
    "\n",
    "        GVM[kw, ke] = gvm[f0_sh_index]\n",
    "        GVD1[kw, ke] = beta_2[f0_ff_index]\n",
    "        GVD2[kw, ke] = beta_2[f0_sh_index]"
   ]
  },
  {
   "cell_type": "code",
   "execution_count": null,
   "metadata": {},
   "outputs": [],
   "source": [
    "plt.rcParams['figure.figsize'] = [8, 6]\n",
    "X,Y = np.meshgrid(width/um, etch/nm)\n",
    "fig = plt.figure()\n",
    "ax = fig.add_subplot(111)\n",
    "im = ax.pcolormesh(X, Y, (np.transpose(GVM/(fs/mm))), cmap = cc.cm[\"rainbow\"])\n",
    "plt.colorbar(im, ax=ax);"
   ]
  },
  {
   "cell_type": "code",
   "execution_count": null,
   "metadata": {},
   "outputs": [],
   "source": []
  },
  {
   "cell_type": "code",
   "execution_count": null,
   "metadata": {},
   "outputs": [],
   "source": [
    "hLN = 350*nm\n",
    "width = np.arange(1000*nm, 3*um+1*nm, 200*nm)\n",
    "etch = np.arange(50*nm, 200*nm+1*nm, 50*nm)\n",
    "\n",
    "GVM = np.zeros([width.size, etch.size])\n",
    "GVD2 = np.zeros([width.size, etch.size])\n",
    "GVD1 = np.zeros([width.size, etch.size])\n",
    "\n",
    "for ke in range(etch.size):\n",
    "    for kw in range(width.size):\n",
    "        print(\"Width = %0.1f um, Etch = %0.1f nm\" %(width[kw]/um, etch[ke]/nm) )\n",
    "        wg = waveguides.waveguide(w_top=width[kw], h_ridge=hLN, h_slab=hLN-etch[ke])\n",
    "        wg.add_narray(wl_abs) #This calculates neff at all wavelengths\n",
    "        n = wg.neff_array\n",
    "        beta = omega_abs*n/c\n",
    "        beta_1 = fftshift(np.gradient(fftshift(beta), 2*pi*df))\n",
    "        beta_2 = fftshift(np.gradient(fftshift(beta_1), 2*pi*df))\n",
    "        vg = 1/beta_1\n",
    "\n",
    "        f_v_ref_index = np.abs(f + f_ref - f_v_ref).argmin()\n",
    "        v_ref = vg[f_v_ref_index]\n",
    "\n",
    "        gvm = 1/v_ref - 1/vg\n",
    "\n",
    "        GVM[kw, ke] = gvm[f0_sh_index]\n",
    "        GVD1[kw, ke] = beta_2[f0_ff_index]\n",
    "        GVD2[kw, ke] = beta_2[f0_sh_index]"
   ]
  },
  {
   "cell_type": "code",
   "execution_count": null,
   "metadata": {},
   "outputs": [],
   "source": [
    "plt.rcParams['figure.figsize'] = [8, 6]\n",
    "X,Y = np.meshgrid(width/um, etch/nm)\n",
    "fig = plt.figure()\n",
    "ax = fig.add_subplot(111)\n",
    "im = ax.pcolormesh(X, Y, (np.transpose(GVM/(fs/mm))), cmap = cc.cm[\"rainbow\"])\n",
    "plt.colorbar(im, ax=ax);"
   ]
  },
  {
   "cell_type": "code",
   "execution_count": null,
   "metadata": {},
   "outputs": [],
   "source": []
  },
  {
   "cell_type": "code",
   "execution_count": null,
   "metadata": {},
   "outputs": [],
   "source": [
    "width = 1000*nm\n",
    "hLN = 350*nm\n",
    "hetch = 250*nm\n",
    "\n",
    "wg = waveguides.waveguide(w_top=width, h_ridge=hLN, h_slab=hLN-hetch)\n",
    "wg.neff(1.6*um)\n",
    "# wg.add_narray(wl_abs) #This calculates neff at all wavelengths"
   ]
  },
  {
   "cell_type": "markdown",
   "metadata": {},
   "source": [
    "# <center> END OF DOCUMENT </center>"
   ]
  }
 ],
 "metadata": {
  "kernelspec": {
   "display_name": "Python 3",
   "language": "python",
   "name": "python3"
  },
  "language_info": {
   "codemirror_mode": {
    "name": "ipython",
    "version": 3
   },
   "file_extension": ".py",
   "mimetype": "text/x-python",
   "name": "python",
   "nbconvert_exporter": "python",
   "pygments_lexer": "ipython3",
   "version": "3.7.6"
  }
 },
 "nbformat": 4,
 "nbformat_minor": 4
}
