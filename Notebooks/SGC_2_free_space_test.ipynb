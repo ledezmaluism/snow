{
 "cells": [
  {
   "cell_type": "markdown",
   "metadata": {},
   "source": [
    "# Supercontinuum and second harmonic generations\n",
    "\n",
    "## Single Envelope\n",
    "\n",
    "Method from [1]. I plan to validate according to their first example, quoting:\n",
    "\n",
    "\"We solved Eq. (11) by a split-step Fourier method exploiting the fourth-order Runge-Kutta scheme for the nonlinear step.\n",
    "In order to show the validity of our equation, we simulated the propagation of a femtosecond pulse in a $L = 5$ mm long periodically poled lithium tantalate sample (PPLT). To model the refractive index dispersion we employed a Sellmeier model fitted from experimental data [13] and a nonlinear coefficient of $d_{33} = \\chi^{(2)}_{LT}/2 = 10.6$ pm/V. In the numerical code wei nserted the exact dispersion relation $k(ω)$. We assumed a first-order quasi-phase-matching (QPM) grating, with a period $\\Lambda = 17.4$ μm. We thus allowed a periodic variation of the nonlinear coefficient $\\chi^{(2)} = \\chi^{(2)}(z) = 2/\\pi \\chi^{(2)}_{LT} e^{i2π/\\Lambda z} + c.c.$ We injected a $T = 60$ fs FWHM long Gaussian pulse, centered around 1400 nm, with I = 10 GW/cm2 peak intensity. The corresponding residual phase mismatch is $k = 2k(ωin) − k(2ωin) = 10 000$ m$^{−1}$, where $\\omega_{in}$ is the carrier frequency of the input pulse. In the simulation we set the reference frequency $\\omega_0$ to be equal to the second harmonic of the input pulse: in this way the second harmonic is stationary in the reference frame $(z,τ)$.\"\n",
    "\n",
    "[1]M. Conforti, F. Baronio, and C. De Angelis, “Nonlinear envelope equation for broadband optical pulses in quadratic media,” Phys. Rev. A, vol. 81, no. 5, p. 053841, May 2010, doi: 10.1103/PhysRevA.81.053841."
   ]
  },
  {
   "cell_type": "markdown",
   "metadata": {},
   "source": [
    "We begin by the typical Python imports."
   ]
  },
  {
   "cell_type": "code",
   "execution_count": null,
   "metadata": {},
   "outputs": [],
   "source": [
    "import numpy as np\n",
    "from numpy.fft import fft, ifft, fftshift, fftfreq\n",
    "import matplotlib.pyplot as plt\n",
    "import time\n",
    "from scipy import fftpack as sp\n",
    "from scipy import signal\n",
    "import copy\n",
    "from matplotlib import cm\n",
    "import colorcet as cc\n",
    "from matplotlib.colors import Normalize\n",
    "\n",
    "#This are my libraries\n",
    "import nlo \n",
    "import materials\n",
    "import waveguides\n",
    "from util import sech"
   ]
  },
  {
   "cell_type": "markdown",
   "metadata": {},
   "source": [
    "## Units\n",
    "We'll work in SI units. Mostly in base units."
   ]
  },
  {
   "cell_type": "code",
   "execution_count": null,
   "metadata": {},
   "outputs": [],
   "source": [
    "from scipy.constants import pi, c, epsilon_0"
   ]
  },
  {
   "cell_type": "markdown",
   "metadata": {},
   "source": [
    "## Time and Frequency domain windows"
   ]
  },
  {
   "cell_type": "markdown",
   "metadata": {},
   "source": [
    "Now we need to determine an FFT size $N$, this will be the common size for the time and frequency axis in our simulations. We also need to select how large the time window $2 T_{\\mathrm{max}}$ for our simulations will be. The time window needs to be large enough so that pulses don't reach the edge of the domain at any point. Since we'll usually pick a reference frame that moves with one of the pulses, then how much the other pulses travel depends on the respective group velocity mismatch. The sampling period $\\Delta t$ will be determined by the size of the window and the number of points; Nyquist criteria must be satisfied as usual.\n",
    "\n",
    "Once the number of points and time-window has been selected, the frequency grid is fixed by the FFT, with a frequency resolution\n",
    "$$ F_s = \\frac{1}{N \\Delta t},$$\n",
    "the minimum relative frequency is 0 while the maximum is\n",
    "$$ BW = \\frac{1}{\\Delta t}.$$\n",
    "The maximum relative frequency should alway be below the desired absolute carrier frequency. So the longest wavelength allowed becomes:\n",
    "$$ \\lambda_{\\mathrm{max}} = \\frac{c}{F_{\\mathrm{max}}} = 2c\\Delta t $$\n",
    "\n",
    "The reference frequency $f_{ref}$ can be chosen arbitrarely, but without more information a good start point could be the geometric mean between the min and max frequencies of interest, shifted by fmin."
   ]
  },
  {
   "cell_type": "code",
   "execution_count": null,
   "metadata": {},
   "outputs": [],
   "source": [
    "wl_max = 2.5e-6\n",
    "wl_min = 0.3e-6\n",
    "f_max = c/wl_min\n",
    "f_min = c/wl_max\n",
    "f_ref = 400e12\n",
    "\n",
    "omega_ref = 2*pi*f_ref\n",
    "wl_ref = c/f_ref\n",
    "BW = f_max-f_min #This is the bandwidth desired\n",
    "dt = 1/BW\n",
    "NFFT = 2**13 #Number of FFT points\n",
    "Twindow = dt*NFFT\n",
    "print('Reference wavelength = %0.1f nm' %(wl_ref*1e9))\n",
    "print('Reference frequency = %0.1f THz' %(f_ref*1e-12))\n",
    "print('Min absolute frequency needed = %0.1f THz' %(f_min*1e-12))\n",
    "print('Max absolute frequency needed = %0.1f THz' %(f_max*1e-12))\n",
    "print('Bandwidth needed = %0.1f THz' %(BW*1e-12))\n",
    "print('Time resolution needed = %0.3f fs' %(dt*1e15))\n",
    "print('Maximum size of time window based on %i FFT points = %0.3f fs' %(NFFT, Twindow*1e15))\n",
    "print('\\n')\n",
    "\n",
    "\n",
    "Twindow = 12e-12\n",
    "t = np.linspace(-Twindow/2, Twindow/2, NFFT)\n",
    "dt = t[1]-t[0] #Sampling period\n",
    "f = fftfreq(NFFT, dt)\n",
    "omega = 2*pi*f\n",
    "df = f[1]-f[0]\n",
    "print('Actual time window chosen = %0.3f fs' %(Twindow*1e15))\n",
    "print('Actual Sampling Rate = %0.3f fs' %(dt*1e15))\n",
    "print('Frequency Resolution = %0.3f THz' %(df*1e-12))\n",
    "print('Minimum absolute frequency = %0.3f THz' %((np.min(f) + f_ref)*1e-12))\n",
    "print('Maximum absolute frequency = %0.3f THz' %((np.max(f) + f_ref)*1e-12))"
   ]
  },
  {
   "cell_type": "markdown",
   "metadata": {},
   "source": [
    "## Input pulse creation"
   ]
  },
  {
   "cell_type": "code",
   "execution_count": null,
   "metadata": {},
   "outputs": [],
   "source": [
    "#Parameters\n",
    "# wl0 = 1.55e-6 #center wavelength\n",
    "# f0 = c/wl0\n",
    "f0 = 200e12\n",
    "wl0 = c/f0\n",
    "delta_omega = 2*pi*(f0 - f_ref)\n",
    "\n",
    "#get the f0 frequency index\n",
    "f0_index = np.abs(f+f_ref - f0).argmin()\n",
    "\n",
    "# pulse_energy = 100e-12\n",
    "pulse_energy = 100e-12\n",
    "\n",
    "tau = 60e-15 #Pulse width\n",
    "\n",
    "#Pulse creation\n",
    "frep = 10e9\n",
    "pulse = np.sqrt(0.939*pulse_energy/tau)*np.exp(-2*np.log(2)*(t/tau)**2)*np.exp(1j*delta_omega*t)\n",
    "noise = 1e-20*np.random.normal(size=NFFT)\n",
    "pulse = pulse + noise\n",
    "pulse_energy = nlo.energy_td(t, pulse) #To check that everything went well\n",
    "\n",
    "print('Center Wavelength = %0.3f um' %(wl0*1e6))\n",
    "print('Center frequency = %0.3f THz' %(f0*1e-12))\n",
    "print('FWHM = %0.3f fs' %(nlo.FWHM(t, pulse)*1e15))\n",
    "print('Pulse Energy = %0.3f pJ' %(pulse_energy*1e12))\n",
    "print('Pulse peak power = %0.3f W' %(pulse_energy/tau))\n",
    "print('Comb average power = %0.3f mW' %(pulse_energy*frep*1e3))\n",
    "\n",
    "plt.rcParams['figure.figsize'] = [15, 10]\n",
    "fig = plt.figure()\n",
    "ax1 = fig.add_subplot(221)\n",
    "ax2 = fig.add_subplot(222)\n",
    "ax3 = fig.add_subplot(223)\n",
    "ax4 = fig.add_subplot(224)\n",
    "nlo.plot_magsq(t*1e15, pulse, ax=ax1);\n",
    "nlo.plot_ESD_dB(t*1e12, pulse, ax=ax2)\n",
    "nlo.plot_ESD_dB_absfreq(t*1e12, pulse, f_ref*1e-12, ax=ax3)\n",
    "nlo.plot_ESD_dB_vs_wavelength(t, pulse, f_ref, ax=ax4)\n",
    "\n",
    "ax2.scatter(f[f0_index]*1e-12, 0, c='k');\n",
    "ax3.scatter((f[f0_index]+f_ref)*1e-12, 0, c='k');\n",
    "ax4.scatter(c/(f[f0_index]+f_ref)*1e6, 0, c='k');"
   ]
  },
  {
   "cell_type": "markdown",
   "metadata": {},
   "source": [
    "## Waveguides"
   ]
  },
  {
   "cell_type": "code",
   "execution_count": null,
   "metadata": {},
   "outputs": [],
   "source": [
    "def get_waveguide_dispersion():\n",
    "    #Waveguide geometry\n",
    "    etch = 0.35\n",
    "    hridge = 0.7\n",
    "    hslab = hridge - etch\n",
    "    wridge = 1.5\n",
    "    \n",
    "    #Effective index calculation\n",
    "    neff = np.zeros(f.shape)\n",
    "    for kf in range(f.size):\n",
    "        freq = f[kf] + f_ref\n",
    "        wl = c/freq*1e6 #Wavelength in microns\n",
    "\n",
    "        #Material properties (frequency dependent)\n",
    "        n0 = 1\n",
    "        nLN = materials.refractive_index('LN_MgO_e', wl)\n",
    "        nSiO2 = materials.refractive_index('SiO2', wl)\n",
    "\n",
    "        neff[kf] = waveguides.neff_ridge(wl, nridge=nLN, nbox=nSiO2, nclad=n0, w=wridge, h=hridge, hslab=hslab)\n",
    "    \n",
    "    return neff\n",
    "\n",
    "neff = get_waveguide_dispersion()"
   ]
  },
  {
   "cell_type": "code",
   "execution_count": null,
   "metadata": {},
   "outputs": [],
   "source": [
    "plt.rcParams['figure.figsize'] = [10, 5]\n",
    "plt.plot(fftshift(f+f_ref)*1e-12, fftshift(neff));\n",
    "plt.scatter((f[0]+f_ref)*1e-12, neff[0], c='k');\n",
    "plt.scatter((f[f0_index]+f_ref)*1e-12, neff[f0_index], c='r');\n",
    "plt.xlabel('Fourier Frequency (THz)');\n",
    "plt.ylabel('Effective Index');\n",
    "plt.grid(True)"
   ]
  },
  {
   "cell_type": "markdown",
   "metadata": {},
   "source": [
    "The higher order dispersion operator is\n",
    "$$D = \\beta(\\Omega) - \\beta_0(\\Omega=0) - \\beta_1(\\Omega=0) \\Omega$$."
   ]
  },
  {
   "cell_type": "code",
   "execution_count": null,
   "metadata": {},
   "outputs": [],
   "source": [
    "beta = (omega+omega_ref)*neff/c\n",
    "beta_1 = np.gradient(beta, 2*pi*df)\n",
    "beta_2 = np.gradient(beta_1, 2*pi*df)\n",
    "\n",
    "beta_ref = beta[0]\n",
    "# beta_1_ref = beta_1[f0_index]\n",
    "beta_1_ref = beta_1[0]\n",
    "D = beta - beta_ref - beta_1_ref*omega\n",
    "\n",
    "plt.rcParams['figure.figsize'] = [10, 5]\n",
    "plt.plot(fftshift(f)*1e-12, fftshift(D));\n",
    "plt.xlabel('Fourier Frequency (THz)');\n",
    "plt.grid(True)\n",
    "plt.ylabel('Higher order dispersion');\n",
    "\n",
    "#Some extra information\n",
    "Ld = (tau)**2/(4*np.log(2)*abs(beta_2))\n",
    "GVM = 1/beta_1[f0_index] - 1/beta_1_ref\n",
    "\n",
    "print('GVD at %0.3f um = %0.3f fs^2/mm' %(wl_ref*1e6, beta_2[0]*1e27))\n",
    "print('GVD at %0.3f um = %0.3f fs^2/mm' %(wl0*1e6, beta_2[f0_index]*1e27))\n",
    "print('Dispersion Length for Gaussian pulse at %0.3f um = %0.3f mm' %(wl_ref*1e6, Ld[0]*1e3))\n",
    "print('Dispersion Length for Gaussian pulse at %0.3f um = %0.3f mm' %(wl0*1e6, Ld[f0_index]*1e3))\n",
    "print('Group velocity of %0.3f um wave in moving reference plane = %0.3f mm/ps' %(wl0*1e6, GVM*1e3*1e-12))"
   ]
  },
  {
   "cell_type": "markdown",
   "metadata": {},
   "source": [
    "Poling period for SHG:\n",
    "$$\n",
    "\\Lambda = \\frac{\\lambda_{2\\omega}}{n_{2\\omega} - n_\\omega}\n",
    "$$"
   ]
  },
  {
   "cell_type": "code",
   "execution_count": null,
   "metadata": {},
   "outputs": [],
   "source": [
    "n2w = neff[np.abs(f+f_ref - 2*f0).argmin()]\n",
    "nw = neff[np.abs(f+f_ref - f0).argmin()]\n",
    "pp = (wl0/2)/(n2w-nw)\n",
    "print('Poling period for SHG starting at %0.3f um is %0.3f um' %(wl0*1e6, pp*1e6))"
   ]
  },
  {
   "cell_type": "markdown",
   "metadata": {},
   "source": [
    "## Nonlinear  Stuff"
   ]
  },
  {
   "cell_type": "code",
   "execution_count": null,
   "metadata": {},
   "outputs": [],
   "source": [
    "def poling_rectangular(z, pp):\n",
    "    return np.sign(np.cos(z*2*pi/pp))\n",
    "\n",
    "def poling_sinusoidal(z, pp):\n",
    "    return np.cos(z*2*pi/pp)\n",
    "\n",
    "def chi2(z):\n",
    "    poling = poling_rectangular(z, pp)\n",
    "#     poling = 1\n",
    "    return 2*d33*poling\n",
    "\n",
    "def chi(z):\n",
    "    return chi2(z)*omega_ref/(2*neff[0]*c)\n",
    "\n",
    "def nonlinear_operator(z, A):\n",
    "    phi = omega_ref*t - (beta_ref - beta_1_ref*omega_ref)*z\n",
    "    f1 = A*A*np.exp(1j*phi) + 2*A*np.conj(A)*np.exp(-1j*phi)\n",
    "    f1_deriv = np.gradient(f1, dt)\n",
    "    f = -1j*chi(z)*f1 - 1*(chi(z)/omega_ref)*f1_deriv\n",
    "    return f"
   ]
  },
  {
   "cell_type": "code",
   "execution_count": null,
   "metadata": {},
   "outputs": [],
   "source": [
    "def propagate(A, D):\n",
    "    \n",
    "    A_evol = 1j*np.zeros([t.size, Nsteps+1])\n",
    "    A_evol[:,0] = A #Initial value\n",
    "    \n",
    "    Da = np.exp(-1j*D*h)\n",
    "    z = 0\n",
    "    \n",
    "    for kz in range(Nsteps):\n",
    "        #Linear step\n",
    "        A = ifft(Da*fft(A))\n",
    "\n",
    "        #Nonlinear step\n",
    "        #Runge-Kutta 4th order\n",
    "        k1 = nonlinear_operator(z    , A       )\n",
    "        k2 = nonlinear_operator(z+h/2, A+h*k1/2)\n",
    "        k3 = nonlinear_operator(z+h/2, A+h*k2/2)\n",
    "        k4 = nonlinear_operator(z+h  , A+h*k3  )\n",
    "\n",
    "        z = z + h\n",
    "        A = A + (h/6)*(k1+2*k2+2*k3+k4) \n",
    "        \n",
    "        A_evol[:, kz+1] = A\n",
    "    \n",
    "    return A, A_evol"
   ]
  },
  {
   "cell_type": "code",
   "execution_count": null,
   "metadata": {},
   "outputs": [],
   "source": [
    "#Crystal parameters\n",
    "L = 3e-3\n",
    "h = 1e-3/50\n",
    "Nsteps = int(L/h)\n",
    "d33 = 1e-7\n",
    "pp = pp\n",
    "\n",
    "print('Crystal length = %0.2f mm' %(L*1e3))\n",
    "print('Step size = %0.2f um' %(h*1e6))\n",
    "print('Number of steps = %i' %(Nsteps))\n",
    "print('Nonlinear coefficient, d33 = %0.2f pm/V' %(d33*1e12))\n",
    "print('Using periodic poling with period = %0.3f um' %(pp*1e6))"
   ]
  },
  {
   "cell_type": "markdown",
   "metadata": {},
   "source": [
    "## Single pass"
   ]
  },
  {
   "cell_type": "code",
   "execution_count": null,
   "metadata": {},
   "outputs": [],
   "source": [
    "[a, a_evol] = propagate(pulse, D)\n",
    "ax1 = nlo.plot_magsq(t, a)\n",
    "ax1 = nlo.plot_magsq(t, pulse, ax=ax1)"
   ]
  },
  {
   "cell_type": "code",
   "execution_count": null,
   "metadata": {},
   "outputs": [],
   "source": [
    "X,Y = np.meshgrid(t*1e15, np.arange(Nsteps+1)*h*1e3)\n",
    "plt.pcolormesh(X, Y, (np.transpose(np.abs(a_evol))))\n",
    "plt.xlabel('Time (fs)')\n",
    "plt.ylabel('Propagation distance (mm)')\n",
    "plt.colorbar()"
   ]
  },
  {
   "cell_type": "code",
   "execution_count": null,
   "metadata": {},
   "outputs": [],
   "source": [
    "plt.pcolormesh(X, Y, (np.log10(np.transpose(np.abs(a_evol)))))\n",
    "plt.xlabel('Time (fs)')\n",
    "plt.ylabel('Propagation distance (mm)')\n",
    "plt.colorbar()"
   ]
  },
  {
   "cell_type": "code",
   "execution_count": null,
   "metadata": {
    "scrolled": false
   },
   "outputs": [],
   "source": [
    "A_evol = np.zeros((t.size, Nsteps+1))\n",
    "\n",
    "for k in range(Nsteps+1):\n",
    "    x = a_evol[:,k]\n",
    "    _ , Aesd = nlo.get_esd(t*1e15, x)\n",
    "    A_evol[:,k] = 10*np.log10(Aesd)\n",
    "\n",
    "A_evol = A_evol - np.amax(A_evol)\n",
    "A_evol = fftshift(A_evol, axes=0)\n",
    "\n",
    "X,Y = np.meshgrid(fftshift(f+f_ref)*1e-12, np.arange(Nsteps+1)*h*1e3)\n",
    "plt.figure()\n",
    "plt.pcolormesh(X, Y, (np.transpose(A_evol)), cmap = cc.cm[\"fire\"], vmin=-80, vmax=0)\n",
    "cb = plt.colorbar()\n",
    "cb.set_label('Relative PSD (dB)')\n",
    "plt.xlabel('Frequency THz')\n",
    "plt.ylabel('Propagation distance (mm)');\n",
    "\n",
    "wl_max = 2\n",
    "wl_array = c/(fftshift(f)+f_ref)*1e6\n",
    "wl_max_idx = np.abs(wl_array - wl_max).argmin()\n",
    "wl_array = wl_array[wl_max_idx:]\n",
    "Xwl,Ywl = np.meshgrid(wl_array, np.arange(Nsteps+1)*h*1e3)\n",
    "plt.figure()\n",
    "plt.pcolormesh(Xwl, Ywl, (np.transpose(A_evol[wl_max_idx:, :])), cmap = cc.cm[\"fire\"], vmin=-80, vmax=0)\n",
    "cb = plt.colorbar()\n",
    "cb.set_label('Relative PSD (dB)')\n",
    "plt.xlabel('Wavelength (um)')\n",
    "plt.ylabel('Propagation distance (mm)');"
   ]
  },
  {
   "cell_type": "markdown",
   "metadata": {},
   "source": [
    "## Filter and plot harmonics"
   ]
  },
  {
   "cell_type": "code",
   "execution_count": null,
   "metadata": {},
   "outputs": [],
   "source": [
    "fs=1/dt*1e-12\n",
    "sos = signal.butter(15, [0.45, 0.55], 'bandpass', output='sos')\n",
    "w, hfilter = signal.sosfreqz(sos, worN=NFFT)\n",
    "\n",
    "ax1 = nlo.plot_ESD_dB_absfreq(t*1e12, a, f_ref*1e-12)\n",
    "ax1 = nlo.plot_ESD_dB_absfreq(t*1e12, pulse, f_ref*1e-12, ax=ax1)\n",
    "ax1.plot(fftshift(f+f_ref)*1e-12, 20*np.log10(abs(hfilter)));\n",
    "ax1.set_ylim([-100,10])"
   ]
  },
  {
   "cell_type": "code",
   "execution_count": null,
   "metadata": {},
   "outputs": [],
   "source": [
    "filtered = ifft(fft(a)*fftshift(hfilter))\n",
    "ax1 = nlo.plot_ESD_dB_absfreq(t*1e12, a, f_ref*1e-12)\n",
    "ax1 = nlo.plot_ESD_dB_absfreq(t*1e12, pulse, f_ref*1e-12, ax=ax1)\n",
    "ax1 = nlo.plot_ESD_dB_absfreq(t*1e12, filtered, f_ref*1e-12, ax=ax1)"
   ]
  },
  {
   "cell_type": "code",
   "execution_count": null,
   "metadata": {},
   "outputs": [],
   "source": [
    "ax1 = nlo.plot_magsq(t*1e15, filtered)"
   ]
  },
  {
   "cell_type": "code",
   "execution_count": null,
   "metadata": {},
   "outputs": [],
   "source": [
    "ax1 = nlo.plot_magsq(t*1e15, filtered)\n",
    "ax1 = nlo.plot_magsq(t*1e15, a, ax=ax1)\n",
    "ax1 = nlo.plot_magsq(t*1e15, pulse, ax=ax1, ylim=[0,100], xlim=[-2000,2000])"
   ]
  }
 ],
 "metadata": {
  "kernelspec": {
   "display_name": "Python 3",
   "language": "python",
   "name": "python3"
  },
  "language_info": {
   "codemirror_mode": {
    "name": "ipython",
    "version": 3
   },
   "file_extension": ".py",
   "mimetype": "text/x-python",
   "name": "python",
   "nbconvert_exporter": "python",
   "pygments_lexer": "ipython3",
   "version": "3.7.6"
  }
 },
 "nbformat": 4,
 "nbformat_minor": 2
}
