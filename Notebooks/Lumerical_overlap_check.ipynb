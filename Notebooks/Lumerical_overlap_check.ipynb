{
 "cells": [
  {
   "cell_type": "markdown",
   "metadata": {},
   "source": [
    "View saved data."
   ]
  },
  {
   "cell_type": "code",
   "execution_count": 1,
   "metadata": {},
   "outputs": [],
   "source": [
    "import lumerical as lum\n",
    "import numpy as  np\n",
    "import matplotlib.pyplot as plt\n",
    "import matplotlib.cm as cm\n",
    "import imp\n",
    "import time\n",
    "import os\n",
    "from scipy.integrate import simps"
   ]
  },
  {
   "cell_type": "code",
   "execution_count": 2,
   "metadata": {},
   "outputs": [],
   "source": [
    "data_filename = 'Data\\LNoI_700nm_340nm_width_1850nm_wl_1998_mode_0.npz'\n",
    "data_directory = 'Data'\n",
    "file = np.load(data_filename, allow_pickle=True)"
   ]
  },
  {
   "cell_type": "code",
   "execution_count": 3,
   "metadata": {},
   "outputs": [],
   "source": [
    "from scipy.constants import pi, c, epsilon_0\n",
    "um = 1e-6\n",
    "nm = 1e-9\n",
    "pm = 1e-12\n",
    "THz = 1e12"
   ]
  },
  {
   "cell_type": "code",
   "execution_count": 4,
   "metadata": {},
   "outputs": [
    {
     "name": "stdout",
     "output_type": "stream",
     "text": [
      "Data\\LNoI_700nm_340nm_width_1850nm_wl_1090_mode_2.npz\n",
      "Data\\LNoI_700nm_340nm_width_1850nm_wl_1199_mode_1.npz\n",
      "Data\\LNoI_700nm_340nm_width_1850nm_wl_1332_mode_1.npz\n",
      "Data\\LNoI_700nm_340nm_width_1850nm_wl_1499_mode_1.npz\n",
      "Data\\LNoI_700nm_340nm_width_1850nm_wl_1713_mode_0.npz\n",
      "Data\\LNoI_700nm_340nm_width_1850nm_wl_1998_mode_0.npz\n",
      "Data\\LNoI_700nm_340nm_width_1850nm_wl_2398_mode_0.npz\n",
      "Data\\LNoI_700nm_340nm_width_1850nm_wl_2997_mode_0.npz\n",
      "Data\\LNoI_700nm_340nm_width_1850nm_wl_3997_mode_0.npz\n",
      "Data\\LNoI_700nm_340nm_width_1850nm_wl_571_mode_7.npz\n",
      "Data\\LNoI_700nm_340nm_width_1850nm_wl_599_mode_5.npz\n",
      "Data\\LNoI_700nm_340nm_width_1850nm_wl_631_mode_4.npz\n",
      "Data\\LNoI_700nm_340nm_width_1850nm_wl_666_mode_4.npz\n",
      "Data\\LNoI_700nm_340nm_width_1850nm_wl_705_mode_4.npz\n",
      "Data\\LNoI_700nm_340nm_width_1850nm_wl_749_mode_3.npz\n",
      "Data\\LNoI_700nm_340nm_width_1850nm_wl_799_mode_3.npz\n",
      "Data\\LNoI_700nm_340nm_width_1850nm_wl_856_mode_3.npz\n",
      "Data\\LNoI_700nm_340nm_width_1850nm_wl_922_mode_2.npz\n",
      "Data\\LNoI_700nm_340nm_width_1850nm_wl_999_mode_2.npz\n"
     ]
    }
   ],
   "source": [
    "num_files = len(os.listdir(data_directory))\n",
    "N = np.zeros(num_files)\n",
    "wavelength = np.zeros(num_files)\n",
    "kf = 0\n",
    "for filename in os.listdir(data_directory):\n",
    "    if filename.endswith(\".npz\"):\n",
    "        data_filename = os.path.join(data_directory, filename)\n",
    "        print(data_filename)\n",
    "        file = np.load(data_filename, allow_pickle=True)\n",
    "        N[kf] = file['Norm']\n",
    "        wavelength[kf] = file['wavelength']\n",
    "        kf += 1"
   ]
  },
  {
   "cell_type": "code",
   "execution_count": 5,
   "metadata": {},
   "outputs": [
    {
     "name": "stdout",
     "output_type": "stream",
     "text": [
      "[ 75. 100. 125. 150. 175. 200. 225. 250. 275. 300. 325. 350. 375. 400.\n",
      " 425. 450. 475. 500. 525.]\n"
     ]
    }
   ],
   "source": [
    "freqs = c/wavelength\n",
    "sort_idx = np.argsort(freqs)\n",
    "wavelength = wavelength[sort_idx]\n",
    "freqs = freqs[sort_idx]\n",
    "N = N[sort_idx]\n",
    "print(freqs/THz)"
   ]
  },
  {
   "cell_type": "code",
   "execution_count": 6,
   "metadata": {},
   "outputs": [
    {
     "data": {
      "text/plain": [
       "[<matplotlib.lines.Line2D at 0x1587a460d48>]"
      ]
     },
     "execution_count": 6,
     "metadata": {},
     "output_type": "execute_result"
    },
    {
     "data": {
      "image/png": "[encoded data removed]",
      "text/plain": [
       "<Figure size 432x288 with 1 Axes>"
      ]
     },
     "metadata": {
      "needs_background": "light"
     },
     "output_type": "display_data"
    }
   ],
   "source": [
    "plt.plot(freqs/THz, N)"
   ]
  },
  {
   "cell_type": "code",
   "execution_count": 7,
   "metadata": {},
   "outputs": [],
   "source": [
    "# h_LN = file['h_LN']\n",
    "# h_etch = file['h_etch']\n",
    "# width_top = file['width_top']\n",
    "# theta = file['theta']\n",
    "# h_slab = h_LN - h_etch\n",
    "# w_ridge_base = width_top + 2*h_etch/np.tan(theta*pi/180)\n",
    "\n",
    "# print('slab thickness = %.1f nm' %(h_slab/nm))\n",
    "# print('width at the base = %.3f um' %(w_ridge_base/um))\n",
    "\n",
    "# wavelength = file['wavelength']\n",
    "# M = file['M']\n",
    "# neff = file['neff']\n",
    "# tepf = file['tepf']\n",
    "# N = file['Norm']\n",
    "\n",
    "# M = M.item(0)"
   ]
  },
  {
   "cell_type": "markdown",
   "metadata": {},
   "source": [
    "## Overlap integrals"
   ]
  },
  {
   "cell_type": "markdown",
   "metadata": {},
   "source": [
    "Nonlinear susceptibility tensor"
   ]
  },
  {
   "cell_type": "code",
   "execution_count": 8,
   "metadata": {},
   "outputs": [
    {
     "name": "stdout",
     "output_type": "stream",
     "text": [
      "[[ 0.0e+00  0.0e+00  0.0e+00  0.0e+00 -4.6e-12 -2.2e-12]\n",
      " [-2.2e-12  2.2e-12  0.0e+00 -4.6e-12  0.0e+00  0.0e+00]\n",
      " [-4.6e-12 -4.6e-12 -2.5e-11  0.0e+00  0.0e+00  0.0e+00]]\n"
     ]
    }
   ],
   "source": [
    "d31 = -4.6*pm\n",
    "d22 = 2.2*pm\n",
    "d33 = -25*pm\n",
    "d = np.array([[0, 0, 0, 0, d31, -d22], [-d22, d22, 0, d31, 0, 0], [d31, d31, d33, 0, 0, 0]])\n",
    "print(d)"
   ]
  },
  {
   "cell_type": "code",
   "execution_count": 9,
   "metadata": {},
   "outputs": [],
   "source": [
    "def permute_axes(A):\n",
    "    Bx = A.y\n",
    "    By = A.z\n",
    "    Bz = A.x\n",
    "    return lum.field_2D(A.xx, A.yy, Bx, By, Bz)"
   ]
  },
  {
   "cell_type": "code",
   "execution_count": 41,
   "metadata": {},
   "outputs": [],
   "source": [
    "def X_func(Ea,Eb,Ec):\n",
    "    \n",
    "    #Need to map lumerical coordinate system to crystal axes\n",
    "    z = Ea.xx #Horizontal Z-crystal\n",
    "    x = Ea.yy #Vertical X-crystal\n",
    "    \n",
    "    E1 = permute_axes(Ea)\n",
    "    E2 = permute_axes(Eb)\n",
    "    E3 = permute_axes(Ec)\n",
    "    \n",
    "    P_x = 2*d[0,4]*(E2.z*E3.x + E3.z*E2.x) + 2*d[0,5]*(E2.x*E3.y + E3.x*E2.y)\n",
    "    P_y = 2*d[1,0]*E2.x*E3.x + 2*d[1,1]*E2.y*E3.y + 2*d[1,3]*(E2.z*E3.y + E3.z*E2.y)\n",
    "    P_z = 2*d[2,0]*E2.x*E3.x + 2*d[2,1]*E2.y*E3.y + 2*d[2,2]*E2.z*E3.z\n",
    "    P = lum.field_2D(z, x, P_x, P_y, P_z)\n",
    "#     print('E1 max sq = ', np.amax(E1.magsq()))\n",
    "#     print('E2 max sq = ', np.amax(E2.magsq()))\n",
    "#     print('E3 max sq = ', np.amax(E3.magsq()))\n",
    "#     print('P max sq = ', np.amax(P.magsq()))\n",
    "    \n",
    "    integrand = P.dot(E1.conj())\n",
    "#     print('Integrand max abs = ', np.amax(abs(integrand)))\n",
    "    \n",
    "    return epsilon_0*simps(simps(integrand, x), z)\n",
    "#     return simps(simps(integrand, x), z)"
   ]
  },
  {
   "cell_type": "code",
   "execution_count": 11,
   "metadata": {},
   "outputs": [],
   "source": [
    "def get_field(f0, margin=10e9):\n",
    "    for filename in os.listdir(data_directory):\n",
    "        if filename.endswith(\".npz\"):\n",
    "            data_filename = os.path.join(data_directory, filename)\n",
    "            file = np.load(data_filename, allow_pickle=True)\n",
    "            freq = c/file['wavelength']\n",
    "            if abs(freq-f0)<margin:\n",
    "                print('Found file: ', filename)\n",
    "                M = file['M'].item(0)\n",
    "                return M.E"
   ]
  },
  {
   "cell_type": "code",
   "execution_count": 29,
   "metadata": {},
   "outputs": [
    {
     "name": "stdout",
     "output_type": "stream",
     "text": [
      "Found file:  LNoI_700nm_340nm_width_1850nm_wl_1499_mode_1.npz\n",
      "Found file:  LNoI_700nm_340nm_width_1850nm_wl_749_mode_3.npz\n",
      "Found file:  LNoI_700nm_340nm_width_1850nm_wl_1499_mode_1.npz\n"
     ]
    }
   ],
   "source": [
    "f = 200*THz #Main frequency\n",
    "fprime = 400*THz\n",
    "fdelta = f - fprime\n",
    "\n",
    "E1 = get_field(f)\n",
    "E2 = get_field(fprime)\n",
    "E3 = get_field(abs(fdelta))\n",
    "\n",
    "N1 = N[freqs==f]\n",
    "N2 = N[freqs==fprime]\n",
    "N3 = N[freqs==abs(fdelta)]\n",
    "\n",
    "E1.rescale(1/np.sqrt(N1))\n",
    "E2.rescale(1/np.sqrt(N2))\n",
    "E3.rescale(1/np.sqrt(N3))"
   ]
  },
  {
   "cell_type": "code",
   "execution_count": 30,
   "metadata": {
    "scrolled": true
   },
   "outputs": [
    {
     "name": "stdout",
     "output_type": "stream",
     "text": [
      "E1 max sq =  605486921231838.8\n",
      "E2 max sq =  730533121682206.8\n",
      "E3 max sq =  605486921231838.8\n",
      "P max sq =  1105175345.6723325\n",
      "Integrand max abs =  817917819739.7555\n"
     ]
    },
    {
     "data": {
      "text/plain": [
       "(-2.8703204354042467e-12-7.108299827201069e-29j)"
      ]
     },
     "execution_count": 30,
     "metadata": {},
     "output_type": "execute_result"
    }
   ],
   "source": [
    "X_func(E1, E2, E3)"
   ]
  },
  {
   "cell_type": "code",
   "execution_count": 31,
   "metadata": {},
   "outputs": [
    {
     "name": "stdout",
     "output_type": "stream",
     "text": [
      "E1 max sq =  605486921231838.8\n",
      "E2 max sq =  730533121682206.8\n",
      "E3 max sq =  605486921231838.8\n",
      "P max sq =  1105175345.6723325\n",
      "Integrand max abs =  817917819739.7555\n"
     ]
    },
    {
     "data": {
      "text/plain": [
       "(-2.8703204354042467e-12+7.106799869440528e-29j)"
      ]
     },
     "execution_count": 31,
     "metadata": {},
     "output_type": "execute_result"
    }
   ],
   "source": [
    "X_func(E1, E2.conj(), E3)"
   ]
  },
  {
   "cell_type": "code",
   "execution_count": 43,
   "metadata": {},
   "outputs": [
    {
     "name": "stdout",
     "output_type": "stream",
     "text": [
      "Found file:  LNoI_700nm_340nm_width_1850nm_wl_1499_mode_1.npz\n",
      "Found file:  LNoI_700nm_340nm_width_1850nm_wl_3997_mode_0.npz\n",
      "Found file:  LNoI_700nm_340nm_width_1850nm_wl_2398_mode_0.npz\n",
      "\n",
      "Found file:  LNoI_700nm_340nm_width_1850nm_wl_1499_mode_1.npz\n",
      "Found file:  LNoI_700nm_340nm_width_1850nm_wl_2997_mode_0.npz\n",
      "Found file:  LNoI_700nm_340nm_width_1850nm_wl_2997_mode_0.npz\n",
      "\n",
      "Found file:  LNoI_700nm_340nm_width_1850nm_wl_1499_mode_1.npz\n",
      "Found file:  LNoI_700nm_340nm_width_1850nm_wl_2398_mode_0.npz\n",
      "Found file:  LNoI_700nm_340nm_width_1850nm_wl_3997_mode_0.npz\n",
      "\n",
      "Found file:  LNoI_700nm_340nm_width_1850nm_wl_1499_mode_1.npz\n",
      "Found file:  LNoI_700nm_340nm_width_1850nm_wl_1090_mode_2.npz\n",
      "Found file:  LNoI_700nm_340nm_width_1850nm_wl_3997_mode_0.npz\n",
      "\n",
      "Found file:  LNoI_700nm_340nm_width_1850nm_wl_1499_mode_1.npz\n",
      "Found file:  LNoI_700nm_340nm_width_1850nm_wl_999_mode_2.npz\n",
      "Found file:  LNoI_700nm_340nm_width_1850nm_wl_2997_mode_0.npz\n",
      "\n",
      "Found file:  LNoI_700nm_340nm_width_1850nm_wl_1499_mode_1.npz\n",
      "Found file:  LNoI_700nm_340nm_width_1850nm_wl_922_mode_2.npz\n",
      "Found file:  LNoI_700nm_340nm_width_1850nm_wl_2398_mode_0.npz\n",
      "\n",
      "Found file:  LNoI_700nm_340nm_width_1850nm_wl_1499_mode_1.npz\n",
      "Found file:  LNoI_700nm_340nm_width_1850nm_wl_856_mode_3.npz\n",
      "Found file:  LNoI_700nm_340nm_width_1850nm_wl_1998_mode_0.npz\n",
      "\n",
      "Found file:  LNoI_700nm_340nm_width_1850nm_wl_1499_mode_1.npz\n",
      "Found file:  LNoI_700nm_340nm_width_1850nm_wl_799_mode_3.npz\n",
      "Found file:  LNoI_700nm_340nm_width_1850nm_wl_1713_mode_0.npz\n",
      "\n",
      "Found file:  LNoI_700nm_340nm_width_1850nm_wl_1499_mode_1.npz\n",
      "Found file:  LNoI_700nm_340nm_width_1850nm_wl_749_mode_3.npz\n",
      "Found file:  LNoI_700nm_340nm_width_1850nm_wl_1499_mode_1.npz\n",
      "\n",
      "Found file:  LNoI_700nm_340nm_width_1850nm_wl_1499_mode_1.npz\n",
      "Found file:  LNoI_700nm_340nm_width_1850nm_wl_705_mode_4.npz\n",
      "Found file:  LNoI_700nm_340nm_width_1850nm_wl_1332_mode_1.npz\n",
      "\n",
      "Found file:  LNoI_700nm_340nm_width_1850nm_wl_1499_mode_1.npz\n",
      "Found file:  LNoI_700nm_340nm_width_1850nm_wl_666_mode_4.npz\n",
      "Found file:  LNoI_700nm_340nm_width_1850nm_wl_1199_mode_1.npz\n",
      "\n",
      "Found file:  LNoI_700nm_340nm_width_1850nm_wl_1499_mode_1.npz\n",
      "Found file:  LNoI_700nm_340nm_width_1850nm_wl_631_mode_4.npz\n",
      "Found file:  LNoI_700nm_340nm_width_1850nm_wl_1090_mode_2.npz\n",
      "\n",
      "Found file:  LNoI_700nm_340nm_width_1850nm_wl_1499_mode_1.npz\n",
      "Found file:  LNoI_700nm_340nm_width_1850nm_wl_599_mode_5.npz\n",
      "Found file:  LNoI_700nm_340nm_width_1850nm_wl_999_mode_2.npz\n",
      "\n",
      "Found file:  LNoI_700nm_340nm_width_1850nm_wl_1499_mode_1.npz\n",
      "Found file:  LNoI_700nm_340nm_width_1850nm_wl_571_mode_7.npz\n",
      "Found file:  LNoI_700nm_340nm_width_1850nm_wl_922_mode_2.npz\n",
      "\n"
     ]
    }
   ],
   "source": [
    "X = np.zeros(freqs.size)\n",
    "f = 200*THz #Main frequency\n",
    "\n",
    "for kf in np.arange(freqs.size):\n",
    "    fprime = freqs[kf]\n",
    "    fdelta = f - fprime\n",
    "    \n",
    "    if abs(fdelta) in freqs:\n",
    "    \n",
    "        E1 = get_field(f)\n",
    "        E2 = get_field(fprime)\n",
    "        E3 = get_field(abs(fdelta))\n",
    "\n",
    "        N1 = N[freqs==f]\n",
    "        N2 = N[freqs==fprime]\n",
    "        N3 = N[freqs==abs(fdelta)]\n",
    "\n",
    "        E1.rescale(1/np.sqrt(N1))\n",
    "        E2.rescale(1/np.sqrt(N2))\n",
    "        E3.rescale(1/np.sqrt(N3))\n",
    "\n",
    "        X[kf] = np.real(X_func(E1, E2, E3))\n",
    "        print('')"
   ]
  },
  {
   "cell_type": "code",
   "execution_count": 48,
   "metadata": {},
   "outputs": [
    {
     "data": {
      "text/plain": [
       "[<matplotlib.lines.Line2D at 0x1587dbefd48>]"
      ]
     },
     "execution_count": 48,
     "metadata": {},
     "output_type": "execute_result"
    },
    {
     "data": {
      "image/png": "[encoded data removed]",
      "text/plain": [
       "<Figure size 432x288 with 1 Axes>"
      ]
     },
     "metadata": {
      "needs_background": "light"
     },
     "output_type": "display_data"
    }
   ],
   "source": [
    "X[X==0]=np.nan\n",
    "plt.plot(freqs/THz, abs(X))"
   ]
  },
  {
   "cell_type": "markdown",
   "metadata": {},
   "source": [
    "We now map the xyz Lumerical coordinates to the crystal XYZ\n",
    "x -> Z\n",
    "y -> X\n",
    "z -> Y"
   ]
  },
  {
   "cell_type": "code",
   "execution_count": null,
   "metadata": {},
   "outputs": [],
   "source": [
    "z = M1.E.xx\n",
    "x = M1.E.yy\n",
    "\n",
    "Ew = lum.field_2D(z, x, M2.E.y, M2.E.z, M2.E.x)\n",
    "E2w = lum.field_2D(z, x, M1.E.y, M1.E.z, M1.E.x)"
   ]
  },
  {
   "cell_type": "code",
   "execution_count": null,
   "metadata": {},
   "outputs": [],
   "source": [
    "[Z,X] = np.meshgrid(z, x, indexing='ij')\n",
    "plt.rcParams['figure.figsize'] = [16, 6]\n",
    "fig = plt.figure()\n",
    "ax1 = fig.add_subplot(121)\n",
    "ax2 = fig.add_subplot(122)\n",
    "ax1.pcolormesh(Z*1e6, X*1e6, Ew.magsq(), cmap=cm.jet)\n",
    "ax2.pcolormesh(Z*1e6, X*1e6, E2w.magsq(), cmap=cm.jet)\n",
    "ax1.axis('equal')\n",
    "ax2.axis('equal')"
   ]
  },
  {
   "cell_type": "code",
   "execution_count": null,
   "metadata": {},
   "outputs": [],
   "source": [
    "P2w_x = 2*epsilon_0*d[0,4]*2*Ew.z*Ew.x + 2*epsilon_0*d[0,5]*2*Ew.x*Ew.y\n",
    "P2w_y = 2*epsilon_0*d[1,0]*Ew.x*Ew.x + 2*epsilon_0*d[1,1]*Ew.y*Ew.y + 2*epsilon_0*d[1,3]*2*Ew.z*Ew.y \n",
    "P2w_z = 2*epsilon_0*d[2,0]*Ew.x*Ew.x + 2*epsilon_0*d[2,1]*Ew.y*Ew.y + 2*epsilon_0*d[2,2]*Ew.z*Ew.z\n",
    "\n",
    "P2w = lum.field_2D(z, x, P2w_x, P2w_y, P2w_z)"
   ]
  },
  {
   "cell_type": "code",
   "execution_count": null,
   "metadata": {},
   "outputs": [],
   "source": [
    "plt.rcParams['figure.figsize'] = [16, 4]\n",
    "fig = plt.figure()\n",
    "ax1 = fig.add_subplot(131)\n",
    "ax2 = fig.add_subplot(132)\n",
    "ax3 = fig.add_subplot(133)\n",
    "ax1.pcolormesh(Z*1e6, X*1e6, np.abs(P2w.x), cmap=cm.jet)\n",
    "ax2.pcolormesh(Z*1e6, X*1e6, np.abs(P2w.y), cmap=cm.jet)\n",
    "ax3.pcolormesh(Z*1e6, X*1e6, np.abs(P2w.z), cmap=cm.jet)\n",
    "ax1.axis('equal')\n",
    "ax2.axis('equal')\n",
    "ax3.axis('equal')"
   ]
  },
  {
   "cell_type": "code",
   "execution_count": null,
   "metadata": {},
   "outputs": [],
   "source": [
    "integrand = P2w.dot(E2w)\n",
    "\n",
    "plt.rcParams['figure.figsize'] = [16, 6]\n",
    "fig = plt.figure()\n",
    "ax1 = fig.add_subplot(121)\n",
    "ax2 = fig.add_subplot(122)\n",
    "ax1.pcolormesh(Z*1e6, X*1e6, np.real(integrand), cmap=cm.jet)\n",
    "ax2.pcolormesh(Z*1e6, X*1e6, np.imag(integrand), cmap=cm.jet)\n",
    "ax1.axis('equal')\n",
    "ax2.axis('equal')"
   ]
  },
  {
   "cell_type": "code",
   "execution_count": null,
   "metadata": {},
   "outputs": [],
   "source": [
    "X2w = simps(simps(integrand, x), z)\n",
    "X2w"
   ]
  },
  {
   "cell_type": "code",
   "execution_count": null,
   "metadata": {},
   "outputs": [],
   "source": [
    "N2w"
   ]
  },
  {
   "cell_type": "code",
   "execution_count": null,
   "metadata": {},
   "outputs": [],
   "source": [
    "N2w = M1.N()\n",
    "np.abs(X2w)*(2*pi*300*THz)/(4*N2w)"
   ]
  },
  {
   "cell_type": "code",
   "execution_count": null,
   "metadata": {},
   "outputs": [],
   "source": []
  },
  {
   "cell_type": "markdown",
   "metadata": {},
   "source": [
    "Order of magnitude check"
   ]
  },
  {
   "cell_type": "code",
   "execution_count": null,
   "metadata": {},
   "outputs": [],
   "source": [
    "chi2 = 2*20*pm\n",
    "k = (2*pi*300*THz)*chi2/(4*2*c)\n",
    "print(k)"
   ]
  }
 ],
 "metadata": {
  "kernelspec": {
   "display_name": "Python 3",
   "language": "python",
   "name": "python3"
  },
  "language_info": {
   "codemirror_mode": {
    "name": "ipython",
    "version": 3
   },
   "file_extension": ".py",
   "mimetype": "text/x-python",
   "name": "python",
   "nbconvert_exporter": "python",
   "pygments_lexer": "ipython3",
   "version": "3.7.6"
  }
 },
 "nbformat": 4,
 "nbformat_minor": 4
}
