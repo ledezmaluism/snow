{
 "cells": [
  {
   "cell_type": "markdown",
   "metadata": {},
   "source": [
    "Get fields from Lumerical and save in file for later"
   ]
  },
  {
   "cell_type": "code",
   "execution_count": 1,
   "metadata": {},
   "outputs": [],
   "source": [
    "import lumerical as lum\n",
    "import numpy as  np\n",
    "import matplotlib.pyplot as plt\n",
    "import matplotlib.cm as cm\n",
    "import imp\n",
    "import time\n",
    "from scipy.integrate import simps\n",
    "\n",
    "lumapi = imp.load_source(\"lumapi\", \"C:/Program Files/Lumerical/2020a/api/python/lumapi.py\")\n",
    "MODE = lumapi.MODE(\"Template_Luis.lms\")"
   ]
  },
  {
   "cell_type": "code",
   "execution_count": null,
   "metadata": {},
   "outputs": [],
   "source": []
  },
  {
   "cell_type": "code",
   "execution_count": 2,
   "metadata": {},
   "outputs": [],
   "source": [
    "from scipy.constants import pi, c, epsilon_0\n",
    "\n",
    "um = 1e-6\n",
    "nm = 1e-9\n",
    "pm = 1e-12\n",
    "THz = 1e12"
   ]
  },
  {
   "cell_type": "markdown",
   "metadata": {},
   "source": [
    "Main waveguide parameters"
   ]
  },
  {
   "cell_type": "code",
   "execution_count": 3,
   "metadata": {},
   "outputs": [
    {
     "name": "stdout",
     "output_type": "stream",
     "text": [
      "slab = 0.000 um\n",
      "width at the base = 0.000 um\n"
     ]
    }
   ],
   "source": [
    "h_LN = 700*nm\n",
    "h_etch = 340*nm\n",
    "w_ridge = 1.85*um\n",
    "h_slab = h_LN - h_etch\n",
    "\n",
    "theta = 60\n",
    "wg_length = 10*um #Useless in MODE\n",
    "w_ridge_base = w_ridge + 2*h_etch/np.tan(theta*pi/180)\n",
    "\n",
    "print('slab = %.3f um' %(h_slab))\n",
    "print('width at the base = %.3f um' %(w_ridge_base))"
   ]
  },
  {
   "cell_type": "markdown",
   "metadata": {},
   "source": [
    "Setup simulation volume and mesh sizes"
   ]
  },
  {
   "cell_type": "code",
   "execution_count": 4,
   "metadata": {},
   "outputs": [],
   "source": [
    "w_slab = 20*um\n",
    "h_margin = 5*um\n",
    "h_substrate = 5*um\n",
    "meshsize = 50*nm\n",
    "finemesh = 20*nm"
   ]
  },
  {
   "cell_type": "markdown",
   "metadata": {},
   "source": [
    "Materials"
   ]
  },
  {
   "cell_type": "code",
   "execution_count": 5,
   "metadata": {},
   "outputs": [],
   "source": [
    "material_substrate = \"SiO2_analytic\"\n",
    "material_thinfilm = \"LN_analytic_MgO_doped_xne\""
   ]
  },
  {
   "cell_type": "markdown",
   "metadata": {},
   "source": [
    "Wavelength range"
   ]
  },
  {
   "cell_type": "code",
   "execution_count": 6,
   "metadata": {},
   "outputs": [],
   "source": [
    "wl_1 = 1*um\n",
    "wl_2 = 2*um"
   ]
  },
  {
   "cell_type": "markdown",
   "metadata": {},
   "source": [
    "Draw waveguide and setup solver"
   ]
  },
  {
   "cell_type": "code",
   "execution_count": 7,
   "metadata": {},
   "outputs": [],
   "source": [
    "lum.draw_wg(MODE, material_thinfilm, material_substrate,\n",
    "              h_LN, h_substrate, h_etch, w_ridge, w_slab, theta, wg_length)\n",
    "lum.add_fine_mesh(MODE, finemesh, h_LN, w_ridge_base, x_factor=1.2, y_factor=1.5)\n",
    "lum.add_2D_mode_solver(MODE, meshsize, h_LN, h_substrate, \n",
    "                         w_slab, wg_length, h_margin)"
   ]
  },
  {
   "cell_type": "markdown",
   "metadata": {},
   "source": [
    "Solve at both frequencies and get fields"
   ]
  },
  {
   "cell_type": "code",
   "execution_count": 8,
   "metadata": {},
   "outputs": [],
   "source": [
    "n1, te1 = lum.solve_mode(MODE, wl_1, nmodes=20)"
   ]
  },
  {
   "cell_type": "code",
   "execution_count": 9,
   "metadata": {},
   "outputs": [
    {
     "data": {
      "text/plain": [
       "1.4353808923644616e-15"
      ]
     },
     "execution_count": 9,
     "metadata": {},
     "output_type": "execute_result"
    }
   ],
   "source": [
    "M1 = lum.mode()\n",
    "M1.get_from_lumerical(MODE, 3)\n",
    "M1.N()"
   ]
  },
  {
   "cell_type": "code",
   "execution_count": 10,
   "metadata": {},
   "outputs": [],
   "source": [
    "n2, te2 = lum.solve_mode(MODE, wl_2, nmodes=20)"
   ]
  },
  {
   "cell_type": "code",
   "execution_count": 11,
   "metadata": {},
   "outputs": [
    {
     "data": {
      "text/plain": [
       "1.9105838830721865e-15"
      ]
     },
     "execution_count": 11,
     "metadata": {},
     "output_type": "execute_result"
    }
   ],
   "source": [
    "M2 = lum.mode()\n",
    "M2.get_from_lumerical(MODE, 1)\n",
    "M2.N()"
   ]
  },
  {
   "cell_type": "code",
   "execution_count": 12,
   "metadata": {},
   "outputs": [],
   "source": [
    "MODE.close()"
   ]
  },
  {
   "cell_type": "markdown",
   "metadata": {},
   "source": [
    "Overlap calculation\n",
    "\n",
    "Let's start by assuming SHG, and computing\n",
    "\n",
    "$$\n",
    "\n",
    "\\int P\\dot e^* dA\n",
    "\n",
    "$$"
   ]
  },
  {
   "cell_type": "code",
   "execution_count": 13,
   "metadata": {},
   "outputs": [
    {
     "name": "stdout",
     "output_type": "stream",
     "text": [
      "[[ 0.0e+00  0.0e+00  0.0e+00  0.0e+00 -4.6e-12 -2.2e-12]\n",
      " [-2.2e-12  2.2e-12  0.0e+00 -4.6e-12  0.0e+00  0.0e+00]\n",
      " [-4.6e-12 -4.6e-12 -2.5e-11  0.0e+00  0.0e+00  0.0e+00]]\n"
     ]
    }
   ],
   "source": [
    "d31 = -4.6*pm\n",
    "d22 = 2.2*pm\n",
    "d33 = -25*pm\n",
    "d = np.array([[0, 0, 0, 0, d31, -d22], [-d22, d22, 0, d31, 0, 0], [d31, d31, d33, 0, 0, 0]])\n",
    "print(d)"
   ]
  },
  {
   "cell_type": "markdown",
   "metadata": {},
   "source": [
    "We now map the xyz Lumerical coordinates to the crystal XYZ\n",
    "x -> Z\n",
    "y -> X\n",
    "z -> Y"
   ]
  },
  {
   "cell_type": "code",
   "execution_count": 14,
   "metadata": {},
   "outputs": [],
   "source": [
    "z = M1.E.xx\n",
    "x = M1.E.yy\n",
    "\n",
    "Ew = lum.field_2D(z, x, M2.E.y, M2.E.z, M2.E.x)\n",
    "E2w = lum.field_2D(z, x, M1.E.y, M1.E.z, M1.E.x)"
   ]
  },
  {
   "cell_type": "code",
   "execution_count": 15,
   "metadata": {},
   "outputs": [
    {
     "data": {
      "text/plain": [
       "(-9.948941464130984, 9.948941464131227, -4.944200887902331, 6.244918303832013)"
      ]
     },
     "execution_count": 15,
     "metadata": {},
     "output_type": "execute_result"
    },
    {
     "data": {
      "image/png": "[encoded data removed]",
      "text/plain": [
       "<Figure size 1152x432 with 2 Axes>"
      ]
     },
     "metadata": {
      "needs_background": "light"
     },
     "output_type": "display_data"
    }
   ],
   "source": [
    "[Z,X] = np.meshgrid(z, x, indexing='ij')\n",
    "plt.rcParams['figure.figsize'] = [16, 6]\n",
    "fig = plt.figure()\n",
    "ax1 = fig.add_subplot(121)\n",
    "ax2 = fig.add_subplot(122)\n",
    "ax1.pcolormesh(Z*1e6, X*1e6, Ew.magsq(), cmap=cm.jet)\n",
    "ax2.pcolormesh(Z*1e6, X*1e6, E2w.magsq(), cmap=cm.jet)\n",
    "ax1.axis('equal')\n",
    "ax2.axis('equal')"
   ]
  },
  {
   "cell_type": "code",
   "execution_count": 16,
   "metadata": {},
   "outputs": [],
   "source": [
    "P2w_x = 2*epsilon_0*d[0,4]*2*Ew.z*Ew.x + 2*epsilon_0*d[0,5]*2*Ew.x*Ew.y\n",
    "P2w_y = 2*epsilon_0*d[1,0]*Ew.x*Ew.x + 2*epsilon_0*d[1,1]*Ew.y*Ew.y + 2*epsilon_0*d[1,3]*2*Ew.z*Ew.y \n",
    "P2w_z = 2*epsilon_0*d[2,0]*Ew.x*Ew.x + 2*epsilon_0*d[2,1]*Ew.y*Ew.y + 2*epsilon_0*d[2,2]*Ew.z*Ew.z\n",
    "\n",
    "P2w = lum.field_2D(z, x, P2w_x, P2w_y, P2w_z)"
   ]
  },
  {
   "cell_type": "code",
   "execution_count": 17,
   "metadata": {},
   "outputs": [
    {
     "data": {
      "text/plain": [
       "(-9.948941464130984, 9.948941464131227, -4.944200887902331, 6.244918303832013)"
      ]
     },
     "execution_count": 17,
     "metadata": {},
     "output_type": "execute_result"
    },
    {
     "data": {
      "image/png": "[encoded data removed]",
      "text/plain": [
       "<Figure size 1152x288 with 3 Axes>"
      ]
     },
     "metadata": {
      "needs_background": "light"
     },
     "output_type": "display_data"
    }
   ],
   "source": [
    "plt.rcParams['figure.figsize'] = [16, 4]\n",
    "fig = plt.figure()\n",
    "ax1 = fig.add_subplot(131)\n",
    "ax2 = fig.add_subplot(132)\n",
    "ax3 = fig.add_subplot(133)\n",
    "ax1.pcolormesh(Z*1e6, X*1e6, np.abs(P2w.x), cmap=cm.jet)\n",
    "ax2.pcolormesh(Z*1e6, X*1e6, np.abs(P2w.y), cmap=cm.jet)\n",
    "ax3.pcolormesh(Z*1e6, X*1e6, np.abs(P2w.z), cmap=cm.jet)\n",
    "ax1.axis('equal')\n",
    "ax2.axis('equal')\n",
    "ax3.axis('equal')"
   ]
  },
  {
   "cell_type": "code",
   "execution_count": 18,
   "metadata": {},
   "outputs": [
    {
     "data": {
      "text/plain": [
       "(-9.948941464130984, 9.948941464131227, -4.944200887902331, 6.244918303832013)"
      ]
     },
     "execution_count": 18,
     "metadata": {},
     "output_type": "execute_result"
    },
    {
     "data": {
      "image/png": "[encoded data removed]",
      "text/plain": [
       "<Figure size 1152x432 with 2 Axes>"
      ]
     },
     "metadata": {
      "needs_background": "light"
     },
     "output_type": "display_data"
    }
   ],
   "source": [
    "integrand = P2w.dot(E2w)\n",
    "plt.rcParams['figure.figsize'] = [16, 6]\n",
    "fig = plt.figure()\n",
    "ax1 = fig.add_subplot(121)\n",
    "ax2 = fig.add_subplot(122)\n",
    "ax1.pcolormesh(Z*1e6, X*1e6, np.real(integrand), cmap=cm.jet)\n",
    "ax2.pcolormesh(Z*1e6, X*1e6, np.imag(integrand), cmap=cm.jet)\n",
    "ax1.axis('equal')\n",
    "ax2.axis('equal')"
   ]
  },
  {
   "cell_type": "code",
   "execution_count": 22,
   "metadata": {},
   "outputs": [
    {
     "data": {
      "text/plain": [
       "(-1.9550769653688006e-34+1.663143501585592e-49j)"
      ]
     },
     "execution_count": 22,
     "metadata": {},
     "output_type": "execute_result"
    }
   ],
   "source": [
    "X2w = simps(simps(integrand, x), z)\n",
    "X2w"
   ]
  },
  {
   "cell_type": "code",
   "execution_count": 23,
   "metadata": {},
   "outputs": [
    {
     "data": {
      "text/plain": [
       "1.4353808923644616e-15"
      ]
     },
     "execution_count": 23,
     "metadata": {},
     "output_type": "execute_result"
    }
   ],
   "source": [
    "N2w"
   ]
  },
  {
   "cell_type": "code",
   "execution_count": 20,
   "metadata": {},
   "outputs": [
    {
     "data": {
      "text/plain": [
       "6.418563321009121e-05"
      ]
     },
     "execution_count": 20,
     "metadata": {},
     "output_type": "execute_result"
    }
   ],
   "source": [
    "N2w = M1.N()\n",
    "np.abs(X2w)*(2*pi*300*THz)/(4*N2w)"
   ]
  },
  {
   "cell_type": "code",
   "execution_count": null,
   "metadata": {},
   "outputs": [],
   "source": []
  },
  {
   "cell_type": "markdown",
   "metadata": {},
   "source": [
    "Order of magnitude check"
   ]
  },
  {
   "cell_type": "code",
   "execution_count": 21,
   "metadata": {},
   "outputs": [
    {
     "name": "stdout",
     "output_type": "stream",
     "text": [
      "3.143767532927522e-05\n"
     ]
    }
   ],
   "source": [
    "chi2 = 2*20*pm\n",
    "k = (2*pi*300*THz)*chi2/(4*2*c)\n",
    "print(k)"
   ]
  }
 ],
 "metadata": {
  "kernelspec": {
   "display_name": "Python 3",
   "language": "python",
   "name": "python3"
  },
  "language_info": {
   "codemirror_mode": {
    "name": "ipython",
    "version": 3
   },
   "file_extension": ".py",
   "mimetype": "text/x-python",
   "name": "python",
   "nbconvert_exporter": "python",
   "pygments_lexer": "ipython3",
   "version": "3.7.6"
  }
 },
 "nbformat": 4,
 "nbformat_minor": 4
}
