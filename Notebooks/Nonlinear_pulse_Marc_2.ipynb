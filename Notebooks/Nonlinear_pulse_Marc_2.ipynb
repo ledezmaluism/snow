{
 "cells": [
  {
   "cell_type": "markdown",
   "metadata": {},
   "source": [
    "## Nonlinear pulse propagation - Example\n",
    "\n",
    "Will use parameters from Marc and Alireza's paper[1] to validate the code.\n",
    "\n",
    "[1]M. Jankowski et al., “Temporal Simultons in Optical Parametric Oscillators,” Phys. Rev. Lett., vol. 120, no. 5, p. 053904, Feb. 2018, doi: 10.1103/PhysRevLett.120.053904."
   ]
  },
  {
   "cell_type": "markdown",
   "metadata": {},
   "source": [
    "We begin by the typical Python imports."
   ]
  },
  {
   "cell_type": "code",
   "execution_count": null,
   "metadata": {},
   "outputs": [],
   "source": [
    "import numpy as np\n",
    "from numpy.fft import fft, ifft, fftshift, fftfreq\n",
    "import matplotlib.pyplot as plt\n",
    "import time\n",
    "import scipy\n",
    "import copy\n",
    "from matplotlib import cm\n",
    "from matplotlib.colors import Normalize\n",
    "\n",
    "#This are my libraries\n",
    "import nlo \n",
    "from util import sech"
   ]
  },
  {
   "cell_type": "code",
   "execution_count": null,
   "metadata": {},
   "outputs": [],
   "source": [
    "# Change size of plots (for wider plots)\n",
    "plt.rcParams['figure.figsize'] = [10, 5]"
   ]
  },
  {
   "cell_type": "markdown",
   "metadata": {},
   "source": [
    "## Units\n",
    "We'll work mainly in the following units:\n",
    "\n",
    "time = fs <br>\n",
    "frequency = PHz (1/time) <br>\n",
    "distance = mm\n",
    "\n",
    "We'll import the speed of light from Scipy and scale it so it's in units of mm/fs"
   ]
  },
  {
   "cell_type": "code",
   "execution_count": null,
   "metadata": {},
   "outputs": [],
   "source": [
    "from scipy.constants import pi, c\n",
    "c = c*1e-12; #mm/fs, [Freq]=PHz"
   ]
  },
  {
   "cell_type": "markdown",
   "metadata": {},
   "source": [
    "## Time and Frequency domain windows"
   ]
  },
  {
   "cell_type": "markdown",
   "metadata": {},
   "source": [
    "Now we need to determine an FFT size $N$, this will be the common size for the time and frequency axis in our simulations. We also need to select how large the time window $2 T_{\\mathrm{max}}$ for our simulations will be. The time window needs to be large enough so that pulses don't reach the edge of the domain at any point. Since we'll usually pick a reference frame that moves with one of the pulses, then how much the other pulses travel depends on the respective group velocity mismatch. The sampling period $\\Delta t$ will be determined by the size of the window and the number of points; Nyquist criteria must be satisfied as usual.\n",
    "\n",
    "Once the number of points and time-window has been selected, the frequency grid is fixed by the FFT, with a frequency resolution\n",
    "$$ F_s = \\frac{1}{N \\Delta t},$$\n",
    "the minimum frequency is 0 while the maximum frequency is\n",
    "$$ F_{\\mathrm{max}} = \\pm \\frac{1}{2\\Delta t}.$$\n",
    "The maximum frequency should alway be below the desired absolute carrier frequency. So the longest wavelength allowed becomes:\n",
    "$$ \\lambda_{\\mathrm{max}} = \\frac{c}{F_{\\mathrm{max}}} = 2c\\Delta t $$"
   ]
  },
  {
   "cell_type": "code",
   "execution_count": null,
   "metadata": {},
   "outputs": [],
   "source": [
    "NFFT = 2**8 #Number of FFT points\n",
    "\n",
    "Tmax = 500 #(fs) (window will go from -Tmax to Tmax)\n",
    "t = np.linspace(-Tmax, Tmax, NFFT, endpoint=False)\n",
    "dt = t[1]-t[0] #Sampling period\n",
    "print('Sampling Rate =', dt, 'fs')\n",
    "\n",
    "f = fftfreq(NFFT, dt) #PHz\n",
    "omega = 2*pi*f #THz\n",
    "Fmax = abs(np.amin(f)) #PHz\n",
    "print('Frequency Resolution = %0.3f THz' %(f[1]*1e3))\n",
    "print('Maximum frequency = %0.3f THz' %(Fmax*1e3))\n",
    "print('Longest wavelength allowed = %0.3f um' %(c/Fmax*1e3))"
   ]
  },
  {
   "cell_type": "markdown",
   "metadata": {},
   "source": [
    "## Signal pulse creation"
   ]
  },
  {
   "cell_type": "code",
   "execution_count": null,
   "metadata": {},
   "outputs": [],
   "source": [
    "wla = 2.090e-3 #signal wavelength (mm)\n",
    "wa = 2*pi*c/wla #Central angular frequency for pulse \"a\"\n",
    "noise = 1e-10*np.random.normal(size=NFFT)\n",
    "signal_in = nlo.pulse(t, noise, wla*1e3)\n",
    "\n",
    "signal_in.plot_magsq_vs_time()\n",
    "signal_in.plot_ESD_vs_wavelength()\n",
    "print(format(signal_in.energy_td()*1e15, '0.3e'), 'fJ')\n",
    "print(format(signal_in.energy_fd()*1e15, '0.3e'), 'fJ')"
   ]
  },
  {
   "cell_type": "markdown",
   "metadata": {},
   "source": [
    "## Pump pulse creation"
   ]
  },
  {
   "cell_type": "code",
   "execution_count": null,
   "metadata": {},
   "outputs": [],
   "source": [
    "#Parameters\n",
    "wlb = wla/2 #pump wavelength (mm)\n",
    "pump_pwr = 0.55 #Average pump power (W)\n",
    "Tp = 70 #Input pulse width (fs)\n",
    "\n",
    "#Pulse creation\n",
    "tau = Tp/1.76\n",
    "pulse = np.sqrt(0.88*4e6/Tp*pump_pwr)*sech(t/tau)\n",
    "pump_in = nlo.pulse(t, pulse, wlb*1e3)\n",
    "\n",
    "pump_in.plot_magsq_vs_time(xlim=[-500,500])\n",
    "pump_in.plot_ESD_vs_wavelength()\n",
    "print(format(pump_in.energy_td()*1e9, '0.3e'), 'nJ')\n",
    "print(format(pump_in.energy_fd()*1e9, '0.3e'), 'nJ')"
   ]
  },
  {
   "cell_type": "markdown",
   "metadata": {},
   "source": [
    "## Feedback Loop\n",
    "\n",
    "Now we create the linear element that represents the feedback loop. Let's make if a function of the detuning $\\delta T$ so we can change that easily later on."
   ]
  },
  {
   "cell_type": "code",
   "execution_count": null,
   "metadata": {},
   "outputs": [],
   "source": [
    "def feedback_loop(dT):\n",
    "    '''\n",
    "    dT: Detuning in fs\n",
    "    '''\n",
    "    #Output coupler loss\n",
    "    Co_loss = 1-0.65  \n",
    "    \n",
    "    #Cavity dispersion parameters\n",
    "    phi2 = 25\n",
    "    phi3 = 76\n",
    "    phi4 = -13020\n",
    "    phi5 = 983328\n",
    "\n",
    "    #Feedback loop\n",
    "    deltaphi = (phi2/2)*omega**2 + (phi3/6)*omega**3 + (phi4/24)*omega**4 + (phi5/120)*omega**5\n",
    "    l = c*dT/wlb #Detuning parameter l\n",
    "    phi = pi*l + dT*omega + deltaphi\n",
    "\n",
    "    #Linear element representing this feedback path in the freq domain\n",
    "    fb = np.sqrt(Co_loss)*np.exp(1j*phi)\n",
    "    \n",
    "    return fb"
   ]
  },
  {
   "cell_type": "markdown",
   "metadata": {},
   "source": [
    "## Nonlinear element\n",
    "\n",
    "Similarly, we create a nonlinear element. Here I'll make it a function of the step size $h$ so I can run some convergence tests later."
   ]
  },
  {
   "cell_type": "code",
   "execution_count": null,
   "metadata": {},
   "outputs": [],
   "source": [
    "def nle(h):\n",
    "    '''\n",
    "    h: step size in mm\n",
    "    '''\n",
    "    \n",
    "    #Beam waist of signal (mm)\n",
    "    Ws = 14e-3 \n",
    "    \n",
    "    #Crystal dispersion\n",
    "    alpha_a = 0.00691 #loss for signal in crystal (1/mm)\n",
    "    alpha_b = 0.00691 #loss for pump in crystal (1/mm)\n",
    "    u = 112.778 #Group velocity mismatch (fs/mm)\n",
    "    b2a = -53.64 #second order GVD signal (fs^2/mm)\n",
    "    b3a = 756.14 #third order GVD signal (fs^3/mm)\n",
    "    b4a = -2924.19 #fourth order GVD signal (fs^4/mm)\n",
    "    b2b = 240.92 #second order GVD pump (fs^2/mm)\n",
    "    b3b = 211.285 #second order GVD pump (fs^3/mm)\n",
    "    b4b = -18.3758 #second order GVD pump (fs^4/mm)\n",
    "    deff = 2/pi*16e-9 #effective nonlinear coefficient (mm/V)\n",
    "    na = 2.2333# refractive index at signal\n",
    "    nb = 2.1935# refractive index at pump\n",
    "\n",
    "    #Dispersion functions\n",
    "    Da = alpha_a/2 - 1j*b2a*omega**2/2 - 1j*b3a*omega**3/6 - 1j*b4a*omega**4/24\n",
    "    Db = alpha_b/2 - 1j*u*omega - 1j*b2b*omega**2/2 - 1j*b3b*omega**3/6 - 1j*b4b*omega**4/24\n",
    "\n",
    "    #Crystal parameters\n",
    "    L = 1 #mm\n",
    "\n",
    "    #Nonlinear coupling\n",
    "    nlc = np.sqrt(2*377)*deff*(omega+wa)/(Ws*na*c*np.sqrt(pi*nb))\n",
    "\n",
    "    crystal = nlo.nonlinear_element(L=L, h=h, Da=Da, Db=Db, nlc=nlc)\n",
    "    \n",
    "    return crystal"
   ]
  },
  {
   "cell_type": "markdown",
   "metadata": {},
   "source": [
    "## OPO\n",
    "\n",
    "Next I create a function for the OPO. It receives the signal and pump pulses, as well as the nonlinear element, the feedback loop, and the number for rountrips to be simulated."
   ]
  },
  {
   "cell_type": "code",
   "execution_count": null,
   "metadata": {},
   "outputs": [],
   "source": [
    "def OPO(signal, pump, nl_element, feedback, N=250):\n",
    "\n",
    "    #Variables to save roundtrip evolution\n",
    "    signal_evolution = np.zeros([N, pump.NFFT])\n",
    "    signal_energy_evol = np.zeros(N)\n",
    "    pump_energy_evol = np.zeros(N)\n",
    "    \n",
    "    for kn in range(N):\n",
    "        [signal, pump_out] =  nl_element.propagate(signal, pump)\n",
    "\n",
    "        \n",
    "        signal_evolution[kn,:] = (np.abs(signal.e)/np.max(np.abs(signal.e)))**2\n",
    "        signal_energy_evol[kn] = signal.energy_td()\n",
    "        pump_energy_evol[kn] = pump_out.energy_td()\n",
    "        \n",
    "                \n",
    "        #Apply feedback\n",
    "        # feedback.propagate(signal)\n",
    "        signal.update_fd(signal.E*feedback)\n",
    "        \n",
    "        if (kn+1)%50==0:\n",
    "            print('Completed roundtrip ' + str(kn+1))\n",
    "    \n",
    "    return signal, pump_out, signal_evolution, signal_energy_evol, pump_energy_evol"
   ]
  },
  {
   "cell_type": "code",
   "execution_count": null,
   "metadata": {},
   "outputs": [],
   "source": [
    "Nrt = 300\n",
    "dT = 0\n",
    "fb = feedback_loop(dT)\n",
    "crystal = nle(h=1/50)\n",
    "\n",
    "tic = time.time();\n",
    "signal, pump, signal_evolution, signal_energy_evol, pump_energy_evol = OPO(signal_in, pump_in, crystal, fb, N=Nrt)\n",
    "elapsed = time.time() - tic;\n",
    "print('Time elapsed = ' + str(round(elapsed,5)) + ' seconds')"
   ]
  },
  {
   "cell_type": "code",
   "execution_count": null,
   "metadata": {
    "scrolled": false
   },
   "outputs": [],
   "source": [
    "fig = plt.figure(); ax1 = fig.add_subplot(111)\n",
    "signal.plot_ESD_dB_wavelength(ax1=ax1,xlim=[0.7,3], ylim=[-30,0])\n",
    "pump.plot_ESD_dB_wavelength(ax1=ax1, xlim=[0.7,3], ylim=[-30,0])"
   ]
  },
  {
   "cell_type": "code",
   "execution_count": null,
   "metadata": {},
   "outputs": [],
   "source": [
    "fig = plt.figure(); ax1 = fig.add_subplot(111)\n",
    "signal.plot_magsq_vs_time(xlim=[-500,500], ax1=ax1)\n",
    "pump.plot_magsq_vs_time(xlim=[-500,500], ax1=ax1)"
   ]
  },
  {
   "cell_type": "code",
   "execution_count": null,
   "metadata": {},
   "outputs": [],
   "source": [
    "X,Y = np.meshgrid(np.arange(1,Nrt+1), t)\n",
    "plt.contourf(X, Y, np.transpose(signal_evolution), 100)\n",
    "plt.ylim([-300,200])"
   ]
  },
  {
   "cell_type": "markdown",
   "metadata": {},
   "source": [
    "Now let's look at how the energy of the signal and pump change vs round trips:"
   ]
  },
  {
   "cell_type": "code",
   "execution_count": null,
   "metadata": {
    "scrolled": true
   },
   "outputs": [],
   "source": [
    "plt.plot(np.arange(Nrt), signal_energy_evol)\n",
    "plt.plot(np.arange(Nrt), pump_energy_evol)"
   ]
  },
  {
   "cell_type": "markdown",
   "metadata": {},
   "source": [
    "## Detuning sweep"
   ]
  },
  {
   "cell_type": "code",
   "execution_count": null,
   "metadata": {},
   "outputs": [],
   "source": [
    "# Nrt = 1000\n",
    "# dT_array = np.arange(-25,10.1,0.25)\n",
    "# signal = np.empty( dT_array.shape , dtype=object)\n",
    "# k = 0\n",
    "# for dT in dT_array:\n",
    "\n",
    "#     #Feedback loop\n",
    "#     l = c*dT/wlb #Detuning parameter l\n",
    "#     phi = pi*l + dT*Omega + deltaphi\n",
    "#     fb = np.sqrt(Co_loss)*np.exp(1j*phi)\n",
    "\n",
    "#     #Linear element representing this feedback path\n",
    "#     fb = nlo.linear_element(fb)\n",
    "    \n",
    "#     print('Detuning = %0.2f' %(dT))\n",
    "#     signal[k], pump, signal_evol, signal_energy, pump_energyl = nlo.OPO(signal_in, pump_in, crystal, fb, N=Nrt)\n",
    "    \n",
    "#     k = k+1"
   ]
  },
  {
   "cell_type": "code",
   "execution_count": null,
   "metadata": {},
   "outputs": [],
   "source": [
    "# signal_spec = np.zeros([Omega.size, dT_array.size])\n",
    "# for k in np.arange(dT_array.size):\n",
    "#     esd_rel = 10*np.log10((signal[k].esd/np.amax(signal[k].esd)))\n",
    "#     signal_spec[:,k] = fftshift(esd_rel)"
   ]
  },
  {
   "cell_type": "code",
   "execution_count": null,
   "metadata": {},
   "outputs": [],
   "source": [
    "# X,Y = np.meshgrid(fftshift(Omega)*1000, dT_array)"
   ]
  },
  {
   "cell_type": "code",
   "execution_count": null,
   "metadata": {},
   "outputs": [],
   "source": [
    "# plt.pcolormesh(X, Y, (np.transpose(signal_spec)), vmin=-30, vmax=0)\n",
    "# plt.xlim([-500,500]);"
   ]
  },
  {
   "cell_type": "code",
   "execution_count": null,
   "metadata": {},
   "outputs": [],
   "source": [
    "# plt.pcolormesh(X, Y, (np.transpose(signal_spec)), vmin=-30, vmax=0, norm=Normalize(vmin=-30, vmax=0, clip=False))\n",
    "# plt.xlim([-500,500]);"
   ]
  },
  {
   "cell_type": "code",
   "execution_count": null,
   "metadata": {},
   "outputs": [],
   "source": []
  }
 ],
 "metadata": {
  "kernelspec": {
   "display_name": "Python 3",
   "language": "python",
   "name": "python3"
  },
  "language_info": {
   "codemirror_mode": {
    "name": "ipython",
    "version": 3
   },
   "file_extension": ".py",
   "mimetype": "text/x-python",
   "name": "python",
   "nbconvert_exporter": "python",
   "pygments_lexer": "ipython3",
   "version": "3.7.6"
  }
 },
 "nbformat": 4,
 "nbformat_minor": 2
}
