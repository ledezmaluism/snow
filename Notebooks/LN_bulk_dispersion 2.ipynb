{
 "cells": [
  {
   "cell_type": "markdown",
   "metadata": {},
   "source": [
    "## Lithium niobate dispersion"
   ]
  },
  {
   "cell_type": "markdown",
   "metadata": {},
   "source": [
    "It is usual to model the dispersion of transparent optical materials with Sellmeier's equation:\n",
    "\n",
    "$$\n",
    "n^2(\\lambda) = 1 + \\sum_{k=1}^{m}{\\frac{A_k \\lambda^2}{\\lambda^2 - B_k}},\n",
    "$$\n",
    "\n",
    "where we are modeling $m$ independent resonances. Writing this equation in terms of $\\omega$ we get:\n",
    "\n",
    "$$\n",
    "n^2(\\omega) = 1 + \\sum_{k=1}^{m}{\\frac{\\omega_k^2}{\\omega_k^2 - \\omega^2} \\chi_k^{(1)}},\n",
    "$$\n",
    "\n",
    "with:\n",
    "\n",
    "$$\n",
    "\\chi_k^{(1)} = A_k \\\\\n",
    "\\omega_k = \\frac{2\\pi c}{\\sqrt {B_k}}.\n",
    "$$\n",
    "\n",
    "Each one of these equations is the solution of Lorentz Equation:\n",
    "\n",
    "$$\n",
    "\\frac{d^2P(t)}{dt^2} + \\omega_k^2 P(t) = \\epsilon_0 \\omega_k^2 \\, \\chi_k^{(1)} E(t).\n",
    "$$"
   ]
  },
  {
   "cell_type": "markdown",
   "metadata": {},
   "source": [
    "## Units\n",
    "\n",
    "For distance, let's use microns (the Sellmeier coefficients below are for microns).\n",
    "\n",
    "For frequency, THz. This means time will be measured in ps, so the speed of light will be in um/ps"
   ]
  },
  {
   "cell_type": "code",
   "execution_count": 32,
   "metadata": {},
   "outputs": [],
   "source": [
    "import numpy as np\n",
    "import matplotlib.pyplot as plt\n",
    "import time\n",
    "\n",
    "from scipy.constants import c,pi,mu_0,epsilon_0\n",
    "c = c*1e-6"
   ]
  },
  {
   "cell_type": "code",
   "execution_count": 33,
   "metadata": {},
   "outputs": [],
   "source": [
    "def term(A,B,wavelength):\n",
    "    return A*wavelength**2/(wavelength**2-B)\n",
    "\n",
    "def n_sq(Coeff,wavelength):\n",
    "    n_sq = 1\n",
    "    n_sq = n_sq + term(Coeff[0], Coeff[1], wavelength)\n",
    "    n_sq = n_sq + term(Coeff[2], Coeff[3], wavelength)\n",
    "    n_sq = n_sq + term(Coeff[4], Coeff[5], wavelength)\n",
    "    return n_sq\n",
    "\n",
    "def wterm(chi,wk,w):\n",
    "    return chi*wk**2/(wk**2 - w**2)\n",
    "\n",
    "def n_sq_w(Coeff,w):\n",
    "    n_sq = 1\n",
    "    n_sq = n_sq + wterm(Coeff[0], Coeff[1], w)\n",
    "    n_sq = n_sq + wterm(Coeff[2], Coeff[3], w)\n",
    "    n_sq = n_sq + wterm(Coeff[4], Coeff[5], w)\n",
    "    return n_sq\n",
    "\n",
    "def B_to_wk(B):\n",
    "    return 2*pi*c/np.sqrt(B)"
   ]
  },
  {
   "cell_type": "markdown",
   "metadata": {},
   "source": [
    "From this paper:\n",
    "\n",
    "\"Infrared corrected Sellmeier coefficients for\n",
    "congruently grown lithium niobate\n",
    "and 5 mol. % magnesium oxide–doped\n",
    "lithium niobate\"\n",
    "\n",
    "Zelmon and Jundt"
   ]
  },
  {
   "cell_type": "markdown",
   "metadata": {},
   "source": [
    "## Congruently grown LN (undoped)"
   ]
  },
  {
   "cell_type": "code",
   "execution_count": 34,
   "metadata": {},
   "outputs": [],
   "source": [
    "#Coefficients from the paper\n",
    "\n",
    "#Extraordinary waves\n",
    "A_ne = 2.9804\n",
    "B_ne = 0.02047\n",
    "C_ne = 0.5981\n",
    "D_ne = 0.0666\n",
    "E_ne = 8.9543\n",
    "F_ne = 416.08\n",
    "\n",
    "#Ordinary waves\n",
    "A_no = 2.6734\n",
    "B_no = 0.01764\n",
    "C_no = 1.2290\n",
    "D_no = 0.05914\n",
    "E_no = 12.614\n",
    "F_no = 474.6"
   ]
  },
  {
   "cell_type": "code",
   "execution_count": 35,
   "metadata": {},
   "outputs": [
    {
     "data": {
      "text/plain": [
       "Text(0.5,1,'Congruently grown lithium niobate')"
      ]
     },
     "execution_count": 35,
     "metadata": {},
     "output_type": "execute_result"
    },
    {
     "data": {
      "image/png": "[encoded data removed]",
      "text/plain": [
       "<matplotlib.figure.Figure at 0x1d910a3a860>"
      ]
     },
     "metadata": {},
     "output_type": "display_data"
    }
   ],
   "source": [
    "fstart = 70\n",
    "fstop = 300\n",
    "fstep = 1\n",
    "f = np.arange(fstart, fstop+fstep, fstep)\n",
    "w = 2*pi*f\n",
    "wavelength = c/f\n",
    "\n",
    "no_sq = n_sq([A_no,B_no,C_no,D_no,E_no,F_no],wavelength)\n",
    "ne_sq = n_sq([A_ne,B_ne,C_ne,D_ne,E_ne,F_ne],wavelength)\n",
    "\n",
    "Coeff_no_w = [A_no,B_to_wk(B_no),C_no,B_to_wk(D_no),E_no,B_to_wk(F_no)]\n",
    "Coeff_ne_w = [A_ne,B_to_wk(B_ne),C_ne,B_to_wk(D_ne),E_ne,B_to_wk(F_ne)]\n",
    "no_sq_w = n_sq_w(Coeff_no_w,w)\n",
    "ne_sq_w = n_sq_w(Coeff_ne_w,w)\n",
    "\n",
    "no = np.sqrt(no_sq)\n",
    "ne = np.sqrt(ne_sq)\n",
    "no_w = np.sqrt(no_sq_w)\n",
    "ne_w = np.sqrt(ne_sq_w)\n",
    "\n",
    "plt.plot(wavelength, no, 'r')\n",
    "plt.plot(wavelength, ne, 'b')\n",
    "plt.legend(['no','ne'])\n",
    "plt.axis([1, 5, 2, 2.4])\n",
    "plt.xlabel('$\\mathrm{\\lambda (\\mu m)}$')\n",
    "plt.ylabel('$\\mathrm{n}$')\n",
    "plt.grid()\n",
    "plt.title('Congruently grown lithium niobate')"
   ]
  },
  {
   "cell_type": "code",
   "execution_count": 36,
   "metadata": {},
   "outputs": [
    {
     "data": {
      "text/plain": [
       "Text(0.5,1,'Congruently grown lithium niobate')"
      ]
     },
     "execution_count": 36,
     "metadata": {},
     "output_type": "execute_result"
    },
    {
     "data": {
      "image/png": "[encoded data removed]",
      "text/plain": [
       "<matplotlib.figure.Figure at 0x1d911e70198>"
      ]
     },
     "metadata": {},
     "output_type": "display_data"
    }
   ],
   "source": [
    "plt.plot(f, no_w, 'r')\n",
    "plt.plot(f, ne_w, 'b')\n",
    "plt.legend(['no','ne'])\n",
    "plt.axis([70, 300, 2, 2.4])\n",
    "plt.xlabel('Frequency (THz)')\n",
    "plt.ylabel('$\\mathrm{n}$')\n",
    "plt.grid()\n",
    "plt.title('Congruently grown lithium niobate')"
   ]
  },
  {
   "cell_type": "code",
   "execution_count": 48,
   "metadata": {},
   "outputs": [
    {
     "data": {
      "text/plain": [
       "Text(0.5,1,'Congruently grown lithium niobate')"
      ]
     },
     "execution_count": 48,
     "metadata": {},
     "output_type": "execute_result"
    },
    {
     "data": {
      "image/png": "[encoded data removed]",
      "text/plain": [
       "<matplotlib.figure.Figure at 0x1d9121eb4a8>"
      ]
     },
     "metadata": {},
     "output_type": "display_data"
    }
   ],
   "source": [
    "beta_no = w/c*no_w\n",
    "beta_ne = w/c*ne_w\n",
    "beta_air = w/c\n",
    "plt.plot(w, beta_no, 'r')\n",
    "plt.plot(w, beta_ne, 'b')\n",
    "plt.plot(w, beta_air, 'k')\n",
    "plt.legend(['no','ne'])\n",
    "#plt.axis([70, 300, 2, 2.4])\n",
    "plt.xlabel('Frequency (THz)')\n",
    "plt.ylabel('$\\mathrm{n}$')\n",
    "plt.grid()\n",
    "plt.title('Congruently grown lithium niobate')"
   ]
  },
  {
   "cell_type": "markdown",
   "metadata": {},
   "source": [
    "## First Derivative\n",
    "\n",
    "$$\n",
    "\\beta = \\frac{\\omega}{c}n\n",
    "$$\n",
    "$$\n",
    "\\beta_1 = \\frac{d\\beta}{d\\omega} = \\frac{1}{c} \\left( n + \\omega \\frac{dn}{d\\omega} \\right)\n",
    "$$\n",
    "\n",
    "We have from Sellmeier $n^2(\\omega)$, let's call this $f(\\omega)$, so we have:\n",
    "$$\n",
    "\\frac{dn}{d\\omega} = \\frac{1}{2n} \\frac{df}{d\\omega}\n",
    "$$\n",
    "\n",
    "And:\n",
    "$$\n",
    "\\frac{df}{d\\omega} = \\frac{d}{d\\omega} \\left( 1 + \\sum_{k=1}^{m}{\\frac{\\omega_k^2}{\\omega_k^2 - \\omega^2} \\chi_k^{(1)}} \\right)\n",
    "$$\n",
    "\n",
    "$$\n",
    "\\frac{df}{d\\omega} = \\sum_{k=1}^{m}{\\frac{2\\omega}{\\left( \\omega_k^2 - \\omega^2 \\right)^2} \\omega_k^2 \\, \\chi_k^{(1)} }\n",
    "$$"
   ]
  },
  {
   "cell_type": "code",
   "execution_count": 37,
   "metadata": {},
   "outputs": [],
   "source": [
    "def wdiff_term(chi,wk,w):\n",
    "    return 2*w*chi*wk**2/(wk**2 - w**2)**2\n",
    "\n",
    "def dfdw(Coeff, w):\n",
    "    x = 0\n",
    "    x = x + wdiff_term(Coeff[0], Coeff[1], w)\n",
    "    x = x + wdiff_term(Coeff[2], Coeff[3], w)\n",
    "    x = x + wdiff_term(Coeff[4], Coeff[5], w)\n",
    "    return x"
   ]
  },
  {
   "cell_type": "code",
   "execution_count": 38,
   "metadata": {
    "scrolled": true
   },
   "outputs": [
    {
     "name": "stdout",
     "output_type": "stream",
     "text": [
      "2.306919070678665\n"
     ]
    },
    {
     "data": {
      "text/plain": [
       "Text(0.5,1,'Congruently grown lithium niobate')"
      ]
     },
     "execution_count": 38,
     "metadata": {},
     "output_type": "execute_result"
    },
    {
     "data": {
      "image/png": "[encoded data removed]",
      "text/plain": [
       "<matplotlib.figure.Figure at 0x1d91218a668>"
      ]
     },
     "metadata": {},
     "output_type": "display_data"
    }
   ],
   "source": [
    "n = no_w\n",
    "C = Coeff_no_w\n",
    "dndw = 1/(2*n)*dfdw(C,w)\n",
    "beta1 = (n + w*dndw)/c\n",
    "\n",
    "vg = 1/beta1\n",
    "ng = c/vg\n",
    "print(ng[-1])\n",
    "\n",
    "plt.plot(f, beta1, 'r')\n",
    "plt.legend(['beta1'])\n",
    "#plt.axis([70, 300, 0, 2.4])\n",
    "plt.xlabel('Frequency (THz)')\n",
    "#plt.ylabel('$\\beta_1$')\n",
    "plt.grid()\n",
    "plt.title('Congruently grown lithium niobate')"
   ]
  },
  {
   "cell_type": "markdown",
   "metadata": {},
   "source": [
    "## Second Derivative\n",
    "\n",
    "$$\n",
    "\\beta = \\frac{\\omega}{c}n\n",
    "$$\n",
    "$$\n",
    "\\beta_1 = \\frac{d\\beta}{d\\omega} = \\frac{1}{c} \\left( n + \\omega \\frac{dn}{d\\omega} \\right)\n",
    "$$\n",
    "$$\n",
    "\\beta_2 = \\frac{d^2\\beta}{d\\omega^2} = \\frac{1}{c} \\left( 2\\frac{dn}{d\\omega} + \\omega \\frac{d^2n}{d\\omega^2} \\right)\n",
    "$$\n",
    "\n",
    "We have from Sellmeier $n^2(\\omega)$, let's call this $f(\\omega)$, so we have:\n",
    "$$\n",
    "\\frac{dn}{d\\omega} = \\frac{1}{2n} \\frac{df}{d\\omega}\n",
    "$$\n",
    "$$\n",
    "\\frac{d^2n}{d\\omega^2} = \\frac{1}{2n} \\frac{d^2f}{d\\omega^2} - \\frac{1}{4 n^3} \\left( \\frac{df}{d\\omega} \\right)^ 2\n",
    "$$\n",
    "\n",
    "And:\n",
    "$$\n",
    "\\frac{df}{d\\omega} = \\frac{d}{d\\omega} \\left( 1 + \\sum_{k=1}^{m}{\\frac{\\omega_k^2}{\\omega_k^2 - \\omega^2} \\chi_k^{(1)}} \\right)\n",
    "$$\n",
    "\n",
    "$$\n",
    "\\frac{df}{d\\omega} = \\sum_{k=1}^{m}{\\frac{2\\omega}{\\left( \\omega_k^2 - \\omega^2 \\right)^2} \\omega_k^2 \\, \\chi_k^{(1)} }\n",
    "$$\n",
    "\n",
    "$$\n",
    "\\frac{d^2f}{d\\omega^2} = \\sum_{k=1}^{m}{\\frac{2\\left(\\omega_k^2 + 3\\omega^2 \\right)}{\\left( \\omega_k^2 - \\omega^2 \\right)^3} \\omega_k^2 \\, \\chi_k^{(1)} }\n",
    "$$"
   ]
  },
  {
   "cell_type": "code",
   "execution_count": 40,
   "metadata": {},
   "outputs": [],
   "source": [
    "def wdiff2_term(chi,wk,w):\n",
    "    return 2*(wk**2 + 3*w**2)*chi*wk**2/(wk**2 - w**2)**3\n",
    "\n",
    "def dfdw2(Coeff, w):\n",
    "    x = 0\n",
    "    x = x + wdiff2_term(Coeff[0], Coeff[1], w)\n",
    "    x = x + wdiff2_term(Coeff[2], Coeff[3], w)\n",
    "    x = x + wdiff2_term(Coeff[4], Coeff[5], w)\n",
    "    return x"
   ]
  },
  {
   "cell_type": "code",
   "execution_count": 41,
   "metadata": {},
   "outputs": [
    {
     "data": {
      "image/png": "[encoded data removed]",
      "text/plain": [
       "<matplotlib.figure.Figure at 0x1d9123247f0>"
      ]
     },
     "metadata": {},
     "output_type": "display_data"
    }
   ],
   "source": [
    "plt.rc('text', usetex=True)\n",
    "\n",
    "dndw2 = 1/(2*n)*dfdw2(C,w) - 1/(4*n**3)*dfdw(C,w)**2\n",
    "beta2 = (2*dndw + w*dndw2)/c #units are ps^2/um\n",
    "\n",
    "gvd = beta2*1e9 #Changed to standard fs^2/mm\n",
    "\n",
    "fig = plt.figure()\n",
    "ax1 = fig.add_subplot(111)\n",
    "ax2 = ax1.twiny()\n",
    "\n",
    "ax1.plot(f, gvd, 'r')\n",
    "ax1.axis([70, 300, -2500, 500])\n",
    "ax1.set_xlabel('Frequency (THz)')\n",
    "ax1.set_ylabel('GVD (fs$^2$/mm)')\n",
    "ax1.grid()\n",
    "\n",
    "wavelength_ticks = np.array([1,1.5,2,3,4])\n",
    "new_tick_locations = c/wavelength_ticks\n",
    "ax2.set_xlim(ax1.get_xlim())\n",
    "ax2.set_xticks(new_tick_locations)\n",
    "ax2.set_xticklabels(wavelength_ticks)\n",
    "ax2.set_xlabel('Wavelength (um)')\n",
    "ax2.grid()"
   ]
  }
 ],
 "metadata": {
  "kernelspec": {
   "display_name": "Python 3",
   "language": "python",
   "name": "python3"
  },
  "language_info": {
   "codemirror_mode": {
    "name": "ipython",
    "version": 3
   },
   "file_extension": ".py",
   "mimetype": "text/x-python",
   "name": "python",
   "nbconvert_exporter": "python",
   "pygments_lexer": "ipython3",
   "version": "3.6.4"
  }
 },
 "nbformat": 4,
 "nbformat_minor": 2
}
