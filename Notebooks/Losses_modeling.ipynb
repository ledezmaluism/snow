{
 "cells": [
  {
   "cell_type": "code",
   "execution_count": 1,
   "metadata": {},
   "outputs": [],
   "source": [
    "import numpy as np\n",
    "import matplotlib.pyplot as plt"
   ]
  },
  {
   "cell_type": "code",
   "execution_count": 2,
   "metadata": {},
   "outputs": [],
   "source": [
    "from scipy.constants import pi, c, epsilon_0\n",
    "nm = 1e-9\n",
    "um = 1e-6\n",
    "mm = 1e-3\n",
    "ps = 1e-12\n",
    "fs = 1e-15\n",
    "GHz = 1e9\n",
    "THz = 1e12"
   ]
  },
  {
   "cell_type": "code",
   "execution_count": 5,
   "metadata": {},
   "outputs": [],
   "source": [
    "wl_start = 100*nm\n",
    "wl_stop = 1000*um\n",
    "wl_step = 50*nm\n",
    "wl = np.arange(wl_start, wl_stop, wl_step)\n",
    "\n",
    "wl_test = np.array([300, 350, 500, 1000, 2000, 4000, 5000])*nm\n",
    "idx = np.zeros_like(wl_test)\n",
    "for k in range(wl_test.size):\n",
    "    idx[k] = np.abs(wl - wl_test[k]).argmin()"
   ]
  },
  {
   "cell_type": "code",
   "execution_count": 8,
   "metadata": {},
   "outputs": [
    {
     "name": "stdout",
     "output_type": "stream",
     "text": [
      "Loss at 300.0 nm = 0.588 dB/cm\n",
      "Loss at 350.0 nm = 0.421 dB/cm\n",
      "Loss at 500.0 nm = 0.155 dB/cm\n",
      "Loss at 1000.0 nm = 0.006 dB/cm\n",
      "Loss at 2000.0 nm = 0.000 dB/cm\n",
      "Loss at 4000.0 nm = 0.019 dB/cm\n",
      "Loss at 5000.0 nm = 0.705 dB/cm\n"
     ]
    },
    {
     "name": "stderr",
     "output_type": "stream",
     "text": [
      "C:\\Users\\luish\\AppData\\Local\\Continuum\\anaconda3\\lib\\site-packages\\ipykernel_launcher.py:7: RuntimeWarning: overflow encountered in exp\n",
      "  import sys\n",
      "C:\\Users\\luish\\AppData\\Local\\Continuum\\anaconda3\\lib\\site-packages\\ipykernel_launcher.py:7: RuntimeWarning: overflow encountered in multiply\n",
      "  import sys\n"
     ]
    },
    {
     "data": {
      "image/png": "[encoded data removed]",
      "text/plain": [
       "<Figure size 432x288 with 1 Axes>"
      ]
     },
     "metadata": {
      "needs_background": "light"
     },
     "output_type": "display_data"
    }
   ],
   "source": [
    "wl_hfc = 300*nm\n",
    "wl_lfc = 5.5*um\n",
    "loss = 100*(np.exp(-2*wl/wl_hfc) + np.exp(20*(wl-wl_lfc)/wl_lfc))\n",
    "loss[loss>2500] = 2500\n",
    "loss_dB = 10*loss*np.log10(np.exp(1))\n",
    "\n",
    "plt.plot(wl/nm, loss_dB/100)\n",
    "for k in range(wl_test.size):\n",
    "    ki = int(idx[k])\n",
    "    print('Loss at %0.1f nm = %0.3f dB/cm' %(wl[ki]/nm, loss_dB[ki]/100))\n",
    "    plt.scatter(wl[ki]/nm, loss_dB[ki]/100, color='r')\n",
    "\n",
    "# plt.ylim([0,1])"
   ]
  }
 ],
 "metadata": {
  "kernelspec": {
   "display_name": "Python 3",
   "language": "python",
   "name": "python3"
  },
  "language_info": {
   "codemirror_mode": {
    "name": "ipython",
    "version": 3
   },
   "file_extension": ".py",
   "mimetype": "text/x-python",
   "name": "python",
   "nbconvert_exporter": "python",
   "pygments_lexer": "ipython3",
   "version": "3.7.6"
  }
 },
 "nbformat": 4,
 "nbformat_minor": 4
}
