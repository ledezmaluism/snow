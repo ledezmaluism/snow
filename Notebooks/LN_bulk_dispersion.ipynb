{
 "cells": [
  {
   "cell_type": "markdown",
   "metadata": {},
   "source": [
    "## Lithium niobate dispersion"
   ]
  },
  {
   "cell_type": "markdown",
   "metadata": {},
   "source": [
    "It is usual to model the dispersion of transparent optical materials with Sellmeier's equation:\n",
    "\n",
    "$$\n",
    "n^2(\\lambda) = 1 + \\sum_{k=1}^{m}{\\frac{A_k \\lambda^2}{\\lambda^2 - B_k}},\n",
    "$$\n",
    "\n",
    "where we are modeling $m$ independent resonances. Writing this equation in terms of $\\omega$ we get:\n",
    "\n",
    "$$\n",
    "n^2(\\omega) = 1 + \\sum_{k=1}^{m}{\\frac{\\omega_k^2}{\\omega_k^2 - \\omega^2} \\chi_k^{(1)}},\n",
    "$$\n",
    "\n",
    "with:\n",
    "\n",
    "$$\n",
    "\\chi_k^{(1)} = A_k \\\\\n",
    "\\omega_k = \\frac{2\\pi c}{\\sqrt {B_k}}.\n",
    "$$\n",
    "\n",
    "Each one of these equations is the solution of Lorentz Equation:\n",
    "\n",
    "$$\n",
    "\\frac{d^2P(t)}{dt^2} + \\omega_k^2 P(t) = \\epsilon_0 \\omega_k^2 \\, \\chi_k^{(1)} E(t).\n",
    "$$"
   ]
  },
  {
   "cell_type": "markdown",
   "metadata": {},
   "source": [
    "## Units\n",
    "\n",
    "For distance, let's use microns (the Sellmeier coefficients below are for microns).\n",
    "\n",
    "For frequency, THz. This means time will be measured in ps, so the speed of light will be in um/ps"
   ]
  },
  {
   "cell_type": "code",
   "execution_count": 1,
   "metadata": {},
   "outputs": [],
   "source": [
    "import numpy as np\n",
    "import matplotlib.pyplot as plt\n",
    "import time\n",
    "\n",
    "from scipy.constants import c,pi,mu_0,epsilon_0\n",
    "c = c*1e-6"
   ]
  },
  {
   "cell_type": "code",
   "execution_count": 2,
   "metadata": {},
   "outputs": [],
   "source": [
    "def term(A,B,wavelength):\n",
    "    return A*wavelength**2/(wavelength**2-B)\n",
    "\n",
    "def n2(Coeff,wavelength):\n",
    "    n2 = 1\n",
    "    n2 = n2 + term(Coeff[0], Coeff[1], wavelength)\n",
    "    n2 = n2 + term(Coeff[2], Coeff[3], wavelength)\n",
    "    n2 = n2 + term(Coeff[4], Coeff[5], wavelength)\n",
    "    return n2"
   ]
  },
  {
   "cell_type": "markdown",
   "metadata": {},
   "source": [
    "From this paper:\n",
    "\n",
    "\"Infrared corrected Sellmeier coefficients for\n",
    "congruently grown lithium niobate\n",
    "and 5 mol. % magnesium oxide–doped\n",
    "lithium niobate\"\n",
    "\n",
    "Zelmon and Jundt"
   ]
  },
  {
   "cell_type": "markdown",
   "metadata": {},
   "source": [
    "## Congruently grown LN (undoped)"
   ]
  },
  {
   "cell_type": "code",
   "execution_count": 3,
   "metadata": {},
   "outputs": [],
   "source": [
    "#Coefficients from the paper\n",
    "\n",
    "#Extraordinary waves\n",
    "A_ne = 2.9804\n",
    "B_ne = 0.02047\n",
    "C_ne = 0.5981\n",
    "D_ne = 0.0666\n",
    "E_ne = 8.9543\n",
    "F_ne = 416.08\n",
    "\n",
    "#Ordinary waves\n",
    "A_no = 2.6734\n",
    "B_no = 0.01764\n",
    "C_no = 1.2290\n",
    "D_no = 0.05914\n",
    "E_no = 12.614\n",
    "F_no = 474.6"
   ]
  },
  {
   "cell_type": "markdown",
   "metadata": {},
   "source": [
    "step = 0.01\n",
    "wavelength = np.arange(0.4,5+step,step)\n",
    "\n",
    "no2 = n2([A_no,B_no,C_no,D_no,E_no,F_no],wavelength)\n",
    "ne2 = n2([A_ne,B_ne,C_ne,D_ne,E_ne,F_ne],wavelength)\n",
    "\n",
    "no = np.sqrt(no2)\n",
    "ne = np.sqrt(ne2)\n",
    "\n",
    "plt.plot(wavelength, no, 'r')\n",
    "plt.plot(wavelength, ne, 'b')\n",
    "plt.legend(['no','ne'])\n",
    "plt.axis([0, 5, 2, 2.4])\n",
    "plt.xlabel('$\\mathrm{\\lambda (\\mu m)}$')\n",
    "plt.ylabel('$\\mathrm{n}$')\n",
    "plt.grid()\n",
    "plt.title('Congruently grown $\\mathrm{LiNbO_3}$ doped with 5-mol% MgO')\n",
    "plt.savefig('LN_doped.pdf')"
   ]
  },
  {
   "cell_type": "markdown",
   "metadata": {},
   "source": [
    "## Curve fitting (n vs wavelength)"
   ]
  },
  {
   "cell_type": "code",
   "execution_count": 4,
   "metadata": {},
   "outputs": [
    {
     "name": "stdout",
     "output_type": "stream",
     "text": [
      "Effective index at 1.5um = 2.1390\n",
      "Chromatic Dispersion at 1.5um = -0.029722 1/um\n",
      "Group index at 1.5um = 2.1836\n"
     ]
    },
    {
     "data": {
      "image/png": "[encoded data removed]",
      "text/plain": [
       "<Figure size 432x288 with 1 Axes>"
      ]
     },
     "metadata": {
      "needs_background": "light"
     },
     "output_type": "display_data"
    }
   ],
   "source": [
    "#Fitting range:\n",
    "lamda_sellmeier_step = 0.1\n",
    "lamda_sellmeier = np.arange(1.4,4.2,lamda_sellmeier_step)\n",
    "#Sellmeier equation:\n",
    "n_2_sellmeier = n2([A_ne,B_ne,C_ne,D_ne,E_ne,F_ne], lamda_sellmeier)\n",
    "n_sellmeier = np.sqrt(n_2_sellmeier)\n",
    "\n",
    "#Polynomial fit\n",
    "order = 12\n",
    "fit = np.polynomial.polynomial.Polynomial.fit(lamda_sellmeier, n_sellmeier, order)\n",
    "fit_coeff = np.flip(fit.convert().coef)\n",
    "n_vs_l = np.poly1d(fit_coeff)\n",
    "\n",
    "#Test fit\n",
    "fit_test_lamda = np.arange(1.4,4.2,lamda_sellmeier_step*0.05)\n",
    "fit_test_n = n_vs_l(fit_test_lamda)\n",
    "print(\"Effective index at 1.5um = %0.4f\" %(n_vs_l(1.5)))\n",
    "\n",
    "#Plot\n",
    "plt.plot(fit_test_lamda, fit_test_n)\n",
    "plt.plot(lamda_sellmeier, n_sellmeier, 'o')\n",
    "plt.legend(['Poly fit','Sellmeier'])\n",
    "plt.grid()\n",
    "plt.xlabel('$\\mathrm{\\lambda (\\mu m)}$')\n",
    "plt.ylabel('$\\mathrm{n}$')\n",
    "\n",
    "#Chromatic Dispersion (dn/dl)\n",
    "dn_dl = n_vs_l.deriv()\n",
    "print(\"Chromatic Dispersion at 1.5um = %0.6f 1/um\" %(dn_dl(1.5)))\n",
    "#plt.plot(fit_test_lamda, dn_dl(fit_test_lamda))\n",
    "\n",
    "#Group index (n-l*dn/dl)\n",
    "l_vs_l = np.poly1d([1, 0]) #Polynomial that represents wavelength\n",
    "ng_vs_l = n_vs_l - l_vs_l*dn_dl\n",
    "print(\"Group index at 1.5um = %0.4f\" %(ng_vs_l(1.5)))"
   ]
  },
  {
   "cell_type": "markdown",
   "metadata": {},
   "source": [
    "## Fitting vs frequency"
   ]
  },
  {
   "cell_type": "code",
   "execution_count": 5,
   "metadata": {
    "scrolled": true
   },
   "outputs": [
    {
     "name": "stdout",
     "output_type": "stream",
     "text": [
      "Fit starts at 4.28275 um\n",
      "Fit stops at 1.42758 um\n",
      "Test frequency = 199.86 THz\n",
      "\n",
      "Effective index at 1.5um = 2.1390\n",
      "Group index at 1.5um = 2.1836\n",
      "GVD at 1.5um = 111.8608 fs^2/mm\n",
      "D at 1.5um = -93.6475 ps/nm/km\n"
     ]
    },
    {
     "data": {
      "image/png": "[encoded data removed]",
      "text/plain": [
       "<Figure size 432x288 with 1 Axes>"
      ]
     },
     "metadata": {
      "needs_background": "light"
     },
     "output_type": "display_data"
    }
   ],
   "source": [
    "#Fitting range:\n",
    "f_sellmeier_step = 10\n",
    "#f_start = 199.86-f_sellmeier_step\n",
    "#f_stop = 199.86+f_sellmeier_step\n",
    "f_start = 70\n",
    "f_stop = 210\n",
    "f_sellmeier = np.arange(f_start,f_stop+f_sellmeier_step,f_sellmeier_step)\n",
    "w_sellmeier = 2*pi*f_sellmeier\n",
    "lamda_sellmeier = c/f_sellmeier\n",
    "\n",
    "print(\"Fit starts at %0.5f um\" %(c/f_start))\n",
    "print(\"Fit stops at %0.5f um\" %(c/f_stop))\n",
    "\n",
    "#Sellmeier equation:\n",
    "n_2_sellmeier = n2([A_ne,B_ne,C_ne,D_ne,E_ne,F_ne], lamda_sellmeier)\n",
    "n_sellmeier = np.sqrt(n_2_sellmeier)\n",
    "\n",
    "#Polynomial fit\n",
    "order = 13\n",
    "fit = np.polynomial.polynomial.Polynomial.fit(w_sellmeier, n_sellmeier, order)\n",
    "fit_coeff = np.flip(fit.convert().coef)\n",
    "n_vs_w = np.poly1d(fit_coeff)\n",
    "\n",
    "#Test wavelength\n",
    "test_lamda = 1.5\n",
    "test_f = c/test_lamda\n",
    "test_w = 2*pi*test_f\n",
    "print('Test frequency = %0.2f THz' %(test_f))\n",
    "print('')\n",
    "\n",
    "#Test fit\n",
    "fit_test_f = np.arange(f_start,f_stop,f_sellmeier_step*0.05)\n",
    "fit_test_n = n_vs_w(2*pi*fit_test_f)\n",
    "print(\"Effective index at %0.1fum = %0.4f\" %(test_lamda, n_vs_w(test_w)))\n",
    "\n",
    "#Plot\n",
    "plt.plot(fit_test_f, fit_test_n)\n",
    "plt.plot(f_sellmeier, n_sellmeier, 'o')\n",
    "plt.legend(['Poly fit','Sellmeier'])\n",
    "plt.grid()\n",
    "plt.xlabel('$\\mathrm{Frequency (THz)}$')\n",
    "plt.ylabel('$\\mathrm{n}$')\n",
    "plt.plot(test_f, n_vs_w(test_w), 'sk')\n",
    "\n",
    "#Propagation constant (b = w*n/c)\n",
    "w_vs_w = np.poly1d([1, 0]) #Polynomial that represents angular frequency\n",
    "b_vs_w = w_vs_w*n_vs_w/c\n",
    "db_dw = b_vs_w.deriv()\n",
    "\n",
    "#Group index\n",
    "ng_vs_w = c*db_dw\n",
    "print(\"Group index at %0.1fum = %0.4f\" %(test_lamda, ng_vs_w(test_w)))\n",
    "\n",
    "#Group velocity dispersion\n",
    "GVD_vs_w = db_dw.deriv()\n",
    "print(\"GVD at %0.1fum = %0.4f fs^2/mm\" %(test_lamda, GVD_vs_w(test_w)*1e9))\n",
    "\n",
    "#Dispersion parameters\n",
    "D_vs_w = -w_vs_w*w_vs_w*GVD_vs_w/(2*pi*c)\n",
    "print(\"D at %0.1fum = %0.4f ps/nm/km\" %(test_lamda, D_vs_w(test_w)*1e6))"
   ]
  },
  {
   "cell_type": "code",
   "execution_count": 6,
   "metadata": {},
   "outputs": [
    {
     "data": {
      "text/plain": [
       "Text(0, 0.5, '$\\\\mathrm{beta}$')"
      ]
     },
     "execution_count": 6,
     "metadata": {},
     "output_type": "execute_result"
    },
    {
     "data": {
      "image/png": "[encoded data removed]",
      "text/plain": [
       "<Figure size 432x288 with 1 Axes>"
      ]
     },
     "metadata": {
      "needs_background": "light"
     },
     "output_type": "display_data"
    }
   ],
   "source": [
    "plt.plot(fit_test_f, b_vs_w(2*pi*fit_test_f))\n",
    "plt.xlabel('$\\mathrm{Frequency (THz)}$')\n",
    "plt.ylabel('$\\mathrm{beta}$')"
   ]
  },
  {
   "cell_type": "code",
   "execution_count": 7,
   "metadata": {
    "scrolled": true
   },
   "outputs": [
    {
     "data": {
      "text/plain": [
       "Text(0, 0.5, '$\\\\mathrm{b1}$')"
      ]
     },
     "execution_count": 7,
     "metadata": {},
     "output_type": "execute_result"
    },
    {
     "data": {
      "image/png": "[encoded data removed]",
      "text/plain": [
       "<Figure size 432x288 with 1 Axes>"
      ]
     },
     "metadata": {
      "needs_background": "light"
     },
     "output_type": "display_data"
    }
   ],
   "source": [
    "plt.plot(fit_test_f, db_dw(2*pi*fit_test_f))\n",
    "plt.xlabel('$\\mathrm{Frequency (THz)}$')\n",
    "plt.ylabel('$\\mathrm{b1}$')"
   ]
  },
  {
   "cell_type": "code",
   "execution_count": 9,
   "metadata": {},
   "outputs": [
    {
     "data": {
      "image/png": "[encoded data removed]",
      "text/plain": [
       "<Figure size 432x288 with 1 Axes>"
      ]
     },
     "metadata": {
      "needs_background": "light"
     },
     "output_type": "display_data"
    }
   ],
   "source": [
    "plt.plot(fit_test_f, GVD_vs_w(2*pi*fit_test_f)*1e9)\n",
    "plt.xlabel('$\\mathrm{Frequency (THz)}$')\n",
    "plt.ylabel('$\\mathrm{b2=GVD}$')\n",
    "plt.grid()"
   ]
  },
  {
   "cell_type": "code",
   "execution_count": null,
   "metadata": {},
   "outputs": [],
   "source": []
  }
 ],
 "metadata": {
  "kernelspec": {
   "display_name": "Python 3",
   "language": "python",
   "name": "python3"
  },
  "language_info": {
   "codemirror_mode": {
    "name": "ipython",
    "version": 3
   },
   "file_extension": ".py",
   "mimetype": "text/x-python",
   "name": "python",
   "nbconvert_exporter": "python",
   "pygments_lexer": "ipython3",
   "version": "3.7.3"
  }
 },
 "nbformat": 4,
 "nbformat_minor": 2
}
