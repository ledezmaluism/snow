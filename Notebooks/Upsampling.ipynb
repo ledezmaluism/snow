{
 "cells": [
  {
   "cell_type": "code",
   "execution_count": null,
   "metadata": {},
   "outputs": [],
   "source": []
  },
  {
   "cell_type": "code",
   "execution_count": 1,
   "metadata": {},
   "outputs": [],
   "source": [
    "import numpy as np\n",
    "from numpy.fft import fft, ifft, fftshift, fftfreq\n",
    "import matplotlib.pyplot as plt\n",
    "import time\n",
    "from scipy import signal\n",
    "import pyfftw\n",
    "\n",
    "#This are my libraries\n",
    "import nlo \n",
    "import materials"
   ]
  },
  {
   "cell_type": "code",
   "execution_count": 2,
   "metadata": {},
   "outputs": [],
   "source": [
    "NFFT = 2**10\n",
    "Nup = 4\n",
    "t = np.linspace(0,1,NFFT)\n",
    "tup = np.linspace(0,1,Nup*NFFT)\n",
    "x = 100*np.sin(10*t) + 100*np.sin(15*t) + 1j*np.random.rand(NFFT)"
   ]
  },
  {
   "cell_type": "code",
   "execution_count": 3,
   "metadata": {},
   "outputs": [],
   "source": [
    "a = pyfftw.empty_aligned(NFFT, dtype='complex128')\n",
    "A = pyfftw.empty_aligned(NFFT, dtype='complex128')\n",
    "aup = pyfftw.empty_aligned(Nup*NFFT, dtype='complex128')\n",
    "Aup = pyfftw.empty_aligned(Nup*NFFT, dtype='complex128')\n",
    "\n",
    "fft_a = pyfftw.FFTW(a, A)\n",
    "ifft_Aup = pyfftw.FFTW(Aup, aup, direction='FFTW_BACKWARD')\n",
    "\n",
    "def resample(x, N):\n",
    "    #Padding size\n",
    "    M = N - x.size\n",
    "    \n",
    "    #FFT first\n",
    "    a[:] = x\n",
    "    A = fft_a()\n",
    "    \n",
    "    #Pad center\n",
    "    center = int(A.size/2)\n",
    "    X1 = A[:center]\n",
    "    X2 = A[center:]\n",
    "    Xc = np.zeros(M)\n",
    "    Aup[:] = np.concatenate((X1, Xc, X2))\n",
    "    \n",
    "    #IFFT \n",
    "    aup = ifft_Aup()\n",
    "    \n",
    "    return aup * (N/x.size)\n",
    "\n",
    "def upsample_fd(X, N):\n",
    "    #Padding size\n",
    "    M = N - X.size\n",
    "    \n",
    "    #Pad center\n",
    "    center = int(X.size/2)\n",
    "    X1 = X[:center]\n",
    "    X2 = X[center:]\n",
    "    Xc = np.zeros(M)\n",
    "    Aup[:] = np.concatenate((X1, Xc, X2))\n",
    "    \n",
    "    #IFFT \n",
    "    aup = ifft_Aup()\n",
    "    \n",
    "    return aup * (N/x.size)"
   ]
  },
  {
   "cell_type": "markdown",
   "metadata": {},
   "source": [
    "# Tests"
   ]
  },
  {
   "cell_type": "code",
   "execution_count": 5,
   "metadata": {},
   "outputs": [],
   "source": [
    "xup1 = signal.resample(x, Nup*NFFT)\n",
    "xup2 = resample(x, Nup*NFFT)\n",
    "xup3 = upsample_fd(fft(x), Nup*NFFT)"
   ]
  },
  {
   "cell_type": "code",
   "execution_count": 6,
   "metadata": {},
   "outputs": [
    {
     "name": "stdout",
     "output_type": "stream",
     "text": [
      "[ 0.        +0.81936514j  2.44372466+0.00765178j  4.88704069+0.42008578j\n",
      " ... 14.4769229 +0.01791735j 12.55634741+0.58624669j\n",
      " 10.62667293+0.18333092j]\n",
      "\n",
      "[-1.59872116e-14+0.81936514j -7.91775730e-01+0.78730112j\n",
      " -3.63441871e-01+0.583983j   ...  8.00785640e+00+0.26553347j\n",
      "  4.91577332e+00+0.46283185j  2.02957868e+00+0.68491655j]\n",
      "\n",
      "[-2.66453526e-15+0.81936514j -7.84739152e-01+0.79105814j\n",
      " -3.53490649e-01+0.58929624j ...  8.00081982e+00+0.26177644j\n",
      "  4.90582209e+00+0.45751861j  2.02254210e+00+0.68115952j]\n",
      "\n",
      "[-2.57571742e-14+0.81936514j -7.84739152e-01+0.79105814j\n",
      " -3.53490649e-01+0.58929624j ...  8.00081982e+00+0.26177644j\n",
      "  4.90582209e+00+0.45751861j  2.02254210e+00+0.68115952j]\n"
     ]
    }
   ],
   "source": [
    "print(x)\n",
    "print()\n",
    "print(xup1)\n",
    "print()\n",
    "print(xup2)\n",
    "print()\n",
    "print(xup3)"
   ]
  },
  {
   "cell_type": "code",
   "execution_count": 7,
   "metadata": {},
   "outputs": [
    {
     "data": {
      "text/plain": [
       "[<matplotlib.lines.Line2D at 0x1c84c2e7c08>]"
      ]
     },
     "execution_count": 7,
     "metadata": {},
     "output_type": "execute_result"
    },
    {
     "data": {
      "image/png": "[encoded data removed]",
      "text/plain": [
       "<Figure size 432x288 with 1 Axes>"
      ]
     },
     "metadata": {
      "needs_background": "light"
     },
     "output_type": "display_data"
    }
   ],
   "source": [
    "plt.plot(t, np.real(x))\n",
    "plt.plot(tup, np.real(xup1))\n",
    "plt.plot(tup, np.real(xup2))\n",
    "plt.plot(tup, np.real(xup3))"
   ]
  },
  {
   "cell_type": "markdown",
   "metadata": {},
   "source": [
    "# Performance"
   ]
  },
  {
   "cell_type": "code",
   "execution_count": 8,
   "metadata": {},
   "outputs": [
    {
     "name": "stdout",
     "output_type": "stream",
     "text": [
      "94 µs ± 939 ns per loop (mean ± std. dev. of 7 runs, 10000 loops each)\n"
     ]
    }
   ],
   "source": [
    "%timeit signal.resample(x, Nup*NFFT)"
   ]
  },
  {
   "cell_type": "code",
   "execution_count": 9,
   "metadata": {},
   "outputs": [
    {
     "name": "stdout",
     "output_type": "stream",
     "text": [
      "43.2 µs ± 37.2 ns per loop (mean ± std. dev. of 7 runs, 10000 loops each)\n"
     ]
    }
   ],
   "source": [
    "%timeit resample(x, Nup*NFFT)"
   ]
  },
  {
   "cell_type": "code",
   "execution_count": 10,
   "metadata": {},
   "outputs": [
    {
     "name": "stdout",
     "output_type": "stream",
     "text": [
      "56.6 µs ± 76.4 ns per loop (mean ± std. dev. of 7 runs, 10000 loops each)\n"
     ]
    }
   ],
   "source": [
    "%timeit upsample_fd(fft(x), Nup*NFFT)"
   ]
  },
  {
   "cell_type": "code",
   "execution_count": 11,
   "metadata": {},
   "outputs": [
    {
     "name": "stdout",
     "output_type": "stream",
     "text": [
      "39.8 µs ± 82.6 ns per loop (mean ± std. dev. of 7 runs, 10000 loops each)\n"
     ]
    }
   ],
   "source": [
    "X = fft(x)\n",
    "%timeit upsample_fd(X, Nup*NFFT)"
   ]
  }
 ],
 "metadata": {
  "kernelspec": {
   "display_name": "Python 3",
   "language": "python",
   "name": "python3"
  },
  "language_info": {
   "codemirror_mode": {
    "name": "ipython",
    "version": 3
   },
   "file_extension": ".py",
   "mimetype": "text/x-python",
   "name": "python",
   "nbconvert_exporter": "python",
   "pygments_lexer": "ipython3",
   "version": "3.7.6"
  }
 },
 "nbformat": 4,
 "nbformat_minor": 4
}
