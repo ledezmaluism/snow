{
 "cells": [
  {
   "cell_type": "markdown",
   "metadata": {},
   "source": [
    "## Test notebook for nlo.py module"
   ]
  },
  {
   "cell_type": "code",
   "execution_count": 1,
   "metadata": {},
   "outputs": [],
   "source": [
    "import numpy as np\n",
    "from numpy.fft import fft, ifft, fftshift, fftfreq\n",
    "import matplotlib.pyplot as plt\n",
    "import time\n",
    "import scipy\n",
    "import copy\n",
    "from matplotlib import cm\n",
    "from matplotlib.colors import Normalize\n",
    "\n",
    "#This are my libraries\n",
    "import nlo \n",
    "from util import sech"
   ]
  },
  {
   "cell_type": "code",
   "execution_count": 2,
   "metadata": {},
   "outputs": [],
   "source": [
    "from scipy.constants import pi, c"
   ]
  },
  {
   "cell_type": "markdown",
   "metadata": {},
   "source": [
    "## Test pulse creation"
   ]
  },
  {
   "cell_type": "code",
   "execution_count": 5,
   "metadata": {},
   "outputs": [
    {
     "name": "stdout",
     "output_type": "stream",
     "text": [
      "Sampling Rate = 3.906 fs\n",
      "Center Wavelength = 1.000 um\n",
      "Center frequency = 299.792 THz\n",
      "Pulse Energy = 1.000 nJ\n",
      "Pulse peak power = 10.000 kW\n",
      "Comb average power = 250.000 mW\n"
     ]
    }
   ],
   "source": [
    "NFFT = 2**8 #Number of FFT points\n",
    "\n",
    "Tmax = 500*1e-15 # (window will go from -Tmax to Tmax)\n",
    "t = np.linspace(-Tmax, Tmax, NFFT, endpoint=False)\n",
    "dt = t[1]-t[0] #Sampling period\n",
    "print('Sampling Rate = %0.3f fs' %(dt*1e15))\n",
    "\n",
    "#Parameters\n",
    "wl0 = 1e-6 #center wavelength\n",
    "f0 = c/wl0\n",
    "print('Center Wavelength = %0.3f um' %(wl0*1e6))\n",
    "print('Center frequency = %0.3f THz' %(f0*1e-12))\n",
    " \n",
    "pulse_energy = 1e-9 #Pulse energy\n",
    "tau = 100e-15 #Pulse width\n",
    "\n",
    "#Pulse creation\n",
    "Tp = tau/1.76\n",
    "frep = 250e6\n",
    "pulse = np.sqrt(0.88*pulse_energy/tau)*sech(t/Tp)\n",
    "pulse_energy = nlo.energy_td(t, pulse)\n",
    "\n",
    "print('Pulse Energy = %0.3f nJ' %(pulse_energy*1e9))\n",
    "print('Pulse peak power = %0.3f kW' %(pulse_energy/tau*1e-3))\n",
    "print('Comb average power = %0.3f mW' %(pulse_energy*frep*1e3))"
   ]
  },
  {
   "cell_type": "markdown",
   "metadata": {},
   "source": [
    "## Plotting functions test"
   ]
  },
  {
   "cell_type": "code",
   "execution_count": null,
   "metadata": {},
   "outputs": [],
   "source": [
    "#Let's start by re-scaling the time\n",
    "t = t*1e15"
   ]
  },
  {
   "cell_type": "code",
   "execution_count": null,
   "metadata": {},
   "outputs": [],
   "source": [
    "plt.rcParams['figure.figsize'] = [15, 10] # Change size of plots\n",
    "\n",
    "fig = plt.figure()\n",
    "ax1 = fig.add_subplot(221)\n",
    "ax2 = fig.add_subplot(222)\n",
    "ax3 = fig.add_subplot(223)\n",
    "ax4 = fig.add_subplot(224)\n",
    "\n",
    "nlo.plot_mag(t, pulse, ax=ax1);\n",
    "nlo.plot_magsq(t, pulse, ax=ax2);\n",
    "nlo.plot_mag_relative(t, pulse, ax=ax3);\n",
    "nlo.plot_magsq_relative(t, pulse, ax=ax4);"
   ]
  },
  {
   "cell_type": "code",
   "execution_count": null,
   "metadata": {},
   "outputs": [],
   "source": [
    "plt.rcParams['figure.figsize'] = [15, 5] # Change size of plots\n",
    "\n",
    "fig = plt.figure()\n",
    "ax1 = fig.add_subplot(121)\n",
    "ax2 = fig.add_subplot(122)\n",
    "\n",
    "nlo.plot_phase_vs_time(t, pulse, ax=ax1);\n",
    "nlo.plot_phase_vs_freq(t, pulse, ax=ax2);"
   ]
  },
  {
   "cell_type": "code",
   "execution_count": null,
   "metadata": {},
   "outputs": [],
   "source": [
    "plt.rcParams['figure.figsize'] = [15, 10] # Change size of plots\n",
    "\n",
    "fig = plt.figure()\n",
    "ax1 = fig.add_subplot(221)\n",
    "ax2 = fig.add_subplot(222)\n",
    "ax3 = fig.add_subplot(223)\n",
    "ax4 = fig.add_subplot(224)\n",
    "\n",
    "nlo.plot_spectrum(t, pulse, ax=ax1);\n",
    "nlo.plot_ESD(t, pulse, ax=ax2);\n",
    "nlo.plot_ESD_dB(t, pulse, ax=ax3);\n",
    "nlo.plot_ESD_dB(t, pulse, ax=ax4)#, xlim=[-50,50], ylim=[-30,0]);"
   ]
  },
  {
   "cell_type": "code",
   "execution_count": null,
   "metadata": {},
   "outputs": [],
   "source": [
    "plt.rcParams['figure.figsize'] = [15, 10] # Change size of plots\n",
    "\n",
    "fig = plt.figure()\n",
    "ax1 = fig.add_subplot(221)\n",
    "ax2 = fig.add_subplot(222)\n",
    "ax3 = fig.add_subplot(223)\n",
    "ax4 = fig.add_subplot(224)\n",
    "\n",
    "nlo.plot_spectrum_absfreq(t, pulse, f0, ax=ax1);\n",
    "nlo.plot_ESD_absfreq(t, pulse, f0, ax=ax2);\n",
    "nlo.plot_ESD_dB_absfreq(t, pulse, f0, ax=ax3);\n",
    "nlo.plot_ESD_dB_absfreq(t, pulse, f0, ax=ax4, xlim=[250,350], ylim=[-30,0]);"
   ]
  },
  {
   "cell_type": "code",
   "execution_count": null,
   "metadata": {},
   "outputs": [],
   "source": [
    "plt.rcParams['figure.figsize'] = [15, 10] # Change size of plots\n",
    "\n",
    "fig = plt.figure()\n",
    "ax1 = fig.add_subplot(221)\n",
    "ax2 = fig.add_subplot(222)\n",
    "ax3 = fig.add_subplot(223)\n",
    "ax4 = fig.add_subplot(224)\n",
    "\n",
    "nlo.plot_spectrum_vs_wavelength(t, pulse, f0, ax=ax1);\n",
    "nlo.plot_ESD_vs_wavelength(t, pulse, f0, ax=ax2);\n",
    "nlo.plot_ESD_dB_vs_wavelength(t, pulse, f0, ax=ax3);\n",
    "nlo.plot_ESD_dB_vs_wavelength(t, pulse, f0, ax=ax4, xlim=[0.8,1.2], ylim=[-30,0]);"
   ]
  },
  {
   "cell_type": "markdown",
   "metadata": {},
   "source": [
    "## Check energy calculation functions"
   ]
  },
  {
   "cell_type": "code",
   "execution_count": null,
   "metadata": {},
   "outputs": [],
   "source": [
    "print(format(nlo.energy_td(t, pulse)*1e9, '0.3e'), 'nJ')\n",
    "print(format(nlo.energy_fd(t, pulse)*1e9, '0.3e'), 'nJ')"
   ]
  },
  {
   "cell_type": "markdown",
   "metadata": {},
   "source": [
    "# Now, let's re-check all this using the pulse class"
   ]
  },
  {
   "cell_type": "code",
   "execution_count": null,
   "metadata": {},
   "outputs": [],
   "source": [
    "pulse = nlo.pulse(t, pulse, wl0*1e3)"
   ]
  },
  {
   "cell_type": "code",
   "execution_count": null,
   "metadata": {},
   "outputs": [],
   "source": [
    "plt.rcParams['figure.figsize'] = [15, 10] # Change size of plots\n",
    "\n",
    "fig = plt.figure()\n",
    "ax1 = fig.add_subplot(221)\n",
    "ax2 = fig.add_subplot(222)\n",
    "ax3 = fig.add_subplot(223)\n",
    "ax4 = fig.add_subplot(224)\n",
    "\n",
    "pulse.plot_mag(ax=ax1);\n",
    "pulse.plot_magsq(ax=ax2);\n",
    "pulse.plot_mag_relative(ax=ax3);\n",
    "pulse.plot_magsq_relative(ax=ax4);"
   ]
  },
  {
   "cell_type": "code",
   "execution_count": null,
   "metadata": {},
   "outputs": [],
   "source": [
    "plt.rcParams['figure.figsize'] = [15, 5] # Change size of plots\n",
    "\n",
    "fig = plt.figure()\n",
    "ax1 = fig.add_subplot(121)\n",
    "ax2 = fig.add_subplot(122)\n",
    "\n",
    "pulse.plot_phase_vs_time(ax=ax1);\n",
    "pulse.plot_phase_vs_freq(ax=ax2);"
   ]
  },
  {
   "cell_type": "code",
   "execution_count": null,
   "metadata": {},
   "outputs": [],
   "source": [
    "plt.rcParams['figure.figsize'] = [15, 10] # Change size of plots\n",
    "\n",
    "fig = plt.figure()\n",
    "ax1 = fig.add_subplot(221)\n",
    "ax2 = fig.add_subplot(222)\n",
    "ax3 = fig.add_subplot(223)\n",
    "ax4 = fig.add_subplot(224)\n",
    "\n",
    "pulse.plot_spectrum(ax=ax1);\n",
    "pulse.plot_ESD(ax=ax2);\n",
    "pulse.plot_ESD_dB(ax=ax3);\n",
    "pulse.plot_ESD_dB(ax=ax4, xlim=[-50,50], ylim=[-30,0]);"
   ]
  },
  {
   "cell_type": "code",
   "execution_count": null,
   "metadata": {},
   "outputs": [],
   "source": [
    "plt.rcParams['figure.figsize'] = [15, 10] # Change size of plots\n",
    "\n",
    "fig = plt.figure()\n",
    "ax1 = fig.add_subplot(221)\n",
    "ax2 = fig.add_subplot(222)\n",
    "ax3 = fig.add_subplot(223)\n",
    "ax4 = fig.add_subplot(224)\n",
    "\n",
    "pulse.plot_spectrum_absfreq(ax=ax1);\n",
    "pulse.plot_ESD_absfreq(ax=ax2);\n",
    "pulse.plot_ESD_dB_absfreq(ax=ax3);\n",
    "pulse.plot_ESD_dB_absfreq(ax=ax4, xlim=[250,350], ylim=[-30,0]);"
   ]
  },
  {
   "cell_type": "code",
   "execution_count": null,
   "metadata": {},
   "outputs": [],
   "source": [
    "plt.rcParams['figure.figsize'] = [15, 10] # Change size of plots\n",
    "\n",
    "fig = plt.figure()\n",
    "ax1 = fig.add_subplot(221)\n",
    "ax2 = fig.add_subplot(222)\n",
    "ax3 = fig.add_subplot(223)\n",
    "ax4 = fig.add_subplot(224)\n",
    "\n",
    "pulse.plot_spectrum_vs_wavelength(ax=ax1);\n",
    "pulse.plot_ESD_vs_wavelength(ax=ax2);\n",
    "pulse.plot_ESD_dB_vs_wavelength(ax=ax3);\n",
    "pulse.plot_ESD_dB_vs_wavelength(ax=ax4, xlim=[0.8,1.2], ylim=[-30,0]);"
   ]
  },
  {
   "cell_type": "code",
   "execution_count": null,
   "metadata": {},
   "outputs": [],
   "source": [
    "print(format(pulse.energy_td()*1e9, '0.3e'), 'nJ')\n",
    "print(format(pulse.energy_fd()*1e9, '0.3e'), 'nJ')"
   ]
  }
 ],
 "metadata": {
  "kernelspec": {
   "display_name": "Python 3",
   "language": "python",
   "name": "python3"
  },
  "language_info": {
   "codemirror_mode": {
    "name": "ipython",
    "version": 3
   },
   "file_extension": ".py",
   "mimetype": "text/x-python",
   "name": "python",
   "nbconvert_exporter": "python",
   "pygments_lexer": "ipython3",
   "version": "3.7.6"
  }
 },
 "nbformat": 4,
 "nbformat_minor": 4
}
