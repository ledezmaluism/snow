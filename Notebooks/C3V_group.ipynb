{
 "cells": [
  {
   "cell_type": "code",
   "execution_count": 1,
   "metadata": {},
   "outputs": [],
   "source": [
    "from matplotlib import pyplot as plt\n",
    "from mpl_toolkits.mplot3d.art3d import Poly3DCollection, Line3DCollection\n",
    "import numpy as np\n",
    "from sympy.physics.quantum import TensorProduct\n",
    "\n",
    "from sympy import *"
   ]
  },
  {
   "cell_type": "code",
   "execution_count": 2,
   "metadata": {},
   "outputs": [],
   "source": [
    "theta = Symbol(\"theta\")\n",
    "t = re(exp(-I*4*pi/3)) + I*im(exp(-I*4*pi/3))\n",
    "tc = conjugate(t)"
   ]
  },
  {
   "cell_type": "code",
   "execution_count": 3,
   "metadata": {},
   "outputs": [],
   "source": [
    "E = eye(2)\n",
    "C3 = Rational(1,2)*Matrix([[-1, sqrt(3)],[-sqrt(3), -1]])\n",
    "s1 = Matrix([[1, 0],[0, -1]])\n",
    "s2 = Rational(1,2)*Matrix([[-1, -sqrt(3)],[-sqrt(3), 1]])\n",
    "s3 = Rational(1,2)*Matrix([[-1, sqrt(3)],[sqrt(3), 1]])"
   ]
  },
  {
   "cell_type": "code",
   "execution_count": 4,
   "metadata": {},
   "outputs": [
    {
     "data": {
      "text/latex": [
       "$\\displaystyle \\left[\\begin{matrix}1 & 0\\\\0 & 1\\end{matrix}\\right]$"
      ],
      "text/plain": [
       "Matrix([\n",
       "[1, 0],\n",
       "[0, 1]])"
      ]
     },
     "metadata": {},
     "output_type": "display_data"
    },
    {
     "data": {
      "text/latex": [
       "$\\displaystyle \\left[\\begin{matrix}- \\frac{1}{2} & \\frac{\\sqrt{3}}{2}\\\\- \\frac{\\sqrt{3}}{2} & - \\frac{1}{2}\\end{matrix}\\right]$"
      ],
      "text/plain": [
       "Matrix([\n",
       "[      -1/2, sqrt(3)/2],\n",
       "[-sqrt(3)/2,      -1/2]])"
      ]
     },
     "metadata": {},
     "output_type": "display_data"
    },
    {
     "data": {
      "text/latex": [
       "$\\displaystyle \\left[\\begin{matrix}- \\frac{1}{2} & - \\frac{\\sqrt{3}}{2}\\\\\\frac{\\sqrt{3}}{2} & - \\frac{1}{2}\\end{matrix}\\right]$"
      ],
      "text/plain": [
       "Matrix([\n",
       "[     -1/2, -sqrt(3)/2],\n",
       "[sqrt(3)/2,       -1/2]])"
      ]
     },
     "metadata": {},
     "output_type": "display_data"
    },
    {
     "data": {
      "text/latex": [
       "$\\displaystyle \\left[\\begin{matrix}1 & 0\\\\0 & -1\\end{matrix}\\right]$"
      ],
      "text/plain": [
       "Matrix([\n",
       "[1,  0],\n",
       "[0, -1]])"
      ]
     },
     "metadata": {},
     "output_type": "display_data"
    },
    {
     "data": {
      "text/latex": [
       "$\\displaystyle \\left[\\begin{matrix}- \\frac{1}{2} & - \\frac{\\sqrt{3}}{2}\\\\- \\frac{\\sqrt{3}}{2} & \\frac{1}{2}\\end{matrix}\\right]$"
      ],
      "text/plain": [
       "Matrix([\n",
       "[      -1/2, -sqrt(3)/2],\n",
       "[-sqrt(3)/2,        1/2]])"
      ]
     },
     "metadata": {},
     "output_type": "display_data"
    },
    {
     "data": {
      "text/latex": [
       "$\\displaystyle \\left[\\begin{matrix}- \\frac{1}{2} & \\frac{\\sqrt{3}}{2}\\\\\\frac{\\sqrt{3}}{2} & \\frac{1}{2}\\end{matrix}\\right]$"
      ],
      "text/plain": [
       "Matrix([\n",
       "[     -1/2, sqrt(3)/2],\n",
       "[sqrt(3)/2,       1/2]])"
      ]
     },
     "metadata": {},
     "output_type": "display_data"
    }
   ],
   "source": [
    "display(E)\n",
    "display(C3)\n",
    "display(C3**2)\n",
    "display(s1)\n",
    "display(s2)\n",
    "display(s3)"
   ]
  },
  {
   "cell_type": "markdown",
   "metadata": {},
   "source": [
    "## Change of basis"
   ]
  },
  {
   "cell_type": "code",
   "execution_count": 5,
   "metadata": {},
   "outputs": [],
   "source": [
    "S = Matrix([[1, -I],[-1, -I]])/sqrt(2)"
   ]
  },
  {
   "cell_type": "code",
   "execution_count": 6,
   "metadata": {},
   "outputs": [
    {
     "data": {
      "text/latex": [
       "$\\displaystyle \\left[\\begin{matrix}\\frac{\\sqrt{2}}{2} & - \\frac{\\sqrt{2} i}{2}\\\\- \\frac{\\sqrt{2}}{2} & - \\frac{\\sqrt{2} i}{2}\\end{matrix}\\right]$"
      ],
      "text/plain": [
       "Matrix([\n",
       "[ sqrt(2)/2, -sqrt(2)*I/2],\n",
       "[-sqrt(2)/2, -sqrt(2)*I/2]])"
      ]
     },
     "metadata": {},
     "output_type": "display_data"
    }
   ],
   "source": [
    "display(S)"
   ]
  },
  {
   "cell_type": "code",
   "execution_count": 7,
   "metadata": {},
   "outputs": [
    {
     "data": {
      "text/latex": [
       "$\\displaystyle \\left[\\begin{matrix}\\frac{\\sqrt{2}}{2} & - \\frac{\\sqrt{2}}{2}\\\\\\frac{\\sqrt{2} i}{2} & \\frac{\\sqrt{2} i}{2}\\end{matrix}\\right]$"
      ],
      "text/plain": [
       "Matrix([\n",
       "[  sqrt(2)/2,  -sqrt(2)/2],\n",
       "[sqrt(2)*I/2, sqrt(2)*I/2]])"
      ]
     },
     "execution_count": 7,
     "metadata": {},
     "output_type": "execute_result"
    }
   ],
   "source": [
    "S.inv()"
   ]
  },
  {
   "cell_type": "code",
   "execution_count": 8,
   "metadata": {},
   "outputs": [
    {
     "data": {
      "text/latex": [
       "$\\displaystyle \\left[\\begin{matrix}\\cos{\\left(\\theta \\right)} & - \\sin{\\left(\\theta \\right)}\\\\\\sin{\\left(\\theta \\right)} & \\cos{\\left(\\theta \\right)}\\end{matrix}\\right]$"
      ],
      "text/plain": [
       "Matrix([\n",
       "[cos(theta), -sin(theta)],\n",
       "[sin(theta),  cos(theta)]])"
      ]
     },
     "metadata": {},
     "output_type": "display_data"
    }
   ],
   "source": [
    "R = Matrix([[cos(theta), -sin(theta)],[sin(theta), cos(theta)]])\n",
    "display(R)"
   ]
  },
  {
   "cell_type": "code",
   "execution_count": 9,
   "metadata": {},
   "outputs": [
    {
     "data": {
      "text/latex": [
       "$\\displaystyle \\left[\\begin{matrix}e^{- i \\theta} & 0\\\\0 & e^{i \\theta}\\end{matrix}\\right]$"
      ],
      "text/plain": [
       "Matrix([\n",
       "[exp(-I*theta),            0],\n",
       "[            0, exp(I*theta)]])"
      ]
     },
     "execution_count": 9,
     "metadata": {},
     "output_type": "execute_result"
    }
   ],
   "source": [
    "simplify(S*R*S.inv())"
   ]
  },
  {
   "cell_type": "code",
   "execution_count": 10,
   "metadata": {},
   "outputs": [],
   "source": [
    "C3_p = simplify(S*C3*S.inv())\n",
    "C32_p = simplify(S*C3**2*S.inv())\n",
    "s1_p = simplify(S*s1*S.inv())\n",
    "s2_p = simplify(S*s2*S.inv())\n",
    "s3_p = simplify(S*s3*S.inv())"
   ]
  },
  {
   "cell_type": "code",
   "execution_count": 11,
   "metadata": {},
   "outputs": [
    {
     "data": {
      "text/latex": [
       "$\\displaystyle \\left[\\begin{matrix}1 & 0\\\\0 & 1\\end{matrix}\\right]$"
      ],
      "text/plain": [
       "Matrix([\n",
       "[1, 0],\n",
       "[0, 1]])"
      ]
     },
     "metadata": {},
     "output_type": "display_data"
    },
    {
     "data": {
      "text/latex": [
       "$\\displaystyle \\left[\\begin{matrix}- \\frac{1}{2} + \\frac{\\sqrt{3} i}{2} & 0\\\\0 & - \\frac{1}{2} - \\frac{\\sqrt{3} i}{2}\\end{matrix}\\right]$"
      ],
      "text/plain": [
       "Matrix([\n",
       "[-1/2 + sqrt(3)*I/2,                  0],\n",
       "[                 0, -1/2 - sqrt(3)*I/2]])"
      ]
     },
     "metadata": {},
     "output_type": "display_data"
    },
    {
     "data": {
      "text/latex": [
       "$\\displaystyle \\left[\\begin{matrix}- \\frac{1}{2} - \\frac{\\sqrt{3} i}{2} & 0\\\\0 & - \\frac{1}{2} + \\frac{\\sqrt{3} i}{2}\\end{matrix}\\right]$"
      ],
      "text/plain": [
       "Matrix([\n",
       "[-1/2 - sqrt(3)*I/2,                  0],\n",
       "[                 0, -1/2 + sqrt(3)*I/2]])"
      ]
     },
     "metadata": {},
     "output_type": "display_data"
    },
    {
     "data": {
      "text/latex": [
       "$\\displaystyle \\left[\\begin{matrix}0 & -1\\\\-1 & 0\\end{matrix}\\right]$"
      ],
      "text/plain": [
       "Matrix([\n",
       "[ 0, -1],\n",
       "[-1,  0]])"
      ]
     },
     "metadata": {},
     "output_type": "display_data"
    },
    {
     "data": {
      "text/latex": [
       "$\\displaystyle \\left[\\begin{matrix}0 & \\frac{1}{2} - \\frac{\\sqrt{3} i}{2}\\\\\\frac{1}{2} + \\frac{\\sqrt{3} i}{2} & 0\\end{matrix}\\right]$"
      ],
      "text/plain": [
       "Matrix([\n",
       "[                0, 1/2 - sqrt(3)*I/2],\n",
       "[1/2 + sqrt(3)*I/2,                 0]])"
      ]
     },
     "metadata": {},
     "output_type": "display_data"
    },
    {
     "data": {
      "text/latex": [
       "$\\displaystyle \\left[\\begin{matrix}0 & \\frac{1}{2} + \\frac{\\sqrt{3} i}{2}\\\\\\frac{1}{2} - \\frac{\\sqrt{3} i}{2} & 0\\end{matrix}\\right]$"
      ],
      "text/plain": [
       "Matrix([\n",
       "[                0, 1/2 + sqrt(3)*I/2],\n",
       "[1/2 - sqrt(3)*I/2,                 0]])"
      ]
     },
     "metadata": {},
     "output_type": "display_data"
    }
   ],
   "source": [
    "display(E)\n",
    "display(C3_p)\n",
    "display(C32_p)\n",
    "display(s1_p)\n",
    "display(s2_p)\n",
    "display(s3_p)"
   ]
  },
  {
   "cell_type": "markdown",
   "metadata": {},
   "source": [
    "## Reflection Matrix"
   ]
  },
  {
   "cell_type": "code",
   "execution_count": 12,
   "metadata": {},
   "outputs": [
    {
     "data": {
      "text/latex": [
       "$\\displaystyle \\left[\\begin{matrix}\\cos{\\left(2 \\theta \\right)} & \\sin{\\left(2 \\theta \\right)}\\\\\\sin{\\left(2 \\theta \\right)} & - \\cos{\\left(2 \\theta \\right)}\\end{matrix}\\right]$"
      ],
      "text/plain": [
       "Matrix([\n",
       "[cos(2*theta),  sin(2*theta)],\n",
       "[sin(2*theta), -cos(2*theta)]])"
      ]
     },
     "metadata": {},
     "output_type": "display_data"
    }
   ],
   "source": [
    "F = Matrix([[cos(2*theta), sin(2*theta)],[sin(2*theta), -cos(2*theta)]])\n",
    "display(F)"
   ]
  },
  {
   "cell_type": "code",
   "execution_count": 13,
   "metadata": {},
   "outputs": [
    {
     "name": "stdout",
     "output_type": "stream",
     "text": [
      "\\left[\\begin{matrix}\\cos{\\left(2 \\theta \\right)} & \\sin{\\left(2 \\theta \\right)}\\\\\\sin{\\left(2 \\theta \\right)} & - \\cos{\\left(2 \\theta \\right)}\\end{matrix}\\right]\n"
     ]
    }
   ],
   "source": [
    "print(latex(F))"
   ]
  },
  {
   "cell_type": "code",
   "execution_count": 14,
   "metadata": {},
   "outputs": [
    {
     "data": {
      "text/latex": [
       "$\\displaystyle \\left[\\begin{matrix}0 & - e^{- 2 i \\theta}\\\\- e^{2 i \\theta} & 0\\end{matrix}\\right]$"
      ],
      "text/plain": [
       "Matrix([\n",
       "[              0, -exp(-2*I*theta)],\n",
       "[-exp(2*I*theta),                0]])"
      ]
     },
     "metadata": {},
     "output_type": "display_data"
    }
   ],
   "source": [
    "\n",
    "display(simplify(S*F*S.inv()))"
   ]
  },
  {
   "cell_type": "code",
   "execution_count": 15,
   "metadata": {},
   "outputs": [
    {
     "name": "stdout",
     "output_type": "stream",
     "text": [
      "\\left[\\begin{matrix}0 & - e^{- 2 i \\theta}\\\\- e^{2 i \\theta} & 0\\end{matrix}\\right]\n"
     ]
    }
   ],
   "source": [
    "print(latex(simplify(S*F*S.inv())))"
   ]
  },
  {
   "cell_type": "markdown",
   "metadata": {},
   "source": [
    "## From the worked examples notes"
   ]
  },
  {
   "cell_type": "code",
   "execution_count": 16,
   "metadata": {},
   "outputs": [],
   "source": [
    "E = eye(6)\n",
    "C3 = Matrix([[0,0,1,0,0,0], [0,0,0,1,0,0], [0,0,0,0,1,0], [0,0,0,0,0,1], [1,0,0,0,0,0], [0,1,0,0,0,0]])\n",
    "C32 = C3**2\n",
    "s1 = Matrix([[-1,0,0,0,0,0], [0,1,0,0,0,0], [0,0,0,0,-1,0], [0,0,0,0,0,1], [0,0,-1,0,0,0], [0,0,0,1,0,0]])\n",
    "s3 = s1*C3\n",
    "s2 = s1*C3*C3"
   ]
  },
  {
   "cell_type": "code",
   "execution_count": 17,
   "metadata": {},
   "outputs": [
    {
     "data": {
      "text/latex": [
       "$\\displaystyle \\left[\\begin{matrix}1 & 0 & 1 & 0 & 1 & 0\\\\0 & 1 & 0 & 1 & 0 & 1\\\\1 & 0 & 1 & 0 & 1 & 0\\\\0 & 1 & 0 & 1 & 0 & 1\\\\1 & 0 & 1 & 0 & 1 & 0\\\\0 & 1 & 0 & 1 & 0 & 1\\end{matrix}\\right]$"
      ],
      "text/plain": [
       "Matrix([\n",
       "[1, 0, 1, 0, 1, 0],\n",
       "[0, 1, 0, 1, 0, 1],\n",
       "[1, 0, 1, 0, 1, 0],\n",
       "[0, 1, 0, 1, 0, 1],\n",
       "[1, 0, 1, 0, 1, 0],\n",
       "[0, 1, 0, 1, 0, 1]])"
      ]
     },
     "execution_count": 17,
     "metadata": {},
     "output_type": "execute_result"
    }
   ],
   "source": [
    "E+C3+C32"
   ]
  },
  {
   "cell_type": "code",
   "execution_count": 18,
   "metadata": {},
   "outputs": [
    {
     "data": {
      "text/latex": [
       "$\\displaystyle \\left[\\begin{matrix}-1 & 0 & -1 & 0 & -1 & 0\\\\0 & 1 & 0 & 1 & 0 & 1\\\\-1 & 0 & -1 & 0 & -1 & 0\\\\0 & 1 & 0 & 1 & 0 & 1\\\\-1 & 0 & -1 & 0 & -1 & 0\\\\0 & 1 & 0 & 1 & 0 & 1\\end{matrix}\\right]$"
      ],
      "text/plain": [
       "Matrix([\n",
       "[-1, 0, -1, 0, -1, 0],\n",
       "[ 0, 1,  0, 1,  0, 1],\n",
       "[-1, 0, -1, 0, -1, 0],\n",
       "[ 0, 1,  0, 1,  0, 1],\n",
       "[-1, 0, -1, 0, -1, 0],\n",
       "[ 0, 1,  0, 1,  0, 1]])"
      ]
     },
     "execution_count": 18,
     "metadata": {},
     "output_type": "execute_result"
    }
   ],
   "source": [
    "s1+s2+s3"
   ]
  },
  {
   "cell_type": "code",
   "execution_count": 19,
   "metadata": {},
   "outputs": [
    {
     "data": {
      "text/latex": [
       "$\\displaystyle \\left[\\begin{matrix}0 & 0 & 0 & 0 & 0 & 0\\\\0 & 2 & 0 & 2 & 0 & 2\\\\0 & 0 & 0 & 0 & 0 & 0\\\\0 & 2 & 0 & 2 & 0 & 2\\\\0 & 0 & 0 & 0 & 0 & 0\\\\0 & 2 & 0 & 2 & 0 & 2\\end{matrix}\\right]$"
      ],
      "text/plain": [
       "Matrix([\n",
       "[0, 0, 0, 0, 0, 0],\n",
       "[0, 2, 0, 2, 0, 2],\n",
       "[0, 0, 0, 0, 0, 0],\n",
       "[0, 2, 0, 2, 0, 2],\n",
       "[0, 0, 0, 0, 0, 0],\n",
       "[0, 2, 0, 2, 0, 2]])"
      ]
     },
     "execution_count": 19,
     "metadata": {},
     "output_type": "execute_result"
    }
   ],
   "source": [
    "E+C3+C32+s1+s2+s3"
   ]
  },
  {
   "cell_type": "code",
   "execution_count": 20,
   "metadata": {},
   "outputs": [
    {
     "data": {
      "text/latex": [
       "$\\displaystyle \\left[\\begin{matrix}2 & 0 & 2 & 0 & 2 & 0\\\\0 & 0 & 0 & 0 & 0 & 0\\\\2 & 0 & 2 & 0 & 2 & 0\\\\0 & 0 & 0 & 0 & 0 & 0\\\\2 & 0 & 2 & 0 & 2 & 0\\\\0 & 0 & 0 & 0 & 0 & 0\\end{matrix}\\right]$"
      ],
      "text/plain": [
       "Matrix([\n",
       "[2, 0, 2, 0, 2, 0],\n",
       "[0, 0, 0, 0, 0, 0],\n",
       "[2, 0, 2, 0, 2, 0],\n",
       "[0, 0, 0, 0, 0, 0],\n",
       "[2, 0, 2, 0, 2, 0],\n",
       "[0, 0, 0, 0, 0, 0]])"
      ]
     },
     "execution_count": 20,
     "metadata": {},
     "output_type": "execute_result"
    }
   ],
   "source": [
    "E+C3+C32-s1-s2-s3"
   ]
  },
  {
   "cell_type": "markdown",
   "metadata": {},
   "source": [
    "## Regular representation"
   ]
  },
  {
   "cell_type": "code",
   "execution_count": 21,
   "metadata": {},
   "outputs": [
    {
     "data": {
      "text/latex": [
       "$\\displaystyle \\left[\\begin{matrix}1 & 0 & 0 & 0 & 0 & 0\\\\0 & 1 & 0 & 0 & 0 & 0\\\\0 & 0 & 1 & 0 & 0 & 0\\\\0 & 0 & 0 & 1 & 0 & 0\\\\0 & 0 & 0 & 0 & 1 & 0\\\\0 & 0 & 0 & 0 & 0 & 1\\end{matrix}\\right]$"
      ],
      "text/plain": [
       "Matrix([\n",
       "[1, 0, 0, 0, 0, 0],\n",
       "[0, 1, 0, 0, 0, 0],\n",
       "[0, 0, 1, 0, 0, 0],\n",
       "[0, 0, 0, 1, 0, 0],\n",
       "[0, 0, 0, 0, 1, 0],\n",
       "[0, 0, 0, 0, 0, 1]])"
      ]
     },
     "metadata": {},
     "output_type": "display_data"
    },
    {
     "data": {
      "text/latex": [
       "$\\displaystyle \\left[\\begin{matrix}0 & 1 & 0 & 0 & 0 & 0\\\\0 & 0 & 1 & 0 & 0 & 0\\\\1 & 0 & 0 & 0 & 0 & 0\\\\0 & 0 & 0 & 0 & 1 & 0\\\\0 & 0 & 0 & 0 & 0 & 1\\\\0 & 0 & 0 & 1 & 0 & 0\\end{matrix}\\right]$"
      ],
      "text/plain": [
       "Matrix([\n",
       "[0, 1, 0, 0, 0, 0],\n",
       "[0, 0, 1, 0, 0, 0],\n",
       "[1, 0, 0, 0, 0, 0],\n",
       "[0, 0, 0, 0, 1, 0],\n",
       "[0, 0, 0, 0, 0, 1],\n",
       "[0, 0, 0, 1, 0, 0]])"
      ]
     },
     "metadata": {},
     "output_type": "display_data"
    },
    {
     "data": {
      "text/latex": [
       "$\\displaystyle \\left[\\begin{matrix}0 & 0 & 1 & 0 & 0 & 0\\\\1 & 0 & 0 & 0 & 0 & 0\\\\0 & 1 & 0 & 0 & 0 & 0\\\\0 & 0 & 0 & 0 & 0 & 1\\\\0 & 0 & 0 & 1 & 0 & 0\\\\0 & 0 & 0 & 0 & 1 & 0\\end{matrix}\\right]$"
      ],
      "text/plain": [
       "Matrix([\n",
       "[0, 0, 1, 0, 0, 0],\n",
       "[1, 0, 0, 0, 0, 0],\n",
       "[0, 1, 0, 0, 0, 0],\n",
       "[0, 0, 0, 0, 0, 1],\n",
       "[0, 0, 0, 1, 0, 0],\n",
       "[0, 0, 0, 0, 1, 0]])"
      ]
     },
     "metadata": {},
     "output_type": "display_data"
    },
    {
     "data": {
      "text/latex": [
       "$\\displaystyle \\left[\\begin{matrix}0 & 0 & 0 & 1 & 0 & 0\\\\0 & 0 & 0 & 0 & 0 & 1\\\\0 & 0 & 0 & 0 & 1 & 0\\\\1 & 0 & 0 & 0 & 0 & 0\\\\0 & 0 & 1 & 0 & 0 & 0\\\\0 & 1 & 0 & 0 & 0 & 0\\end{matrix}\\right]$"
      ],
      "text/plain": [
       "Matrix([\n",
       "[0, 0, 0, 1, 0, 0],\n",
       "[0, 0, 0, 0, 0, 1],\n",
       "[0, 0, 0, 0, 1, 0],\n",
       "[1, 0, 0, 0, 0, 0],\n",
       "[0, 0, 1, 0, 0, 0],\n",
       "[0, 1, 0, 0, 0, 0]])"
      ]
     },
     "metadata": {},
     "output_type": "display_data"
    },
    {
     "data": {
      "text/latex": [
       "$\\displaystyle \\left[\\begin{matrix}0 & 0 & 0 & 0 & 1 & 0\\\\0 & 0 & 0 & 1 & 0 & 0\\\\0 & 0 & 0 & 0 & 0 & 1\\\\0 & 1 & 0 & 0 & 0 & 0\\\\1 & 0 & 0 & 0 & 0 & 0\\\\0 & 0 & 1 & 0 & 0 & 0\\end{matrix}\\right]$"
      ],
      "text/plain": [
       "Matrix([\n",
       "[0, 0, 0, 0, 1, 0],\n",
       "[0, 0, 0, 1, 0, 0],\n",
       "[0, 0, 0, 0, 0, 1],\n",
       "[0, 1, 0, 0, 0, 0],\n",
       "[1, 0, 0, 0, 0, 0],\n",
       "[0, 0, 1, 0, 0, 0]])"
      ]
     },
     "metadata": {},
     "output_type": "display_data"
    },
    {
     "data": {
      "text/latex": [
       "$\\displaystyle \\left[\\begin{matrix}0 & 0 & 0 & 0 & 0 & 1\\\\0 & 0 & 0 & 0 & 1 & 0\\\\0 & 0 & 0 & 1 & 0 & 0\\\\0 & 0 & 1 & 0 & 0 & 0\\\\0 & 1 & 0 & 0 & 0 & 0\\\\1 & 0 & 0 & 0 & 0 & 0\\end{matrix}\\right]$"
      ],
      "text/plain": [
       "Matrix([\n",
       "[0, 0, 0, 0, 0, 1],\n",
       "[0, 0, 0, 0, 1, 0],\n",
       "[0, 0, 0, 1, 0, 0],\n",
       "[0, 0, 1, 0, 0, 0],\n",
       "[0, 1, 0, 0, 0, 0],\n",
       "[1, 0, 0, 0, 0, 0]])"
      ]
     },
     "metadata": {},
     "output_type": "display_data"
    }
   ],
   "source": [
    "E = eye(6)\n",
    "C3 = Matrix([[0,1,0,0,0,0], [0,0,1,0,0,0], [1,0,0,0,0,0], [0,0,0,0,1,0], [0,0,0,0,0,1], [0,0,0,1,0,0]])\n",
    "C32 = C3**2\n",
    "s1 = Matrix([[0,0,0,1,0,0], [0,0,0,0,0,1], [0,0,0,0,1,0], [1,0,0,0,0,0], [0,0,1,0,0,0], [0,1,0,0,0,0]])\n",
    "s2 = s1*C3\n",
    "s3 = s1*C3*C3\n",
    "\n",
    "display(E)\n",
    "display(C3)\n",
    "display(C32)\n",
    "display(s1)\n",
    "display(s2)\n",
    "display(s3)"
   ]
  },
  {
   "cell_type": "markdown",
   "metadata": {},
   "source": [
    "### Projections"
   ]
  },
  {
   "cell_type": "code",
   "execution_count": 22,
   "metadata": {},
   "outputs": [
    {
     "data": {
      "text/latex": [
       "$\\displaystyle \\left[\\begin{matrix}1 & 1 & 1 & 1 & 1 & 1\\\\1 & 1 & 1 & 1 & 1 & 1\\\\1 & 1 & 1 & 1 & 1 & 1\\\\1 & 1 & 1 & 1 & 1 & 1\\\\1 & 1 & 1 & 1 & 1 & 1\\\\1 & 1 & 1 & 1 & 1 & 1\\end{matrix}\\right]$"
      ],
      "text/plain": [
       "Matrix([\n",
       "[1, 1, 1, 1, 1, 1],\n",
       "[1, 1, 1, 1, 1, 1],\n",
       "[1, 1, 1, 1, 1, 1],\n",
       "[1, 1, 1, 1, 1, 1],\n",
       "[1, 1, 1, 1, 1, 1],\n",
       "[1, 1, 1, 1, 1, 1]])"
      ]
     },
     "metadata": {},
     "output_type": "display_data"
    }
   ],
   "source": [
    "P_1 = (E+C3+C32+s1+s2+s3)\n",
    "display(P_1)"
   ]
  },
  {
   "cell_type": "code",
   "execution_count": 23,
   "metadata": {},
   "outputs": [
    {
     "data": {
      "text/latex": [
       "$\\displaystyle \\left[\\begin{matrix}1 & 1 & 1 & -1 & -1 & -1\\\\1 & 1 & 1 & -1 & -1 & -1\\\\1 & 1 & 1 & -1 & -1 & -1\\\\-1 & -1 & -1 & 1 & 1 & 1\\\\-1 & -1 & -1 & 1 & 1 & 1\\\\-1 & -1 & -1 & 1 & 1 & 1\\end{matrix}\\right]$"
      ],
      "text/plain": [
       "Matrix([\n",
       "[ 1,  1,  1, -1, -1, -1],\n",
       "[ 1,  1,  1, -1, -1, -1],\n",
       "[ 1,  1,  1, -1, -1, -1],\n",
       "[-1, -1, -1,  1,  1,  1],\n",
       "[-1, -1, -1,  1,  1,  1],\n",
       "[-1, -1, -1,  1,  1,  1]])"
      ]
     },
     "metadata": {},
     "output_type": "display_data"
    }
   ],
   "source": [
    "P_2 = (E+C3+C32-s1-s2-s3)\n",
    "display(P_2)"
   ]
  },
  {
   "cell_type": "code",
   "execution_count": 24,
   "metadata": {},
   "outputs": [
    {
     "data": {
      "text/latex": [
       "$\\displaystyle \\left[\\begin{matrix}1 & 0\\\\0 & 1\\end{matrix}\\right]$"
      ],
      "text/plain": [
       "Matrix([\n",
       "[1, 0],\n",
       "[0, 1]])"
      ]
     },
     "metadata": {},
     "output_type": "display_data"
    },
    {
     "data": {
      "text/latex": [
       "$\\displaystyle \\left[\\begin{matrix}- \\frac{1}{2} + \\frac{\\sqrt{3} i}{2} & 0\\\\0 & - \\frac{1}{2} - \\frac{\\sqrt{3} i}{2}\\end{matrix}\\right]$"
      ],
      "text/plain": [
       "Matrix([\n",
       "[-1/2 + sqrt(3)*I/2,                  0],\n",
       "[                 0, -1/2 - sqrt(3)*I/2]])"
      ]
     },
     "metadata": {},
     "output_type": "display_data"
    },
    {
     "data": {
      "text/latex": [
       "$\\displaystyle \\left[\\begin{matrix}- \\frac{1}{2} - \\frac{\\sqrt{3} i}{2} & 0\\\\0 & - \\frac{1}{2} + \\frac{\\sqrt{3} i}{2}\\end{matrix}\\right]$"
      ],
      "text/plain": [
       "Matrix([\n",
       "[-1/2 - sqrt(3)*I/2,                  0],\n",
       "[                 0, -1/2 + sqrt(3)*I/2]])"
      ]
     },
     "metadata": {},
     "output_type": "display_data"
    },
    {
     "data": {
      "text/latex": [
       "$\\displaystyle \\left[\\begin{matrix}0 & -1\\\\-1 & 0\\end{matrix}\\right]$"
      ],
      "text/plain": [
       "Matrix([\n",
       "[ 0, -1],\n",
       "[-1,  0]])"
      ]
     },
     "metadata": {},
     "output_type": "display_data"
    },
    {
     "data": {
      "text/latex": [
       "$\\displaystyle \\left[\\begin{matrix}0 & \\frac{1}{2} - \\frac{\\sqrt{3} i}{2}\\\\\\frac{1}{2} + \\frac{\\sqrt{3} i}{2} & 0\\end{matrix}\\right]$"
      ],
      "text/plain": [
       "Matrix([\n",
       "[                0, 1/2 - sqrt(3)*I/2],\n",
       "[1/2 + sqrt(3)*I/2,                 0]])"
      ]
     },
     "metadata": {},
     "output_type": "display_data"
    },
    {
     "data": {
      "text/latex": [
       "$\\displaystyle \\left[\\begin{matrix}0 & \\frac{1}{2} + \\frac{\\sqrt{3} i}{2}\\\\\\frac{1}{2} - \\frac{\\sqrt{3} i}{2} & 0\\end{matrix}\\right]$"
      ],
      "text/plain": [
       "Matrix([\n",
       "[                0, 1/2 + sqrt(3)*I/2],\n",
       "[1/2 - sqrt(3)*I/2,                 0]])"
      ]
     },
     "metadata": {},
     "output_type": "display_data"
    }
   ],
   "source": [
    "E_p = eye(2)\n",
    "display(E_p)\n",
    "display(C3_p)\n",
    "display(C32_p)\n",
    "display(s1_p)\n",
    "display(s2_p)\n",
    "display(s3_p)"
   ]
  },
  {
   "cell_type": "code",
   "execution_count": 25,
   "metadata": {},
   "outputs": [
    {
     "data": {
      "text/latex": [
       "$\\displaystyle \\left[\\begin{matrix}1 & - \\frac{1}{2} - \\frac{\\sqrt{3} i}{2} & - \\frac{1}{2} + \\frac{\\sqrt{3} i}{2} & 0 & 0 & 0\\\\- \\frac{1}{2} + \\frac{\\sqrt{3} i}{2} & 1 & - \\frac{1}{2} - \\frac{\\sqrt{3} i}{2} & 0 & 0 & 0\\\\- \\frac{1}{2} - \\frac{\\sqrt{3} i}{2} & - \\frac{1}{2} + \\frac{\\sqrt{3} i}{2} & 1 & 0 & 0 & 0\\\\0 & 0 & 0 & 1 & - \\frac{1}{2} - \\frac{\\sqrt{3} i}{2} & - \\frac{1}{2} + \\frac{\\sqrt{3} i}{2}\\\\0 & 0 & 0 & - \\frac{1}{2} + \\frac{\\sqrt{3} i}{2} & 1 & - \\frac{1}{2} - \\frac{\\sqrt{3} i}{2}\\\\0 & 0 & 0 & - \\frac{1}{2} - \\frac{\\sqrt{3} i}{2} & - \\frac{1}{2} + \\frac{\\sqrt{3} i}{2} & 1\\end{matrix}\\right]$"
      ],
      "text/plain": [
       "Matrix([\n",
       "[                 1, -1/2 - sqrt(3)*I/2, -1/2 + sqrt(3)*I/2,                  0,                  0,                  0],\n",
       "[-1/2 + sqrt(3)*I/2,                  1, -1/2 - sqrt(3)*I/2,                  0,                  0,                  0],\n",
       "[-1/2 - sqrt(3)*I/2, -1/2 + sqrt(3)*I/2,                  1,                  0,                  0,                  0],\n",
       "[                 0,                  0,                  0,                  1, -1/2 - sqrt(3)*I/2, -1/2 + sqrt(3)*I/2],\n",
       "[                 0,                  0,                  0, -1/2 + sqrt(3)*I/2,                  1, -1/2 - sqrt(3)*I/2],\n",
       "[                 0,                  0,                  0, -1/2 - sqrt(3)*I/2, -1/2 + sqrt(3)*I/2,                  1]])"
      ]
     },
     "metadata": {},
     "output_type": "display_data"
    }
   ],
   "source": [
    "p = 0\n",
    "q = 0\n",
    "P_31 = E_p[p,q]*E + C32_p[p,q]*C3 + C3_p[p,q]*C32 + s1_p[p,q]*s1 + s2_p[p,q]*s2  + s3_p[p,q]*s3\n",
    "display(P_31)"
   ]
  },
  {
   "cell_type": "code",
   "execution_count": 26,
   "metadata": {},
   "outputs": [
    {
     "data": {
      "text/latex": [
       "$\\displaystyle \\left[\\begin{matrix}1 & - \\frac{1}{2} + \\frac{\\sqrt{3} i}{2} & - \\frac{1}{2} - \\frac{\\sqrt{3} i}{2} & 0 & 0 & 0\\\\- \\frac{1}{2} - \\frac{\\sqrt{3} i}{2} & 1 & - \\frac{1}{2} + \\frac{\\sqrt{3} i}{2} & 0 & 0 & 0\\\\- \\frac{1}{2} + \\frac{\\sqrt{3} i}{2} & - \\frac{1}{2} - \\frac{\\sqrt{3} i}{2} & 1 & 0 & 0 & 0\\\\0 & 0 & 0 & 1 & - \\frac{1}{2} + \\frac{\\sqrt{3} i}{2} & - \\frac{1}{2} - \\frac{\\sqrt{3} i}{2}\\\\0 & 0 & 0 & - \\frac{1}{2} - \\frac{\\sqrt{3} i}{2} & 1 & - \\frac{1}{2} + \\frac{\\sqrt{3} i}{2}\\\\0 & 0 & 0 & - \\frac{1}{2} + \\frac{\\sqrt{3} i}{2} & - \\frac{1}{2} - \\frac{\\sqrt{3} i}{2} & 1\\end{matrix}\\right]$"
      ],
      "text/plain": [
       "Matrix([\n",
       "[                 1, -1/2 + sqrt(3)*I/2, -1/2 - sqrt(3)*I/2,                  0,                  0,                  0],\n",
       "[-1/2 - sqrt(3)*I/2,                  1, -1/2 + sqrt(3)*I/2,                  0,                  0,                  0],\n",
       "[-1/2 + sqrt(3)*I/2, -1/2 - sqrt(3)*I/2,                  1,                  0,                  0,                  0],\n",
       "[                 0,                  0,                  0,                  1, -1/2 + sqrt(3)*I/2, -1/2 - sqrt(3)*I/2],\n",
       "[                 0,                  0,                  0, -1/2 - sqrt(3)*I/2,                  1, -1/2 + sqrt(3)*I/2],\n",
       "[                 0,                  0,                  0, -1/2 + sqrt(3)*I/2, -1/2 - sqrt(3)*I/2,                  1]])"
      ]
     },
     "execution_count": 26,
     "metadata": {},
     "output_type": "execute_result"
    }
   ],
   "source": [
    "p = 1\n",
    "q = 1\n",
    "E_p[p,q]*E + C32_p[p,q]*C3 + C3_p[p,q]*C32 + s1_p[p,q]*s1 + s2_p[p,q]*s2  + s3_p[p,q]*s3"
   ]
  },
  {
   "cell_type": "code",
   "execution_count": 27,
   "metadata": {},
   "outputs": [
    {
     "data": {
      "text/latex": [
       "$\\displaystyle \\left[\\begin{matrix}0 & 0 & 0 & -1 & \\frac{1}{2} - \\frac{\\sqrt{3} i}{2} & \\frac{1}{2} + \\frac{\\sqrt{3} i}{2}\\\\0 & 0 & 0 & \\frac{1}{2} - \\frac{\\sqrt{3} i}{2} & \\frac{1}{2} + \\frac{\\sqrt{3} i}{2} & -1\\\\0 & 0 & 0 & \\frac{1}{2} + \\frac{\\sqrt{3} i}{2} & -1 & \\frac{1}{2} - \\frac{\\sqrt{3} i}{2}\\\\-1 & \\frac{1}{2} - \\frac{\\sqrt{3} i}{2} & \\frac{1}{2} + \\frac{\\sqrt{3} i}{2} & 0 & 0 & 0\\\\\\frac{1}{2} - \\frac{\\sqrt{3} i}{2} & \\frac{1}{2} + \\frac{\\sqrt{3} i}{2} & -1 & 0 & 0 & 0\\\\\\frac{1}{2} + \\frac{\\sqrt{3} i}{2} & -1 & \\frac{1}{2} - \\frac{\\sqrt{3} i}{2} & 0 & 0 & 0\\end{matrix}\\right]$"
      ],
      "text/plain": [
       "Matrix([\n",
       "[                0,                 0,                 0,                -1, 1/2 - sqrt(3)*I/2, 1/2 + sqrt(3)*I/2],\n",
       "[                0,                 0,                 0, 1/2 - sqrt(3)*I/2, 1/2 + sqrt(3)*I/2,                -1],\n",
       "[                0,                 0,                 0, 1/2 + sqrt(3)*I/2,                -1, 1/2 - sqrt(3)*I/2],\n",
       "[               -1, 1/2 - sqrt(3)*I/2, 1/2 + sqrt(3)*I/2,                 0,                 0,                 0],\n",
       "[1/2 - sqrt(3)*I/2, 1/2 + sqrt(3)*I/2,                -1,                 0,                 0,                 0],\n",
       "[1/2 + sqrt(3)*I/2,                -1, 1/2 - sqrt(3)*I/2,                 0,                 0,                 0]])"
      ]
     },
     "execution_count": 27,
     "metadata": {},
     "output_type": "execute_result"
    }
   ],
   "source": [
    "p = 0\n",
    "q = 1\n",
    "E_p[p,q]*E + C32_p[p,q]*C3 + C3_p[p,q]*C32 + s1_p[p,q]*s1 + s2_p[p,q]*s2  + s3_p[p,q]*s3"
   ]
  },
  {
   "cell_type": "code",
   "execution_count": 28,
   "metadata": {},
   "outputs": [
    {
     "data": {
      "text/latex": [
       "$\\displaystyle \\left[\\begin{matrix}0 & 0 & 0 & -1 & \\frac{1}{2} + \\frac{\\sqrt{3} i}{2} & \\frac{1}{2} - \\frac{\\sqrt{3} i}{2}\\\\0 & 0 & 0 & \\frac{1}{2} + \\frac{\\sqrt{3} i}{2} & \\frac{1}{2} - \\frac{\\sqrt{3} i}{2} & -1\\\\0 & 0 & 0 & \\frac{1}{2} - \\frac{\\sqrt{3} i}{2} & -1 & \\frac{1}{2} + \\frac{\\sqrt{3} i}{2}\\\\-1 & \\frac{1}{2} + \\frac{\\sqrt{3} i}{2} & \\frac{1}{2} - \\frac{\\sqrt{3} i}{2} & 0 & 0 & 0\\\\\\frac{1}{2} + \\frac{\\sqrt{3} i}{2} & \\frac{1}{2} - \\frac{\\sqrt{3} i}{2} & -1 & 0 & 0 & 0\\\\\\frac{1}{2} - \\frac{\\sqrt{3} i}{2} & -1 & \\frac{1}{2} + \\frac{\\sqrt{3} i}{2} & 0 & 0 & 0\\end{matrix}\\right]$"
      ],
      "text/plain": [
       "Matrix([\n",
       "[                0,                 0,                 0,                -1, 1/2 + sqrt(3)*I/2, 1/2 - sqrt(3)*I/2],\n",
       "[                0,                 0,                 0, 1/2 + sqrt(3)*I/2, 1/2 - sqrt(3)*I/2,                -1],\n",
       "[                0,                 0,                 0, 1/2 - sqrt(3)*I/2,                -1, 1/2 + sqrt(3)*I/2],\n",
       "[               -1, 1/2 + sqrt(3)*I/2, 1/2 - sqrt(3)*I/2,                 0,                 0,                 0],\n",
       "[1/2 + sqrt(3)*I/2, 1/2 - sqrt(3)*I/2,                -1,                 0,                 0,                 0],\n",
       "[1/2 - sqrt(3)*I/2,                -1, 1/2 + sqrt(3)*I/2,                 0,                 0,                 0]])"
      ]
     },
     "execution_count": 28,
     "metadata": {},
     "output_type": "execute_result"
    }
   ],
   "source": [
    "p = 1\n",
    "q = 0\n",
    "E_p[p,q]*E + C32_p[p,q]*C3 + C3_p[p,q]*C32 + s1_p[p,q]*s1 + s2_p[p,q]*s2  + s3_p[p,q]*s3"
   ]
  },
  {
   "cell_type": "markdown",
   "metadata": {},
   "source": [
    "## Basis vectors"
   ]
  },
  {
   "cell_type": "code",
   "execution_count": 29,
   "metadata": {},
   "outputs": [],
   "source": [
    "v1 = Matrix([1,1,1,1,1,1])\n",
    "v2 = Matrix([1,1,1,-1,-1,-1])\n",
    "v3 = Matrix([1,tc,t,0,0,0])\n",
    "v4 = Matrix([0,0,0,1,tc,t])"
   ]
  },
  {
   "cell_type": "code",
   "execution_count": 30,
   "metadata": {},
   "outputs": [
    {
     "data": {
      "text/latex": [
       "$\\displaystyle \\left[\\begin{matrix}3\\end{matrix}\\right]$"
      ],
      "text/plain": [
       "Matrix([[3]])"
      ]
     },
     "metadata": {},
     "output_type": "display_data"
    }
   ],
   "source": [
    "display(simplify(conjugate(v4.transpose())*v4))"
   ]
  },
  {
   "cell_type": "code",
   "execution_count": 31,
   "metadata": {},
   "outputs": [
    {
     "data": {
      "text/latex": [
       "$\\displaystyle \\left[\\begin{matrix}0\\end{matrix}\\right]$"
      ],
      "text/plain": [
       "Matrix([[0]])"
      ]
     },
     "metadata": {},
     "output_type": "display_data"
    },
    {
     "data": {
      "text/latex": [
       "$\\displaystyle \\left[\\begin{matrix}0\\end{matrix}\\right]$"
      ],
      "text/plain": [
       "Matrix([[0]])"
      ]
     },
     "metadata": {},
     "output_type": "display_data"
    },
    {
     "data": {
      "text/latex": [
       "$\\displaystyle \\left[\\begin{matrix}0\\end{matrix}\\right]$"
      ],
      "text/plain": [
       "Matrix([[0]])"
      ]
     },
     "metadata": {},
     "output_type": "display_data"
    },
    {
     "data": {
      "text/latex": [
       "$\\displaystyle \\left[\\begin{matrix}0\\end{matrix}\\right]$"
      ],
      "text/plain": [
       "Matrix([[0]])"
      ]
     },
     "metadata": {},
     "output_type": "display_data"
    },
    {
     "data": {
      "text/latex": [
       "$\\displaystyle \\left[\\begin{matrix}0\\end{matrix}\\right]$"
      ],
      "text/plain": [
       "Matrix([[0]])"
      ]
     },
     "metadata": {},
     "output_type": "display_data"
    },
    {
     "data": {
      "text/latex": [
       "$\\displaystyle \\left[\\begin{matrix}0\\end{matrix}\\right]$"
      ],
      "text/plain": [
       "Matrix([[0]])"
      ]
     },
     "metadata": {},
     "output_type": "display_data"
    }
   ],
   "source": [
    "display(simplify(conjugate(v1.transpose())*v2))\n",
    "display(simplify(conjugate(v1.transpose())*v3))\n",
    "display(simplify(conjugate(v1.transpose())*v4))\n",
    "display(simplify(conjugate(v2.transpose())*v3))\n",
    "display(simplify(conjugate(v2.transpose())*v4))\n",
    "display(simplify(conjugate(v3.transpose())*v4))"
   ]
  },
  {
   "cell_type": "markdown",
   "metadata": {},
   "source": [
    "## Product representation"
   ]
  },
  {
   "cell_type": "code",
   "execution_count": null,
   "metadata": {},
   "outputs": [],
   "source": []
  },
  {
   "cell_type": "code",
   "execution_count": null,
   "metadata": {},
   "outputs": [],
   "source": []
  },
  {
   "cell_type": "code",
   "execution_count": null,
   "metadata": {},
   "outputs": [],
   "source": []
  },
  {
   "cell_type": "code",
   "execution_count": 32,
   "metadata": {},
   "outputs": [
    {
     "data": {
      "text/latex": [
       "$\\displaystyle \\left[\\begin{matrix}\\frac{\\sqrt{2}}{2} & \\frac{\\sqrt{2} i}{2}\\\\- \\frac{\\sqrt{2}}{2} & \\frac{\\sqrt{2} i}{2}\\end{matrix}\\right]$"
      ],
      "text/plain": [
       "Matrix([\n",
       "[ sqrt(2)/2, sqrt(2)*I/2],\n",
       "[-sqrt(2)/2, sqrt(2)*I/2]])"
      ]
     },
     "metadata": {},
     "output_type": "display_data"
    },
    {
     "data": {
      "text/latex": [
       "$\\displaystyle \\left[\\begin{matrix}1\\\\0\\end{matrix}\\right]$"
      ],
      "text/plain": [
       "Matrix([\n",
       "[1],\n",
       "[0]])"
      ]
     },
     "metadata": {},
     "output_type": "display_data"
    },
    {
     "data": {
      "text/latex": [
       "$\\displaystyle \\left[\\begin{matrix}0\\\\1\\end{matrix}\\right]$"
      ],
      "text/plain": [
       "Matrix([\n",
       "[0],\n",
       "[1]])"
      ]
     },
     "metadata": {},
     "output_type": "display_data"
    }
   ],
   "source": [
    "S = Matrix([[1, I],[-1, I]])/sqrt(2)\n",
    "display(S)\n",
    "\n",
    "display(simplify(S*Matrix([1, -I])/sqrt(2)))\n",
    "display(simplify(S*Matrix([-1, -I])/sqrt(2)))"
   ]
  },
  {
   "cell_type": "code",
   "execution_count": 33,
   "metadata": {},
   "outputs": [
    {
     "data": {
      "text/latex": [
       "$\\displaystyle \\left[\\begin{matrix}- \\frac{1}{2} - \\frac{\\sqrt{3} i}{2} & 0\\\\0 & - \\frac{1}{2} + \\frac{\\sqrt{3} i}{2}\\end{matrix}\\right]$"
      ],
      "text/plain": [
       "Matrix([\n",
       "[-1/2 - sqrt(3)*I/2,                  0],\n",
       "[                 0, -1/2 + sqrt(3)*I/2]])"
      ]
     },
     "metadata": {},
     "output_type": "display_data"
    },
    {
     "data": {
      "text/latex": [
       "$\\displaystyle \\left[\\begin{matrix}- \\frac{1}{2} + \\frac{\\sqrt{3} i}{2} & 0\\\\0 & - \\frac{1}{2} - \\frac{\\sqrt{3} i}{2}\\end{matrix}\\right]$"
      ],
      "text/plain": [
       "Matrix([\n",
       "[-1/2 + sqrt(3)*I/2,                  0],\n",
       "[                 0, -1/2 - sqrt(3)*I/2]])"
      ]
     },
     "metadata": {},
     "output_type": "display_data"
    },
    {
     "data": {
      "text/latex": [
       "$\\displaystyle \\left[\\begin{matrix}0 & -1\\\\-1 & 0\\end{matrix}\\right]$"
      ],
      "text/plain": [
       "Matrix([\n",
       "[ 0, -1],\n",
       "[-1,  0]])"
      ]
     },
     "metadata": {},
     "output_type": "display_data"
    },
    {
     "data": {
      "text/latex": [
       "$\\displaystyle \\left[\\begin{matrix}0 & \\frac{1}{2} + \\frac{\\sqrt{3} i}{2}\\\\\\frac{1}{2} - \\frac{\\sqrt{3} i}{2} & 0\\end{matrix}\\right]$"
      ],
      "text/plain": [
       "Matrix([\n",
       "[                0, 1/2 + sqrt(3)*I/2],\n",
       "[1/2 - sqrt(3)*I/2,                 0]])"
      ]
     },
     "metadata": {},
     "output_type": "display_data"
    },
    {
     "data": {
      "text/latex": [
       "$\\displaystyle \\left[\\begin{matrix}0 & \\frac{1}{2} - \\frac{\\sqrt{3} i}{2}\\\\\\frac{1}{2} + \\frac{\\sqrt{3} i}{2} & 0\\end{matrix}\\right]$"
      ],
      "text/plain": [
       "Matrix([\n",
       "[                0, 1/2 - sqrt(3)*I/2],\n",
       "[1/2 + sqrt(3)*I/2,                 0]])"
      ]
     },
     "metadata": {},
     "output_type": "display_data"
    }
   ],
   "source": [
    "E = eye(2)\n",
    "C3 = Rational(1,2)*Matrix([[-1, sqrt(3)],[-sqrt(3), -1]])\n",
    "s1 = Matrix([[1, 0],[0, -1]])\n",
    "s2 = Rational(1,2)*Matrix([[-1, -sqrt(3)],[-sqrt(3), 1]])\n",
    "s3 = Rational(1,2)*Matrix([[-1, sqrt(3)],[sqrt(3), 1]])\n",
    "\n",
    "C3_p = simplify(S*C3*S.inv())\n",
    "C32_p = simplify(S*C3**2*S.inv())\n",
    "s1_p = simplify(S*s1*S.inv())\n",
    "s2_p = simplify(S*s2*S.inv())\n",
    "s3_p = simplify(S*s3*S.inv())\n",
    "\n",
    "C3_p = C3_p.as_mutable()\n",
    "C32_p = C32_p.as_mutable()\n",
    "s1_p = s1_p.as_mutable()\n",
    "s2_p = s2_p.as_mutable()\n",
    "s3_p = s3_p.as_mutable()\n",
    "\n",
    "display(C3_p)\n",
    "display(C32_p)\n",
    "display(s1_p)\n",
    "display(s2_p)\n",
    "display(s3_p)"
   ]
  },
  {
   "cell_type": "code",
   "execution_count": 34,
   "metadata": {},
   "outputs": [
    {
     "data": {
      "text/latex": [
       "$\\displaystyle \\left[\\begin{matrix}1 & 0 & 0 & 0\\\\0 & 1 & 0 & 0\\\\0 & 0 & 1 & 0\\\\0 & 0 & 0 & 1\\end{matrix}\\right]$"
      ],
      "text/plain": [
       "Matrix([\n",
       "[1, 0, 0, 0],\n",
       "[0, 1, 0, 0],\n",
       "[0, 0, 1, 0],\n",
       "[0, 0, 0, 1]])"
      ]
     },
     "metadata": {},
     "output_type": "display_data"
    },
    {
     "data": {
      "text/latex": [
       "$\\displaystyle \\left[\\begin{matrix}- \\frac{1}{2} + \\frac{\\sqrt{3} i}{2} & 0 & 0 & 0\\\\0 & 1 & 0 & 0\\\\0 & 0 & 1 & 0\\\\0 & 0 & 0 & \\frac{\\left(1 - \\sqrt{3} i\\right)^{2}}{4}\\end{matrix}\\right]$"
      ],
      "text/plain": [
       "Matrix([\n",
       "[-1/2 + sqrt(3)*I/2, 0, 0,                    0],\n",
       "[                 0, 1, 0,                    0],\n",
       "[                 0, 0, 1,                    0],\n",
       "[                 0, 0, 0, (1 - sqrt(3)*I)**2/4]])"
      ]
     },
     "metadata": {},
     "output_type": "display_data"
    },
    {
     "data": {
      "text/latex": [
       "$\\displaystyle \\left[\\begin{matrix}\\frac{\\left(1 - \\sqrt{3} i\\right)^{2}}{4} & 0 & 0 & 0\\\\0 & 1 & 0 & 0\\\\0 & 0 & 1 & 0\\\\0 & 0 & 0 & - \\frac{1}{2} + \\frac{\\sqrt{3} i}{2}\\end{matrix}\\right]$"
      ],
      "text/plain": [
       "Matrix([\n",
       "[(1 - sqrt(3)*I)**2/4, 0, 0,                  0],\n",
       "[                   0, 1, 0,                  0],\n",
       "[                   0, 0, 1,                  0],\n",
       "[                   0, 0, 0, -1/2 + sqrt(3)*I/2]])"
      ]
     },
     "metadata": {},
     "output_type": "display_data"
    },
    {
     "data": {
      "text/latex": [
       "$\\displaystyle \\left[\\begin{matrix}0 & 0 & 0 & 1\\\\0 & 0 & 1 & 0\\\\0 & 1 & 0 & 0\\\\1 & 0 & 0 & 0\\end{matrix}\\right]$"
      ],
      "text/plain": [
       "Matrix([\n",
       "[0, 0, 0, 1],\n",
       "[0, 0, 1, 0],\n",
       "[0, 1, 0, 0],\n",
       "[1, 0, 0, 0]])"
      ]
     },
     "metadata": {},
     "output_type": "display_data"
    },
    {
     "data": {
      "text/latex": [
       "$\\displaystyle \\left[\\begin{matrix}0 & 0 & 0 & - \\frac{1}{2} + \\frac{\\sqrt{3} i}{2}\\\\0 & 0 & 1 & 0\\\\0 & 1 & 0 & 0\\\\\\frac{\\left(1 - \\sqrt{3} i\\right)^{2}}{4} & 0 & 0 & 0\\end{matrix}\\right]$"
      ],
      "text/plain": [
       "Matrix([\n",
       "[                   0, 0, 0, -1/2 + sqrt(3)*I/2],\n",
       "[                   0, 0, 1,                  0],\n",
       "[                   0, 1, 0,                  0],\n",
       "[(1 - sqrt(3)*I)**2/4, 0, 0,                  0]])"
      ]
     },
     "metadata": {},
     "output_type": "display_data"
    },
    {
     "data": {
      "text/latex": [
       "$\\displaystyle \\left[\\begin{matrix}0 & 0 & 0 & \\frac{\\left(1 - \\sqrt{3} i\\right)^{2}}{4}\\\\0 & 0 & 1 & 0\\\\0 & 1 & 0 & 0\\\\- \\frac{1}{2} + \\frac{\\sqrt{3} i}{2} & 0 & 0 & 0\\end{matrix}\\right]$"
      ],
      "text/plain": [
       "Matrix([\n",
       "[                 0, 0, 0, (1 - sqrt(3)*I)**2/4],\n",
       "[                 0, 0, 1,                    0],\n",
       "[                 0, 1, 0,                    0],\n",
       "[-1/2 + sqrt(3)*I/2, 0, 0,                    0]])"
      ]
     },
     "metadata": {},
     "output_type": "display_data"
    }
   ],
   "source": [
    "E_3x3 = eye(4)\n",
    "s1_3x3 = TensorProduct(s1_p, s1_p)\n",
    "s2_3x3 = simplify(TensorProduct(s2_p, s2_p))\n",
    "s3_3x3 = simplify(TensorProduct(s3_p, s3_p))\n",
    "C3_3x3 = simplify(TensorProduct(C3_p, C3_p))\n",
    "C32_3x3 = simplify(TensorProduct(C32_p, C32_p))\n",
    "\n",
    "display(E_3x3)\n",
    "display(C3_3x3)\n",
    "display(C32_3x3)\n",
    "display(s1_3x3)\n",
    "display(s2_3x3)\n",
    "display(s3_3x3)"
   ]
  },
  {
   "cell_type": "code",
   "execution_count": 35,
   "metadata": {},
   "outputs": [
    {
     "data": {
      "text/latex": [
       "$\\displaystyle \\left[\\begin{matrix}0 & 0 & 0 & 0\\\\0 & 3 & 3 & 0\\\\0 & 3 & 3 & 0\\\\0 & 0 & 0 & 0\\end{matrix}\\right]$"
      ],
      "text/plain": [
       "Matrix([\n",
       "[0, 0, 0, 0],\n",
       "[0, 3, 3, 0],\n",
       "[0, 3, 3, 0],\n",
       "[0, 0, 0, 0]])"
      ]
     },
     "execution_count": 35,
     "metadata": {},
     "output_type": "execute_result"
    }
   ],
   "source": [
    "simplify(E_3x3 + C3_3x3 + C32_3x3 + s1_3x3 + s2_3x3 + s3_3x3)"
   ]
  },
  {
   "cell_type": "code",
   "execution_count": 39,
   "metadata": {},
   "outputs": [
    {
     "data": {
      "text/latex": [
       "$\\displaystyle \\left[\\begin{matrix}0\\\\1\\\\1\\\\0\\end{matrix}\\right]$"
      ],
      "text/plain": [
       "Matrix([\n",
       "[0],\n",
       "[1],\n",
       "[1],\n",
       "[0]])"
      ]
     },
     "execution_count": 39,
     "metadata": {},
     "output_type": "execute_result"
    }
   ],
   "source": [
    "v = Matrix([0,1,1,0])\n",
    "simplify(C32_3x3 * v)"
   ]
  },
  {
   "cell_type": "code",
   "execution_count": 40,
   "metadata": {},
   "outputs": [
    {
     "data": {
      "text/latex": [
       "$\\displaystyle \\left[\\begin{matrix}0 & 0 & 0 & 0\\\\0 & 3 & -3 & 0\\\\0 & -3 & 3 & 0\\\\0 & 0 & 0 & 0\\end{matrix}\\right]$"
      ],
      "text/plain": [
       "Matrix([\n",
       "[0,  0,  0, 0],\n",
       "[0,  3, -3, 0],\n",
       "[0, -3,  3, 0],\n",
       "[0,  0,  0, 0]])"
      ]
     },
     "execution_count": 40,
     "metadata": {},
     "output_type": "execute_result"
    }
   ],
   "source": [
    "simplify(E_3x3 + C3_3x3 + C32_3x3 - s1_3x3 - s2_3x3 - s3_3x3)"
   ]
  },
  {
   "cell_type": "code",
   "execution_count": 44,
   "metadata": {},
   "outputs": [
    {
     "data": {
      "text/latex": [
       "$\\displaystyle \\left[\\begin{matrix}0 & 0 & 0 & 0\\\\0 & 0 & 0 & 0\\\\0 & 0 & 0 & 0\\\\0 & 0 & 0 & 3\\end{matrix}\\right]$"
      ],
      "text/plain": [
       "Matrix([\n",
       "[0, 0, 0, 0],\n",
       "[0, 0, 0, 0],\n",
       "[0, 0, 0, 0],\n",
       "[0, 0, 0, 3]])"
      ]
     },
     "metadata": {},
     "output_type": "display_data"
    }
   ],
   "source": [
    "p = 0\n",
    "q = 0\n",
    "P_31 = E_p[p,q]*E_3x3 + C32_p[p,q]*C3_3x3 + C3_p[p,q]*C32_3x3 + s1_p[p,q]*s1_3x3 + s2_p[p,q]*s2_3x3  + s3_p[p,q]*s3_3x3\n",
    "display(simplify(P_31))"
   ]
  },
  {
   "cell_type": "code",
   "execution_count": 46,
   "metadata": {},
   "outputs": [
    {
     "data": {
      "text/latex": [
       "$\\displaystyle \\left[\\begin{matrix}0 & 0 & 0 & 0\\\\0 & 0 & 0 & 0\\\\0 & 0 & 0 & 0\\\\-3 & 0 & 0 & 0\\end{matrix}\\right]$"
      ],
      "text/plain": [
       "Matrix([\n",
       "[ 0, 0, 0, 0],\n",
       "[ 0, 0, 0, 0],\n",
       "[ 0, 0, 0, 0],\n",
       "[-3, 0, 0, 0]])"
      ]
     },
     "metadata": {},
     "output_type": "display_data"
    }
   ],
   "source": [
    "p = 1\n",
    "q = 0\n",
    "P_32 = E_p[p,q]*E_3x3 + C32_p[p,q]*C3_3x3 + C3_p[p,q]*C32_3x3 + s1_p[p,q]*s1_3x3 + s2_p[p,q]*s2_3x3  + s3_p[p,q]*s3_3x3\n",
    "display(simplify(P_32))"
   ]
  },
  {
   "cell_type": "markdown",
   "metadata": {},
   "source": [
    "## Irreducible tensors"
   ]
  },
  {
   "cell_type": "code",
   "execution_count": 67,
   "metadata": {},
   "outputs": [
    {
     "data": {
      "text/latex": [
       "$\\displaystyle \\left[\\begin{matrix}0 & 1\\\\1 & 0\\end{matrix}\\right]$"
      ],
      "text/plain": [
       "Matrix([\n",
       "[0, 1],\n",
       "[1, 0]])"
      ]
     },
     "metadata": {},
     "output_type": "display_data"
    },
    {
     "data": {
      "text/latex": [
       "$\\displaystyle \\left[\\begin{matrix}0 & 1\\\\-1 & 0\\end{matrix}\\right]$"
      ],
      "text/plain": [
       "Matrix([\n",
       "[ 0, 1],\n",
       "[-1, 0]])"
      ]
     },
     "metadata": {},
     "output_type": "display_data"
    },
    {
     "data": {
      "text/latex": [
       "$\\displaystyle \\left[\\begin{matrix}1 & 0\\\\0 & 0\\end{matrix}\\right]$"
      ],
      "text/plain": [
       "Matrix([\n",
       "[1, 0],\n",
       "[0, 0]])"
      ]
     },
     "metadata": {},
     "output_type": "display_data"
    },
    {
     "data": {
      "text/latex": [
       "$\\displaystyle \\left[\\begin{matrix}0 & 0\\\\0 & 1\\end{matrix}\\right]$"
      ],
      "text/plain": [
       "Matrix([\n",
       "[0, 0],\n",
       "[0, 1]])"
      ]
     },
     "metadata": {},
     "output_type": "display_data"
    }
   ],
   "source": [
    "L_1 = Matrix([[0,1],[1,0]])\n",
    "L_2 = Matrix([[0,1],[-1,0]])\n",
    "L_31 = Matrix([[1,0],[0,0]])\n",
    "L_32 = Matrix([[0,0],[0,1]])\n",
    "\n",
    "display(L_1)\n",
    "display(L_2)\n",
    "display(L_31)\n",
    "display(L_32)"
   ]
  },
  {
   "cell_type": "code",
   "execution_count": 60,
   "metadata": {},
   "outputs": [
    {
     "data": {
      "text/latex": [
       "$\\displaystyle \\left[\\begin{matrix}0 & 1\\\\1 & 0\\end{matrix}\\right]$"
      ],
      "text/plain": [
       "Matrix([\n",
       "[0, 1],\n",
       "[1, 0]])"
      ]
     },
     "metadata": {},
     "output_type": "display_data"
    },
    {
     "data": {
      "text/latex": [
       "$\\displaystyle \\left[\\begin{matrix}0 & 1\\\\1 & 0\\end{matrix}\\right]$"
      ],
      "text/plain": [
       "Matrix([\n",
       "[0, 1],\n",
       "[1, 0]])"
      ]
     },
     "metadata": {},
     "output_type": "display_data"
    },
    {
     "data": {
      "text/latex": [
       "$\\displaystyle \\left[\\begin{matrix}0 & 1\\\\1 & 0\\end{matrix}\\right]$"
      ],
      "text/plain": [
       "Matrix([\n",
       "[0, 1],\n",
       "[1, 0]])"
      ]
     },
     "metadata": {},
     "output_type": "display_data"
    },
    {
     "data": {
      "text/latex": [
       "$\\displaystyle \\left[\\begin{matrix}0 & 1\\\\1 & 0\\end{matrix}\\right]$"
      ],
      "text/plain": [
       "Matrix([\n",
       "[0, 1],\n",
       "[1, 0]])"
      ]
     },
     "metadata": {},
     "output_type": "display_data"
    },
    {
     "data": {
      "text/latex": [
       "$\\displaystyle \\left[\\begin{matrix}0 & 1\\\\1 & 0\\end{matrix}\\right]$"
      ],
      "text/plain": [
       "Matrix([\n",
       "[0, 1],\n",
       "[1, 0]])"
      ]
     },
     "metadata": {},
     "output_type": "display_data"
    }
   ],
   "source": [
    "display(simplify(C3_p*L_1*transpose(C3_p)))\n",
    "display(simplify(C32_p*L_1*transpose(C32_p)))\n",
    "display(simplify(s1_p*L_1*transpose(s1_p)))\n",
    "display(simplify(s2_p*L_1*transpose(s2_p)))\n",
    "display(simplify(s3_p*L_1*transpose(s3_p)))"
   ]
  },
  {
   "cell_type": "code",
   "execution_count": 62,
   "metadata": {},
   "outputs": [
    {
     "data": {
      "text/latex": [
       "$\\displaystyle \\left[\\begin{matrix}0 & 1\\\\-1 & 0\\end{matrix}\\right]$"
      ],
      "text/plain": [
       "Matrix([\n",
       "[ 0, 1],\n",
       "[-1, 0]])"
      ]
     },
     "metadata": {},
     "output_type": "display_data"
    },
    {
     "data": {
      "text/latex": [
       "$\\displaystyle \\left[\\begin{matrix}0 & 1\\\\-1 & 0\\end{matrix}\\right]$"
      ],
      "text/plain": [
       "Matrix([\n",
       "[ 0, 1],\n",
       "[-1, 0]])"
      ]
     },
     "metadata": {},
     "output_type": "display_data"
    },
    {
     "data": {
      "text/latex": [
       "$\\displaystyle \\left[\\begin{matrix}0 & -1\\\\1 & 0\\end{matrix}\\right]$"
      ],
      "text/plain": [
       "Matrix([\n",
       "[0, -1],\n",
       "[1,  0]])"
      ]
     },
     "metadata": {},
     "output_type": "display_data"
    },
    {
     "data": {
      "text/latex": [
       "$\\displaystyle \\left[\\begin{matrix}0 & -1\\\\1 & 0\\end{matrix}\\right]$"
      ],
      "text/plain": [
       "Matrix([\n",
       "[0, -1],\n",
       "[1,  0]])"
      ]
     },
     "metadata": {},
     "output_type": "display_data"
    },
    {
     "data": {
      "text/latex": [
       "$\\displaystyle \\left[\\begin{matrix}0 & -1\\\\1 & 0\\end{matrix}\\right]$"
      ],
      "text/plain": [
       "Matrix([\n",
       "[0, -1],\n",
       "[1,  0]])"
      ]
     },
     "metadata": {},
     "output_type": "display_data"
    }
   ],
   "source": [
    "display(simplify(C3_p*L_2*transpose(C3_p)))\n",
    "display(simplify(C32_p*L_2*transpose(C32_p)))\n",
    "display(simplify(s1_p*L_2*transpose(s1_p)))\n",
    "display(simplify(s2_p*L_2*transpose(s2_p)))\n",
    "display(simplify(s3_p*L_2*transpose(s3_p)))"
   ]
  },
  {
   "cell_type": "code",
   "execution_count": 68,
   "metadata": {},
   "outputs": [
    {
     "data": {
      "text/latex": [
       "$\\displaystyle \\left[\\begin{matrix}- \\frac{1}{2} + \\frac{\\sqrt{3} i}{2} & 0\\\\0 & 0\\end{matrix}\\right]$"
      ],
      "text/plain": [
       "Matrix([\n",
       "[-1/2 + sqrt(3)*I/2, 0],\n",
       "[                 0, 0]])"
      ]
     },
     "metadata": {},
     "output_type": "display_data"
    },
    {
     "data": {
      "text/latex": [
       "$\\displaystyle \\left[\\begin{matrix}\\frac{\\left(1 - \\sqrt{3} i\\right)^{2}}{4} & 0\\\\0 & 0\\end{matrix}\\right]$"
      ],
      "text/plain": [
       "Matrix([\n",
       "[(1 - sqrt(3)*I)**2/4, 0],\n",
       "[                   0, 0]])"
      ]
     },
     "metadata": {},
     "output_type": "display_data"
    },
    {
     "data": {
      "text/latex": [
       "$\\displaystyle \\left[\\begin{matrix}0 & 0\\\\0 & 1\\end{matrix}\\right]$"
      ],
      "text/plain": [
       "Matrix([\n",
       "[0, 0],\n",
       "[0, 1]])"
      ]
     },
     "metadata": {},
     "output_type": "display_data"
    },
    {
     "data": {
      "text/latex": [
       "$\\displaystyle \\left[\\begin{matrix}0 & 0\\\\0 & \\frac{\\left(1 - \\sqrt{3} i\\right)^{2}}{4}\\end{matrix}\\right]$"
      ],
      "text/plain": [
       "Matrix([\n",
       "[0,                    0],\n",
       "[0, (1 - sqrt(3)*I)**2/4]])"
      ]
     },
     "metadata": {},
     "output_type": "display_data"
    },
    {
     "data": {
      "text/latex": [
       "$\\displaystyle \\left[\\begin{matrix}0 & 0\\\\0 & - \\frac{1}{2} + \\frac{\\sqrt{3} i}{2}\\end{matrix}\\right]$"
      ],
      "text/plain": [
       "Matrix([\n",
       "[0,                  0],\n",
       "[0, -1/2 + sqrt(3)*I/2]])"
      ]
     },
     "metadata": {},
     "output_type": "display_data"
    }
   ],
   "source": [
    "display(simplify(C3_p*L_31*transpose(C3_p)))\n",
    "display(simplify(C32_p*L_31*transpose(C32_p)))\n",
    "display(simplify(s1_p*L_31*transpose(s1_p)))\n",
    "display(simplify(s2_p*L_31*transpose(s2_p)))\n",
    "display(simplify(s3_p*L_31*transpose(s3_p)))"
   ]
  },
  {
   "cell_type": "code",
   "execution_count": 75,
   "metadata": {},
   "outputs": [
    {
     "data": {
      "text/latex": [
       "$\\displaystyle \\left[\\begin{matrix}- \\frac{1}{2} + \\frac{\\sqrt{3} i}{2} & 0\\\\0 & 0\\end{matrix}\\right]$"
      ],
      "text/plain": [
       "Matrix([\n",
       "[-1/2 + sqrt(3)*I/2, 0],\n",
       "[                 0, 0]])"
      ]
     },
     "metadata": {},
     "output_type": "display_data"
    },
    {
     "data": {
      "text/latex": [
       "$\\displaystyle \\left[\\begin{matrix}- \\frac{1}{2} - \\frac{\\sqrt{3} i}{2} & 0\\\\0 & 0\\end{matrix}\\right]$"
      ],
      "text/plain": [
       "Matrix([\n",
       "[-1/2 - sqrt(3)*I/2, 0],\n",
       "[                 0, 0]])"
      ]
     },
     "metadata": {},
     "output_type": "display_data"
    },
    {
     "data": {
      "text/latex": [
       "$\\displaystyle \\left[\\begin{matrix}\\frac{\\left(1 - \\sqrt{3} i\\right)^{2}}{4} & 0\\\\0 & 0\\end{matrix}\\right]$"
      ],
      "text/plain": [
       "Matrix([\n",
       "[(1 - sqrt(3)*I)**2/4, 0],\n",
       "[                   0, 0]])"
      ]
     },
     "metadata": {},
     "output_type": "display_data"
    },
    {
     "data": {
      "text/latex": [
       "$\\displaystyle \\left[\\begin{matrix}- \\frac{1}{2} + \\frac{\\sqrt{3} i}{2} & 0\\\\0 & 0\\end{matrix}\\right]$"
      ],
      "text/plain": [
       "Matrix([\n",
       "[-1/2 + sqrt(3)*I/2, 0],\n",
       "[                 0, 0]])"
      ]
     },
     "metadata": {},
     "output_type": "display_data"
    },
    {
     "data": {
      "text/latex": [
       "$\\displaystyle \\left[\\begin{matrix}0 & 0\\\\0 & 1\\end{matrix}\\right]$"
      ],
      "text/plain": [
       "Matrix([\n",
       "[0, 0],\n",
       "[0, 1]])"
      ]
     },
     "metadata": {},
     "output_type": "display_data"
    },
    {
     "data": {
      "text/latex": [
       "$\\displaystyle \\left[\\begin{matrix}0 & 0\\\\0 & -1\\end{matrix}\\right]$"
      ],
      "text/plain": [
       "Matrix([\n",
       "[0,  0],\n",
       "[0, -1]])"
      ]
     },
     "metadata": {},
     "output_type": "display_data"
    },
    {
     "data": {
      "text/latex": [
       "$\\displaystyle \\left[\\begin{matrix}0 & 0\\\\0 & \\frac{\\left(1 - \\sqrt{3} i\\right)^{2}}{4}\\end{matrix}\\right]$"
      ],
      "text/plain": [
       "Matrix([\n",
       "[0,                    0],\n",
       "[0, (1 - sqrt(3)*I)**2/4]])"
      ]
     },
     "metadata": {},
     "output_type": "display_data"
    },
    {
     "data": {
      "text/latex": [
       "$\\displaystyle \\left[\\begin{matrix}0 & 0\\\\0 & \\frac{1}{2} - \\frac{\\sqrt{3} i}{2}\\end{matrix}\\right]$"
      ],
      "text/plain": [
       "Matrix([\n",
       "[0,                 0],\n",
       "[0, 1/2 - sqrt(3)*I/2]])"
      ]
     },
     "metadata": {},
     "output_type": "display_data"
    }
   ],
   "source": [
    "display(simplify(C3_p*L_31*transpose(C3_p)))\n",
    "display(simplify(C3_p[0,0]*L_31 + C3_p[1,0]*L_32))\n",
    "\n",
    "display(simplify(C32_p*L_31*transpose(C32_p)))\n",
    "display(simplify(C32_p[0,0]*L_31 + C32_p[1,0]*L_32))\n",
    "\n",
    "display(simplify(s1_p*L_31*transpose(s1_p)))\n",
    "display(simplify(s1_p[0,0]*L_31 + s1_p[1,0]*L_32))\n",
    "\n",
    "display(simplify(s2_p*L_31*transpose(s2_p)))\n",
    "display(simplify(s2_p[0,0]*L_31 + s2_p[1,0]*L_32))"
   ]
  },
  {
   "cell_type": "code",
   "execution_count": 71,
   "metadata": {},
   "outputs": [
    {
     "data": {
      "text/latex": [
       "$\\displaystyle \\left[\\begin{matrix}0 & 0\\\\0 & \\frac{\\left(1 - \\sqrt{3} i\\right)^{2}}{4}\\end{matrix}\\right]$"
      ],
      "text/plain": [
       "Matrix([\n",
       "[0,                    0],\n",
       "[0, (1 - sqrt(3)*I)**2/4]])"
      ]
     },
     "metadata": {},
     "output_type": "display_data"
    },
    {
     "data": {
      "text/latex": [
       "$\\displaystyle \\left[\\begin{matrix}0 & 0\\\\0 & - \\frac{1}{2} + \\frac{\\sqrt{3} i}{2}\\end{matrix}\\right]$"
      ],
      "text/plain": [
       "Matrix([\n",
       "[0,                  0],\n",
       "[0, -1/2 + sqrt(3)*I/2]])"
      ]
     },
     "metadata": {},
     "output_type": "display_data"
    }
   ],
   "source": [
    "display(simplify(C3_p*L_32*transpose(C3_p)))\n",
    "display(simplify(C3_p[0,1]*L_31 + C3_p[1,1]*L_32))"
   ]
  }
 ],
 "metadata": {
  "kernelspec": {
   "display_name": "Python 3",
   "language": "python",
   "name": "python3"
  },
  "language_info": {
   "codemirror_mode": {
    "name": "ipython",
    "version": 3
   },
   "file_extension": ".py",
   "mimetype": "text/x-python",
   "name": "python",
   "nbconvert_exporter": "python",
   "pygments_lexer": "ipython3",
   "version": "3.7.6"
  }
 },
 "nbformat": 4,
 "nbformat_minor": 4
}
