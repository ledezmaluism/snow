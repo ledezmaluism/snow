{
 "cells": [
  {
   "cell_type": "markdown",
   "metadata": {},
   "source": [
    "## Some simple tests"
   ]
  },
  {
   "cell_type": "code",
   "execution_count": 1,
   "metadata": {},
   "outputs": [],
   "source": [
    "import numpy as np\n",
    "from numpy.fft import fft, ifft, fftshift, fftfreq\n",
    "import matplotlib.pyplot as plt\n",
    "import time\n",
    "import scipy\n",
    "import copy\n",
    "from matplotlib import cm\n",
    "from matplotlib.colors import Normalize\n",
    "\n",
    "#This are my libraries\n",
    "import nlo \n",
    "from util import sech\n",
    "\n",
    "#Some constants\n",
    "from scipy.constants import pi, c"
   ]
  },
  {
   "cell_type": "markdown",
   "metadata": {},
   "source": [
    "## Time and Frequency domain windows\n",
    "\n",
    "Now we need to determine an FFT size $N$, this will be the common size for the time and frequency axis in our simulations. We also need to select how large the time window $2 T_{\\mathrm{max}}$ for our simulations will be. The time window needs to be large enough so that pulses don't reach the edge of the domain at any point. Since we'll usually pick a reference frame that moves with one of the pulses, then how much the other pulses travel depends on the respective group velocity mismatch. The sampling period $\\Delta t$ will be determined by the size of the window and the number of points; Nyquist criteria must be satisfied as usual.\n",
    "\n",
    "Once the number of points and time-window has been selected, the frequency grid is fixed by the FFT, with a frequency resolution\n",
    "$$ F_s = \\frac{1}{N \\Delta t},$$\n",
    "the minimum frequency is 0 while the maximum frequency is\n",
    "$$ F_{\\mathrm{max}} = \\pm \\frac{1}{2\\Delta t}.$$\n",
    "The maximum frequency should alway be below the desired absolute carrier frequency. So the longest wavelength allowed becomes:\n",
    "$$ \\lambda_{\\mathrm{max}} = \\frac{c}{F_{\\mathrm{max}}} = 2c\\Delta t $$"
   ]
  },
  {
   "cell_type": "code",
   "execution_count": 2,
   "metadata": {},
   "outputs": [
    {
     "name": "stdout",
     "output_type": "stream",
     "text": [
      "Sampling Rate = 3.906 fs\n"
     ]
    }
   ],
   "source": [
    "NFFT = 2**8 #Number of FFT points\n",
    "\n",
    "Tmax = 500*1e-15 # (window will go from -Tmax to Tmax)\n",
    "t = np.linspace(-Tmax, Tmax, NFFT, endpoint=False)\n",
    "dt = t[1]-t[0] #Sampling period\n",
    "print('Sampling Rate = %0.3f fs' %(dt*1e15))"
   ]
  },
  {
   "cell_type": "markdown",
   "metadata": {},
   "source": [
    "## Create pulses and plot them\n",
    "\n",
    "For this initial test let's make them both identical gaussians."
   ]
  },
  {
   "cell_type": "code",
   "execution_count": 11,
   "metadata": {
    "scrolled": true
   },
   "outputs": [
    {
     "name": "stdout",
     "output_type": "stream",
     "text": [
      "Center Wavelength = 1.000 um\n",
      "Center frequency = 299.792 THz\n",
      "Pulse Energy = 4.619 nJ\n",
      "Comb average power = 1154.857 mW\n"
     ]
    }
   ],
   "source": [
    "#Parameters\n",
    "wl0 = 1e-6 #center wavelength\n",
    "f0 = c/wl0\n",
    "print('Center Wavelength = %0.3f um' %(wl0*1e6))\n",
    "print('Center frequency = %0.3f THz' %(f0*1e-12))\n",
    " \n",
    "pwr = 0.5 #Average power (W)\n",
    "tau = 100e-15 #Pulse width\n",
    "\n",
    "#Pulse creation\n",
    "T0 = tau/(2*np.log(2))\n",
    "frep = 250e6\n",
    "pulse = np.sqrt(0.94*pwr/(frep*T0))*np.exp(-t**2/(2*tau**2))\n",
    "pulse_energy = nlo.energy_td(t, pulse)\n",
    "\n",
    "print('Pulse Energy = %0.3f nJ' %(pulse_energy*1e9))\n",
    "print('Comb average power = %0.3f mW' %(pulse_energy*frep*1e3))"
   ]
  },
  {
   "cell_type": "code",
   "execution_count": 13,
   "metadata": {},
   "outputs": [
    {
     "data": {
      "text/plain": [
       "<matplotlib.axes._subplots.AxesSubplot at 0x219cf9f2cc8>"
      ]
     },
     "execution_count": 13,
     "metadata": {},
     "output_type": "execute_result"
    },
    {
     "data": {
      "image/png": "[encoded data removed]",
      "text/plain": [
       "<Figure size 432x288 with 1 Axes>"
      ]
     },
     "metadata": {
      "needs_background": "light"
     },
     "output_type": "display_data"
    }
   ],
   "source": [
    "nlo.plot_magsq(t*1e15, pulse)"
   ]
  },
  {
   "cell_type": "code",
   "execution_count": null,
   "metadata": {},
   "outputs": [],
   "source": []
  }
 ],
 "metadata": {
  "kernelspec": {
   "display_name": "Python 3",
   "language": "python",
   "name": "python3"
  },
  "language_info": {
   "codemirror_mode": {
    "name": "ipython",
    "version": 3
   },
   "file_extension": ".py",
   "mimetype": "text/x-python",
   "name": "python",
   "nbconvert_exporter": "python",
   "pygments_lexer": "ipython3",
   "version": "3.7.6"
  }
 },
 "nbformat": 4,
 "nbformat_minor": 4
}
