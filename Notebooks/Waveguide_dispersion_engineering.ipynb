{
 "cells": [
  {
   "cell_type": "code",
   "execution_count": 1,
   "metadata": {},
   "outputs": [],
   "source": [
    "import numpy as np\n",
    "import matplotlib.pyplot as plt\n",
    "\n",
    "from scipy.optimize import fsolve, brentq\n",
    "from scipy.constants import pi\n",
    "\n",
    "#The following hack is for importing a module from the \"Modules\" folder\n",
    "import os\n",
    "cwd = os.getcwd()\n",
    "os.chdir('..')\n",
    "from Modules.materials import *\n",
    "os.chdir(cwd)"
   ]
  },
  {
   "cell_type": "code",
   "execution_count": 3,
   "metadata": {},
   "outputs": [],
   "source": [
    "def beta_f(kx, ky, n, k0):\n",
    "    return np.sqrt(n**2*k0**2 - kx**2 - ky**2)"
   ]
  },
  {
   "cell_type": "code",
   "execution_count": 4,
   "metadata": {},
   "outputs": [],
   "source": [
    "def symmetric_slab_equations(X, n0, n1, d, wl, mode):\n",
    "    '''\n",
    "    Nonlinear equations to be solved\n",
    "    '''\n",
    "    k0 = 2*pi/wl #wavevector\n",
    "    Rsqr = (k0*d/2)**2*(n1**2-n0**2)\n",
    "\n",
    "    Y = np.sqrt(np.abs(Rsqr - X**2))\n",
    "\n",
    "    if mode=='TE even':\n",
    "        F = X*np.tan(X) - Y\n",
    "    elif mode=='TE odd':\n",
    "        F = X/np.tan(X) + Y\n",
    "    elif mode=='TM even':\n",
    "        F = X*np.tan(X)*(n0/n1)**2 - Y\n",
    "    elif mode=='TM odd':\n",
    "        F = X/np.tan(X)*(n0/n1)**2 + Y\n",
    "    else:\n",
    "        print('Wrong mode selection....?')\n",
    "        F = 0\n",
    "\n",
    "    return F"
   ]
  },
  {
   "cell_type": "code",
   "execution_count": 5,
   "metadata": {},
   "outputs": [],
   "source": [
    "def neff_symmetric_slab(n0, n1, d, wl, mode='TE even', order=0):\n",
    "    '''\n",
    "    n0: cladding index \n",
    "    n1: slab index \n",
    "    d: slab thickness\n",
    "    wl: wavelength\n",
    "    mode: desired mode 'TE even', 'TE odd', 'TM even', 'TM odd'\n",
    "    order: mode number integer\n",
    "    '''\n",
    "    k0 = 2*pi/wl #wavevector\n",
    "    R = np.sqrt((k0*d/2)**2*(n1**2-n0**2))\n",
    "    #Solve for Normalized variables: X=kx*d/2, Y=a*d/2\n",
    "\n",
    "    #Initial condition\n",
    "    if mode=='TE even' or 'TM even':\n",
    "        xmin = 0\n",
    "        xmax = min(R, pi/2*(order+1))\n",
    "    elif mode=='TE odd' or 'TM odd':\n",
    "        xmin = pi/2\n",
    "        xmax = min(R, pi*(order+1))\n",
    "    else:\n",
    "        print('Wrong mode selection....?')\n",
    "\n",
    "    #Solve equations\n",
    "    X = brentq(symmetric_slab_equations, xmin, xmax, (n0, n1, d, wl, mode))\n",
    "    kx = X*2/d\n",
    "    beta = beta_f(kx, 0, n1, k0)\n",
    "    neff = beta/k0\n",
    "    return neff"
   ]
  },
  {
   "cell_type": "code",
   "execution_count": 6,
   "metadata": {},
   "outputs": [],
   "source": [
    "def asymmetric_slab_eqs(x, n0, n1, n2, d, wl, mode='TE', order=0):\n",
    "    '''\n",
    "    Nonlinear equations to be solved\n",
    "    '''\n",
    "    k0 = 2*pi/wl #wavevector\n",
    "    Rsqr_1 = (k0*d)**2*(n1**2-n0**2)\n",
    "    Rsqr_2 = (k0*d)**2*(n1**2-n2**2)\n",
    "\n",
    "    X = x\n",
    "    Y = np.sqrt(np.abs(Rsqr_1 - X**2))\n",
    "    Y2 = np.sqrt(np.abs(Rsqr_2 - X**2))\n",
    "\n",
    "    if mode=='TM':\n",
    "        Y = Y*(n1/n0)**2\n",
    "        Y2 = Y2*(n1/n2)**2\n",
    "\n",
    "    F = np.arctan(Y/X) + np.arctan(Y2/X) - X + order*pi\n",
    "\n",
    "    return F"
   ]
  },
  {
   "cell_type": "code",
   "execution_count": 7,
   "metadata": {},
   "outputs": [],
   "source": [
    "def neff_asymmetric_slab(n0, n1, n2, d, wl, mode='TE', order=0):\n",
    "    '''\n",
    "    n0: cladding index \n",
    "    n1: slab index \n",
    "    n2: lower cladding index\n",
    "    d: slab thickness\n",
    "    wl: wavelength\n",
    "    mode: desired mode 'TE' or 'TM'\n",
    "    order: mode number integer\n",
    "    '''\n",
    "    k0 = 2*pi/wl #wavevector\n",
    "    Rsqr_1 = np.sqrt((k0*d)**2*(n1**2-n0**2))\n",
    "    Rsqr_2 = np.sqrt((k0*d)**2*(n1**2-n2**2))\n",
    "\n",
    "    #Solve for Normalized variables: X=kx*d, Y=a*d, Y2=a2*d\n",
    "    xmin = 1e-6 + order*pi\n",
    "    xmax = min(Rsqr_1, Rsqr_2, pi*(order+1))\n",
    "\n",
    "    #Solve equations\n",
    "    X = brentq(asymmetric_slab_eqs, xmin, xmax, (n0, n1, n2, d, wl, mode, order))\n",
    "    kx = X/d\n",
    "    beta = beta_f(kx, 0, n1, k0)\n",
    "    neff = beta/k0\n",
    "    return neff"
   ]
  },
  {
   "cell_type": "code",
   "execution_count": 8,
   "metadata": {},
   "outputs": [],
   "source": [
    "def singlemode_symmetric(n0, n1, wl):\n",
    "    #Returns thickness for single mode operation\n",
    "    d = wl/2\n",
    "    if n1>n0:\n",
    "        d = d/np.sqrt(n1**2 - n0**2)\n",
    "    else:\n",
    "        d = d/np.sqrt(n0**2 - n1**2)\n",
    "    return d\n",
    "\n",
    "def singlemode_asymmetric(n0, n1, n2, wl):\n",
    "    #Returns thickness for single mode operation\n",
    "    #n1>n2>n0\n",
    "    d = wl/2\n",
    "    d = d/np.sqrt(n1**2 - n2**2)\n",
    "    d = d*( 1 + (1/pi)*np.arctan(np.sqrt(n2**2 - n0**2)/np.sqrt(n1**2 - n2**2)))\n",
    "    return d"
   ]
  },
  {
   "cell_type": "markdown",
   "metadata": {},
   "source": [
    "## Example 1"
   ]
  },
  {
   "cell_type": "code",
   "execution_count": 12,
   "metadata": {
    "scrolled": true
   },
   "outputs": [
    {
     "data": {
      "image/png": "[encoded data removed]",
      "text/plain": [
       "<Figure size 432x288 with 1 Axes>"
      ]
     },
     "metadata": {},
     "output_type": "display_data"
    }
   ],
   "source": [
    "wl = np.arange(0.5,2.5,0.05)\n",
    "\n",
    "n0 = 1\n",
    "d = 0.5\n",
    "\n",
    "neff = np.zeros(wl.shape)\n",
    "d_sm = np.zeros(wl.shape)\n",
    "n1 = np.zeros(wl.shape)\n",
    "\n",
    "for kw in range(wl.size):\n",
    "    n1[kw] = refractive_index('LN_MgO_e', wl[kw])\n",
    "    neff[kw]= neff_symmetric_slab(n0, n1[kw], d, wl[kw], mode='TE even', order=0)\n",
    "    \n",
    "plt.plot(wl, n1, 'r', wl, neff, 'b');\n",
    "plt.grid()"
   ]
  },
  {
   "cell_type": "markdown",
   "metadata": {},
   "source": [
    "## Example 2"
   ]
  },
  {
   "cell_type": "code",
   "execution_count": 15,
   "metadata": {
    "scrolled": true
   },
   "outputs": [
    {
     "data": {
      "image/png": "[encoded data removed]",
      "text/plain": [
       "<Figure size 432x288 with 1 Axes>"
      ]
     },
     "metadata": {},
     "output_type": "display_data"
    }
   ],
   "source": [
    "del wl, n0, n1, d, neff\n",
    "\n",
    "wl = np.arange(0.5,2.5,0.1)\n",
    "\n",
    "n0 = 1\n",
    "n1 = refractive_index('LN_MgO_e', wl)\n",
    "n2 = refractive_index('SiO2', wl)\n",
    "d = 0.5\n",
    "\n",
    "neff = np.zeros(wl.shape)\n",
    "for kw in range(wl.size):\n",
    "    neff[kw]= neff_asymmetric_slab(n0, n1[kw], n2[kw], d, wl[kw], mode='TE even', order=0)\n",
    "    \n",
    "plt.plot(wl, n1, 'r', wl, n2, 'r', wl, neff, 'b');"
   ]
  },
  {
   "cell_type": "markdown",
   "metadata": {},
   "source": [
    "## Example 3"
   ]
  },
  {
   "cell_type": "code",
   "execution_count": 24,
   "metadata": {},
   "outputs": [
    {
     "data": {
      "image/png": "[encoded data removed]",
      "text/plain": [
       "<Figure size 432x288 with 1 Axes>"
      ]
     },
     "metadata": {},
     "output_type": "display_data"
    }
   ],
   "source": [
    "#del wl, n0, n1, d, neff\n",
    "\n",
    "wl = np.arange(0.5,2.5,0.1)\n",
    "\n",
    "n0 = 1\n",
    "n1 = refractive_index('LN_MgO_e', wl)\n",
    "n2 = refractive_index('SiO2', wl)\n",
    "dslab = 0.5\n",
    "dridge = 1\n",
    "wridge = 1.5\n",
    "\n",
    "n_slab = np.zeros(wl.shape)\n",
    "n_ridge = np.zeros(wl.shape)\n",
    "neff = np.zeros(wl.shape)\n",
    "for kw in range(wl.size):\n",
    "    n_slab[kw]= neff_asymmetric_slab(n0, n1[kw], n2[kw], dslab, wl[kw], mode='TE even', order=0)\n",
    "    n_ridge[kw]= neff_asymmetric_slab(n0, n1[kw], n2[kw], dridge, wl[kw], mode='TE even', order=0)\n",
    "    neff[kw] = neff_symmetric_slab(n_slab[kw], n_ridge[kw], wridge, wl[kw], mode='TM even', order=0)\n",
    "    \n",
    "plt.plot(wl, n1, 'r', wl, n2, 'r', wl, n_slab, 'b', wl, n_ridge, 'g', wl, neff, 'y');\n",
    "\n"
   ]
  }
 ],
 "metadata": {
  "kernelspec": {
   "display_name": "Python 3",
   "language": "python",
   "name": "python3"
  },
  "language_info": {
   "codemirror_mode": {
    "name": "ipython",
    "version": 3
   },
   "file_extension": ".py",
   "mimetype": "text/x-python",
   "name": "python",
   "nbconvert_exporter": "python",
   "pygments_lexer": "ipython3",
   "version": "3.7.3"
  }
 },
 "nbformat": 4,
 "nbformat_minor": 2
}
